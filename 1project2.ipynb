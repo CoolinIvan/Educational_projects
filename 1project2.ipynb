{
 "cells": [
  {
   "cell_type": "markdown",
   "id": "f3d9b895",
   "metadata": {},
   "source": [
    "<b>Привет!</b>\n",
    "\n",
    "Меня зовут Харочкина Екатерина, и я буду проверять твой проект. Давай общаться на «ты», но если это неудобно, пожалуйста, сообщи. Моя основная цель — не указать на совершенные тобою ошибки, а поделиться своим опытом и помочь тебе совершенствоваться как профессионалу.\n",
    "\n",
    "Ты подготовил замечательный проект, но есть аспекты, которые еще можно улучшить. Я буду использовать комментарии с цветовой разметкой. Пожалуйста, **не перемещай, не изменяй и не удаляй их**. Это поможет выполнить повторную проверку твоего проекта оперативнее.\n",
    "\n",
    "<div class=\"alert alert-danger\">\n",
    "<b>Комментарий ревьюера №1</b> \n",
    "    \n",
    "Таким комментарием выделены самые важные замечания. Без их отработки проект не будет принят.\n",
    "</div>\n",
    "\n",
    "<div class=\"alert alert-warning\">\n",
    "<b>Комментарий ревьюера №1</b> \n",
    "    \n",
    "Таким комментарием выделены небольшие замечания и рекомендации, которые будет хорошо учесть.\n",
    "</div>\n",
    "\n",
    "<div class=\"alert alert-success\">\n",
    "<b>Комментарий ревьюера №1</b> \n",
    "    \n",
    "Таким комментарием выделены удачные решения🙂\n",
    "</div>\n",
    "\n",
    "\n",
    "Давай работать над проектом в диалоге: если ты **что-то меняешь** в проекте по моим рекомендациям — **пиши об этом**. После того, как ты все доработаешь, я смогу принять твой проект!) "
   ]
  },
  {
   "cell_type": "markdown",
   "id": "8d285954",
   "metadata": {
    "deletable": false,
    "editable": false,
    "id": "c81daeeb"
   },
   "source": [
    "# Исследование надежности заемщиков\n"
   ]
  },
  {
   "cell_type": "markdown",
   "id": "d5389546",
   "metadata": {
    "deletable": false,
    "editable": false,
    "id": "827c20bf"
   },
   "source": [
    "Во второй части проекта вы выполните шаги 3 и 4. Их вручную проверит ревьюер.\n",
    "Чтобы вам не пришлось писать код заново для шагов 1 и 2, мы добавили авторские решения в ячейки с кодом. \n",
    "\n"
   ]
  },
  {
   "cell_type": "markdown",
   "id": "da34e4b4",
   "metadata": {
    "deletable": false,
    "editable": false,
    "id": "744d7639"
   },
   "source": [
    "## Откройте таблицу и изучите общую информацию о данных"
   ]
  },
  {
   "cell_type": "markdown",
   "id": "b8df2912",
   "metadata": {
    "deletable": false,
    "editable": false,
    "id": "e7a14c31"
   },
   "source": [
    "**Задание 1. Импортируйте библиотеку pandas. Считайте данные из csv-файла в датафрейм и сохраните в переменную `data`. Путь к файлу:**\n",
    "\n",
    "`/datasets/data.csv`"
   ]
  },
  {
   "cell_type": "code",
   "execution_count": 1,
   "id": "10d94f21",
   "metadata": {
    "deletable": false,
    "id": "7bcf75c9"
   },
   "outputs": [],
   "source": [
    "import pandas as pd\n",
    "import matplotlib.pyplot as plt\n",
    "\n",
    "try:\n",
    "    data = pd.read_csv('data.csv')\n",
    "except:\n",
    "    data = pd.read_csv('https://code.s3.yandex.net/datasets/data.csv')"
   ]
  },
  {
   "cell_type": "markdown",
   "id": "efc965d4",
   "metadata": {
    "deletable": false,
    "editable": false,
    "id": "b8038fe3"
   },
   "source": [
    "**Задание 2. Выведите первые 20 строчек датафрейма `data` на экран.**"
   ]
  },
  {
   "cell_type": "code",
   "execution_count": 2,
   "id": "20bb4862",
   "metadata": {
    "deletable": false,
    "id": "2a7cab99",
    "outputId": "1a8f3ef2-d323-4ec2-ddf7-89670b5944c4"
   },
   "outputs": [
    {
     "data": {
      "text/html": [
       "<div>\n",
       "<style scoped>\n",
       "    .dataframe tbody tr th:only-of-type {\n",
       "        vertical-align: middle;\n",
       "    }\n",
       "\n",
       "    .dataframe tbody tr th {\n",
       "        vertical-align: top;\n",
       "    }\n",
       "\n",
       "    .dataframe thead th {\n",
       "        text-align: right;\n",
       "    }\n",
       "</style>\n",
       "<table border=\"1\" class=\"dataframe\">\n",
       "  <thead>\n",
       "    <tr style=\"text-align: right;\">\n",
       "      <th></th>\n",
       "      <th>children</th>\n",
       "      <th>days_employed</th>\n",
       "      <th>dob_years</th>\n",
       "      <th>education</th>\n",
       "      <th>education_id</th>\n",
       "      <th>family_status</th>\n",
       "      <th>family_status_id</th>\n",
       "      <th>gender</th>\n",
       "      <th>income_type</th>\n",
       "      <th>debt</th>\n",
       "      <th>total_income</th>\n",
       "      <th>purpose</th>\n",
       "    </tr>\n",
       "  </thead>\n",
       "  <tbody>\n",
       "    <tr>\n",
       "      <th>0</th>\n",
       "      <td>1</td>\n",
       "      <td>-8437.673028</td>\n",
       "      <td>42</td>\n",
       "      <td>высшее</td>\n",
       "      <td>0</td>\n",
       "      <td>женат / замужем</td>\n",
       "      <td>0</td>\n",
       "      <td>F</td>\n",
       "      <td>сотрудник</td>\n",
       "      <td>0</td>\n",
       "      <td>253875.639453</td>\n",
       "      <td>покупка жилья</td>\n",
       "    </tr>\n",
       "    <tr>\n",
       "      <th>1</th>\n",
       "      <td>1</td>\n",
       "      <td>-4024.803754</td>\n",
       "      <td>36</td>\n",
       "      <td>среднее</td>\n",
       "      <td>1</td>\n",
       "      <td>женат / замужем</td>\n",
       "      <td>0</td>\n",
       "      <td>F</td>\n",
       "      <td>сотрудник</td>\n",
       "      <td>0</td>\n",
       "      <td>112080.014102</td>\n",
       "      <td>приобретение автомобиля</td>\n",
       "    </tr>\n",
       "    <tr>\n",
       "      <th>2</th>\n",
       "      <td>0</td>\n",
       "      <td>-5623.422610</td>\n",
       "      <td>33</td>\n",
       "      <td>Среднее</td>\n",
       "      <td>1</td>\n",
       "      <td>женат / замужем</td>\n",
       "      <td>0</td>\n",
       "      <td>M</td>\n",
       "      <td>сотрудник</td>\n",
       "      <td>0</td>\n",
       "      <td>145885.952297</td>\n",
       "      <td>покупка жилья</td>\n",
       "    </tr>\n",
       "    <tr>\n",
       "      <th>3</th>\n",
       "      <td>3</td>\n",
       "      <td>-4124.747207</td>\n",
       "      <td>32</td>\n",
       "      <td>среднее</td>\n",
       "      <td>1</td>\n",
       "      <td>женат / замужем</td>\n",
       "      <td>0</td>\n",
       "      <td>M</td>\n",
       "      <td>сотрудник</td>\n",
       "      <td>0</td>\n",
       "      <td>267628.550329</td>\n",
       "      <td>дополнительное образование</td>\n",
       "    </tr>\n",
       "    <tr>\n",
       "      <th>4</th>\n",
       "      <td>0</td>\n",
       "      <td>340266.072047</td>\n",
       "      <td>53</td>\n",
       "      <td>среднее</td>\n",
       "      <td>1</td>\n",
       "      <td>гражданский брак</td>\n",
       "      <td>1</td>\n",
       "      <td>F</td>\n",
       "      <td>пенсионер</td>\n",
       "      <td>0</td>\n",
       "      <td>158616.077870</td>\n",
       "      <td>сыграть свадьбу</td>\n",
       "    </tr>\n",
       "    <tr>\n",
       "      <th>5</th>\n",
       "      <td>0</td>\n",
       "      <td>-926.185831</td>\n",
       "      <td>27</td>\n",
       "      <td>высшее</td>\n",
       "      <td>0</td>\n",
       "      <td>гражданский брак</td>\n",
       "      <td>1</td>\n",
       "      <td>M</td>\n",
       "      <td>компаньон</td>\n",
       "      <td>0</td>\n",
       "      <td>255763.565419</td>\n",
       "      <td>покупка жилья</td>\n",
       "    </tr>\n",
       "    <tr>\n",
       "      <th>6</th>\n",
       "      <td>0</td>\n",
       "      <td>-2879.202052</td>\n",
       "      <td>43</td>\n",
       "      <td>высшее</td>\n",
       "      <td>0</td>\n",
       "      <td>женат / замужем</td>\n",
       "      <td>0</td>\n",
       "      <td>F</td>\n",
       "      <td>компаньон</td>\n",
       "      <td>0</td>\n",
       "      <td>240525.971920</td>\n",
       "      <td>операции с жильем</td>\n",
       "    </tr>\n",
       "    <tr>\n",
       "      <th>7</th>\n",
       "      <td>0</td>\n",
       "      <td>-152.779569</td>\n",
       "      <td>50</td>\n",
       "      <td>СРЕДНЕЕ</td>\n",
       "      <td>1</td>\n",
       "      <td>женат / замужем</td>\n",
       "      <td>0</td>\n",
       "      <td>M</td>\n",
       "      <td>сотрудник</td>\n",
       "      <td>0</td>\n",
       "      <td>135823.934197</td>\n",
       "      <td>образование</td>\n",
       "    </tr>\n",
       "    <tr>\n",
       "      <th>8</th>\n",
       "      <td>2</td>\n",
       "      <td>-6929.865299</td>\n",
       "      <td>35</td>\n",
       "      <td>ВЫСШЕЕ</td>\n",
       "      <td>0</td>\n",
       "      <td>гражданский брак</td>\n",
       "      <td>1</td>\n",
       "      <td>F</td>\n",
       "      <td>сотрудник</td>\n",
       "      <td>0</td>\n",
       "      <td>95856.832424</td>\n",
       "      <td>на проведение свадьбы</td>\n",
       "    </tr>\n",
       "    <tr>\n",
       "      <th>9</th>\n",
       "      <td>0</td>\n",
       "      <td>-2188.756445</td>\n",
       "      <td>41</td>\n",
       "      <td>среднее</td>\n",
       "      <td>1</td>\n",
       "      <td>женат / замужем</td>\n",
       "      <td>0</td>\n",
       "      <td>M</td>\n",
       "      <td>сотрудник</td>\n",
       "      <td>0</td>\n",
       "      <td>144425.938277</td>\n",
       "      <td>покупка жилья для семьи</td>\n",
       "    </tr>\n",
       "    <tr>\n",
       "      <th>10</th>\n",
       "      <td>2</td>\n",
       "      <td>-4171.483647</td>\n",
       "      <td>36</td>\n",
       "      <td>высшее</td>\n",
       "      <td>0</td>\n",
       "      <td>женат / замужем</td>\n",
       "      <td>0</td>\n",
       "      <td>M</td>\n",
       "      <td>компаньон</td>\n",
       "      <td>0</td>\n",
       "      <td>113943.491460</td>\n",
       "      <td>покупка недвижимости</td>\n",
       "    </tr>\n",
       "    <tr>\n",
       "      <th>11</th>\n",
       "      <td>0</td>\n",
       "      <td>-792.701887</td>\n",
       "      <td>40</td>\n",
       "      <td>среднее</td>\n",
       "      <td>1</td>\n",
       "      <td>женат / замужем</td>\n",
       "      <td>0</td>\n",
       "      <td>F</td>\n",
       "      <td>сотрудник</td>\n",
       "      <td>0</td>\n",
       "      <td>77069.234271</td>\n",
       "      <td>покупка коммерческой недвижимости</td>\n",
       "    </tr>\n",
       "    <tr>\n",
       "      <th>12</th>\n",
       "      <td>0</td>\n",
       "      <td>NaN</td>\n",
       "      <td>65</td>\n",
       "      <td>среднее</td>\n",
       "      <td>1</td>\n",
       "      <td>гражданский брак</td>\n",
       "      <td>1</td>\n",
       "      <td>M</td>\n",
       "      <td>пенсионер</td>\n",
       "      <td>0</td>\n",
       "      <td>NaN</td>\n",
       "      <td>сыграть свадьбу</td>\n",
       "    </tr>\n",
       "    <tr>\n",
       "      <th>13</th>\n",
       "      <td>0</td>\n",
       "      <td>-1846.641941</td>\n",
       "      <td>54</td>\n",
       "      <td>неоконченное высшее</td>\n",
       "      <td>2</td>\n",
       "      <td>женат / замужем</td>\n",
       "      <td>0</td>\n",
       "      <td>F</td>\n",
       "      <td>сотрудник</td>\n",
       "      <td>0</td>\n",
       "      <td>130458.228857</td>\n",
       "      <td>приобретение автомобиля</td>\n",
       "    </tr>\n",
       "    <tr>\n",
       "      <th>14</th>\n",
       "      <td>0</td>\n",
       "      <td>-1844.956182</td>\n",
       "      <td>56</td>\n",
       "      <td>высшее</td>\n",
       "      <td>0</td>\n",
       "      <td>гражданский брак</td>\n",
       "      <td>1</td>\n",
       "      <td>F</td>\n",
       "      <td>компаньон</td>\n",
       "      <td>1</td>\n",
       "      <td>165127.911772</td>\n",
       "      <td>покупка жилой недвижимости</td>\n",
       "    </tr>\n",
       "    <tr>\n",
       "      <th>15</th>\n",
       "      <td>1</td>\n",
       "      <td>-972.364419</td>\n",
       "      <td>26</td>\n",
       "      <td>среднее</td>\n",
       "      <td>1</td>\n",
       "      <td>женат / замужем</td>\n",
       "      <td>0</td>\n",
       "      <td>F</td>\n",
       "      <td>сотрудник</td>\n",
       "      <td>0</td>\n",
       "      <td>116820.904450</td>\n",
       "      <td>строительство собственной недвижимости</td>\n",
       "    </tr>\n",
       "    <tr>\n",
       "      <th>16</th>\n",
       "      <td>0</td>\n",
       "      <td>-1719.934226</td>\n",
       "      <td>35</td>\n",
       "      <td>среднее</td>\n",
       "      <td>1</td>\n",
       "      <td>женат / замужем</td>\n",
       "      <td>0</td>\n",
       "      <td>F</td>\n",
       "      <td>сотрудник</td>\n",
       "      <td>0</td>\n",
       "      <td>289202.704229</td>\n",
       "      <td>недвижимость</td>\n",
       "    </tr>\n",
       "    <tr>\n",
       "      <th>17</th>\n",
       "      <td>0</td>\n",
       "      <td>-2369.999720</td>\n",
       "      <td>33</td>\n",
       "      <td>высшее</td>\n",
       "      <td>0</td>\n",
       "      <td>гражданский брак</td>\n",
       "      <td>1</td>\n",
       "      <td>M</td>\n",
       "      <td>сотрудник</td>\n",
       "      <td>0</td>\n",
       "      <td>90410.586745</td>\n",
       "      <td>строительство недвижимости</td>\n",
       "    </tr>\n",
       "    <tr>\n",
       "      <th>18</th>\n",
       "      <td>0</td>\n",
       "      <td>400281.136913</td>\n",
       "      <td>53</td>\n",
       "      <td>среднее</td>\n",
       "      <td>1</td>\n",
       "      <td>вдовец / вдова</td>\n",
       "      <td>2</td>\n",
       "      <td>F</td>\n",
       "      <td>пенсионер</td>\n",
       "      <td>0</td>\n",
       "      <td>56823.777243</td>\n",
       "      <td>на покупку подержанного автомобиля</td>\n",
       "    </tr>\n",
       "    <tr>\n",
       "      <th>19</th>\n",
       "      <td>0</td>\n",
       "      <td>-10038.818549</td>\n",
       "      <td>48</td>\n",
       "      <td>СРЕДНЕЕ</td>\n",
       "      <td>1</td>\n",
       "      <td>в разводе</td>\n",
       "      <td>3</td>\n",
       "      <td>F</td>\n",
       "      <td>сотрудник</td>\n",
       "      <td>0</td>\n",
       "      <td>242831.107982</td>\n",
       "      <td>на покупку своего автомобиля</td>\n",
       "    </tr>\n",
       "  </tbody>\n",
       "</table>\n",
       "</div>"
      ],
      "text/plain": [
       "    children  days_employed  dob_years            education  education_id  \\\n",
       "0          1   -8437.673028         42               высшее             0   \n",
       "1          1   -4024.803754         36              среднее             1   \n",
       "2          0   -5623.422610         33              Среднее             1   \n",
       "3          3   -4124.747207         32              среднее             1   \n",
       "4          0  340266.072047         53              среднее             1   \n",
       "5          0    -926.185831         27               высшее             0   \n",
       "6          0   -2879.202052         43               высшее             0   \n",
       "7          0    -152.779569         50              СРЕДНЕЕ             1   \n",
       "8          2   -6929.865299         35               ВЫСШЕЕ             0   \n",
       "9          0   -2188.756445         41              среднее             1   \n",
       "10         2   -4171.483647         36               высшее             0   \n",
       "11         0    -792.701887         40              среднее             1   \n",
       "12         0            NaN         65              среднее             1   \n",
       "13         0   -1846.641941         54  неоконченное высшее             2   \n",
       "14         0   -1844.956182         56               высшее             0   \n",
       "15         1    -972.364419         26              среднее             1   \n",
       "16         0   -1719.934226         35              среднее             1   \n",
       "17         0   -2369.999720         33               высшее             0   \n",
       "18         0  400281.136913         53              среднее             1   \n",
       "19         0  -10038.818549         48              СРЕДНЕЕ             1   \n",
       "\n",
       "       family_status  family_status_id gender income_type  debt  \\\n",
       "0    женат / замужем                 0      F   сотрудник     0   \n",
       "1    женат / замужем                 0      F   сотрудник     0   \n",
       "2    женат / замужем                 0      M   сотрудник     0   \n",
       "3    женат / замужем                 0      M   сотрудник     0   \n",
       "4   гражданский брак                 1      F   пенсионер     0   \n",
       "5   гражданский брак                 1      M   компаньон     0   \n",
       "6    женат / замужем                 0      F   компаньон     0   \n",
       "7    женат / замужем                 0      M   сотрудник     0   \n",
       "8   гражданский брак                 1      F   сотрудник     0   \n",
       "9    женат / замужем                 0      M   сотрудник     0   \n",
       "10   женат / замужем                 0      M   компаньон     0   \n",
       "11   женат / замужем                 0      F   сотрудник     0   \n",
       "12  гражданский брак                 1      M   пенсионер     0   \n",
       "13   женат / замужем                 0      F   сотрудник     0   \n",
       "14  гражданский брак                 1      F   компаньон     1   \n",
       "15   женат / замужем                 0      F   сотрудник     0   \n",
       "16   женат / замужем                 0      F   сотрудник     0   \n",
       "17  гражданский брак                 1      M   сотрудник     0   \n",
       "18    вдовец / вдова                 2      F   пенсионер     0   \n",
       "19         в разводе                 3      F   сотрудник     0   \n",
       "\n",
       "     total_income                                 purpose  \n",
       "0   253875.639453                           покупка жилья  \n",
       "1   112080.014102                 приобретение автомобиля  \n",
       "2   145885.952297                           покупка жилья  \n",
       "3   267628.550329              дополнительное образование  \n",
       "4   158616.077870                         сыграть свадьбу  \n",
       "5   255763.565419                           покупка жилья  \n",
       "6   240525.971920                       операции с жильем  \n",
       "7   135823.934197                             образование  \n",
       "8    95856.832424                   на проведение свадьбы  \n",
       "9   144425.938277                 покупка жилья для семьи  \n",
       "10  113943.491460                    покупка недвижимости  \n",
       "11   77069.234271       покупка коммерческой недвижимости  \n",
       "12            NaN                         сыграть свадьбу  \n",
       "13  130458.228857                 приобретение автомобиля  \n",
       "14  165127.911772              покупка жилой недвижимости  \n",
       "15  116820.904450  строительство собственной недвижимости  \n",
       "16  289202.704229                            недвижимость  \n",
       "17   90410.586745              строительство недвижимости  \n",
       "18   56823.777243      на покупку подержанного автомобиля  \n",
       "19  242831.107982            на покупку своего автомобиля  "
      ]
     },
     "execution_count": 2,
     "metadata": {},
     "output_type": "execute_result"
    }
   ],
   "source": [
    "data.head(20)"
   ]
  },
  {
   "cell_type": "markdown",
   "id": "e7c24885",
   "metadata": {
    "deletable": false,
    "editable": false,
    "id": "1c12e233"
   },
   "source": [
    "**Задание 3. Выведите основную информацию о датафрейме с помощью метода `info()`.**"
   ]
  },
  {
   "cell_type": "code",
   "execution_count": 3,
   "id": "22696c69",
   "metadata": {
    "deletable": false,
    "id": "2b757bca",
    "outputId": "15376089-8dad-46c9-b520-c05248d43158"
   },
   "outputs": [
    {
     "name": "stdout",
     "output_type": "stream",
     "text": [
      "<class 'pandas.core.frame.DataFrame'>\n",
      "RangeIndex: 21525 entries, 0 to 21524\n",
      "Data columns (total 12 columns):\n",
      " #   Column            Non-Null Count  Dtype  \n",
      "---  ------            --------------  -----  \n",
      " 0   children          21525 non-null  int64  \n",
      " 1   days_employed     19351 non-null  float64\n",
      " 2   dob_years         21525 non-null  int64  \n",
      " 3   education         21525 non-null  object \n",
      " 4   education_id      21525 non-null  int64  \n",
      " 5   family_status     21525 non-null  object \n",
      " 6   family_status_id  21525 non-null  int64  \n",
      " 7   gender            21525 non-null  object \n",
      " 8   income_type       21525 non-null  object \n",
      " 9   debt              21525 non-null  int64  \n",
      " 10  total_income      19351 non-null  float64\n",
      " 11  purpose           21525 non-null  object \n",
      "dtypes: float64(2), int64(5), object(5)\n",
      "memory usage: 2.0+ MB\n"
     ]
    }
   ],
   "source": [
    "data.info()"
   ]
  },
  {
   "cell_type": "markdown",
   "id": "13ebc07a",
   "metadata": {
    "deletable": false,
    "editable": false,
    "id": "333ec665"
   },
   "source": [
    "## Предобработка данных"
   ]
  },
  {
   "cell_type": "markdown",
   "id": "22a07743",
   "metadata": {
    "deletable": false,
    "editable": false,
    "id": "02d92d53"
   },
   "source": [
    "### Удаление пропусков"
   ]
  },
  {
   "cell_type": "markdown",
   "id": "5ef570db",
   "metadata": {
    "deletable": false,
    "editable": false,
    "id": "cd84967c"
   },
   "source": [
    "**Задание 4. Выведите количество пропущенных значений для каждого столбца. Используйте комбинацию двух методов.**"
   ]
  },
  {
   "cell_type": "code",
   "execution_count": 4,
   "id": "bef0c155",
   "metadata": {
    "deletable": false,
    "id": "7f9b2309",
    "outputId": "81f4d817-781c-465c-ed15-91ce4446810d"
   },
   "outputs": [
    {
     "data": {
      "text/plain": [
       "children               0\n",
       "days_employed       2174\n",
       "dob_years              0\n",
       "education              0\n",
       "education_id           0\n",
       "family_status          0\n",
       "family_status_id       0\n",
       "gender                 0\n",
       "income_type            0\n",
       "debt                   0\n",
       "total_income        2174\n",
       "purpose                0\n",
       "dtype: int64"
      ]
     },
     "execution_count": 4,
     "metadata": {},
     "output_type": "execute_result"
    }
   ],
   "source": [
    "data.isna().sum()"
   ]
  },
  {
   "cell_type": "markdown",
   "id": "b56e03e1",
   "metadata": {
    "deletable": false,
    "editable": false,
    "id": "db86e27b"
   },
   "source": [
    "**Задание 5. В двух столбцах есть пропущенные значения. Один из них — `days_employed`. Пропуски в этом столбце вы обработаете на следующем этапе. Другой столбец с пропущенными значениями — `total_income` — хранит данные о доходах. На сумму дохода сильнее всего влияет тип занятости, поэтому заполнить пропуски в этом столбце нужно медианным значением по каждому типу из столбца `income_type`. Например, у человека с типом занятости `сотрудник` пропуск в столбце `total_income` должен быть заполнен медианным доходом среди всех записей с тем же типом.**"
   ]
  },
  {
   "cell_type": "code",
   "execution_count": 5,
   "id": "0274720e",
   "metadata": {
    "deletable": false,
    "id": "42006a93"
   },
   "outputs": [],
   "source": [
    "for t in data['income_type'].unique():\n",
    "    data.loc[(data['income_type'] == t) & (data['total_income'].isna()), 'total_income'] = \\\n",
    "    data.loc[(data['income_type'] == t), 'total_income'].median()"
   ]
  },
  {
   "cell_type": "markdown",
   "id": "c52b514e",
   "metadata": {
    "deletable": false,
    "editable": false,
    "id": "89da5ece"
   },
   "source": [
    "### Обработка аномальных значений"
   ]
  },
  {
   "cell_type": "markdown",
   "id": "ff39735f",
   "metadata": {
    "deletable": false,
    "editable": false,
    "id": "57964554"
   },
   "source": [
    "**Задание 6. В данных могут встречаться артефакты (аномалии) — значения, которые не отражают действительность и появились по какой-то ошибке. таким артефактом будет отрицательное количество дней трудового стажа в столбце `days_employed`. Для реальных данных это нормально. Обработайте значения в этом столбце: замените все отрицательные значения положительными с помощью метода `abs()`.**"
   ]
  },
  {
   "cell_type": "code",
   "execution_count": 6,
   "id": "3deb6750",
   "metadata": {
    "deletable": false,
    "id": "f6f055bf"
   },
   "outputs": [],
   "source": [
    "data['days_employed'] = data['days_employed'].abs()"
   ]
  },
  {
   "cell_type": "markdown",
   "id": "eafa9d44",
   "metadata": {
    "deletable": false,
    "editable": false,
    "id": "6107dd2f"
   },
   "source": [
    "**Задание 7. Для каждого типа занятости выведите медианное значение трудового стажа `days_employed` в днях.**"
   ]
  },
  {
   "cell_type": "code",
   "execution_count": 7,
   "id": "52edbba8",
   "metadata": {
    "deletable": false,
    "id": "85a5faf6",
    "outputId": "801ef80e-522b-4668-f34e-565af7432bcf"
   },
   "outputs": [
    {
     "data": {
      "text/plain": [
       "income_type\n",
       "безработный        366413.652744\n",
       "в декрете            3296.759962\n",
       "госслужащий          2689.368353\n",
       "компаньон            1547.382223\n",
       "пенсионер          365213.306266\n",
       "предприниматель       520.848083\n",
       "сотрудник            1574.202821\n",
       "студент               578.751554\n",
       "Name: days_employed, dtype: float64"
      ]
     },
     "execution_count": 7,
     "metadata": {},
     "output_type": "execute_result"
    }
   ],
   "source": [
    "data.groupby('income_type')['days_employed'].agg('median')"
   ]
  },
  {
   "cell_type": "markdown",
   "id": "4d2ea531",
   "metadata": {
    "deletable": false,
    "editable": false,
    "id": "38d1a030"
   },
   "source": [
    "У двух типов (безработные и пенсионеры) получатся аномально большие значения. Исправить такие значения сложно, поэтому оставьте их как есть. Тем более этот столбец не понадобится вам для исследования."
   ]
  },
  {
   "cell_type": "markdown",
   "id": "2752f82a",
   "metadata": {
    "deletable": false,
    "editable": false,
    "id": "d8a9f147"
   },
   "source": [
    "**Задание 8. Выведите перечень уникальных значений столбца `children`.**"
   ]
  },
  {
   "cell_type": "code",
   "execution_count": 8,
   "id": "1507def1",
   "metadata": {
    "deletable": false,
    "id": "ef5056eb",
    "outputId": "6975b15c-7f95-4697-d16d-a0c79b657b03"
   },
   "outputs": [
    {
     "data": {
      "text/plain": [
       "array([ 1,  0,  3,  2, -1,  4, 20,  5], dtype=int64)"
      ]
     },
     "execution_count": 8,
     "metadata": {},
     "output_type": "execute_result"
    }
   ],
   "source": [
    "data['children'].unique()"
   ]
  },
  {
   "cell_type": "markdown",
   "id": "0c516d3a",
   "metadata": {
    "deletable": false,
    "editable": false,
    "id": "40b9ebf2"
   },
   "source": [
    "**Задание 9. В столбце `children` есть два аномальных значения. Удалите строки, в которых встречаются такие аномальные значения из датафрейма `data`.**"
   ]
  },
  {
   "cell_type": "code",
   "execution_count": 9,
   "id": "8fda9872",
   "metadata": {
    "deletable": false,
    "id": "3ff9801d"
   },
   "outputs": [],
   "source": [
    "data = data[(data['children'] != -1) & (data['children'] != 20)]"
   ]
  },
  {
   "cell_type": "markdown",
   "id": "a3d556ca",
   "metadata": {
    "deletable": false,
    "editable": false,
    "id": "bbc4d0ce"
   },
   "source": [
    "**Задание 10. Ещё раз выведите перечень уникальных значений столбца `children`, чтобы убедиться, что артефакты удалены.**"
   ]
  },
  {
   "cell_type": "code",
   "execution_count": 10,
   "id": "a1cd9493",
   "metadata": {
    "deletable": false,
    "id": "ad4fa8b7",
    "outputId": "b2097101-d49d-44d9-901b-32a65c9463d1"
   },
   "outputs": [
    {
     "data": {
      "text/plain": [
       "array([1, 0, 3, 2, 4, 5], dtype=int64)"
      ]
     },
     "execution_count": 10,
     "metadata": {},
     "output_type": "execute_result"
    }
   ],
   "source": [
    "data['children'].unique()"
   ]
  },
  {
   "cell_type": "markdown",
   "id": "d3b252fa",
   "metadata": {
    "deletable": false,
    "editable": false,
    "id": "75440b63"
   },
   "source": [
    "### Удаление пропусков (продолжение)"
   ]
  },
  {
   "cell_type": "markdown",
   "id": "d4b555a7",
   "metadata": {
    "deletable": false,
    "editable": false,
    "id": "f4ea573f"
   },
   "source": [
    "**Задание 11. Заполните пропуски в столбце `days_employed` медианными значениями по каждого типа занятости `income_type`.**"
   ]
  },
  {
   "cell_type": "code",
   "execution_count": 11,
   "id": "435e1668",
   "metadata": {
    "deletable": false,
    "id": "af6b1a7e"
   },
   "outputs": [],
   "source": [
    "for t in data['income_type'].unique():\n",
    "    data.loc[(data['income_type'] == t) & (data['days_employed'].isna()), 'days_employed'] = \\\n",
    "    data.loc[(data['income_type'] == t), 'days_employed'].median()"
   ]
  },
  {
   "cell_type": "markdown",
   "id": "b8d8c778",
   "metadata": {
    "deletable": false,
    "editable": false,
    "id": "2753f40d"
   },
   "source": [
    "**Задание 12. Убедитесь, что все пропуски заполнены. Проверьте себя и ещё раз выведите количество пропущенных значений для каждого столбца с помощью двух методов.**"
   ]
  },
  {
   "cell_type": "code",
   "execution_count": 12,
   "id": "f0003554",
   "metadata": {
    "deletable": false,
    "id": "55f78bc2",
    "outputId": "8da1e4e1-358e-4e87-98c9-f261bce0a7b2"
   },
   "outputs": [
    {
     "data": {
      "text/plain": [
       "children            0\n",
       "days_employed       0\n",
       "dob_years           0\n",
       "education           0\n",
       "education_id        0\n",
       "family_status       0\n",
       "family_status_id    0\n",
       "gender              0\n",
       "income_type         0\n",
       "debt                0\n",
       "total_income        0\n",
       "purpose             0\n",
       "dtype: int64"
      ]
     },
     "execution_count": 12,
     "metadata": {},
     "output_type": "execute_result"
    }
   ],
   "source": [
    "data.isna().sum()"
   ]
  },
  {
   "cell_type": "markdown",
   "id": "6f949158",
   "metadata": {
    "deletable": false,
    "editable": false,
    "id": "ddc81e43"
   },
   "source": [
    "### Изменение типов данных"
   ]
  },
  {
   "cell_type": "markdown",
   "id": "f4e865f0",
   "metadata": {
    "deletable": false,
    "editable": false,
    "id": "42d19d24"
   },
   "source": [
    "**Задание 13. Замените вещественный тип данных в столбце `total_income` на целочисленный с помощью метода `astype()`.**"
   ]
  },
  {
   "cell_type": "code",
   "execution_count": 13,
   "id": "7df50fc3",
   "metadata": {
    "deletable": false,
    "id": "920b65ad"
   },
   "outputs": [],
   "source": [
    "data['total_income'] = data['total_income'].astype(int)"
   ]
  },
  {
   "cell_type": "markdown",
   "id": "438b0504",
   "metadata": {
    "deletable": false,
    "editable": false,
    "id": "80c420ba"
   },
   "source": [
    "### Обработка дубликатов"
   ]
  },
  {
   "cell_type": "markdown",
   "id": "a5402388",
   "metadata": {
    "deletable": false,
    "editable": false
   },
   "source": [
    "**Задание 14. Обработайте неявные дубликаты в столбце `education`. В этом столбце есть одни и те же значения, но записанные по-разному: с использованием заглавных и строчных букв. Приведите их к нижнему регистру. Проверьте остальные столбцы.**"
   ]
  },
  {
   "cell_type": "code",
   "execution_count": 14,
   "id": "4eba631b",
   "metadata": {
    "deletable": false
   },
   "outputs": [],
   "source": [
    "data['education'] = data['education'].str.lower()"
   ]
  },
  {
   "cell_type": "markdown",
   "id": "b9204f85",
   "metadata": {
    "deletable": false,
    "editable": false,
    "id": "dc587695"
   },
   "source": [
    "**Задание 15. Выведите на экран количество строк-дубликатов в данных. Если такие строки присутствуют, удалите их.**"
   ]
  },
  {
   "cell_type": "code",
   "execution_count": 15,
   "id": "500a44ee",
   "metadata": {
    "deletable": false,
    "id": "3ee445e4",
    "outputId": "9684deba-1934-42d1-99e1-cda61740f822"
   },
   "outputs": [
    {
     "data": {
      "text/plain": [
       "71"
      ]
     },
     "execution_count": 15,
     "metadata": {},
     "output_type": "execute_result"
    }
   ],
   "source": [
    "data.duplicated().sum()"
   ]
  },
  {
   "cell_type": "code",
   "execution_count": 16,
   "id": "c9a81152",
   "metadata": {
    "deletable": false,
    "id": "8575fe05"
   },
   "outputs": [],
   "source": [
    "data = data.drop_duplicates()"
   ]
  },
  {
   "cell_type": "markdown",
   "id": "9776f12b",
   "metadata": {
    "deletable": false,
    "editable": false,
    "id": "9904cf55"
   },
   "source": [
    "### Категоризация данных"
   ]
  },
  {
   "cell_type": "markdown",
   "id": "539d1287",
   "metadata": {
    "deletable": false,
    "editable": false,
    "id": "72fcc8a2"
   },
   "source": [
    "**Задание 16. На основании диапазонов, указанных ниже, создайте в датафрейме `data` столбец `total_income_category` с категориями:**\n",
    "\n",
    "- 0–30000 — `'E'`;\n",
    "- 30001–50000 — `'D'`;\n",
    "- 50001–200000 — `'C'`;\n",
    "- 200001–1000000 — `'B'`;\n",
    "- 1000001 и выше — `'A'`.\n",
    "\n",
    "\n",
    "**Например, кредитополучателю с доходом 25000 нужно назначить категорию `'E'`, а клиенту, получающему 235000, — `'B'`. Используйте собственную функцию с именем `categorize_income()` и метод `apply()`.**"
   ]
  },
  {
   "cell_type": "code",
   "execution_count": 17,
   "id": "e2930f6e",
   "metadata": {
    "deletable": false,
    "id": "e1771346"
   },
   "outputs": [],
   "source": [
    "def categorize_income(income):\n",
    "    try:\n",
    "        if 0 <= income <= 30000:\n",
    "            return 'E'\n",
    "        elif 30001 <= income <= 50000:\n",
    "            return 'D'\n",
    "        elif 50001 <= income <= 200000:\n",
    "            return 'C'\n",
    "        elif 200001 <= income <= 1000000:\n",
    "            return 'B'\n",
    "        elif income >= 1000001:\n",
    "            return 'A'\n",
    "    except:\n",
    "        pass"
   ]
  },
  {
   "cell_type": "code",
   "execution_count": 18,
   "id": "85f7ae28",
   "metadata": {
    "deletable": false,
    "id": "d5f3586d"
   },
   "outputs": [],
   "source": [
    "data['total_income_category'] = data['total_income'].apply(categorize_income)"
   ]
  },
  {
   "cell_type": "markdown",
   "id": "173b0b4f",
   "metadata": {
    "deletable": false,
    "editable": false,
    "id": "dde49b5c"
   },
   "source": [
    "**Задание 17. Выведите на экран перечень уникальных целей взятия кредита из столбца `purpose`.**"
   ]
  },
  {
   "cell_type": "code",
   "execution_count": 19,
   "id": "e601ef00",
   "metadata": {
    "deletable": false,
    "id": "f67ce9b3",
    "outputId": "673c12d9-7d7e-4ae0-9812-c622c89dd244"
   },
   "outputs": [
    {
     "data": {
      "text/plain": [
       "array(['покупка жилья', 'приобретение автомобиля',\n",
       "       'дополнительное образование', 'сыграть свадьбу',\n",
       "       'операции с жильем', 'образование', 'на проведение свадьбы',\n",
       "       'покупка жилья для семьи', 'покупка недвижимости',\n",
       "       'покупка коммерческой недвижимости', 'покупка жилой недвижимости',\n",
       "       'строительство собственной недвижимости', 'недвижимость',\n",
       "       'строительство недвижимости', 'на покупку подержанного автомобиля',\n",
       "       'на покупку своего автомобиля',\n",
       "       'операции с коммерческой недвижимостью',\n",
       "       'строительство жилой недвижимости', 'жилье',\n",
       "       'операции со своей недвижимостью', 'автомобили',\n",
       "       'заняться образованием', 'сделка с подержанным автомобилем',\n",
       "       'получение образования', 'автомобиль', 'свадьба',\n",
       "       'получение дополнительного образования', 'покупка своего жилья',\n",
       "       'операции с недвижимостью', 'получение высшего образования',\n",
       "       'свой автомобиль', 'сделка с автомобилем',\n",
       "       'профильное образование', 'высшее образование',\n",
       "       'покупка жилья для сдачи', 'на покупку автомобиля', 'ремонт жилью',\n",
       "       'заняться высшим образованием'], dtype=object)"
      ]
     },
     "execution_count": 19,
     "metadata": {},
     "output_type": "execute_result"
    }
   ],
   "source": [
    "data['purpose'].unique()"
   ]
  },
  {
   "cell_type": "markdown",
   "id": "b44c90e5",
   "metadata": {
    "deletable": false,
    "editable": false,
    "id": "85d0aef0"
   },
   "source": [
    "**Задание 18. Создайте функцию, которая на основании данных из столбца `purpose` сформирует новый столбец `purpose_category`, в который войдут следующие категории:**\n",
    "\n",
    "- `'операции с автомобилем'`,\n",
    "- `'операции с недвижимостью'`,\n",
    "- `'проведение свадьбы'`,\n",
    "- `'получение образования'`.\n",
    "\n",
    "**Например, если в столбце `purpose` находится подстрока `'на покупку автомобиля'`, то в столбце `purpose_category` должна появиться строка `'операции с автомобилем'`.**\n",
    "\n",
    "**Используйте собственную функцию с именем `categorize_purpose()` и метод `apply()`. Изучите данные в столбце `purpose` и определите, какие подстроки помогут вам правильно определить категорию.**"
   ]
  },
  {
   "cell_type": "code",
   "execution_count": 20,
   "id": "1bcf7588",
   "metadata": {
    "deletable": false,
    "id": "e149fab4"
   },
   "outputs": [],
   "source": [
    "def categorize_purpose(row):\n",
    "    try:\n",
    "        if 'автом' in row:\n",
    "            return 'операции с автомобилем'\n",
    "        elif 'жил' in row or 'недвиж' in row:\n",
    "            return 'операции с недвижимостью'\n",
    "        elif 'свад' in row:\n",
    "            return 'проведение свадьбы'\n",
    "        elif 'образов' in row:\n",
    "            return 'получение образования'\n",
    "    except:\n",
    "        return 'нет категории'"
   ]
  },
  {
   "cell_type": "code",
   "execution_count": 21,
   "id": "2b82e6b9",
   "metadata": {
    "deletable": false,
    "id": "bf36e69b"
   },
   "outputs": [],
   "source": [
    "data['purpose_category'] = data['purpose'].apply(categorize_purpose)"
   ]
  },
  {
   "cell_type": "markdown",
   "id": "99ad6611",
   "metadata": {
    "deletable": false,
    "editable": false,
    "id": "09b242bf"
   },
   "source": [
    "### Шаг 3. Исследуйте данные и ответьте на вопросы"
   ]
  },
  {
   "cell_type": "markdown",
   "id": "95375d32",
   "metadata": {},
   "source": [
    "<div class=\"alert alert-danger\">\n",
    "<b>Комментарий ревьюера №1</b> Замечание по всему разделу ответов на вопросы\n",
    "    \n",
    "Гораздо рациональнее здесь воспользоваться `pivot_table()`.\n",
    "    \n",
    "Чтобы найти долю должников, нужно количество должников поделить на общее число заемщиков. Эту долю можно найти с помощью функции агрегации `mean`\n",
    "    \n",
    "Попробуй получить сводную следующего вида. В индексе столбец, который исследуем (в первом вопросе это количество детей), а столбцы: 'Всего кредитополучателей', 'Всего должников', 'Доля должников'. Учитывай, что использовать параметр columns не обязательно, а в параметр aggfunc можно указывать несколько функций агрегации сразу.\n",
    "\n",
    "Также могу посоветовать переименовать столбцы и написать функцию для построения сводных во всех вопросах.\n",
    "</div>"
   ]
  },
  {
   "cell_type": "markdown",
   "id": "62ecf3e3",
   "metadata": {},
   "source": [
    "<div class=\"alert alert-info\">\n",
    "<b>Комментарий ученика</b> \n",
    "    \n",
    "Вместо группировки данных воспользовался методом `pivot_table()`.<br>\n",
    "Создал две функции с этим методом для удобства использования при решении схожих задач:\n",
    "- `get_pivot()`– для получения сводной таблицы из необходимой колонки\n",
    "- `get_bars()` – для получения графика на основе данных в get_pivot()\n",
    "<hr>\n",
    "Это решение делает код мобильней для имеющихся целей. Благодарю!)\n",
    "</div>"
   ]
  },
  {
   "cell_type": "code",
   "execution_count": 22,
   "id": "d88d5f62",
   "metadata": {},
   "outputs": [],
   "source": [
    "# Объявим две функции:\n",
    "# для создания сводной таблицы по запрашиваемой в задании категории и должникам из этой категории\n",
    "# для получения графика из таблицы, полученной в первой функции\n",
    "\n",
    "def get_pivot(column):\n",
    "    piv = data.pivot_table(index=column, values='debt', aggfunc=['count', 'sum', 'mean'])\n",
    "    piv[('mean', 'debt')] = round(piv[('mean', 'debt')] * 100, 1)\n",
    "    piv = piv.set_axis(['Всего кредитополучателей', 'Всего должников', 'Доля должников'], axis=1)\n",
    "    return piv.sort_values(by='Доля должников', ascending=False)\n",
    "\n",
    "def get_bars(column, color='#1f77b4'):\n",
    "    return get_pivot(column)['Доля должников'].sort_values().plot(title='Доля должников', kind='barh', color=color)"
   ]
  },
  {
   "cell_type": "markdown",
   "id": "46c18111",
   "metadata": {},
   "source": [
    "<div class=\"alert alert-success\">\n",
    "<b>Комментарий ревьюера №2</b> \n",
    "    \n",
    "Все верно, молодец! Можно также было объединить эти функции в одну.\n",
    "</div>"
   ]
  },
  {
   "cell_type": "markdown",
   "id": "7b394971",
   "metadata": {
    "deletable": false,
    "editable": false,
    "id": "c5d66278"
   },
   "source": [
    "#### 3.1 Есть ли зависимость между количеством детей и возвратом кредита в срок?"
   ]
  },
  {
   "cell_type": "code",
   "execution_count": 23,
   "id": "dd6037ab",
   "metadata": {
    "deletable": false,
    "id": "2cacfc4a"
   },
   "outputs": [
    {
     "data": {
      "text/html": [
       "<div>\n",
       "<style scoped>\n",
       "    .dataframe tbody tr th:only-of-type {\n",
       "        vertical-align: middle;\n",
       "    }\n",
       "\n",
       "    .dataframe tbody tr th {\n",
       "        vertical-align: top;\n",
       "    }\n",
       "\n",
       "    .dataframe thead th {\n",
       "        text-align: right;\n",
       "    }\n",
       "</style>\n",
       "<table border=\"1\" class=\"dataframe\">\n",
       "  <thead>\n",
       "    <tr style=\"text-align: right;\">\n",
       "      <th></th>\n",
       "      <th>Всего кредитополучателей</th>\n",
       "      <th>Всего должников</th>\n",
       "      <th>Доля должников</th>\n",
       "    </tr>\n",
       "    <tr>\n",
       "      <th>children</th>\n",
       "      <th></th>\n",
       "      <th></th>\n",
       "      <th></th>\n",
       "    </tr>\n",
       "  </thead>\n",
       "  <tbody>\n",
       "    <tr>\n",
       "      <th>4</th>\n",
       "      <td>41</td>\n",
       "      <td>4</td>\n",
       "      <td>9.8</td>\n",
       "    </tr>\n",
       "    <tr>\n",
       "      <th>2</th>\n",
       "      <td>2052</td>\n",
       "      <td>194</td>\n",
       "      <td>9.5</td>\n",
       "    </tr>\n",
       "    <tr>\n",
       "      <th>1</th>\n",
       "      <td>4808</td>\n",
       "      <td>444</td>\n",
       "      <td>9.2</td>\n",
       "    </tr>\n",
       "    <tr>\n",
       "      <th>3</th>\n",
       "      <td>330</td>\n",
       "      <td>27</td>\n",
       "      <td>8.2</td>\n",
       "    </tr>\n",
       "    <tr>\n",
       "      <th>0</th>\n",
       "      <td>14091</td>\n",
       "      <td>1063</td>\n",
       "      <td>7.5</td>\n",
       "    </tr>\n",
       "    <tr>\n",
       "      <th>5</th>\n",
       "      <td>9</td>\n",
       "      <td>0</td>\n",
       "      <td>0.0</td>\n",
       "    </tr>\n",
       "  </tbody>\n",
       "</table>\n",
       "</div>"
      ],
      "text/plain": [
       "          Всего кредитополучателей  Всего должников  Доля должников\n",
       "children                                                           \n",
       "4                               41                4             9.8\n",
       "2                             2052              194             9.5\n",
       "1                             4808              444             9.2\n",
       "3                              330               27             8.2\n",
       "0                            14091             1063             7.5\n",
       "5                                9                0             0.0"
      ]
     },
     "execution_count": 23,
     "metadata": {},
     "output_type": "execute_result"
    }
   ],
   "source": [
    "# Используем нашу первую функцию для рассчёта доли должников\n",
    "get_pivot(data['children'])"
   ]
  },
  {
   "cell_type": "markdown",
   "id": "27ce13cd",
   "metadata": {},
   "source": [
    "Категория `5` (клиенты банка с пятью детьми) не имеет задолженности вообще,\n",
    "но и количество таких пользователей значительно ниже остальных. Для анализа построим график и выделим категории с наибольшими значениями: `2`, `1`, `0`"
   ]
  },
  {
   "cell_type": "code",
   "execution_count": 24,
   "id": "c4cfe749",
   "metadata": {},
   "outputs": [
    {
     "data": {
      "image/png": "[encoded data removed]",
      "text/plain": [
       "<Figure size 432x288 with 1 Axes>"
      ]
     },
     "metadata": {
      "needs_background": "light"
     },
     "output_type": "display_data"
    }
   ],
   "source": [
    "# Используем нашу вторую функцию для построения графика\n",
    "get_bars(data['children'], color=['#ADD8E6', '#1f77b4', '#ADD8E6', '#1f77b4', '#1f77b4', '#ADD8E6']);"
   ]
  },
  {
   "cell_type": "markdown",
   "id": "628d14df",
   "metadata": {
    "deletable": false,
    "id": "3a6b99ec"
   },
   "source": [
    "**Вывод:** \n",
    "По клиентам с пятью детьми выборка слишком мала, поэтому учитывать мы её не будем. Используем колонки с наибольшими значениями.<br>\n",
    "Клиенты, имеющие `2` или `1` детей, имеют **больший риск по задолженности**, чем клиенты `без детей`, на **~2%**"
   ]
  },
  {
   "cell_type": "markdown",
   "id": "198a0901",
   "metadata": {},
   "source": [
    "<div class=\"alert alert-danger\">\n",
    "<b>Комментарий ревьюера №1</b> \n",
    "    \n",
    "Клиентов с пятью детьми всего 9. Выборка слишком маленькая для корректных выводов, статпогрешность большая.\n",
    "</div>"
   ]
  },
  {
   "cell_type": "markdown",
   "id": "f566fcb5",
   "metadata": {},
   "source": [
    "<div class=\"alert alert-info\">\n",
    "<b>Комментарий ученика</b> \n",
    "    \n",
    "Изначально я написал в первой части ответа, что наличие всего 9 элементов в категории \"5\" не позволяет сделать объективные выводы. Теперь же я убрал из вывода лишнее и добавил информацию о категориях с наибольшим количеством значений\n",
    "</div>"
   ]
  },
  {
   "cell_type": "markdown",
   "id": "01272d88",
   "metadata": {
    "deletable": false,
    "editable": false,
    "id": "97be82ca"
   },
   "source": [
    "#### 3.2 Есть ли зависимость между семейным положением и возвратом кредита в срок?"
   ]
  },
  {
   "cell_type": "code",
   "execution_count": 25,
   "id": "8475ae11",
   "metadata": {
    "deletable": false,
    "id": "dc3f7ee8"
   },
   "outputs": [
    {
     "data": {
      "text/html": [
       "<div>\n",
       "<style scoped>\n",
       "    .dataframe tbody tr th:only-of-type {\n",
       "        vertical-align: middle;\n",
       "    }\n",
       "\n",
       "    .dataframe tbody tr th {\n",
       "        vertical-align: top;\n",
       "    }\n",
       "\n",
       "    .dataframe thead th {\n",
       "        text-align: right;\n",
       "    }\n",
       "</style>\n",
       "<table border=\"1\" class=\"dataframe\">\n",
       "  <thead>\n",
       "    <tr style=\"text-align: right;\">\n",
       "      <th></th>\n",
       "      <th>Всего кредитополучателей</th>\n",
       "      <th>Всего должников</th>\n",
       "      <th>Доля должников</th>\n",
       "    </tr>\n",
       "    <tr>\n",
       "      <th>family_status</th>\n",
       "      <th></th>\n",
       "      <th></th>\n",
       "      <th></th>\n",
       "    </tr>\n",
       "  </thead>\n",
       "  <tbody>\n",
       "    <tr>\n",
       "      <th>Не женат / не замужем</th>\n",
       "      <td>2796</td>\n",
       "      <td>273</td>\n",
       "      <td>9.8</td>\n",
       "    </tr>\n",
       "    <tr>\n",
       "      <th>гражданский брак</th>\n",
       "      <td>4134</td>\n",
       "      <td>385</td>\n",
       "      <td>9.3</td>\n",
       "    </tr>\n",
       "    <tr>\n",
       "      <th>женат / замужем</th>\n",
       "      <td>12261</td>\n",
       "      <td>927</td>\n",
       "      <td>7.6</td>\n",
       "    </tr>\n",
       "    <tr>\n",
       "      <th>в разводе</th>\n",
       "      <td>1189</td>\n",
       "      <td>84</td>\n",
       "      <td>7.1</td>\n",
       "    </tr>\n",
       "    <tr>\n",
       "      <th>вдовец / вдова</th>\n",
       "      <td>951</td>\n",
       "      <td>63</td>\n",
       "      <td>6.6</td>\n",
       "    </tr>\n",
       "  </tbody>\n",
       "</table>\n",
       "</div>"
      ],
      "text/plain": [
       "                       Всего кредитополучателей  Всего должников  \\\n",
       "family_status                                                      \n",
       "Не женат / не замужем                      2796              273   \n",
       "гражданский брак                           4134              385   \n",
       "женат / замужем                           12261              927   \n",
       "в разводе                                  1189               84   \n",
       "вдовец / вдова                              951               63   \n",
       "\n",
       "                       Доля должников  \n",
       "family_status                          \n",
       "Не женат / не замужем             9.8  \n",
       "гражданский брак                  9.3  \n",
       "женат / замужем                   7.6  \n",
       "в разводе                         7.1  \n",
       "вдовец / вдова                    6.6  "
      ]
     },
     "execution_count": 25,
     "metadata": {},
     "output_type": "execute_result"
    }
   ],
   "source": [
    "# Посчитаем количество пользователей по категориям семейного положения\n",
    "# и выведем остортированную долю должников\n",
    "get_pivot(data['family_status'])"
   ]
  },
  {
   "cell_type": "code",
   "execution_count": 26,
   "id": "cc826c9b",
   "metadata": {},
   "outputs": [
    {
     "data": {
      "image/png": "[encoded data removed]",
      "text/plain": [
       "<Figure size 432x288 with 1 Axes>"
      ]
     },
     "metadata": {
      "needs_background": "light"
     },
     "output_type": "display_data"
    }
   ],
   "source": [
    "# Построим график\n",
    "get_bars(data['family_status']);"
   ]
  },
  {
   "cell_type": "markdown",
   "id": "e4af9cf8",
   "metadata": {
    "deletable": false,
    "id": "1cef7837"
   },
   "source": [
    "**Вывод:**\n",
    "`Не женатые / не замужние` и состоящие в `гражданском браке` клиенты **чаще имеют задолженность**, чем иные категории, на **~3%**"
   ]
  },
  {
   "cell_type": "markdown",
   "id": "5e0c3cdb",
   "metadata": {},
   "source": [
    "<div class=\"alert alert-success\">\n",
    "<b>Комментарий ревьюера №1</b> \n",
    "    \n",
    "Хорошо\n",
    "</div>"
   ]
  },
  {
   "cell_type": "markdown",
   "id": "85e8ee93",
   "metadata": {},
   "source": [
    "<div class=\"alert alert-info\">\n",
    "<b>Комментарий ученика</b> \n",
    "    \n",
    "Сменил группировку на функции\n",
    "</div>"
   ]
  },
  {
   "cell_type": "markdown",
   "id": "b3421fd0",
   "metadata": {
    "deletable": false,
    "editable": false,
    "id": "1e8b2fca"
   },
   "source": [
    "#### 3.3 Есть ли зависимость между уровнем дохода и возвратом кредита в срок?"
   ]
  },
  {
   "cell_type": "code",
   "execution_count": 27,
   "id": "54c2f1ac",
   "metadata": {
    "deletable": false,
    "id": "cd7e3720"
   },
   "outputs": [
    {
     "data": {
      "text/html": [
       "<div>\n",
       "<style scoped>\n",
       "    .dataframe tbody tr th:only-of-type {\n",
       "        vertical-align: middle;\n",
       "    }\n",
       "\n",
       "    .dataframe tbody tr th {\n",
       "        vertical-align: top;\n",
       "    }\n",
       "\n",
       "    .dataframe thead th {\n",
       "        text-align: right;\n",
       "    }\n",
       "</style>\n",
       "<table border=\"1\" class=\"dataframe\">\n",
       "  <thead>\n",
       "    <tr style=\"text-align: right;\">\n",
       "      <th></th>\n",
       "      <th>Всего кредитополучателей</th>\n",
       "      <th>Всего должников</th>\n",
       "      <th>Доля должников</th>\n",
       "    </tr>\n",
       "    <tr>\n",
       "      <th>total_income_category</th>\n",
       "      <th></th>\n",
       "      <th></th>\n",
       "      <th></th>\n",
       "    </tr>\n",
       "  </thead>\n",
       "  <tbody>\n",
       "    <tr>\n",
       "      <th>E</th>\n",
       "      <td>22</td>\n",
       "      <td>2</td>\n",
       "      <td>9.1</td>\n",
       "    </tr>\n",
       "    <tr>\n",
       "      <th>C</th>\n",
       "      <td>15921</td>\n",
       "      <td>1353</td>\n",
       "      <td>8.5</td>\n",
       "    </tr>\n",
       "    <tr>\n",
       "      <th>A</th>\n",
       "      <td>25</td>\n",
       "      <td>2</td>\n",
       "      <td>8.0</td>\n",
       "    </tr>\n",
       "    <tr>\n",
       "      <th>B</th>\n",
       "      <td>5014</td>\n",
       "      <td>354</td>\n",
       "      <td>7.1</td>\n",
       "    </tr>\n",
       "    <tr>\n",
       "      <th>D</th>\n",
       "      <td>349</td>\n",
       "      <td>21</td>\n",
       "      <td>6.0</td>\n",
       "    </tr>\n",
       "  </tbody>\n",
       "</table>\n",
       "</div>"
      ],
      "text/plain": [
       "                       Всего кредитополучателей  Всего должников  \\\n",
       "total_income_category                                              \n",
       "E                                            22                2   \n",
       "C                                         15921             1353   \n",
       "A                                            25                2   \n",
       "B                                          5014              354   \n",
       "D                                           349               21   \n",
       "\n",
       "                       Доля должников  \n",
       "total_income_category                  \n",
       "E                                 9.1  \n",
       "C                                 8.5  \n",
       "A                                 8.0  \n",
       "B                                 7.1  \n",
       "D                                 6.0  "
      ]
     },
     "execution_count": 27,
     "metadata": {},
     "output_type": "execute_result"
    }
   ],
   "source": [
    "# Посчитаем количество пользователей по категориям уровня дохода\n",
    "# и выведем доли должников\n",
    "get_pivot(data['total_income_category'])"
   ]
  },
  {
   "cell_type": "markdown",
   "id": "5f386807",
   "metadata": {},
   "source": [
    "Для анализа возьмём категории с наибольшими значениями: `C` и `B`"
   ]
  },
  {
   "cell_type": "code",
   "execution_count": 28,
   "id": "0c8f0ac3",
   "metadata": {},
   "outputs": [
    {
     "data": {
      "image/png": "[encoded data removed]",
      "text/plain": [
       "<Figure size 432x288 with 1 Axes>"
      ]
     },
     "metadata": {
      "needs_background": "light"
     },
     "output_type": "display_data"
    }
   ],
   "source": [
    "# Построим график доли должников каждой категории и выделим нужные нам для наглядности\n",
    "get_bars(data['total_income_category'], color=['#ADD8E6', '#1f77b4', '#ADD8E6', '#1f77b4', '#ADD8E6']);"
   ]
  },
  {
   "cell_type": "markdown",
   "id": "a7cda5f1",
   "metadata": {
    "deletable": false,
    "id": "e8593def"
   },
   "source": [
    "**Вывод:** \n",
    "Клиенты с доходом `50001–200000 (\"C\")` чаще **не выплачивают кредиты в срок**, чем клиенты с доходом `200001–1000000 (\"B\")`, на **~1,5%**"
   ]
  },
  {
   "cell_type": "markdown",
   "id": "40e6c882",
   "metadata": {},
   "source": [
    "<div class=\"alert alert-danger\">\n",
    "<b>Комментарий ревьюера №1</b> \n",
    "    \n",
    "Здесь лучше делать выводы по двум самым крупным категориям - B и С\n",
    "</div>"
   ]
  },
  {
   "cell_type": "markdown",
   "id": "82599019",
   "metadata": {},
   "source": [
    "<div class=\"alert alert-info\">\n",
    "<b>Комментарий ученика</b> \n",
    "    \n",
    "Сменил группировку на функции и отредактировал вывод\n",
    "</div>"
   ]
  },
  {
   "cell_type": "markdown",
   "id": "4cf2914f",
   "metadata": {
    "deletable": false,
    "editable": false,
    "id": "99ecbd1f"
   },
   "source": [
    "#### 3.4 Как разные цели кредита влияют на его возврат в срок?"
   ]
  },
  {
   "cell_type": "code",
   "execution_count": 29,
   "id": "4f4b7611",
   "metadata": {
    "deletable": false,
    "id": "2b687290"
   },
   "outputs": [
    {
     "data": {
      "text/html": [
       "<div>\n",
       "<style scoped>\n",
       "    .dataframe tbody tr th:only-of-type {\n",
       "        vertical-align: middle;\n",
       "    }\n",
       "\n",
       "    .dataframe tbody tr th {\n",
       "        vertical-align: top;\n",
       "    }\n",
       "\n",
       "    .dataframe thead th {\n",
       "        text-align: right;\n",
       "    }\n",
       "</style>\n",
       "<table border=\"1\" class=\"dataframe\">\n",
       "  <thead>\n",
       "    <tr style=\"text-align: right;\">\n",
       "      <th></th>\n",
       "      <th>Всего кредитополучателей</th>\n",
       "      <th>Всего должников</th>\n",
       "      <th>Доля должников</th>\n",
       "    </tr>\n",
       "    <tr>\n",
       "      <th>purpose_category</th>\n",
       "      <th></th>\n",
       "      <th></th>\n",
       "      <th></th>\n",
       "    </tr>\n",
       "  </thead>\n",
       "  <tbody>\n",
       "    <tr>\n",
       "      <th>операции с автомобилем</th>\n",
       "      <td>4279</td>\n",
       "      <td>400</td>\n",
       "      <td>9.3</td>\n",
       "    </tr>\n",
       "    <tr>\n",
       "      <th>получение образования</th>\n",
       "      <td>3988</td>\n",
       "      <td>369</td>\n",
       "      <td>9.3</td>\n",
       "    </tr>\n",
       "    <tr>\n",
       "      <th>проведение свадьбы</th>\n",
       "      <td>2313</td>\n",
       "      <td>183</td>\n",
       "      <td>7.9</td>\n",
       "    </tr>\n",
       "    <tr>\n",
       "      <th>операции с недвижимостью</th>\n",
       "      <td>10751</td>\n",
       "      <td>780</td>\n",
       "      <td>7.3</td>\n",
       "    </tr>\n",
       "  </tbody>\n",
       "</table>\n",
       "</div>"
      ],
      "text/plain": [
       "                          Всего кредитополучателей  Всего должников  \\\n",
       "purpose_category                                                      \n",
       "операции с автомобилем                        4279              400   \n",
       "получение образования                         3988              369   \n",
       "проведение свадьбы                            2313              183   \n",
       "операции с недвижимостью                     10751              780   \n",
       "\n",
       "                          Доля должников  \n",
       "purpose_category                          \n",
       "операции с автомобилем               9.3  \n",
       "получение образования                9.3  \n",
       "проведение свадьбы                   7.9  \n",
       "операции с недвижимостью             7.3  "
      ]
     },
     "execution_count": 29,
     "metadata": {},
     "output_type": "execute_result"
    }
   ],
   "source": [
    "# Посчитаем количество пользователей по категориям цели кредита\n",
    "# и выведем доли должников\n",
    "get_pivot(data['purpose_category'])"
   ]
  },
  {
   "cell_type": "markdown",
   "id": "60c068e6",
   "metadata": {},
   "source": [
    "Распределение данных по этой выборке плавное, что даёт объективное представление о возможных закономерностях"
   ]
  },
  {
   "cell_type": "code",
   "execution_count": 30,
   "id": "13273422",
   "metadata": {},
   "outputs": [
    {
     "data": {
      "image/png": "[encoded data removed]",
      "text/plain": [
       "<Figure size 432x288 with 1 Axes>"
      ]
     },
     "metadata": {
      "needs_background": "light"
     },
     "output_type": "display_data"
    }
   ],
   "source": [
    "# Построим график\n",
    "get_bars(data['purpose_category']);"
   ]
  },
  {
   "cell_type": "markdown",
   "id": "a1b95e85",
   "metadata": {
    "deletable": false,
    "id": "b4bb2ce6"
   },
   "source": [
    "**Вывод:**\n",
    "`Операции с автомобилем` и `получение образования` одинаково **повышают риск** возникновения проблем с задолженностью, нежели `проведение свадьбы` и `операции с недвижимостью`, на **~1-2%**"
   ]
  },
  {
   "cell_type": "markdown",
   "id": "13e9369f",
   "metadata": {},
   "source": [
    "<div class=\"alert alert-success\">\n",
    "<b>Комментарий ревьюера №1</b> \n",
    "    \n",
    "Верно\n",
    "</div>"
   ]
  },
  {
   "cell_type": "markdown",
   "id": "986c7091",
   "metadata": {},
   "source": [
    "<div class=\"alert alert-info\">\n",
    "<b>Комментарий ученика</b> \n",
    "    \n",
    "Сменил группировку на функции\n",
    "</div>"
   ]
  },
  {
   "cell_type": "markdown",
   "id": "170cb1b3",
   "metadata": {
    "deletable": false,
    "editable": false,
    "id": "09c3ac4c"
   },
   "source": [
    "#### 3.5 Приведите возможные причины появления пропусков в исходных данных."
   ]
  },
  {
   "cell_type": "markdown",
   "id": "debd1975",
   "metadata": {
    "deletable": false,
    "id": "9da2ceda"
   },
   "source": [
    "*Ответ:*\n",
    "Пропуски стояли в колонках о трудовом стаже и уровне дохода. Поскольку данные сведения являются обязательными для вынесения вердикта об оформлении кредита, можно предположить, что пропуски не могли быть специально проставленны самими клиентами. Причины, таким образом, могут быть технические при сбое загрузки данных, либо человеческие: возможно, кто-то создавал сводную таблицу именно по этим двум колонкам и случайно убрал значения в исходной таблице"
   ]
  },
  {
   "cell_type": "markdown",
   "id": "f862d254",
   "metadata": {},
   "source": [
    "<div class=\"alert alert-success\">\n",
    "<b>Комментарий ревьюера №1</b> \n",
    "    \n",
    "Хорошие предположения\n",
    "</div>"
   ]
  },
  {
   "cell_type": "markdown",
   "id": "5489570c",
   "metadata": {
    "deletable": false,
    "editable": false,
    "id": "7b0487d6"
   },
   "source": [
    "#### 3.6 Объясните, почему заполнить пропуски медианным значением — лучшее решение для количественных переменных."
   ]
  },
  {
   "cell_type": "markdown",
   "id": "69f96964",
   "metadata": {
    "deletable": false,
    "id": "7ecf2b8e"
   },
   "source": [
    "*Ответ:* \n",
    "В количественных переменных могут быть выбросы. Заполнение пропусков медианой позволяет их влияние нивелировать."
   ]
  },
  {
   "cell_type": "markdown",
   "id": "666e285f",
   "metadata": {},
   "source": [
    "<div class=\"alert alert-warning\">\n",
    "<b>Комментарий ревьюера №1</b> \n",
    "    \n",
    "Да, смотрим на наличие выбросов. Однако не всегда при заполнении медианным значением распределение сохраняется. Среднее и медиана различаются, если в выборке присутствуют выбросы. Медиана позволяет нивелировать их влияние.\n",
    "</div>"
   ]
  },
  {
   "cell_type": "markdown",
   "id": "4790b1a7",
   "metadata": {},
   "source": [
    "<div class=\"alert alert-info\">\n",
    "<b>Комментарий ученика</b> \n",
    "    \n",
    "Если есть выбросы, используем медиану. Если нет – либо то, либо другое в зависимости от необходимости. Понял. Вывод подкорректировал.\n",
    "</div>"
   ]
  },
  {
   "cell_type": "markdown",
   "id": "91545688",
   "metadata": {
    "deletable": false,
    "editable": false,
    "id": "6db5255a"
   },
   "source": [
    "### Шаг 4: общий вывод."
   ]
  },
  {
   "cell_type": "markdown",
   "id": "ae11af1b",
   "metadata": {
    "deletable": false,
    "id": "bad65432"
   },
   "source": [
    "Между некоторыми категориями клиентов банка и выплатой кредита в срок есть закономерности.<br>\n",
    "\n",
    "**Наибольший риск появления задолженности наблюдается у клиентов:**\n",
    "- *с 2 или 1 детьми*\n",
    "- *не женатых / не замужних или состоящих в гражданском браке*\n",
    "- *с уровнем дохода 50001–200000*\n",
    "- *желающих получить кредит на операции с автомобилем или получение образования* "
   ]
  },
  {
   "cell_type": "markdown",
   "id": "97d274cc",
   "metadata": {},
   "source": [
    "<div class=\"alert alert-danger\">\n",
    "<b>Комментарий ревьюера №1</b> \n",
    "    \n",
    "Выводы нужно будет поправить после изменений в проекте. Также можно добавить рекомендации банку-заказчику, описать портрет \"идеального\" клиента и/или, наоборот, наиболее рискованного клиента.\n",
    "</div>"
   ]
  },
  {
   "cell_type": "markdown",
   "id": "e4d7741a",
   "metadata": {},
   "source": [
    "<div class=\"alert alert-info\">\n",
    "<b>Комментарий ученика</b> \n",
    "    \n",
    "Изменил пункты вывода и сформулировал его в виде портрета НЕидеального клиента)\n",
    "</div>"
   ]
  },
  {
   "cell_type": "markdown",
   "id": "39973fa7",
   "metadata": {},
   "source": [
    "<div style=\"border:solid purple 2px; padding: 20px\"> \n",
    "<b> <font color='purple' >   \n",
    "    \n",
    "В целом, работа хорошая. У тебя отличные аналитические навыки, но остались небольшие доработки. Доделывай и присылай на повторную проверку.\n",
    "        \n",
    "Жду твоих исправлений 😊\n",
    "</font></b>\n",
    "</div>"
   ]
  },
  {
   "cell_type": "markdown",
   "id": "cd5eb42b",
   "metadata": {},
   "source": [
    "<div style=\"border:solid purple 2px; padding: 20px\"> \n",
    "<b> <font color='purple' >   \n",
    "Отлично! Критических замечаний больше нет. Проект принят! 👏 Поздравляю и желаю удачи!\n",
    "</font></b>\n",
    "</div>"
   ]
  },
  {
   "cell_type": "markdown",
   "id": "5999d124",
   "metadata": {},
   "source": [
    "# Experience"
   ]
  },
  {
   "cell_type": "markdown",
   "id": "9dddadf6",
   "metadata": {},
   "source": [
    "**Заполним нули в возрасте медианой и выверим наилучшее распределение выборок**"
   ]
  },
  {
   "cell_type": "code",
   "execution_count": 31,
   "id": "22d14072",
   "metadata": {},
   "outputs": [
    {
     "data": {
      "text/plain": [
       "7096"
      ]
     },
     "metadata": {},
     "output_type": "display_data"
    },
    {
     "data": {
      "text/plain": [
       "7113"
      ]
     },
     "metadata": {},
     "output_type": "display_data"
    },
    {
     "data": {
      "text/plain": [
       "7122"
      ]
     },
     "metadata": {},
     "output_type": "display_data"
    }
   ],
   "source": [
    "data.loc[data['dob_years'] == 0, 'dob_years'] = 42\n",
    "\n",
    "\n",
    "display(data[(data['dob_years'] >=19) & (data['dob_years'] <= 36)]['dob_years'].count())\n",
    "display(data[(data['dob_years'] >=37) & (data['dob_years'] <= 49)]['dob_years'].count())\n",
    "display(data[data['dob_years'] >=50]['dob_years'].count())\n",
    "# 19-36\n",
    "# 37-49\n",
    "# 50-75"
   ]
  },
  {
   "cell_type": "markdown",
   "id": "23106aed",
   "metadata": {},
   "source": [
    "#### Категоризируем данные в соответствии с полученными группами:\n",
    "`19-36`<br>\n",
    "`37-49`<br>\n",
    "`50-75`"
   ]
  },
  {
   "cell_type": "code",
   "execution_count": 32,
   "id": "9e6373d1",
   "metadata": {},
   "outputs": [],
   "source": [
    "def age_apply(age):\n",
    "    if age >= 19 and age <= 36:\n",
    "        return'19-36'\n",
    "    elif age >= 37 and age <= 49:\n",
    "        return '37-49'\n",
    "    elif age >= 50 and age <= 75:\n",
    "        return '50-75'\n",
    "data['age_category'] = data['dob_years'].apply(age_apply)"
   ]
  },
  {
   "cell_type": "markdown",
   "id": "56c32098",
   "metadata": {},
   "source": [
    "Выведем сводную таблицу"
   ]
  },
  {
   "cell_type": "code",
   "execution_count": 33,
   "id": "4f14e130",
   "metadata": {},
   "outputs": [
    {
     "data": {
      "text/html": [
       "<div>\n",
       "<style scoped>\n",
       "    .dataframe tbody tr th:only-of-type {\n",
       "        vertical-align: middle;\n",
       "    }\n",
       "\n",
       "    .dataframe tbody tr th {\n",
       "        vertical-align: top;\n",
       "    }\n",
       "\n",
       "    .dataframe thead th {\n",
       "        text-align: right;\n",
       "    }\n",
       "</style>\n",
       "<table border=\"1\" class=\"dataframe\">\n",
       "  <thead>\n",
       "    <tr style=\"text-align: right;\">\n",
       "      <th></th>\n",
       "      <th>Всего кредитополучателей</th>\n",
       "      <th>Всего должников</th>\n",
       "      <th>Доля должников</th>\n",
       "    </tr>\n",
       "    <tr>\n",
       "      <th>age_category</th>\n",
       "      <th></th>\n",
       "      <th></th>\n",
       "      <th></th>\n",
       "    </tr>\n",
       "  </thead>\n",
       "  <tbody>\n",
       "    <tr>\n",
       "      <th>19-36</th>\n",
       "      <td>7096</td>\n",
       "      <td>738</td>\n",
       "      <td>10.4</td>\n",
       "    </tr>\n",
       "    <tr>\n",
       "      <th>37-49</th>\n",
       "      <td>7113</td>\n",
       "      <td>568</td>\n",
       "      <td>8.0</td>\n",
       "    </tr>\n",
       "    <tr>\n",
       "      <th>50-75</th>\n",
       "      <td>7122</td>\n",
       "      <td>426</td>\n",
       "      <td>6.0</td>\n",
       "    </tr>\n",
       "  </tbody>\n",
       "</table>\n",
       "</div>"
      ],
      "text/plain": [
       "              Всего кредитополучателей  Всего должников  Доля должников\n",
       "age_category                                                           \n",
       "19-36                             7096              738            10.4\n",
       "37-49                             7113              568             8.0\n",
       "50-75                             7122              426             6.0"
      ]
     },
     "execution_count": 33,
     "metadata": {},
     "output_type": "execute_result"
    }
   ],
   "source": [
    "get_pivot(data['age_category'])"
   ]
  },
  {
   "cell_type": "markdown",
   "id": "c52df17d",
   "metadata": {},
   "source": [
    "Распределение выборки по каждой категории равнозначное. Построим график"
   ]
  },
  {
   "cell_type": "code",
   "execution_count": 34,
   "id": "04e6c3f8",
   "metadata": {},
   "outputs": [
    {
     "data": {
      "image/png": "[encoded data removed]",
      "text/plain": [
       "<Figure size 432x288 with 1 Axes>"
      ]
     },
     "metadata": {
      "needs_background": "light"
     },
     "output_type": "display_data"
    }
   ],
   "source": [
    "container = plt.barh(get_pivot(data['age_category']).index, get_pivot(data['age_category'])['Доля должников'])\n",
    "plt.bar_label(container, [10.4, 8.0, 6.0], padding=3)\n",
    "plt.axis([0, 12, -0.5, 2.8])\n",
    "plt.title('Доля должников по возрасту');"
   ]
  },
  {
   "cell_type": "markdown",
   "id": "43734467",
   "metadata": {},
   "source": [
    "**Вывод:**<br>\n",
    "Среди клиентов `19-36` лет **больше должников**, чем среди `50-75`-летних, на **4.4%**"
   ]
  },
  {
   "cell_type": "markdown",
   "id": "8e9ef7c0",
   "metadata": {},
   "source": [
    "# Две функции в одной по замечанию ревьюера"
   ]
  },
  {
   "cell_type": "code",
   "execution_count": 37,
   "id": "fe76902c",
   "metadata": {},
   "outputs": [],
   "source": [
    "def get_piv(column, color='#1f77b4'):\n",
    "    piv = data.pivot_table(index=column, values='debt', aggfunc=['count', 'sum', 'mean'])\n",
    "    piv[('mean', 'debt')] = round(piv[('mean', 'debt')] * 100, 1)\n",
    "    piv = piv.set_axis(['Всего кредитополучателей', 'Всего должников', 'Доля должников'], axis=1)\n",
    "    piv['Доля должников'].sort_values().plot(title='Доля должников', kind='barh', color=color) \n",
    "    return piv.sort_values(by='Доля должников', ascending=False)"
   ]
  },
  {
   "cell_type": "code",
   "execution_count": 38,
   "id": "30bbb6c1",
   "metadata": {},
   "outputs": [
    {
     "data": {
      "text/html": [
       "<div>\n",
       "<style scoped>\n",
       "    .dataframe tbody tr th:only-of-type {\n",
       "        vertical-align: middle;\n",
       "    }\n",
       "\n",
       "    .dataframe tbody tr th {\n",
       "        vertical-align: top;\n",
       "    }\n",
       "\n",
       "    .dataframe thead th {\n",
       "        text-align: right;\n",
       "    }\n",
       "</style>\n",
       "<table border=\"1\" class=\"dataframe\">\n",
       "  <thead>\n",
       "    <tr style=\"text-align: right;\">\n",
       "      <th></th>\n",
       "      <th>Всего кредитополучателей</th>\n",
       "      <th>Всего должников</th>\n",
       "      <th>Доля должников</th>\n",
       "    </tr>\n",
       "    <tr>\n",
       "      <th>children</th>\n",
       "      <th></th>\n",
       "      <th></th>\n",
       "      <th></th>\n",
       "    </tr>\n",
       "  </thead>\n",
       "  <tbody>\n",
       "    <tr>\n",
       "      <th>4</th>\n",
       "      <td>41</td>\n",
       "      <td>4</td>\n",
       "      <td>9.8</td>\n",
       "    </tr>\n",
       "    <tr>\n",
       "      <th>2</th>\n",
       "      <td>2052</td>\n",
       "      <td>194</td>\n",
       "      <td>9.5</td>\n",
       "    </tr>\n",
       "    <tr>\n",
       "      <th>1</th>\n",
       "      <td>4808</td>\n",
       "      <td>444</td>\n",
       "      <td>9.2</td>\n",
       "    </tr>\n",
       "    <tr>\n",
       "      <th>3</th>\n",
       "      <td>330</td>\n",
       "      <td>27</td>\n",
       "      <td>8.2</td>\n",
       "    </tr>\n",
       "    <tr>\n",
       "      <th>0</th>\n",
       "      <td>14091</td>\n",
       "      <td>1063</td>\n",
       "      <td>7.5</td>\n",
       "    </tr>\n",
       "    <tr>\n",
       "      <th>5</th>\n",
       "      <td>9</td>\n",
       "      <td>0</td>\n",
       "      <td>0.0</td>\n",
       "    </tr>\n",
       "  </tbody>\n",
       "</table>\n",
       "</div>"
      ],
      "text/plain": [
       "          Всего кредитополучателей  Всего должников  Доля должников\n",
       "children                                                           \n",
       "4                               41                4             9.8\n",
       "2                             2052              194             9.5\n",
       "1                             4808              444             9.2\n",
       "3                              330               27             8.2\n",
       "0                            14091             1063             7.5\n",
       "5                                9                0             0.0"
      ]
     },
     "execution_count": 38,
     "metadata": {},
     "output_type": "execute_result"
    },
    {
     "data": {
      "image/png": "[encoded data removed]",
      "text/plain": [
       "<Figure size 432x288 with 1 Axes>"
      ]
     },
     "metadata": {
      "needs_background": "light"
     },
     "output_type": "display_data"
    }
   ],
   "source": [
    "get_piv(data['children'])"
   ]
  }
 ],
 "metadata": {
  "ExecuteTimeLog": [
   {
    "duration": 43,
    "start_time": "2022-09-25T14:22:15.227Z"
   },
   {
    "duration": 538,
    "start_time": "2022-09-25T14:22:30.390Z"
   },
   {
    "duration": 20,
    "start_time": "2022-09-25T14:22:30.930Z"
   },
   {
    "duration": 14,
    "start_time": "2022-09-25T14:22:30.952Z"
   },
   {
    "duration": 14,
    "start_time": "2022-09-25T14:22:30.968Z"
   },
   {
    "duration": 42,
    "start_time": "2022-09-25T14:22:30.983Z"
   },
   {
    "duration": 3,
    "start_time": "2022-09-25T14:22:31.027Z"
   },
   {
    "duration": 23,
    "start_time": "2022-09-25T14:22:31.032Z"
   },
   {
    "duration": 7,
    "start_time": "2022-09-25T14:22:31.057Z"
   },
   {
    "duration": 21,
    "start_time": "2022-09-25T14:22:31.066Z"
   },
   {
    "duration": 20,
    "start_time": "2022-09-25T14:22:31.090Z"
   },
   {
    "duration": 43,
    "start_time": "2022-09-25T14:22:31.111Z"
   },
   {
    "duration": 8,
    "start_time": "2022-09-25T14:22:31.155Z"
   },
   {
    "duration": 18,
    "start_time": "2022-09-25T14:22:31.164Z"
   },
   {
    "duration": 30,
    "start_time": "2022-09-25T14:22:31.183Z"
   },
   {
    "duration": 23,
    "start_time": "2022-09-25T14:22:31.214Z"
   },
   {
    "duration": 18,
    "start_time": "2022-09-25T14:22:31.238Z"
   },
   {
    "duration": 3,
    "start_time": "2022-09-25T14:22:31.257Z"
   },
   {
    "duration": 22,
    "start_time": "2022-09-25T14:22:31.261Z"
   },
   {
    "duration": 13,
    "start_time": "2022-09-25T14:22:31.284Z"
   },
   {
    "duration": 10,
    "start_time": "2022-09-25T14:22:31.298Z"
   },
   {
    "duration": 20,
    "start_time": "2022-09-25T14:22:31.310Z"
   },
   {
    "duration": 19,
    "start_time": "2022-09-25T14:22:31.332Z"
   },
   {
    "duration": 13,
    "start_time": "2022-09-25T14:22:31.353Z"
   },
   {
    "duration": 24,
    "start_time": "2022-09-25T14:22:31.367Z"
   },
   {
    "duration": 25,
    "start_time": "2022-09-25T14:22:31.393Z"
   },
   {
    "duration": 470,
    "start_time": "2022-09-25T14:23:30.390Z"
   },
   {
    "duration": 14,
    "start_time": "2022-09-25T14:24:02.560Z"
   },
   {
    "duration": 104,
    "start_time": "2022-09-25T14:24:38.117Z"
   },
   {
    "duration": 12,
    "start_time": "2022-09-25T14:25:04.256Z"
   },
   {
    "duration": 91,
    "start_time": "2022-09-25T14:25:43.161Z"
   },
   {
    "duration": 111,
    "start_time": "2022-09-25T14:26:23.917Z"
   },
   {
    "duration": 13,
    "start_time": "2022-09-25T14:26:29.891Z"
   },
   {
    "duration": 96,
    "start_time": "2022-09-25T14:26:53.742Z"
   },
   {
    "duration": 142,
    "start_time": "2022-09-25T14:27:11.087Z"
   },
   {
    "duration": 64,
    "start_time": "2022-09-25T14:27:56.552Z"
   },
   {
    "duration": 14,
    "start_time": "2022-09-25T14:27:56.618Z"
   },
   {
    "duration": 23,
    "start_time": "2022-09-25T14:27:56.633Z"
   },
   {
    "duration": 7,
    "start_time": "2022-09-25T14:27:56.658Z"
   },
   {
    "duration": 29,
    "start_time": "2022-09-25T14:27:56.667Z"
   },
   {
    "duration": 3,
    "start_time": "2022-09-25T14:27:56.697Z"
   },
   {
    "duration": 26,
    "start_time": "2022-09-25T14:27:56.702Z"
   },
   {
    "duration": 4,
    "start_time": "2022-09-25T14:27:56.729Z"
   },
   {
    "duration": 7,
    "start_time": "2022-09-25T14:27:56.735Z"
   },
   {
    "duration": 6,
    "start_time": "2022-09-25T14:27:56.743Z"
   },
   {
    "duration": 30,
    "start_time": "2022-09-25T14:27:56.750Z"
   },
   {
    "duration": 7,
    "start_time": "2022-09-25T14:27:56.781Z"
   },
   {
    "duration": 6,
    "start_time": "2022-09-25T14:27:56.790Z"
   },
   {
    "duration": 9,
    "start_time": "2022-09-25T14:27:56.821Z"
   },
   {
    "duration": 18,
    "start_time": "2022-09-25T14:27:56.832Z"
   },
   {
    "duration": 14,
    "start_time": "2022-09-25T14:27:56.851Z"
   },
   {
    "duration": 3,
    "start_time": "2022-09-25T14:27:56.866Z"
   },
   {
    "duration": 13,
    "start_time": "2022-09-25T14:27:56.870Z"
   },
   {
    "duration": 8,
    "start_time": "2022-09-25T14:27:56.884Z"
   },
   {
    "duration": 3,
    "start_time": "2022-09-25T14:27:56.894Z"
   },
   {
    "duration": 29,
    "start_time": "2022-09-25T14:27:56.898Z"
   },
   {
    "duration": 13,
    "start_time": "2022-09-25T14:27:56.929Z"
   },
   {
    "duration": 104,
    "start_time": "2022-09-25T14:27:56.944Z"
   },
   {
    "duration": 12,
    "start_time": "2022-09-25T14:27:57.050Z"
   },
   {
    "duration": 116,
    "start_time": "2022-09-25T14:27:57.063Z"
   },
   {
    "duration": 12,
    "start_time": "2022-09-25T14:27:57.181Z"
   },
   {
    "duration": 96,
    "start_time": "2022-09-25T14:27:57.194Z"
   },
   {
    "duration": 11,
    "start_time": "2022-09-25T14:27:57.292Z"
   },
   {
    "duration": 118,
    "start_time": "2022-09-25T14:27:57.305Z"
   },
   {
    "duration": 483,
    "start_time": "2022-09-25T14:32:21.029Z"
   },
   {
    "duration": 21,
    "start_time": "2022-09-25T14:32:21.514Z"
   },
   {
    "duration": 13,
    "start_time": "2022-09-25T14:32:21.537Z"
   },
   {
    "duration": 8,
    "start_time": "2022-09-25T14:32:21.552Z"
   },
   {
    "duration": 51,
    "start_time": "2022-09-25T14:32:21.562Z"
   },
   {
    "duration": 3,
    "start_time": "2022-09-25T14:32:21.615Z"
   },
   {
    "duration": 15,
    "start_time": "2022-09-25T14:32:21.620Z"
   },
   {
    "duration": 14,
    "start_time": "2022-09-25T14:32:21.637Z"
   },
   {
    "duration": 9,
    "start_time": "2022-09-25T14:32:21.652Z"
   },
   {
    "duration": 7,
    "start_time": "2022-09-25T14:32:21.664Z"
   },
   {
    "duration": 36,
    "start_time": "2022-09-25T14:32:21.673Z"
   },
   {
    "duration": 8,
    "start_time": "2022-09-25T14:32:21.710Z"
   },
   {
    "duration": 4,
    "start_time": "2022-09-25T14:32:21.720Z"
   },
   {
    "duration": 11,
    "start_time": "2022-09-25T14:32:21.725Z"
   },
   {
    "duration": 20,
    "start_time": "2022-09-25T14:32:21.737Z"
   },
   {
    "duration": 15,
    "start_time": "2022-09-25T14:32:21.758Z"
   },
   {
    "duration": 3,
    "start_time": "2022-09-25T14:32:21.775Z"
   },
   {
    "duration": 10,
    "start_time": "2022-09-25T14:32:21.808Z"
   },
   {
    "duration": 10,
    "start_time": "2022-09-25T14:32:21.819Z"
   },
   {
    "duration": 4,
    "start_time": "2022-09-25T14:32:21.830Z"
   },
   {
    "duration": 11,
    "start_time": "2022-09-25T14:32:21.835Z"
   },
   {
    "duration": 13,
    "start_time": "2022-09-25T14:32:21.848Z"
   },
   {
    "duration": 510,
    "start_time": "2022-09-25T14:32:21.863Z"
   },
   {
    "duration": 13,
    "start_time": "2022-09-25T14:32:22.375Z"
   },
   {
    "duration": 119,
    "start_time": "2022-09-25T14:32:22.390Z"
   },
   {
    "duration": 12,
    "start_time": "2022-09-25T14:32:22.511Z"
   },
   {
    "duration": 103,
    "start_time": "2022-09-25T14:32:22.524Z"
   },
   {
    "duration": 13,
    "start_time": "2022-09-25T14:32:22.630Z"
   },
   {
    "duration": 128,
    "start_time": "2022-09-25T14:32:22.645Z"
   },
   {
    "duration": 727,
    "start_time": "2022-09-25T18:11:46.994Z"
   },
   {
    "duration": 23,
    "start_time": "2022-09-25T18:11:47.723Z"
   },
   {
    "duration": 17,
    "start_time": "2022-09-25T18:11:47.748Z"
   },
   {
    "duration": 18,
    "start_time": "2022-09-25T18:11:47.768Z"
   },
   {
    "duration": 34,
    "start_time": "2022-09-25T18:11:47.788Z"
   },
   {
    "duration": 3,
    "start_time": "2022-09-25T18:11:47.824Z"
   },
   {
    "duration": 10,
    "start_time": "2022-09-25T18:11:47.829Z"
   },
   {
    "duration": 6,
    "start_time": "2022-09-25T18:11:47.855Z"
   },
   {
    "duration": 17,
    "start_time": "2022-09-25T18:11:47.862Z"
   },
   {
    "duration": 7,
    "start_time": "2022-09-25T18:11:47.882Z"
   },
   {
    "duration": 35,
    "start_time": "2022-09-25T18:11:47.890Z"
   },
   {
    "duration": 28,
    "start_time": "2022-09-25T18:11:47.926Z"
   },
   {
    "duration": 4,
    "start_time": "2022-09-25T18:11:47.957Z"
   },
   {
    "duration": 19,
    "start_time": "2022-09-25T18:11:47.964Z"
   },
   {
    "duration": 31,
    "start_time": "2022-09-25T18:11:47.985Z"
   },
   {
    "duration": 18,
    "start_time": "2022-09-25T18:11:48.017Z"
   },
   {
    "duration": 3,
    "start_time": "2022-09-25T18:11:48.037Z"
   },
   {
    "duration": 36,
    "start_time": "2022-09-25T18:11:48.042Z"
   },
   {
    "duration": 12,
    "start_time": "2022-09-25T18:11:48.080Z"
   },
   {
    "duration": 4,
    "start_time": "2022-09-25T18:11:48.093Z"
   },
   {
    "duration": 27,
    "start_time": "2022-09-25T18:11:48.099Z"
   },
   {
    "duration": 14,
    "start_time": "2022-09-25T18:11:48.127Z"
   },
   {
    "duration": 586,
    "start_time": "2022-09-25T18:11:48.142Z"
   },
   {
    "duration": 15,
    "start_time": "2022-09-25T18:11:48.729Z"
   },
   {
    "duration": 131,
    "start_time": "2022-09-25T18:11:48.753Z"
   },
   {
    "duration": 13,
    "start_time": "2022-09-25T18:11:48.886Z"
   },
   {
    "duration": 126,
    "start_time": "2022-09-25T18:11:48.901Z"
   },
   {
    "duration": 25,
    "start_time": "2022-09-25T18:11:49.030Z"
   },
   {
    "duration": 138,
    "start_time": "2022-09-25T18:11:49.057Z"
   },
   {
    "duration": 9,
    "start_time": "2022-09-26T15:57:54.011Z"
   },
   {
    "duration": 49,
    "start_time": "2022-09-26T15:58:10.804Z"
   },
   {
    "duration": 715,
    "start_time": "2022-09-26T15:58:29.490Z"
   },
   {
    "duration": 22,
    "start_time": "2022-09-26T15:58:30.207Z"
   },
   {
    "duration": 13,
    "start_time": "2022-09-26T15:58:30.230Z"
   },
   {
    "duration": 17,
    "start_time": "2022-09-26T15:58:30.245Z"
   },
   {
    "duration": 40,
    "start_time": "2022-09-26T15:58:30.263Z"
   },
   {
    "duration": 3,
    "start_time": "2022-09-26T15:58:30.308Z"
   },
   {
    "duration": 23,
    "start_time": "2022-09-26T15:58:30.312Z"
   },
   {
    "duration": 7,
    "start_time": "2022-09-26T15:58:30.337Z"
   },
   {
    "duration": 20,
    "start_time": "2022-09-26T15:58:30.345Z"
   },
   {
    "duration": 19,
    "start_time": "2022-09-26T15:58:30.368Z"
   },
   {
    "duration": 62,
    "start_time": "2022-09-26T15:58:30.389Z"
   },
   {
    "duration": 9,
    "start_time": "2022-09-26T15:58:30.453Z"
   },
   {
    "duration": 13,
    "start_time": "2022-09-26T15:58:30.463Z"
   },
   {
    "duration": 29,
    "start_time": "2022-09-26T15:58:30.477Z"
   },
   {
    "duration": 41,
    "start_time": "2022-09-26T15:58:30.508Z"
   },
   {
    "duration": 17,
    "start_time": "2022-09-26T15:58:30.550Z"
   },
   {
    "duration": 3,
    "start_time": "2022-09-26T15:58:30.569Z"
   },
   {
    "duration": 32,
    "start_time": "2022-09-26T15:58:30.573Z"
   },
   {
    "duration": 32,
    "start_time": "2022-09-26T15:58:30.606Z"
   },
   {
    "duration": 25,
    "start_time": "2022-09-26T15:58:30.640Z"
   },
   {
    "duration": 30,
    "start_time": "2022-09-26T15:58:30.666Z"
   },
   {
    "duration": 25,
    "start_time": "2022-09-26T15:58:30.698Z"
   },
   {
    "duration": 64,
    "start_time": "2022-09-26T15:58:30.724Z"
   },
   {
    "duration": 70,
    "start_time": "2022-09-26T15:58:30.790Z"
   },
   {
    "duration": 0,
    "start_time": "2022-09-26T15:58:30.863Z"
   },
   {
    "duration": 0,
    "start_time": "2022-09-26T15:58:30.864Z"
   },
   {
    "duration": 0,
    "start_time": "2022-09-26T15:58:30.865Z"
   },
   {
    "duration": 0,
    "start_time": "2022-09-26T15:58:30.866Z"
   },
   {
    "duration": 0,
    "start_time": "2022-09-26T15:58:30.867Z"
   },
   {
    "duration": 0,
    "start_time": "2022-09-26T15:58:30.868Z"
   },
   {
    "duration": 607,
    "start_time": "2022-09-26T15:59:50.499Z"
   },
   {
    "duration": 30,
    "start_time": "2022-09-26T16:00:57.293Z"
   },
   {
    "duration": 139,
    "start_time": "2022-09-26T16:01:09.922Z"
   },
   {
    "duration": 27,
    "start_time": "2022-09-26T16:02:26.064Z"
   },
   {
    "duration": 119,
    "start_time": "2022-09-26T16:02:47.175Z"
   },
   {
    "duration": 32,
    "start_time": "2022-09-26T16:04:10.574Z"
   },
   {
    "duration": 132,
    "start_time": "2022-09-26T16:04:35.848Z"
   },
   {
    "duration": 178,
    "start_time": "2022-09-26T16:11:04.147Z"
   },
   {
    "duration": 512,
    "start_time": "2022-09-26T16:13:14.073Z"
   },
   {
    "duration": 25,
    "start_time": "2022-09-26T16:13:14.587Z"
   },
   {
    "duration": 14,
    "start_time": "2022-09-26T16:13:14.614Z"
   },
   {
    "duration": 10,
    "start_time": "2022-09-26T16:13:14.631Z"
   },
   {
    "duration": 31,
    "start_time": "2022-09-26T16:13:14.642Z"
   },
   {
    "duration": 3,
    "start_time": "2022-09-26T16:13:14.675Z"
   },
   {
    "duration": 31,
    "start_time": "2022-09-26T16:13:14.679Z"
   },
   {
    "duration": 7,
    "start_time": "2022-09-26T16:13:14.712Z"
   },
   {
    "duration": 14,
    "start_time": "2022-09-26T16:13:14.720Z"
   },
   {
    "duration": 4,
    "start_time": "2022-09-26T16:13:14.737Z"
   },
   {
    "duration": 33,
    "start_time": "2022-09-26T16:13:14.742Z"
   },
   {
    "duration": 33,
    "start_time": "2022-09-26T16:13:14.776Z"
   },
   {
    "duration": 4,
    "start_time": "2022-09-26T16:13:14.811Z"
   },
   {
    "duration": 18,
    "start_time": "2022-09-26T16:13:14.816Z"
   },
   {
    "duration": 36,
    "start_time": "2022-09-26T16:13:14.836Z"
   },
   {
    "duration": 39,
    "start_time": "2022-09-26T16:13:14.874Z"
   },
   {
    "duration": 5,
    "start_time": "2022-09-26T16:13:14.915Z"
   },
   {
    "duration": 24,
    "start_time": "2022-09-26T16:13:14.922Z"
   },
   {
    "duration": 6,
    "start_time": "2022-09-26T16:13:14.948Z"
   },
   {
    "duration": 7,
    "start_time": "2022-09-26T16:13:14.955Z"
   },
   {
    "duration": 68,
    "start_time": "2022-09-26T16:13:14.963Z"
   },
   {
    "duration": 11,
    "start_time": "2022-09-26T16:13:15.033Z"
   },
   {
    "duration": 35,
    "start_time": "2022-09-26T16:13:15.045Z"
   },
   {
    "duration": 342,
    "start_time": "2022-09-26T16:13:15.081Z"
   },
   {
    "duration": 31,
    "start_time": "2022-09-26T16:13:15.425Z"
   },
   {
    "duration": 145,
    "start_time": "2022-09-26T16:13:15.458Z"
   },
   {
    "duration": 31,
    "start_time": "2022-09-26T16:13:15.605Z"
   },
   {
    "duration": 143,
    "start_time": "2022-09-26T16:13:15.639Z"
   },
   {
    "duration": 37,
    "start_time": "2022-09-26T16:13:15.784Z"
   },
   {
    "duration": 143,
    "start_time": "2022-09-26T16:13:15.822Z"
   },
   {
    "duration": 447,
    "start_time": "2022-09-26T16:32:59.517Z"
   },
   {
    "duration": 23,
    "start_time": "2022-09-26T16:32:59.966Z"
   },
   {
    "duration": 15,
    "start_time": "2022-09-26T16:32:59.990Z"
   },
   {
    "duration": 18,
    "start_time": "2022-09-26T16:33:00.006Z"
   },
   {
    "duration": 37,
    "start_time": "2022-09-26T16:33:00.026Z"
   },
   {
    "duration": 4,
    "start_time": "2022-09-26T16:33:00.065Z"
   },
   {
    "duration": 21,
    "start_time": "2022-09-26T16:33:00.070Z"
   },
   {
    "duration": 7,
    "start_time": "2022-09-26T16:33:00.095Z"
   },
   {
    "duration": 23,
    "start_time": "2022-09-26T16:33:00.104Z"
   },
   {
    "duration": 14,
    "start_time": "2022-09-26T16:33:00.129Z"
   },
   {
    "duration": 70,
    "start_time": "2022-09-26T16:33:00.145Z"
   },
   {
    "duration": 10,
    "start_time": "2022-09-26T16:33:00.216Z"
   },
   {
    "duration": 15,
    "start_time": "2022-09-26T16:33:00.227Z"
   },
   {
    "duration": 13,
    "start_time": "2022-09-26T16:33:00.246Z"
   },
   {
    "duration": 25,
    "start_time": "2022-09-26T16:33:00.261Z"
   },
   {
    "duration": 18,
    "start_time": "2022-09-26T16:33:00.295Z"
   },
   {
    "duration": 4,
    "start_time": "2022-09-26T16:33:00.315Z"
   },
   {
    "duration": 17,
    "start_time": "2022-09-26T16:33:00.321Z"
   },
   {
    "duration": 14,
    "start_time": "2022-09-26T16:33:00.339Z"
   },
   {
    "duration": 10,
    "start_time": "2022-09-26T16:33:00.355Z"
   },
   {
    "duration": 13,
    "start_time": "2022-09-26T16:33:00.366Z"
   },
   {
    "duration": 17,
    "start_time": "2022-09-26T16:33:00.381Z"
   },
   {
    "duration": 36,
    "start_time": "2022-09-26T16:33:00.400Z"
   },
   {
    "duration": 421,
    "start_time": "2022-09-26T16:33:00.438Z"
   },
   {
    "duration": 41,
    "start_time": "2022-09-26T16:33:00.860Z"
   },
   {
    "duration": 158,
    "start_time": "2022-09-26T16:33:00.903Z"
   },
   {
    "duration": 38,
    "start_time": "2022-09-26T16:33:01.063Z"
   },
   {
    "duration": 140,
    "start_time": "2022-09-26T16:33:01.103Z"
   },
   {
    "duration": 32,
    "start_time": "2022-09-26T16:33:01.245Z"
   },
   {
    "duration": 157,
    "start_time": "2022-09-26T16:33:01.279Z"
   }
  ],
  "colab": {
   "name": "dpp_template_part2.ipynb",
   "provenance": []
  },
  "kernelspec": {
   "display_name": "Python 3 (ipykernel)",
   "language": "python",
   "name": "python3"
  },
  "language_info": {
   "codemirror_mode": {
    "name": "ipython",
    "version": 3
   },
   "file_extension": ".py",
   "mimetype": "text/x-python",
   "name": "python",
   "nbconvert_exporter": "python",
   "pygments_lexer": "ipython3",
   "version": "3.9.12"
  },
  "toc": {
   "base_numbering": 1,
   "nav_menu": {},
   "number_sections": true,
   "sideBar": true,
   "skip_h1_title": true,
   "title_cell": "Table of Contents",
   "title_sidebar": "Contents",
   "toc_cell": false,
   "toc_position": {},
   "toc_section_display": true,
   "toc_window_display": false
  }
 },
 "nbformat": 4,
 "nbformat_minor": 5
}
