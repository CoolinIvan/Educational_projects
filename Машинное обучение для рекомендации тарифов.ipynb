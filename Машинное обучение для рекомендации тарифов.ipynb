{
 "cells": [
  {
   "cell_type": "markdown",
   "metadata": {},
   "source": [
    "# Рекомендация тарифов"
   ]
  },
  {
   "cell_type": "markdown",
   "metadata": {},
   "source": [
    "В нашем распоряжении данные о поведении клиентов оператора сотовой связи, которые уже перешли на тарифы \"Ультра\" и \"Смарт\". Задача – построить модель классификации, которая выберет подходящий тариф клиенту. Минимальная требуемая точность модели (accuracy) 0.75"
   ]
  },
  {
   "cell_type": "markdown",
   "metadata": {},
   "source": [
    "## Откроем и изучим файл"
   ]
  },
  {
   "cell_type": "code",
   "execution_count": 1,
   "metadata": {},
   "outputs": [],
   "source": [
    "import pandas as pd\n",
    "from sklearn.model_selection import train_test_split\n",
    "from sklearn.metrics import accuracy_score\n",
    "from sklearn.ensemble import RandomForestClassifier\n",
    "from sklearn.model_selection import GridSearchCV\n",
    "from sklearn.tree import DecisionTreeClassifier\n",
    "from sklearn.linear_model import LogisticRegression\n",
    "from sklearn.dummy import DummyClassifier\n",
    "import warnings\n",
    "warnings.simplefilter('ignore')"
   ]
  },
  {
   "cell_type": "code",
   "execution_count": 2,
   "metadata": {},
   "outputs": [],
   "source": [
    "df = pd.read_csv('/datasets/users_behavior.csv')"
   ]
  },
  {
   "cell_type": "code",
   "execution_count": 3,
   "metadata": {},
   "outputs": [
    {
     "data": {
      "text/html": [
       "<div>\n",
       "<style scoped>\n",
       "    .dataframe tbody tr th:only-of-type {\n",
       "        vertical-align: middle;\n",
       "    }\n",
       "\n",
       "    .dataframe tbody tr th {\n",
       "        vertical-align: top;\n",
       "    }\n",
       "\n",
       "    .dataframe thead th {\n",
       "        text-align: right;\n",
       "    }\n",
       "</style>\n",
       "<table border=\"1\" class=\"dataframe\">\n",
       "  <thead>\n",
       "    <tr style=\"text-align: right;\">\n",
       "      <th></th>\n",
       "      <th>calls</th>\n",
       "      <th>minutes</th>\n",
       "      <th>messages</th>\n",
       "      <th>mb_used</th>\n",
       "      <th>is_ultra</th>\n",
       "    </tr>\n",
       "  </thead>\n",
       "  <tbody>\n",
       "    <tr>\n",
       "      <th>0</th>\n",
       "      <td>40.0</td>\n",
       "      <td>311.90</td>\n",
       "      <td>83.0</td>\n",
       "      <td>19915.42</td>\n",
       "      <td>0</td>\n",
       "    </tr>\n",
       "    <tr>\n",
       "      <th>1</th>\n",
       "      <td>85.0</td>\n",
       "      <td>516.75</td>\n",
       "      <td>56.0</td>\n",
       "      <td>22696.96</td>\n",
       "      <td>0</td>\n",
       "    </tr>\n",
       "    <tr>\n",
       "      <th>2</th>\n",
       "      <td>77.0</td>\n",
       "      <td>467.66</td>\n",
       "      <td>86.0</td>\n",
       "      <td>21060.45</td>\n",
       "      <td>0</td>\n",
       "    </tr>\n",
       "    <tr>\n",
       "      <th>3</th>\n",
       "      <td>106.0</td>\n",
       "      <td>745.53</td>\n",
       "      <td>81.0</td>\n",
       "      <td>8437.39</td>\n",
       "      <td>1</td>\n",
       "    </tr>\n",
       "    <tr>\n",
       "      <th>4</th>\n",
       "      <td>66.0</td>\n",
       "      <td>418.74</td>\n",
       "      <td>1.0</td>\n",
       "      <td>14502.75</td>\n",
       "      <td>0</td>\n",
       "    </tr>\n",
       "    <tr>\n",
       "      <th>...</th>\n",
       "      <td>...</td>\n",
       "      <td>...</td>\n",
       "      <td>...</td>\n",
       "      <td>...</td>\n",
       "      <td>...</td>\n",
       "    </tr>\n",
       "    <tr>\n",
       "      <th>3209</th>\n",
       "      <td>122.0</td>\n",
       "      <td>910.98</td>\n",
       "      <td>20.0</td>\n",
       "      <td>35124.90</td>\n",
       "      <td>1</td>\n",
       "    </tr>\n",
       "    <tr>\n",
       "      <th>3210</th>\n",
       "      <td>25.0</td>\n",
       "      <td>190.36</td>\n",
       "      <td>0.0</td>\n",
       "      <td>3275.61</td>\n",
       "      <td>0</td>\n",
       "    </tr>\n",
       "    <tr>\n",
       "      <th>3211</th>\n",
       "      <td>97.0</td>\n",
       "      <td>634.44</td>\n",
       "      <td>70.0</td>\n",
       "      <td>13974.06</td>\n",
       "      <td>0</td>\n",
       "    </tr>\n",
       "    <tr>\n",
       "      <th>3212</th>\n",
       "      <td>64.0</td>\n",
       "      <td>462.32</td>\n",
       "      <td>90.0</td>\n",
       "      <td>31239.78</td>\n",
       "      <td>0</td>\n",
       "    </tr>\n",
       "    <tr>\n",
       "      <th>3213</th>\n",
       "      <td>80.0</td>\n",
       "      <td>566.09</td>\n",
       "      <td>6.0</td>\n",
       "      <td>29480.52</td>\n",
       "      <td>1</td>\n",
       "    </tr>\n",
       "  </tbody>\n",
       "</table>\n",
       "<p>3214 rows × 5 columns</p>\n",
       "</div>"
      ],
      "text/plain": [
       "      calls  minutes  messages   mb_used  is_ultra\n",
       "0      40.0   311.90      83.0  19915.42         0\n",
       "1      85.0   516.75      56.0  22696.96         0\n",
       "2      77.0   467.66      86.0  21060.45         0\n",
       "3     106.0   745.53      81.0   8437.39         1\n",
       "4      66.0   418.74       1.0  14502.75         0\n",
       "...     ...      ...       ...       ...       ...\n",
       "3209  122.0   910.98      20.0  35124.90         1\n",
       "3210   25.0   190.36       0.0   3275.61         0\n",
       "3211   97.0   634.44      70.0  13974.06         0\n",
       "3212   64.0   462.32      90.0  31239.78         0\n",
       "3213   80.0   566.09       6.0  29480.52         1\n",
       "\n",
       "[3214 rows x 5 columns]"
      ]
     },
     "execution_count": 3,
     "metadata": {},
     "output_type": "execute_result"
    }
   ],
   "source": [
    "df"
   ]
  },
  {
   "cell_type": "markdown",
   "metadata": {},
   "source": [
    "В таблице 3214 наблюдений и 5 признаков. Предобработка данных была выполнена ранее, поэтому переходим к подготовки модели"
   ]
  },
  {
   "cell_type": "markdown",
   "metadata": {},
   "source": [
    "## Разобьём данные на выборки"
   ]
  },
  {
   "cell_type": "code",
   "execution_count": 4,
   "metadata": {},
   "outputs": [],
   "source": [
    "# В соотношении 60%-20%-20% разобьём наш датасет на тренировочную, валидационную и тестовые выборки соответственно\n",
    "# Установим стратификацию, поскольку в целевом признаке может быть большая количественная разница между категориальными значениями\n",
    "df_train, df_test = train_test_split(df, test_size=0.4, stratify=df['is_ultra'], random_state=1)\n",
    "df_valid, df_test = train_test_split(df_test, test_size=0.5, stratify=df_test['is_ultra'], random_state=1)\n",
    "\n",
    "features_train = df_train.drop('is_ultra', axis=1)\n",
    "target_train = df_train['is_ultra']\n",
    "\n",
    "features_valid = df_valid.drop('is_ultra', axis=1)\n",
    "target_valid = df_valid['is_ultra']\n",
    "\n",
    "features_test = df_test.drop('is_ultra', axis=1)\n",
    "target_test = df_test['is_ultra']"
   ]
  },
  {
   "cell_type": "code",
   "execution_count": 5,
   "metadata": {},
   "outputs": [
    {
     "name": "stdout",
     "output_type": "stream",
     "text": [
      "(1928, 4)\n",
      "(643, 4)\n",
      "(643, 4)\n"
     ]
    }
   ],
   "source": [
    "# Проверим разбивку\n",
    "print(features_train.shape)\n",
    "print(features_valid.shape)\n",
    "print(features_test.shape)"
   ]
  },
  {
   "cell_type": "markdown",
   "metadata": {},
   "source": [
    "## Исследуем модели"
   ]
  },
  {
   "cell_type": "markdown",
   "metadata": {},
   "source": [
    "Ниже мы будем использовать функцию *GridSearchCV* для подбора наиболее эффективных гиперпараметров каждой модели"
   ]
  },
  {
   "cell_type": "code",
   "execution_count": 6,
   "metadata": {},
   "outputs": [],
   "source": [
    "# Обучим \"Случайный лес\""
   ]
  },
  {
   "cell_type": "code",
   "execution_count": 7,
   "metadata": {},
   "outputs": [
    {
     "name": "stdout",
     "output_type": "stream",
     "text": [
      "CPU times: user 26min 17s, sys: 24.8 s, total: 26min 42s\n",
      "Wall time: 26min 44s\n"
     ]
    },
    {
     "data": {
      "text/plain": [
       "GridSearchCV(estimator=RandomForestClassifier(random_state=1234),\n",
       "             param_grid={'max_depth': range(1, 11),\n",
       "                         'min_samples_leaf': range(1, 11),\n",
       "                         'min_samples_split': range(1, 11),\n",
       "                         'n_estimators': range(10, 51, 10)},\n",
       "             scoring='accuracy')"
      ]
     },
     "execution_count": 7,
     "metadata": {},
     "output_type": "execute_result"
    }
   ],
   "source": [
    "%%time\n",
    "forest_model = RandomForestClassifier(random_state=1234)\n",
    "\n",
    "forest_param_grid = {'n_estimators': range (10, 51, 10),\n",
    "              'max_depth': range (1, 11),\n",
    "              'min_samples_leaf': range (1, 11),\n",
    "              'min_samples_split': range (1, 11) }\n",
    "\n",
    "forest_gs = GridSearchCV(forest_model, forest_param_grid, scoring='accuracy')\n",
    "\n",
    "forest_gs.fit(features_train, target_train)"
   ]
  },
  {
   "cell_type": "code",
   "execution_count": 8,
   "metadata": {},
   "outputs": [
    {
     "name": "stdout",
     "output_type": "stream",
     "text": [
      "Accuracy наилучшей модели: 0.81223336249243\n",
      "Гиперпараметры наилучшей модели: {'max_depth': 9, 'min_samples_leaf': 1, 'min_samples_split': 9, 'n_estimators': 50}\n"
     ]
    }
   ],
   "source": [
    "# Выведем лучший показатель accuracy и наиболее эффективные аргументы гиперпараметров\n",
    "print(f'Accuracy наилучшей модели: {forest_gs.best_score_}')\n",
    "print(f'Гиперпараметры наилучшей модели: {forest_gs.best_params_}')"
   ]
  },
  {
   "cell_type": "code",
   "execution_count": 9,
   "metadata": {},
   "outputs": [],
   "source": [
    "# Запишем лучшую версию модели в переменную\n",
    "best_forest = forest_gs.best_estimator_"
   ]
  },
  {
   "cell_type": "code",
   "execution_count": 10,
   "metadata": {},
   "outputs": [
    {
     "name": "stdout",
     "output_type": "stream",
     "text": [
      "Accuracy наилучшей модели: 0.7993779160186625\n"
     ]
    }
   ],
   "source": [
    "# Обучим \"Дерево решений\"\n",
    "# Циклом подберём наиболее эффективную глубину \"дерева\"\n",
    "# Запишем лучшую версию модели в переменную\n",
    "best_tree = None\n",
    "best_result = 0\n",
    "for depth in range(1, 11):\n",
    "    tree_model = DecisionTreeClassifier(random_state=1234, max_depth=depth)\n",
    "    tree_model.fit(features_train, target_train)\n",
    "    predictions = tree_model.predict(features_valid)\n",
    "    result = accuracy_score(target_valid, predictions)\n",
    "    if result > best_result:\n",
    "        best_tree = tree_model\n",
    "        best_result = result\n",
    "        \n",
    "print(\"Accuracy наилучшей модели:\", best_result)        "
   ]
  },
  {
   "cell_type": "code",
   "execution_count": 11,
   "metadata": {},
   "outputs": [
    {
     "data": {
      "text/plain": [
       "GridSearchCV(estimator=LogisticRegression(random_state=1234),\n",
       "             param_grid={'C': [0.001, 0.01, 0.1, 1, 10, 100],\n",
       "                         'penalty': ['none', 'elasticnet', 'l1', 'l2'],\n",
       "                         'solver': ['newton-cg', 'lbfgs', 'liblinear', 'sag',\n",
       "                                    'saga']},\n",
       "             scoring='accuracy')"
      ]
     },
     "execution_count": 11,
     "metadata": {},
     "output_type": "execute_result"
    }
   ],
   "source": [
    "# Обучим логистическую регрессию\n",
    "# Найдём лучшие аргументы гиперпараметров\n",
    "log_model = LogisticRegression(random_state=1234)\n",
    "\n",
    "log_param_grid = { 'solver': ['newton-cg', 'lbfgs', 'liblinear', 'sag', 'saga'],\n",
    "                   'penalty':['none', 'elasticnet', 'l1', 'l2'],\n",
    "                   'C':[0.001, 0.01, 0.1, 1, 10, 100] }\n",
    "\n",
    "log_gs = GridSearchCV(log_model, log_param_grid, scoring='accuracy')\n",
    "\n",
    "log_gs.fit(features_train, target_train)"
   ]
  },
  {
   "cell_type": "code",
   "execution_count": 12,
   "metadata": {},
   "outputs": [
    {
     "name": "stdout",
     "output_type": "stream",
     "text": [
      "Accuracy наилучшей модели: 0.748969786689994\n",
      "Гиперпараметры наилучшей модели: {'C': 10, 'penalty': 'l1', 'solver': 'liblinear'}\n"
     ]
    }
   ],
   "source": [
    "# Выведем лучшие accuracy и аргументы гиперпараметров\n",
    "print(f'Accuracy наилучшей модели: {log_gs.best_score_}')\n",
    "print(f'Гиперпараметры наилучшей модели: {log_gs.best_params_}')"
   ]
  },
  {
   "cell_type": "code",
   "execution_count": 13,
   "metadata": {},
   "outputs": [],
   "source": [
    "# Запишем лучшую версию модели в переменную\n",
    "best_log = log_gs.best_estimator_"
   ]
  },
  {
   "cell_type": "markdown",
   "metadata": {},
   "source": [
    "Итого у нас получились три модели со следующими показателями *accuracy*:\n",
    "- RandomForestClassifier ~ 81\n",
    "- DecisionTreeClassifier ~ 0.80\n",
    "- LogisticRegression ~ 0.75"
   ]
  },
  {
   "cell_type": "markdown",
   "metadata": {},
   "source": [
    "## Проверим модель на тестовой выборке"
   ]
  },
  {
   "cell_type": "markdown",
   "metadata": {},
   "source": [
    "Поскольку лучший показатель accuracy получился у случайного леса, мы будем использовать именно эту модель для проверки точности предсказаний на тесте "
   ]
  },
  {
   "cell_type": "code",
   "execution_count": 14,
   "metadata": {},
   "outputs": [
    {
     "name": "stdout",
     "output_type": "stream",
     "text": [
      "Точность ответов: 0.8273716951788491\n"
     ]
    }
   ],
   "source": [
    "best_forest.predict(features_test)\n",
    "predictions_forest = best_forest.predict(features_test)\n",
    "result_forest = accuracy_score(target_test, predictions_forest)\n",
    "print(f'Точность ответов: {result_forest}')"
   ]
  },
  {
   "cell_type": "markdown",
   "metadata": {},
   "source": [
    "## Проверим модели на адекватность"
   ]
  },
  {
   "cell_type": "markdown",
   "metadata": {},
   "source": [
    "Для анализа адекватности наших моделей сравним их *accuracy* с *accuracy* модели-манекена, который поможет нам зафиксировать \"наинвый прогноз\", с точки зрения частоты выпада категориальных значений"
   ]
  },
  {
   "cell_type": "code",
   "execution_count": 15,
   "metadata": {},
   "outputs": [
    {
     "data": {
      "text/plain": [
       "0.6936236391912908"
      ]
     },
     "execution_count": 15,
     "metadata": {},
     "output_type": "execute_result"
    }
   ],
   "source": [
    "dummy_clf = DummyClassifier(strategy=\"most_frequent\", random_state=12345)\n",
    "\n",
    "dummy_clf.fit(features_train, target_train)\n",
    "\n",
    "dummy_clf.score(features_test, target_test)"
   ]
  },
  {
   "cell_type": "markdown",
   "metadata": {},
   "source": [
    "Accuracy манекена значительно ниже accuracy наших моделей, а значит, они отвечают требованию адекватности"
   ]
  },
  {
   "cell_type": "markdown",
   "metadata": {},
   "source": [
    "<div class=\"alert alert-block alert-success\"> <b> Комментарий ревьюера ✔️</b>\n",
    "\n",
    "Абсолютно точно!\n",
    "</div>"
   ]
  },
  {
   "cell_type": "markdown",
   "metadata": {},
   "source": [
    "\n",
    "<div class=\"alert alert-block alert-warning\"> <b> Комментарий ревьюера ⚠️</b> \n",
    "    \n",
    "Смотри, в реальной практике заказчику очень важно видеть четкий и структурированный вывод, о том, что сделанно в проекте. Бывает, что заказчик даже не будет смотреть код, а сразу будет читать вывод исследования. Поэтому в проектах нужно писать расширенный вывод. \n",
    "    \n",
    "</div>   "
   ]
  },
  {
   "cell_type": "markdown",
   "metadata": {},
   "source": [
    "<div  style=\"background-color: aliceblue; border-left: 7px solid blue; padding: 15px; \">\n",
    "<b> <font color='blue' >   Ревью: заключительный комментарий </font></b> \n",
    "    \n",
    "Иван, получился хороший проект. Верно разделяешь выборки и готовишь данные к обучению. Вижу твоё понимание и заинтересованность - это очень важно и круто! Очень не хватает рассуждений и выводов, очень надеюсь, что ты учтёшь это в будущих проетах. \n",
    "    \n",
    "Ознакомься с моими комментариями - если остались или возникли вопросы дай знать. Если нет - проект будет принят\n",
    "\n",
    "Желаю тебе успехов! \n",
    "    \n",
    "Жду тетрадку обратно 🤩\n",
    "  \n",
    "Дополнительно, что можно почитать:     \n",
    "1) Про этапы анализа данных: https://pythonru.com/baza-znanij/process-analiza-dannyh\n",
    "    \n",
    "2) «Статистика для всех», Сара Бослаф - это очень полезная книга про основные статистические методы, знание которых облегчит жизнь при анализе: https://www.ozon.ru/product/statistika-dlya-vseh-140032797/?sh=noGsf1nAbQ \n",
    "\n",
    "3) Справочник по визуализации данных, собраны все библиотеки по python с примерами: https://python-charts.com\n",
    "\n",
    "4) Изучай статистику, она очень нужна, вот бесплатный небольшой курс: https://stepik.org/course/76/promo\n",
    "    \n",
    "5) Курсы бесплатные по ML введение: https://stepik.org/course/4852/syllabus\n",
    "    \n",
    "6) Канал на ютубе про математику, ML и не только: https://www.youtube.com/c/selfedu_rus/videos\n",
    "</div> "
   ]
  },
  {
   "cell_type": "markdown",
   "metadata": {},
   "source": [
    "<div class=\"alert alert-info\"> <b>Комментарий студента:</b>\n",
    "    Благодарю тебя за столь полезные комментарии и кладезь знаний!) Ниже я добавил общий вывод по проделанной работе, чтобы заказчик сразу мог понять, какую модель лучше использовать</div>"
   ]
  },
  {
   "cell_type": "markdown",
   "metadata": {},
   "source": [
    "## Общий вывод"
   ]
  },
  {
   "cell_type": "markdown",
   "metadata": {},
   "source": [
    "Для предсказания наиболее подходящего тарифа каждому отдельному пользователю мы проанализировали работу трёх моделей на имеющейся выборке данных. Результаты точности представлены ниже:\n",
    "\n",
    "- `RandomForestClassifier` ~ 81\n",
    "- `DecisionTreeClassifier` ~ 0.80\n",
    "- `LogisticRegression` ~ 0.75\n",
    "\n",
    "Проверив наши модели на адекватность в сравнении с моделью-манекеном, мы пришли к выводу, что все они действительно эффективны, а значит, для предсказания тарифов мы можем с уверенностью использовать лучшую из выбранных нами моделей – `Случайный лес`\n"
   ]
  },
  {
   "cell_type": "markdown",
   "metadata": {},
   "source": [
    "<div class=\"alert alert-block alert-success\"> <b> Комментарий ревьюера v2 ✔️</b>\n",
    "\n",
    "Отлично! 😌\n",
    "</div>"
   ]
  },
  {
   "cell_type": "markdown",
   "metadata": {},
   "source": [
    "## Чек-лист готовности проекта"
   ]
  },
  {
   "cell_type": "markdown",
   "metadata": {},
   "source": [
    "Поставьте 'x' в выполненных пунктах. Далее нажмите Shift+Enter."
   ]
  },
  {
   "cell_type": "markdown",
   "metadata": {},
   "source": [
    "- [x] Jupyter Notebook открыт\n",
    "- [x] Весь код исполняется без ошибок\n",
    "- [x] Ячейки с кодом расположены в порядке исполнения\n",
    "- [x] Выполнено задание 1: данные загружены и изучены\n",
    "- [x] Выполнено задание 2: данные разбиты на три выборки\n",
    "- [x] Выполнено задание 3: проведено исследование моделей\n",
    "    - [x] Рассмотрено больше одной модели\n",
    "    - [x] Рассмотрено хотя бы 3 значения гипепараметров для какой-нибудь модели\n",
    "    - [x] Написаны выводы по результатам исследования\n",
    "- [x] Выполнено задание 3: Проведено тестирование\n",
    "- [x] Удалось достичь accuracy не меньше 0.75\n"
   ]
  }
 ],
 "metadata": {
  "ExecuteTimeLog": [
   {
    "duration": 471,
    "start_time": "2022-11-19T11:54:28.489Z"
   },
   {
    "duration": 123,
    "start_time": "2022-11-19T11:54:50.407Z"
   },
   {
    "duration": 12,
    "start_time": "2022-11-19T11:55:05.382Z"
   },
   {
    "duration": 17,
    "start_time": "2022-11-19T11:55:15.469Z"
   },
   {
    "duration": 113,
    "start_time": "2022-11-19T11:55:22.184Z"
   },
   {
    "duration": 19,
    "start_time": "2022-11-19T11:55:25.792Z"
   },
   {
    "duration": 654,
    "start_time": "2022-11-19T12:13:52.810Z"
   },
   {
    "duration": 3,
    "start_time": "2022-11-19T12:16:40.982Z"
   },
   {
    "duration": 8,
    "start_time": "2022-11-19T12:37:09.124Z"
   },
   {
    "duration": 45,
    "start_time": "2022-11-19T12:39:23.041Z"
   },
   {
    "duration": 3,
    "start_time": "2022-11-19T12:39:53.428Z"
   },
   {
    "duration": 2,
    "start_time": "2022-11-19T12:43:01.585Z"
   },
   {
    "duration": 387,
    "start_time": "2022-11-19T12:52:31.288Z"
   },
   {
    "duration": 48,
    "start_time": "2022-11-19T12:54:56.737Z"
   },
   {
    "duration": 54,
    "start_time": "2022-11-19T12:55:00.136Z"
   },
   {
    "duration": 38,
    "start_time": "2022-11-19T12:55:04.236Z"
   },
   {
    "duration": 10,
    "start_time": "2022-11-19T13:07:33.883Z"
   },
   {
    "duration": 9,
    "start_time": "2022-11-19T13:07:35.434Z"
   },
   {
    "duration": 382,
    "start_time": "2022-11-19T13:09:18.642Z"
   },
   {
    "duration": 55,
    "start_time": "2022-11-19T13:10:16.045Z"
   },
   {
    "duration": 3,
    "start_time": "2022-11-19T13:10:55.347Z"
   },
   {
    "duration": 9,
    "start_time": "2022-11-19T13:11:01.314Z"
   },
   {
    "duration": 970342,
    "start_time": "2022-11-19T13:11:24.112Z"
   },
   {
    "duration": 3,
    "start_time": "2022-11-19T13:27:34.456Z"
   },
   {
    "duration": 4,
    "start_time": "2022-11-19T13:32:16.906Z"
   },
   {
    "duration": 4,
    "start_time": "2022-11-19T13:32:26.723Z"
   },
   {
    "duration": 4,
    "start_time": "2022-11-19T13:32:51.208Z"
   },
   {
    "duration": 2,
    "start_time": "2022-11-19T13:33:29.837Z"
   },
   {
    "duration": 3,
    "start_time": "2022-11-19T14:34:24.480Z"
   },
   {
    "duration": 9,
    "start_time": "2022-11-19T14:35:12.243Z"
   },
   {
    "duration": 3,
    "start_time": "2022-11-19T14:38:13.396Z"
   },
   {
    "duration": 15,
    "start_time": "2022-11-19T14:38:18.514Z"
   },
   {
    "duration": 29,
    "start_time": "2022-11-19T14:39:31.392Z"
   },
   {
    "duration": 28,
    "start_time": "2022-11-19T14:39:38.313Z"
   },
   {
    "duration": 29,
    "start_time": "2022-11-19T14:39:38.779Z"
   },
   {
    "duration": 31,
    "start_time": "2022-11-19T14:39:39.075Z"
   },
   {
    "duration": 3,
    "start_time": "2022-11-19T14:42:10.309Z"
   },
   {
    "duration": 43,
    "start_time": "2022-11-19T14:42:23.873Z"
   },
   {
    "duration": 4,
    "start_time": "2022-11-19T14:42:26.639Z"
   },
   {
    "duration": 58,
    "start_time": "2022-11-19T14:42:31.035Z"
   },
   {
    "duration": 4,
    "start_time": "2022-11-19T14:42:33.132Z"
   },
   {
    "duration": 10,
    "start_time": "2022-11-19T14:54:56.818Z"
   },
   {
    "duration": 4,
    "start_time": "2022-11-19T14:55:13.272Z"
   },
   {
    "duration": 11839,
    "start_time": "2022-11-19T14:55:19.311Z"
   },
   {
    "duration": 4,
    "start_time": "2022-11-19T14:56:49.826Z"
   },
   {
    "duration": 4,
    "start_time": "2022-11-19T14:57:15.394Z"
   },
   {
    "duration": 8,
    "start_time": "2022-11-19T14:57:19.890Z"
   },
   {
    "duration": 4,
    "start_time": "2022-11-19T14:57:22.679Z"
   },
   {
    "duration": 3,
    "start_time": "2022-11-19T14:57:34.413Z"
   },
   {
    "duration": 3,
    "start_time": "2022-11-19T14:58:22.380Z"
   },
   {
    "duration": 3,
    "start_time": "2022-11-19T14:58:59.271Z"
   },
   {
    "duration": 3,
    "start_time": "2022-11-19T14:59:16.543Z"
   },
   {
    "duration": 67,
    "start_time": "2022-11-19T14:59:36.271Z"
   },
   {
    "duration": 8,
    "start_time": "2022-11-19T14:59:58.341Z"
   },
   {
    "duration": 1063,
    "start_time": "2022-11-19T15:05:32.889Z"
   },
   {
    "duration": 30,
    "start_time": "2022-11-19T15:05:33.954Z"
   },
   {
    "duration": 19,
    "start_time": "2022-11-19T15:05:33.985Z"
   },
   {
    "duration": 10,
    "start_time": "2022-11-19T15:05:34.006Z"
   },
   {
    "duration": 403,
    "start_time": "2022-11-19T15:05:34.017Z"
   },
   {
    "duration": 947399,
    "start_time": "2022-11-19T15:05:34.421Z"
   },
   {
    "duration": 3,
    "start_time": "2022-11-19T15:21:21.822Z"
   },
   {
    "duration": 10,
    "start_time": "2022-11-19T15:21:21.826Z"
   },
   {
    "duration": 71,
    "start_time": "2022-11-19T15:21:21.838Z"
   },
   {
    "duration": 11450,
    "start_time": "2022-11-19T15:21:21.911Z"
   },
   {
    "duration": 3,
    "start_time": "2022-11-19T15:21:33.362Z"
   },
   {
    "duration": 5,
    "start_time": "2022-11-19T15:21:33.367Z"
   },
   {
    "duration": 58,
    "start_time": "2022-11-19T15:22:38.868Z"
   },
   {
    "duration": 56,
    "start_time": "2022-11-19T15:24:36.833Z"
   },
   {
    "duration": 58,
    "start_time": "2022-11-19T15:24:38.312Z"
   },
   {
    "duration": 23,
    "start_time": "2022-11-19T15:26:24.910Z"
   },
   {
    "duration": 30,
    "start_time": "2022-11-19T15:26:29.288Z"
   },
   {
    "duration": 49,
    "start_time": "2022-11-19T15:26:32.923Z"
   },
   {
    "duration": 58,
    "start_time": "2022-11-19T15:26:37.135Z"
   },
   {
    "duration": 61,
    "start_time": "2022-11-19T15:26:41.533Z"
   },
   {
    "duration": 146,
    "start_time": "2022-11-19T15:26:46.803Z"
   },
   {
    "duration": 64,
    "start_time": "2022-11-19T15:26:57.026Z"
   },
   {
    "duration": 1038,
    "start_time": "2022-11-19T15:27:52.047Z"
   },
   {
    "duration": 31,
    "start_time": "2022-11-19T15:27:53.087Z"
   },
   {
    "duration": 21,
    "start_time": "2022-11-19T15:27:53.119Z"
   },
   {
    "duration": 11,
    "start_time": "2022-11-19T15:27:53.143Z"
   },
   {
    "duration": 399,
    "start_time": "2022-11-19T15:27:53.156Z"
   },
   {
    "duration": 1520377,
    "start_time": "2022-11-19T15:27:53.556Z"
   },
   {
    "duration": 4,
    "start_time": "2022-11-19T15:53:13.935Z"
   },
   {
    "duration": 10,
    "start_time": "2022-11-19T15:53:13.942Z"
   },
   {
    "duration": 87,
    "start_time": "2022-11-19T15:53:13.954Z"
   },
   {
    "duration": 11130,
    "start_time": "2022-11-19T15:53:14.043Z"
   },
   {
    "duration": 5,
    "start_time": "2022-11-19T15:53:25.175Z"
   },
   {
    "duration": 15,
    "start_time": "2022-11-19T15:53:25.182Z"
   },
   {
    "duration": 1126,
    "start_time": "2022-11-21T09:20:29.226Z"
   },
   {
    "duration": 64,
    "start_time": "2022-11-21T09:20:30.354Z"
   },
   {
    "duration": 22,
    "start_time": "2022-11-21T09:20:30.419Z"
   },
   {
    "duration": 28,
    "start_time": "2022-11-21T09:20:30.443Z"
   },
   {
    "duration": 435,
    "start_time": "2022-11-21T09:20:30.473Z"
   },
   {
    "duration": 1636280,
    "start_time": "2022-11-21T09:20:30.909Z"
   },
   {
    "duration": 4,
    "start_time": "2022-11-21T09:47:47.191Z"
   },
   {
    "duration": 14,
    "start_time": "2022-11-21T09:47:47.196Z"
   },
   {
    "duration": 88,
    "start_time": "2022-11-21T09:47:47.212Z"
   },
   {
    "duration": 12477,
    "start_time": "2022-11-21T09:47:47.303Z"
   },
   {
    "duration": 3,
    "start_time": "2022-11-21T09:47:59.783Z"
   },
   {
    "duration": 37,
    "start_time": "2022-11-21T09:47:59.789Z"
   },
   {
    "duration": 12487,
    "start_time": "2022-11-21T09:53:22.989Z"
   },
   {
    "duration": 4,
    "start_time": "2022-11-21T09:53:40.066Z"
   },
   {
    "duration": 12808,
    "start_time": "2022-11-21T09:53:58.725Z"
   },
   {
    "duration": 4,
    "start_time": "2022-11-21T09:54:15.520Z"
   },
   {
    "duration": 12870,
    "start_time": "2022-11-21T09:54:22.999Z"
   },
   {
    "duration": 3,
    "start_time": "2022-11-21T09:54:39.262Z"
   },
   {
    "duration": 13006,
    "start_time": "2022-11-21T09:54:47.293Z"
   },
   {
    "duration": 4,
    "start_time": "2022-11-21T09:55:09.023Z"
   },
   {
    "duration": 4,
    "start_time": "2022-11-21T09:55:16.186Z"
   },
   {
    "duration": 4,
    "start_time": "2022-11-21T09:55:17.015Z"
   },
   {
    "duration": 14050,
    "start_time": "2022-11-21T09:55:23.006Z"
   },
   {
    "duration": 4,
    "start_time": "2022-11-21T09:55:42.137Z"
   },
   {
    "duration": 82,
    "start_time": "2022-11-21T09:56:22.672Z"
   },
   {
    "duration": 106,
    "start_time": "2022-11-21T09:56:25.927Z"
   },
   {
    "duration": 82,
    "start_time": "2022-11-21T09:56:27.512Z"
   },
   {
    "duration": 104,
    "start_time": "2022-11-21T09:56:28.792Z"
   },
   {
    "duration": 85,
    "start_time": "2022-11-21T09:56:30.033Z"
   },
   {
    "duration": 90,
    "start_time": "2022-11-21T09:56:31.289Z"
   },
   {
    "duration": 81,
    "start_time": "2022-11-21T09:56:50.752Z"
   },
   {
    "duration": 75,
    "start_time": "2022-11-21T09:56:52.586Z"
   },
   {
    "duration": 76,
    "start_time": "2022-11-21T09:58:35.396Z"
   },
   {
    "duration": 12680,
    "start_time": "2022-11-21T10:00:51.741Z"
   },
   {
    "duration": 4,
    "start_time": "2022-11-21T10:01:06.898Z"
   },
   {
    "duration": 18,
    "start_time": "2022-11-21T10:04:23.428Z"
   },
   {
    "duration": 20,
    "start_time": "2022-11-21T10:04:27.947Z"
   },
   {
    "duration": 20,
    "start_time": "2022-11-21T10:04:28.660Z"
   },
   {
    "duration": 18,
    "start_time": "2022-11-21T10:04:29.173Z"
   },
   {
    "duration": 17,
    "start_time": "2022-11-21T10:04:29.594Z"
   },
   {
    "duration": 18,
    "start_time": "2022-11-21T10:04:29.774Z"
   },
   {
    "duration": 17,
    "start_time": "2022-11-21T10:04:29.943Z"
   },
   {
    "duration": 18,
    "start_time": "2022-11-21T10:04:30.107Z"
   },
   {
    "duration": 16,
    "start_time": "2022-11-21T10:04:30.270Z"
   },
   {
    "duration": 19,
    "start_time": "2022-11-21T10:05:17.702Z"
   },
   {
    "duration": 25,
    "start_time": "2022-11-21T10:05:44.779Z"
   },
   {
    "duration": 22,
    "start_time": "2022-11-21T10:05:51.656Z"
   },
   {
    "duration": 6,
    "start_time": "2022-11-21T10:43:14.400Z"
   },
   {
    "duration": 7,
    "start_time": "2022-11-21T10:49:09.253Z"
   },
   {
    "duration": 11,
    "start_time": "2022-11-21T10:49:12.816Z"
   },
   {
    "duration": 7,
    "start_time": "2022-11-21T10:49:13.263Z"
   },
   {
    "duration": 6,
    "start_time": "2022-11-21T10:49:13.513Z"
   },
   {
    "duration": 7,
    "start_time": "2022-11-21T10:49:13.734Z"
   },
   {
    "duration": 7,
    "start_time": "2022-11-21T10:49:13.914Z"
   },
   {
    "duration": 8,
    "start_time": "2022-11-21T10:49:14.134Z"
   },
   {
    "duration": 7,
    "start_time": "2022-11-21T10:49:14.334Z"
   },
   {
    "duration": 6,
    "start_time": "2022-11-21T10:49:18.312Z"
   },
   {
    "duration": 9,
    "start_time": "2022-11-21T10:49:18.921Z"
   },
   {
    "duration": 7,
    "start_time": "2022-11-21T10:49:22.662Z"
   },
   {
    "duration": 7,
    "start_time": "2022-11-21T10:49:23.217Z"
   },
   {
    "duration": 8,
    "start_time": "2022-11-21T10:49:23.408Z"
   },
   {
    "duration": 10,
    "start_time": "2022-11-21T10:49:23.570Z"
   },
   {
    "duration": 7,
    "start_time": "2022-11-21T10:49:23.740Z"
   },
   {
    "duration": 7,
    "start_time": "2022-11-21T10:49:23.915Z"
   },
   {
    "duration": 7,
    "start_time": "2022-11-21T10:49:27.512Z"
   },
   {
    "duration": 7,
    "start_time": "2022-11-21T10:49:38.654Z"
   },
   {
    "duration": 8,
    "start_time": "2022-11-21T10:49:43.339Z"
   },
   {
    "duration": 16,
    "start_time": "2022-11-21T11:04:51.630Z"
   },
   {
    "duration": 16,
    "start_time": "2022-11-21T11:05:10.099Z"
   },
   {
    "duration": 1128,
    "start_time": "2022-11-21T11:16:20.277Z"
   },
   {
    "duration": 29,
    "start_time": "2022-11-21T11:16:21.407Z"
   },
   {
    "duration": 19,
    "start_time": "2022-11-21T11:16:21.438Z"
   },
   {
    "duration": 12,
    "start_time": "2022-11-21T11:16:21.460Z"
   },
   {
    "duration": 5,
    "start_time": "2022-11-21T11:16:21.474Z"
   },
   {
    "duration": 0,
    "start_time": "2022-11-21T11:16:21.481Z"
   },
   {
    "duration": 0,
    "start_time": "2022-11-21T11:16:21.483Z"
   },
   {
    "duration": 0,
    "start_time": "2022-11-21T11:16:21.485Z"
   },
   {
    "duration": 0,
    "start_time": "2022-11-21T11:16:21.486Z"
   },
   {
    "duration": 0,
    "start_time": "2022-11-21T11:16:21.488Z"
   },
   {
    "duration": 0,
    "start_time": "2022-11-21T11:16:21.489Z"
   },
   {
    "duration": 0,
    "start_time": "2022-11-21T11:16:21.491Z"
   },
   {
    "duration": 0,
    "start_time": "2022-11-21T11:16:21.492Z"
   },
   {
    "duration": 1225,
    "start_time": "2022-11-21T11:46:28.253Z"
   },
   {
    "duration": 31,
    "start_time": "2022-11-21T11:46:29.481Z"
   },
   {
    "duration": 23,
    "start_time": "2022-11-21T11:46:29.513Z"
   },
   {
    "duration": 13,
    "start_time": "2022-11-21T11:46:29.538Z"
   },
   {
    "duration": 2,
    "start_time": "2022-11-21T11:46:29.553Z"
   },
   {
    "duration": 1737319,
    "start_time": "2022-11-21T11:46:29.557Z"
   },
   {
    "duration": 4,
    "start_time": "2022-11-21T12:15:26.880Z"
   },
   {
    "duration": 11,
    "start_time": "2022-11-21T12:15:26.885Z"
   },
   {
    "duration": 72,
    "start_time": "2022-11-21T12:15:26.898Z"
   },
   {
    "duration": 12029,
    "start_time": "2022-11-21T12:15:26.986Z"
   },
   {
    "duration": 3,
    "start_time": "2022-11-21T12:15:39.017Z"
   },
   {
    "duration": 17,
    "start_time": "2022-11-21T12:15:39.022Z"
   },
   {
    "duration": 36,
    "start_time": "2022-11-21T12:15:39.041Z"
   },
   {
    "duration": 15,
    "start_time": "2022-11-21T12:15:39.079Z"
   },
   {
    "duration": 12,
    "start_time": "2022-11-21T12:49:34.878Z"
   },
   {
    "duration": 71,
    "start_time": "2022-11-21T12:49:44.394Z"
   },
   {
    "duration": 10,
    "start_time": "2022-11-21T12:49:49.825Z"
   },
   {
    "duration": 71,
    "start_time": "2022-11-21T12:49:55.275Z"
   },
   {
    "duration": 11,
    "start_time": "2022-11-21T12:50:21.874Z"
   },
   {
    "duration": 70,
    "start_time": "2022-11-21T12:50:29.245Z"
   },
   {
    "duration": 71,
    "start_time": "2022-11-21T12:50:30.777Z"
   },
   {
    "duration": 74,
    "start_time": "2022-11-21T12:50:31.518Z"
   },
   {
    "duration": 70,
    "start_time": "2022-11-21T12:50:32.058Z"
   },
   {
    "duration": 12,
    "start_time": "2022-11-21T12:50:35.579Z"
   },
   {
    "duration": 69,
    "start_time": "2022-11-21T12:50:39.636Z"
   },
   {
    "duration": 68,
    "start_time": "2022-11-21T12:50:40.443Z"
   },
   {
    "duration": 11826,
    "start_time": "2022-11-21T12:50:54.511Z"
   },
   {
    "duration": 3,
    "start_time": "2022-11-21T12:51:09.399Z"
   },
   {
    "duration": 1253,
    "start_time": "2022-11-21T12:51:47.571Z"
   },
   {
    "duration": 30,
    "start_time": "2022-11-21T12:51:48.826Z"
   },
   {
    "duration": 20,
    "start_time": "2022-11-21T12:51:48.858Z"
   },
   {
    "duration": 11,
    "start_time": "2022-11-21T12:51:48.880Z"
   },
   {
    "duration": 2,
    "start_time": "2022-11-21T12:51:48.893Z"
   },
   {
    "duration": 1646975,
    "start_time": "2022-11-21T12:51:48.896Z"
   },
   {
    "duration": 4,
    "start_time": "2022-11-21T13:19:15.878Z"
   },
   {
    "duration": 8,
    "start_time": "2022-11-21T13:19:15.884Z"
   },
   {
    "duration": 69,
    "start_time": "2022-11-21T13:19:15.894Z"
   },
   {
    "duration": 11922,
    "start_time": "2022-11-21T13:19:15.965Z"
   },
   {
    "duration": 4,
    "start_time": "2022-11-21T13:19:27.888Z"
   },
   {
    "duration": 6,
    "start_time": "2022-11-21T13:19:27.894Z"
   },
   {
    "duration": 31,
    "start_time": "2022-11-21T13:19:27.902Z"
   },
   {
    "duration": 7,
    "start_time": "2022-11-21T13:19:27.936Z"
   },
   {
    "duration": 24,
    "start_time": "2022-11-21T13:26:19.399Z"
   },
   {
    "duration": 24,
    "start_time": "2022-11-21T13:26:20.152Z"
   },
   {
    "duration": 23,
    "start_time": "2022-11-21T13:26:20.339Z"
   },
   {
    "duration": 12,
    "start_time": "2022-11-21T13:27:07.059Z"
   },
   {
    "duration": 1156,
    "start_time": "2022-11-21T13:27:20.280Z"
   },
   {
    "duration": 31,
    "start_time": "2022-11-21T13:27:21.438Z"
   },
   {
    "duration": 25,
    "start_time": "2022-11-21T13:27:21.471Z"
   },
   {
    "duration": 13,
    "start_time": "2022-11-21T13:27:21.499Z"
   },
   {
    "duration": 23,
    "start_time": "2022-11-21T13:27:21.513Z"
   },
   {
    "duration": 1644467,
    "start_time": "2022-11-21T13:27:21.538Z"
   },
   {
    "duration": 4,
    "start_time": "2022-11-21T13:54:46.006Z"
   },
   {
    "duration": 7,
    "start_time": "2022-11-21T13:54:46.012Z"
   },
   {
    "duration": 88,
    "start_time": "2022-11-21T13:54:46.021Z"
   },
   {
    "duration": 10745,
    "start_time": "2022-11-21T13:54:46.113Z"
   },
   {
    "duration": 3,
    "start_time": "2022-11-21T13:54:56.861Z"
   },
   {
    "duration": 12,
    "start_time": "2022-11-21T13:54:56.866Z"
   },
   {
    "duration": 31,
    "start_time": "2022-11-21T13:54:56.880Z"
   },
   {
    "duration": 7,
    "start_time": "2022-11-21T13:54:56.912Z"
   },
   {
    "duration": 100,
    "start_time": "2022-11-22T10:25:54.493Z"
   },
   {
    "duration": 1759,
    "start_time": "2022-11-22T10:26:36.737Z"
   },
   {
    "duration": 62,
    "start_time": "2022-11-22T10:26:38.498Z"
   },
   {
    "duration": 19,
    "start_time": "2022-11-22T10:26:38.562Z"
   },
   {
    "duration": 11,
    "start_time": "2022-11-22T10:26:38.583Z"
   },
   {
    "duration": 28,
    "start_time": "2022-11-22T10:26:38.596Z"
   },
   {
    "duration": 1360,
    "start_time": "2022-11-22T10:35:40.410Z"
   },
   {
    "duration": 29,
    "start_time": "2022-11-22T10:35:41.772Z"
   },
   {
    "duration": 19,
    "start_time": "2022-11-22T10:35:41.803Z"
   },
   {
    "duration": 11,
    "start_time": "2022-11-22T10:35:41.824Z"
   },
   {
    "duration": 6,
    "start_time": "2022-11-22T10:35:41.838Z"
   },
   {
    "duration": 10,
    "start_time": "2022-11-22T10:35:41.845Z"
   },
   {
    "duration": 1604616,
    "start_time": "2022-11-22T10:35:41.857Z"
   },
   {
    "duration": 7,
    "start_time": "2022-11-22T11:02:26.474Z"
   },
   {
    "duration": 4,
    "start_time": "2022-11-22T11:02:26.483Z"
   },
   {
    "duration": 92,
    "start_time": "2022-11-22T11:02:26.488Z"
   },
   {
    "duration": 10857,
    "start_time": "2022-11-22T11:02:26.583Z"
   },
   {
    "duration": 4,
    "start_time": "2022-11-22T11:02:37.441Z"
   },
   {
    "duration": 25,
    "start_time": "2022-11-22T11:02:37.446Z"
   },
   {
    "duration": 53,
    "start_time": "2022-11-22T11:02:37.473Z"
   },
   {
    "duration": 14,
    "start_time": "2022-11-22T11:02:37.528Z"
   }
  ],
  "kernelspec": {
   "display_name": "Python 3 (ipykernel)",
   "language": "python",
   "name": "python3"
  },
  "language_info": {
   "codemirror_mode": {
    "name": "ipython",
    "version": 3
   },
   "file_extension": ".py",
   "mimetype": "text/x-python",
   "name": "python",
   "nbconvert_exporter": "python",
   "pygments_lexer": "ipython3",
   "version": "3.9.15"
  },
  "toc": {
   "base_numbering": 1,
   "nav_menu": {},
   "number_sections": true,
   "sideBar": true,
   "skip_h1_title": true,
   "title_cell": "Table of Contents",
   "title_sidebar": "Contents",
   "toc_cell": false,
   "toc_position": {},
   "toc_section_display": true,
   "toc_window_display": false
  }
 },
 "nbformat": 4,
 "nbformat_minor": 4
}
