{
 "cells": [
  {
   "cell_type": "markdown",
   "metadata": {
    "toc": true
   },
   "source": [
    "<h1>Содержание<span class=\"tocSkip\"></span></h1>\n",
    "<div class=\"toc\"><ul class=\"toc-item\"><li><span><a href=\"#Подготовка-данных\" data-toc-modified-id=\"Подготовка-данных-1\"><span class=\"toc-item-num\">1&nbsp;&nbsp;</span>Подготовка данных</a></span><ul class=\"toc-item\"><li><span><a href=\"#Откроем-и-изучим-данные\" data-toc-modified-id=\"Откроем-и-изучим-данные-1.1\"><span class=\"toc-item-num\">1.1&nbsp;&nbsp;</span>Откроем и изучим данные</a></span></li><li><span><a href=\"#Выведем-информацию-по-df_full\" data-toc-modified-id=\"Выведем-информацию-по-df_full-1.2\"><span class=\"toc-item-num\">1.2&nbsp;&nbsp;</span>Выведем информацию по <code>df_full</code></a></span></li><li><span><a href=\"#Выведем-информацию-по-df_train\" data-toc-modified-id=\"Выведем-информацию-по-df_train-1.3\"><span class=\"toc-item-num\">1.3&nbsp;&nbsp;</span>Выведем информацию по <code>df_train</code></a></span></li><li><span><a href=\"#Выведем-информацию-по-df_test\" data-toc-modified-id=\"Выведем-информацию-по-df_test-1.4\"><span class=\"toc-item-num\">1.4&nbsp;&nbsp;</span>Выведем информацию по <code>df_test</code></a></span></li><li><span><a href=\"#Вывод-по-общей-информации-фреймов\" data-toc-modified-id=\"Вывод-по-общей-информации-фреймов-1.5\"><span class=\"toc-item-num\">1.5&nbsp;&nbsp;</span>Вывод по общей информации фреймов</a></span></li><li><span><a href=\"#Проверим,-правильно-ли-рассчитана-эффективность-обогащения\" data-toc-modified-id=\"Проверим,-правильно-ли-рассчитана-эффективность-обогащения-1.6\"><span class=\"toc-item-num\">1.6&nbsp;&nbsp;</span>Проверим, правильно ли рассчитана эффективность обогащения</a></span></li><li><span><a href=\"#Проанализируем-признаки,-недоступные-в-тестовой-выборке\" data-toc-modified-id=\"Проанализируем-признаки,-недоступные-в-тестовой-выборке-1.7\"><span class=\"toc-item-num\">1.7&nbsp;&nbsp;</span>Проанализируем признаки, недоступные в тестовой выборке</a></span></li><li><span><a href=\"#Проведём-предобработку-данных\" data-toc-modified-id=\"Проведём-предобработку-данных-1.8\"><span class=\"toc-item-num\">1.8&nbsp;&nbsp;</span>Проведём предобработку данных</a></span></li><li><span><a href=\"#Вывод-по-предобработке-данных\" data-toc-modified-id=\"Вывод-по-предобработке-данных-1.9\"><span class=\"toc-item-num\">1.9&nbsp;&nbsp;</span>Вывод по предобработке данных</a></span></li></ul></li><li><span><a href=\"#Анализ-данных\" data-toc-modified-id=\"Анализ-данных-2\"><span class=\"toc-item-num\">2&nbsp;&nbsp;</span>Анализ данных</a></span><ul class=\"toc-item\"><li><span><a href=\"#Исследуем-динамику-содержания-металлов-на-всех-этапах-обработки\" data-toc-modified-id=\"Исследуем-динамику-содержания-металлов-на-всех-этапах-обработки-2.1\"><span class=\"toc-item-num\">2.1&nbsp;&nbsp;</span>Исследуем динамику содержания металлов на всех этапах обработки</a></span></li><li><span><a href=\"#Исследуем-распределения-размера-гранул-сырья-на-тренировочной-и-тестовой-выборках\" data-toc-modified-id=\"Исследуем-распределения-размера-гранул-сырья-на-тренировочной-и-тестовой-выборках-2.2\"><span class=\"toc-item-num\">2.2&nbsp;&nbsp;</span>Исследуем распределения размера гранул сырья на тренировочной и тестовой выборках</a></span></li><li><span><a href=\"#Исследуем-суммарную-концентрацию-всех-веществ-на-разных-стадиях:-в-сырье,-в-черновом-и-финальном-концентратах.\" data-toc-modified-id=\"Исследуем-суммарную-концентрацию-всех-веществ-на-разных-стадиях:-в-сырье,-в-черновом-и-финальном-концентратах.-2.3\"><span class=\"toc-item-num\">2.3&nbsp;&nbsp;</span>Исследуем суммарную концентрацию всех веществ на разных стадиях: в сырье, в черновом и финальном концентратах.</a></span></li></ul></li><li><span><a href=\"#Модель\" data-toc-modified-id=\"Модель-3\"><span class=\"toc-item-num\">3&nbsp;&nbsp;</span>Модель</a></span><ul class=\"toc-item\"><li><span><a href=\"#Напишем-функцию-для-вычисления-итоговой-sMAPE\" data-toc-modified-id=\"Напишем-функцию-для-вычисления-итоговой-sMAPE-3.1\"><span class=\"toc-item-num\">3.1&nbsp;&nbsp;</span>Напишем функцию для вычисления итоговой sMAPE</a></span></li><li><span><a href=\"#Обучим-разные-модели-и-оценим-их-качество-кросс-валидацией\" data-toc-modified-id=\"Обучим-разные-модели-и-оценим-их-качество-кросс-валидацией-3.2\"><span class=\"toc-item-num\">3.2&nbsp;&nbsp;</span>Обучим разные модели и оценим их качество кросс-валидацией</a></span></li></ul></div>"
   ]
  },
  {
   "cell_type": "markdown",
   "metadata": {},
   "source": [
    "# Восстановление золота из руды"
   ]
  },
  {
   "cell_type": "markdown",
   "metadata": {},
   "source": [
    "Необходимо подготовить прототип модели машинного обучения для «Цифры». Компания разрабатывает решения для эффективной работы промышленных предприятий.\n",
    "\n",
    "Модель должна предсказать коэффициент восстановления золота из золотосодержащей руды. Используйте данные с параметрами добычи и очистки. \n",
    "\n",
    "Модель поможет оптимизировать производство, чтобы не запускать предприятие с убыточными характеристиками.\n",
    "\n",
    "Нам нужно:\n",
    "\n",
    "1. Подготовить данные;\n",
    "2. Провести исследовательский анализ данных;\n",
    "3. Построить и обучить модель."
   ]
  },
  {
   "cell_type": "markdown",
   "metadata": {},
   "source": [
    "## Подготовка данных"
   ]
  },
  {
   "cell_type": "code",
   "execution_count": 1,
   "metadata": {},
   "outputs": [],
   "source": [
    "import pandas as pd\n",
    "import seaborn as sns\n",
    "from sklearn.metrics import mean_absolute_error\n",
    "import matplotlib.pyplot as plt\n",
    "from sklearn.metrics import make_scorer\n",
    "from sklearn.tree import DecisionTreeRegressor\n",
    "from sklearn.ensemble import RandomForestRegressor\n",
    "from sklearn.dummy import DummyRegressor\n",
    "from sklearn.model_selection import RandomizedSearchCV\n",
    "from sklearn.model_selection import cross_val_score\n",
    "import warnings\n",
    "warnings.simplefilter('ignore')"
   ]
  },
  {
   "cell_type": "markdown",
   "metadata": {},
   "source": [
    "### Откроем и изучим данные"
   ]
  },
  {
   "cell_type": "code",
   "execution_count": 2,
   "metadata": {},
   "outputs": [],
   "source": [
    "# Загрузим данные\n",
    "df_full = pd.read_csv('/datasets/gold_recovery_full_new.csv')\n",
    "df_train = pd.read_csv('/datasets/gold_recovery_train_new.csv')\n",
    "df_test = pd.read_csv('/datasets/gold_recovery_test_new.csv')"
   ]
  },
  {
   "cell_type": "markdown",
   "metadata": {},
   "source": [
    "### Выведем информацию по `df_full`"
   ]
  },
  {
   "cell_type": "code",
   "execution_count": 3,
   "metadata": {},
   "outputs": [
    {
     "data": {
      "text/html": [
       "<div>\n",
       "<style scoped>\n",
       "    .dataframe tbody tr th:only-of-type {\n",
       "        vertical-align: middle;\n",
       "    }\n",
       "\n",
       "    .dataframe tbody tr th {\n",
       "        vertical-align: top;\n",
       "    }\n",
       "\n",
       "    .dataframe thead th {\n",
       "        text-align: right;\n",
       "    }\n",
       "</style>\n",
       "<table border=\"1\" class=\"dataframe\">\n",
       "  <thead>\n",
       "    <tr style=\"text-align: right;\">\n",
       "      <th></th>\n",
       "      <th>date</th>\n",
       "      <th>final.output.concentrate_ag</th>\n",
       "      <th>final.output.concentrate_pb</th>\n",
       "      <th>final.output.concentrate_sol</th>\n",
       "      <th>final.output.concentrate_au</th>\n",
       "      <th>final.output.recovery</th>\n",
       "      <th>final.output.tail_ag</th>\n",
       "      <th>final.output.tail_pb</th>\n",
       "      <th>final.output.tail_sol</th>\n",
       "      <th>final.output.tail_au</th>\n",
       "      <th>...</th>\n",
       "      <th>secondary_cleaner.state.floatbank4_a_air</th>\n",
       "      <th>secondary_cleaner.state.floatbank4_a_level</th>\n",
       "      <th>secondary_cleaner.state.floatbank4_b_air</th>\n",
       "      <th>secondary_cleaner.state.floatbank4_b_level</th>\n",
       "      <th>secondary_cleaner.state.floatbank5_a_air</th>\n",
       "      <th>secondary_cleaner.state.floatbank5_a_level</th>\n",
       "      <th>secondary_cleaner.state.floatbank5_b_air</th>\n",
       "      <th>secondary_cleaner.state.floatbank5_b_level</th>\n",
       "      <th>secondary_cleaner.state.floatbank6_a_air</th>\n",
       "      <th>secondary_cleaner.state.floatbank6_a_level</th>\n",
       "    </tr>\n",
       "  </thead>\n",
       "  <tbody>\n",
       "    <tr>\n",
       "      <th>0</th>\n",
       "      <td>2016-01-15 00:00:00</td>\n",
       "      <td>6.055403</td>\n",
       "      <td>9.889648</td>\n",
       "      <td>5.507324</td>\n",
       "      <td>42.192020</td>\n",
       "      <td>70.541216</td>\n",
       "      <td>10.411962</td>\n",
       "      <td>0.895447</td>\n",
       "      <td>16.904297</td>\n",
       "      <td>2.143149</td>\n",
       "      <td>...</td>\n",
       "      <td>14.016835</td>\n",
       "      <td>-502.488007</td>\n",
       "      <td>12.099931</td>\n",
       "      <td>-504.715942</td>\n",
       "      <td>9.925633</td>\n",
       "      <td>-498.310211</td>\n",
       "      <td>8.079666</td>\n",
       "      <td>-500.470978</td>\n",
       "      <td>14.151341</td>\n",
       "      <td>-605.841980</td>\n",
       "    </tr>\n",
       "    <tr>\n",
       "      <th>1</th>\n",
       "      <td>2016-01-15 01:00:00</td>\n",
       "      <td>6.029369</td>\n",
       "      <td>9.968944</td>\n",
       "      <td>5.257781</td>\n",
       "      <td>42.701629</td>\n",
       "      <td>69.266198</td>\n",
       "      <td>10.462676</td>\n",
       "      <td>0.927452</td>\n",
       "      <td>16.634514</td>\n",
       "      <td>2.224930</td>\n",
       "      <td>...</td>\n",
       "      <td>13.992281</td>\n",
       "      <td>-505.503262</td>\n",
       "      <td>11.950531</td>\n",
       "      <td>-501.331529</td>\n",
       "      <td>10.039245</td>\n",
       "      <td>-500.169983</td>\n",
       "      <td>7.984757</td>\n",
       "      <td>-500.582168</td>\n",
       "      <td>13.998353</td>\n",
       "      <td>-599.787184</td>\n",
       "    </tr>\n",
       "    <tr>\n",
       "      <th>2</th>\n",
       "      <td>2016-01-15 02:00:00</td>\n",
       "      <td>6.055926</td>\n",
       "      <td>10.213995</td>\n",
       "      <td>5.383759</td>\n",
       "      <td>42.657501</td>\n",
       "      <td>68.116445</td>\n",
       "      <td>10.507046</td>\n",
       "      <td>0.953716</td>\n",
       "      <td>16.208849</td>\n",
       "      <td>2.257889</td>\n",
       "      <td>...</td>\n",
       "      <td>14.015015</td>\n",
       "      <td>-502.520901</td>\n",
       "      <td>11.912783</td>\n",
       "      <td>-501.133383</td>\n",
       "      <td>10.070913</td>\n",
       "      <td>-500.129135</td>\n",
       "      <td>8.013877</td>\n",
       "      <td>-500.517572</td>\n",
       "      <td>14.028663</td>\n",
       "      <td>-601.427363</td>\n",
       "    </tr>\n",
       "  </tbody>\n",
       "</table>\n",
       "<p>3 rows × 87 columns</p>\n",
       "</div>"
      ],
      "text/plain": [
       "                  date  final.output.concentrate_ag  \\\n",
       "0  2016-01-15 00:00:00                     6.055403   \n",
       "1  2016-01-15 01:00:00                     6.029369   \n",
       "2  2016-01-15 02:00:00                     6.055926   \n",
       "\n",
       "   final.output.concentrate_pb  final.output.concentrate_sol  \\\n",
       "0                     9.889648                      5.507324   \n",
       "1                     9.968944                      5.257781   \n",
       "2                    10.213995                      5.383759   \n",
       "\n",
       "   final.output.concentrate_au  final.output.recovery  final.output.tail_ag  \\\n",
       "0                    42.192020              70.541216             10.411962   \n",
       "1                    42.701629              69.266198             10.462676   \n",
       "2                    42.657501              68.116445             10.507046   \n",
       "\n",
       "   final.output.tail_pb  final.output.tail_sol  final.output.tail_au  ...  \\\n",
       "0              0.895447              16.904297              2.143149  ...   \n",
       "1              0.927452              16.634514              2.224930  ...   \n",
       "2              0.953716              16.208849              2.257889  ...   \n",
       "\n",
       "   secondary_cleaner.state.floatbank4_a_air  \\\n",
       "0                                 14.016835   \n",
       "1                                 13.992281   \n",
       "2                                 14.015015   \n",
       "\n",
       "   secondary_cleaner.state.floatbank4_a_level  \\\n",
       "0                                 -502.488007   \n",
       "1                                 -505.503262   \n",
       "2                                 -502.520901   \n",
       "\n",
       "   secondary_cleaner.state.floatbank4_b_air  \\\n",
       "0                                 12.099931   \n",
       "1                                 11.950531   \n",
       "2                                 11.912783   \n",
       "\n",
       "   secondary_cleaner.state.floatbank4_b_level  \\\n",
       "0                                 -504.715942   \n",
       "1                                 -501.331529   \n",
       "2                                 -501.133383   \n",
       "\n",
       "   secondary_cleaner.state.floatbank5_a_air  \\\n",
       "0                                  9.925633   \n",
       "1                                 10.039245   \n",
       "2                                 10.070913   \n",
       "\n",
       "   secondary_cleaner.state.floatbank5_a_level  \\\n",
       "0                                 -498.310211   \n",
       "1                                 -500.169983   \n",
       "2                                 -500.129135   \n",
       "\n",
       "   secondary_cleaner.state.floatbank5_b_air  \\\n",
       "0                                  8.079666   \n",
       "1                                  7.984757   \n",
       "2                                  8.013877   \n",
       "\n",
       "   secondary_cleaner.state.floatbank5_b_level  \\\n",
       "0                                 -500.470978   \n",
       "1                                 -500.582168   \n",
       "2                                 -500.517572   \n",
       "\n",
       "   secondary_cleaner.state.floatbank6_a_air  \\\n",
       "0                                 14.151341   \n",
       "1                                 13.998353   \n",
       "2                                 14.028663   \n",
       "\n",
       "   secondary_cleaner.state.floatbank6_a_level  \n",
       "0                                 -605.841980  \n",
       "1                                 -599.787184  \n",
       "2                                 -601.427363  \n",
       "\n",
       "[3 rows x 87 columns]"
      ]
     },
     "execution_count": 3,
     "metadata": {},
     "output_type": "execute_result"
    }
   ],
   "source": [
    "# Откроем фрейм с полным сетом\n",
    "df_full.head(3)"
   ]
  },
  {
   "cell_type": "code",
   "execution_count": 4,
   "metadata": {
    "scrolled": true
   },
   "outputs": [
    {
     "name": "stdout",
     "output_type": "stream",
     "text": [
      "<class 'pandas.core.frame.DataFrame'>\n",
      "RangeIndex: 19439 entries, 0 to 19438\n",
      "Data columns (total 87 columns):\n",
      " #   Column                                              Non-Null Count  Dtype  \n",
      "---  ------                                              --------------  -----  \n",
      " 0   date                                                19439 non-null  object \n",
      " 1   final.output.concentrate_ag                         19438 non-null  float64\n",
      " 2   final.output.concentrate_pb                         19438 non-null  float64\n",
      " 3   final.output.concentrate_sol                        19228 non-null  float64\n",
      " 4   final.output.concentrate_au                         19439 non-null  float64\n",
      " 5   final.output.recovery                               19439 non-null  float64\n",
      " 6   final.output.tail_ag                                19438 non-null  float64\n",
      " 7   final.output.tail_pb                                19338 non-null  float64\n",
      " 8   final.output.tail_sol                               19433 non-null  float64\n",
      " 9   final.output.tail_au                                19439 non-null  float64\n",
      " 10  primary_cleaner.input.sulfate                       19415 non-null  float64\n",
      " 11  primary_cleaner.input.depressant                    19402 non-null  float64\n",
      " 12  primary_cleaner.input.feed_size                     19439 non-null  float64\n",
      " 13  primary_cleaner.input.xanthate                      19335 non-null  float64\n",
      " 14  primary_cleaner.output.concentrate_ag               19439 non-null  float64\n",
      " 15  primary_cleaner.output.concentrate_pb               19323 non-null  float64\n",
      " 16  primary_cleaner.output.concentrate_sol              19069 non-null  float64\n",
      " 17  primary_cleaner.output.concentrate_au               19439 non-null  float64\n",
      " 18  primary_cleaner.output.tail_ag                      19435 non-null  float64\n",
      " 19  primary_cleaner.output.tail_pb                      19418 non-null  float64\n",
      " 20  primary_cleaner.output.tail_sol                     19377 non-null  float64\n",
      " 21  primary_cleaner.output.tail_au                      19439 non-null  float64\n",
      " 22  primary_cleaner.state.floatbank8_a_air              19435 non-null  float64\n",
      " 23  primary_cleaner.state.floatbank8_a_level            19438 non-null  float64\n",
      " 24  primary_cleaner.state.floatbank8_b_air              19435 non-null  float64\n",
      " 25  primary_cleaner.state.floatbank8_b_level            19438 non-null  float64\n",
      " 26  primary_cleaner.state.floatbank8_c_air              19437 non-null  float64\n",
      " 27  primary_cleaner.state.floatbank8_c_level            19438 non-null  float64\n",
      " 28  primary_cleaner.state.floatbank8_d_air              19436 non-null  float64\n",
      " 29  primary_cleaner.state.floatbank8_d_level            19438 non-null  float64\n",
      " 30  rougher.calculation.sulfate_to_au_concentrate       19437 non-null  float64\n",
      " 31  rougher.calculation.floatbank10_sulfate_to_au_feed  19437 non-null  float64\n",
      " 32  rougher.calculation.floatbank11_sulfate_to_au_feed  19437 non-null  float64\n",
      " 33  rougher.calculation.au_pb_ratio                     19439 non-null  float64\n",
      " 34  rougher.input.feed_ag                               19439 non-null  float64\n",
      " 35  rougher.input.feed_pb                               19339 non-null  float64\n",
      " 36  rougher.input.feed_rate                             19428 non-null  float64\n",
      " 37  rougher.input.feed_size                             19294 non-null  float64\n",
      " 38  rougher.input.feed_sol                              19340 non-null  float64\n",
      " 39  rougher.input.feed_au                               19439 non-null  float64\n",
      " 40  rougher.input.floatbank10_sulfate                   19405 non-null  float64\n",
      " 41  rougher.input.floatbank10_xanthate                  19431 non-null  float64\n",
      " 42  rougher.input.floatbank11_sulfate                   19395 non-null  float64\n",
      " 43  rougher.input.floatbank11_xanthate                  18986 non-null  float64\n",
      " 44  rougher.output.concentrate_ag                       19439 non-null  float64\n",
      " 45  rougher.output.concentrate_pb                       19439 non-null  float64\n",
      " 46  rougher.output.concentrate_sol                      19416 non-null  float64\n",
      " 47  rougher.output.concentrate_au                       19439 non-null  float64\n",
      " 48  rougher.output.recovery                             19439 non-null  float64\n",
      " 49  rougher.output.tail_ag                              19438 non-null  float64\n",
      " 50  rougher.output.tail_pb                              19439 non-null  float64\n",
      " 51  rougher.output.tail_sol                             19439 non-null  float64\n",
      " 52  rougher.output.tail_au                              19439 non-null  float64\n",
      " 53  rougher.state.floatbank10_a_air                     19438 non-null  float64\n",
      " 54  rougher.state.floatbank10_a_level                   19438 non-null  float64\n",
      " 55  rougher.state.floatbank10_b_air                     19438 non-null  float64\n",
      " 56  rougher.state.floatbank10_b_level                   19438 non-null  float64\n",
      " 57  rougher.state.floatbank10_c_air                     19438 non-null  float64\n",
      " 58  rougher.state.floatbank10_c_level                   19438 non-null  float64\n",
      " 59  rougher.state.floatbank10_d_air                     19439 non-null  float64\n",
      " 60  rougher.state.floatbank10_d_level                   19439 non-null  float64\n",
      " 61  rougher.state.floatbank10_e_air                     19003 non-null  float64\n",
      " 62  rougher.state.floatbank10_e_level                   19439 non-null  float64\n",
      " 63  rougher.state.floatbank10_f_air                     19439 non-null  float64\n",
      " 64  rougher.state.floatbank10_f_level                   19439 non-null  float64\n",
      " 65  secondary_cleaner.output.tail_ag                    19437 non-null  float64\n",
      " 66  secondary_cleaner.output.tail_pb                    19427 non-null  float64\n",
      " 67  secondary_cleaner.output.tail_sol                   17691 non-null  float64\n",
      " 68  secondary_cleaner.output.tail_au                    19439 non-null  float64\n",
      " 69  secondary_cleaner.state.floatbank2_a_air            19219 non-null  float64\n",
      " 70  secondary_cleaner.state.floatbank2_a_level          19438 non-null  float64\n",
      " 71  secondary_cleaner.state.floatbank2_b_air            19416 non-null  float64\n",
      " 72  secondary_cleaner.state.floatbank2_b_level          19438 non-null  float64\n",
      " 73  secondary_cleaner.state.floatbank3_a_air            19426 non-null  float64\n",
      " 74  secondary_cleaner.state.floatbank3_a_level          19438 non-null  float64\n",
      " 75  secondary_cleaner.state.floatbank3_b_air            19438 non-null  float64\n",
      " 76  secondary_cleaner.state.floatbank3_b_level          19438 non-null  float64\n",
      " 77  secondary_cleaner.state.floatbank4_a_air            19433 non-null  float64\n",
      " 78  secondary_cleaner.state.floatbank4_a_level          19438 non-null  float64\n",
      " 79  secondary_cleaner.state.floatbank4_b_air            19438 non-null  float64\n",
      " 80  secondary_cleaner.state.floatbank4_b_level          19438 non-null  float64\n",
      " 81  secondary_cleaner.state.floatbank5_a_air            19438 non-null  float64\n",
      " 82  secondary_cleaner.state.floatbank5_a_level          19438 non-null  float64\n",
      " 83  secondary_cleaner.state.floatbank5_b_air            19438 non-null  float64\n",
      " 84  secondary_cleaner.state.floatbank5_b_level          19438 non-null  float64\n",
      " 85  secondary_cleaner.state.floatbank6_a_air            19437 non-null  float64\n",
      " 86  secondary_cleaner.state.floatbank6_a_level          19438 non-null  float64\n",
      "dtypes: float64(86), object(1)\n",
      "memory usage: 12.9+ MB\n"
     ]
    }
   ],
   "source": [
    "# Посмотрим на общую информацию\n",
    "df_full.info()"
   ]
  },
  {
   "cell_type": "code",
   "execution_count": 5,
   "metadata": {},
   "outputs": [
    {
     "data": {
      "text/plain": [
       "secondary_cleaner.output.tail_sol             1748\n",
       "rougher.input.floatbank11_xanthate             453\n",
       "rougher.state.floatbank10_e_air                436\n",
       "primary_cleaner.output.concentrate_sol         370\n",
       "secondary_cleaner.state.floatbank2_a_air       220\n",
       "                                              ... \n",
       "primary_cleaner.state.floatbank8_c_level         1\n",
       "primary_cleaner.state.floatbank8_b_level         1\n",
       "primary_cleaner.state.floatbank8_a_level         1\n",
       "final.output.tail_ag                             1\n",
       "secondary_cleaner.state.floatbank6_a_level       1\n",
       "Length: 63, dtype: int64"
      ]
     },
     "execution_count": 5,
     "metadata": {},
     "output_type": "execute_result"
    }
   ],
   "source": [
    "# Выведем пропуски\n",
    "df_full.isna().sum()[df_full.isna().sum() > 0].sort_values(ascending=False)"
   ]
  },
  {
   "cell_type": "markdown",
   "metadata": {},
   "source": [
    "Во фрейме 19439 строк и 87 колонок. Как и сказано в условии, наблюдения представлены временными рядами в качестве аналогов индексов. Колонка с датой представлена строковым типом, что не соответствует смыслу. 63 колонки имеют пропуски. Наибольшее количество из них – в `secondary_cleaner.output.tail_sol`: 1748"
   ]
  },
  {
   "cell_type": "markdown",
   "metadata": {},
   "source": [
    "### Выведем информацию по `df_train`"
   ]
  },
  {
   "cell_type": "code",
   "execution_count": 6,
   "metadata": {},
   "outputs": [
    {
     "data": {
      "text/html": [
       "<div>\n",
       "<style scoped>\n",
       "    .dataframe tbody tr th:only-of-type {\n",
       "        vertical-align: middle;\n",
       "    }\n",
       "\n",
       "    .dataframe tbody tr th {\n",
       "        vertical-align: top;\n",
       "    }\n",
       "\n",
       "    .dataframe thead th {\n",
       "        text-align: right;\n",
       "    }\n",
       "</style>\n",
       "<table border=\"1\" class=\"dataframe\">\n",
       "  <thead>\n",
       "    <tr style=\"text-align: right;\">\n",
       "      <th></th>\n",
       "      <th>date</th>\n",
       "      <th>final.output.concentrate_ag</th>\n",
       "      <th>final.output.concentrate_pb</th>\n",
       "      <th>final.output.concentrate_sol</th>\n",
       "      <th>final.output.concentrate_au</th>\n",
       "      <th>final.output.recovery</th>\n",
       "      <th>final.output.tail_ag</th>\n",
       "      <th>final.output.tail_pb</th>\n",
       "      <th>final.output.tail_sol</th>\n",
       "      <th>final.output.tail_au</th>\n",
       "      <th>...</th>\n",
       "      <th>secondary_cleaner.state.floatbank4_a_air</th>\n",
       "      <th>secondary_cleaner.state.floatbank4_a_level</th>\n",
       "      <th>secondary_cleaner.state.floatbank4_b_air</th>\n",
       "      <th>secondary_cleaner.state.floatbank4_b_level</th>\n",
       "      <th>secondary_cleaner.state.floatbank5_a_air</th>\n",
       "      <th>secondary_cleaner.state.floatbank5_a_level</th>\n",
       "      <th>secondary_cleaner.state.floatbank5_b_air</th>\n",
       "      <th>secondary_cleaner.state.floatbank5_b_level</th>\n",
       "      <th>secondary_cleaner.state.floatbank6_a_air</th>\n",
       "      <th>secondary_cleaner.state.floatbank6_a_level</th>\n",
       "    </tr>\n",
       "  </thead>\n",
       "  <tbody>\n",
       "    <tr>\n",
       "      <th>0</th>\n",
       "      <td>2016-01-15 00:00:00</td>\n",
       "      <td>6.055403</td>\n",
       "      <td>9.889648</td>\n",
       "      <td>5.507324</td>\n",
       "      <td>42.192020</td>\n",
       "      <td>70.541216</td>\n",
       "      <td>10.411962</td>\n",
       "      <td>0.895447</td>\n",
       "      <td>16.904297</td>\n",
       "      <td>2.143149</td>\n",
       "      <td>...</td>\n",
       "      <td>14.016835</td>\n",
       "      <td>-502.488007</td>\n",
       "      <td>12.099931</td>\n",
       "      <td>-504.715942</td>\n",
       "      <td>9.925633</td>\n",
       "      <td>-498.310211</td>\n",
       "      <td>8.079666</td>\n",
       "      <td>-500.470978</td>\n",
       "      <td>14.151341</td>\n",
       "      <td>-605.841980</td>\n",
       "    </tr>\n",
       "    <tr>\n",
       "      <th>1</th>\n",
       "      <td>2016-01-15 01:00:00</td>\n",
       "      <td>6.029369</td>\n",
       "      <td>9.968944</td>\n",
       "      <td>5.257781</td>\n",
       "      <td>42.701629</td>\n",
       "      <td>69.266198</td>\n",
       "      <td>10.462676</td>\n",
       "      <td>0.927452</td>\n",
       "      <td>16.634514</td>\n",
       "      <td>2.224930</td>\n",
       "      <td>...</td>\n",
       "      <td>13.992281</td>\n",
       "      <td>-505.503262</td>\n",
       "      <td>11.950531</td>\n",
       "      <td>-501.331529</td>\n",
       "      <td>10.039245</td>\n",
       "      <td>-500.169983</td>\n",
       "      <td>7.984757</td>\n",
       "      <td>-500.582168</td>\n",
       "      <td>13.998353</td>\n",
       "      <td>-599.787184</td>\n",
       "    </tr>\n",
       "    <tr>\n",
       "      <th>2</th>\n",
       "      <td>2016-01-15 02:00:00</td>\n",
       "      <td>6.055926</td>\n",
       "      <td>10.213995</td>\n",
       "      <td>5.383759</td>\n",
       "      <td>42.657501</td>\n",
       "      <td>68.116445</td>\n",
       "      <td>10.507046</td>\n",
       "      <td>0.953716</td>\n",
       "      <td>16.208849</td>\n",
       "      <td>2.257889</td>\n",
       "      <td>...</td>\n",
       "      <td>14.015015</td>\n",
       "      <td>-502.520901</td>\n",
       "      <td>11.912783</td>\n",
       "      <td>-501.133383</td>\n",
       "      <td>10.070913</td>\n",
       "      <td>-500.129135</td>\n",
       "      <td>8.013877</td>\n",
       "      <td>-500.517572</td>\n",
       "      <td>14.028663</td>\n",
       "      <td>-601.427363</td>\n",
       "    </tr>\n",
       "  </tbody>\n",
       "</table>\n",
       "<p>3 rows × 87 columns</p>\n",
       "</div>"
      ],
      "text/plain": [
       "                  date  final.output.concentrate_ag  \\\n",
       "0  2016-01-15 00:00:00                     6.055403   \n",
       "1  2016-01-15 01:00:00                     6.029369   \n",
       "2  2016-01-15 02:00:00                     6.055926   \n",
       "\n",
       "   final.output.concentrate_pb  final.output.concentrate_sol  \\\n",
       "0                     9.889648                      5.507324   \n",
       "1                     9.968944                      5.257781   \n",
       "2                    10.213995                      5.383759   \n",
       "\n",
       "   final.output.concentrate_au  final.output.recovery  final.output.tail_ag  \\\n",
       "0                    42.192020              70.541216             10.411962   \n",
       "1                    42.701629              69.266198             10.462676   \n",
       "2                    42.657501              68.116445             10.507046   \n",
       "\n",
       "   final.output.tail_pb  final.output.tail_sol  final.output.tail_au  ...  \\\n",
       "0              0.895447              16.904297              2.143149  ...   \n",
       "1              0.927452              16.634514              2.224930  ...   \n",
       "2              0.953716              16.208849              2.257889  ...   \n",
       "\n",
       "   secondary_cleaner.state.floatbank4_a_air  \\\n",
       "0                                 14.016835   \n",
       "1                                 13.992281   \n",
       "2                                 14.015015   \n",
       "\n",
       "   secondary_cleaner.state.floatbank4_a_level  \\\n",
       "0                                 -502.488007   \n",
       "1                                 -505.503262   \n",
       "2                                 -502.520901   \n",
       "\n",
       "   secondary_cleaner.state.floatbank4_b_air  \\\n",
       "0                                 12.099931   \n",
       "1                                 11.950531   \n",
       "2                                 11.912783   \n",
       "\n",
       "   secondary_cleaner.state.floatbank4_b_level  \\\n",
       "0                                 -504.715942   \n",
       "1                                 -501.331529   \n",
       "2                                 -501.133383   \n",
       "\n",
       "   secondary_cleaner.state.floatbank5_a_air  \\\n",
       "0                                  9.925633   \n",
       "1                                 10.039245   \n",
       "2                                 10.070913   \n",
       "\n",
       "   secondary_cleaner.state.floatbank5_a_level  \\\n",
       "0                                 -498.310211   \n",
       "1                                 -500.169983   \n",
       "2                                 -500.129135   \n",
       "\n",
       "   secondary_cleaner.state.floatbank5_b_air  \\\n",
       "0                                  8.079666   \n",
       "1                                  7.984757   \n",
       "2                                  8.013877   \n",
       "\n",
       "   secondary_cleaner.state.floatbank5_b_level  \\\n",
       "0                                 -500.470978   \n",
       "1                                 -500.582168   \n",
       "2                                 -500.517572   \n",
       "\n",
       "   secondary_cleaner.state.floatbank6_a_air  \\\n",
       "0                                 14.151341   \n",
       "1                                 13.998353   \n",
       "2                                 14.028663   \n",
       "\n",
       "   secondary_cleaner.state.floatbank6_a_level  \n",
       "0                                 -605.841980  \n",
       "1                                 -599.787184  \n",
       "2                                 -601.427363  \n",
       "\n",
       "[3 rows x 87 columns]"
      ]
     },
     "execution_count": 6,
     "metadata": {},
     "output_type": "execute_result"
    }
   ],
   "source": [
    "# Откроем тренировочный фрейм\n",
    "df_train.head(3)"
   ]
  },
  {
   "cell_type": "code",
   "execution_count": 7,
   "metadata": {
    "scrolled": true
   },
   "outputs": [
    {
     "name": "stdout",
     "output_type": "stream",
     "text": [
      "<class 'pandas.core.frame.DataFrame'>\n",
      "RangeIndex: 14149 entries, 0 to 14148\n",
      "Data columns (total 87 columns):\n",
      " #   Column                                              Non-Null Count  Dtype  \n",
      "---  ------                                              --------------  -----  \n",
      " 0   date                                                14149 non-null  object \n",
      " 1   final.output.concentrate_ag                         14148 non-null  float64\n",
      " 2   final.output.concentrate_pb                         14148 non-null  float64\n",
      " 3   final.output.concentrate_sol                        13938 non-null  float64\n",
      " 4   final.output.concentrate_au                         14149 non-null  float64\n",
      " 5   final.output.recovery                               14149 non-null  float64\n",
      " 6   final.output.tail_ag                                14149 non-null  float64\n",
      " 7   final.output.tail_pb                                14049 non-null  float64\n",
      " 8   final.output.tail_sol                               14144 non-null  float64\n",
      " 9   final.output.tail_au                                14149 non-null  float64\n",
      " 10  primary_cleaner.input.sulfate                       14129 non-null  float64\n",
      " 11  primary_cleaner.input.depressant                    14117 non-null  float64\n",
      " 12  primary_cleaner.input.feed_size                     14149 non-null  float64\n",
      " 13  primary_cleaner.input.xanthate                      14049 non-null  float64\n",
      " 14  primary_cleaner.output.concentrate_ag               14149 non-null  float64\n",
      " 15  primary_cleaner.output.concentrate_pb               14063 non-null  float64\n",
      " 16  primary_cleaner.output.concentrate_sol              13863 non-null  float64\n",
      " 17  primary_cleaner.output.concentrate_au               14149 non-null  float64\n",
      " 18  primary_cleaner.output.tail_ag                      14148 non-null  float64\n",
      " 19  primary_cleaner.output.tail_pb                      14134 non-null  float64\n",
      " 20  primary_cleaner.output.tail_sol                     14103 non-null  float64\n",
      " 21  primary_cleaner.output.tail_au                      14149 non-null  float64\n",
      " 22  primary_cleaner.state.floatbank8_a_air              14145 non-null  float64\n",
      " 23  primary_cleaner.state.floatbank8_a_level            14148 non-null  float64\n",
      " 24  primary_cleaner.state.floatbank8_b_air              14145 non-null  float64\n",
      " 25  primary_cleaner.state.floatbank8_b_level            14148 non-null  float64\n",
      " 26  primary_cleaner.state.floatbank8_c_air              14147 non-null  float64\n",
      " 27  primary_cleaner.state.floatbank8_c_level            14148 non-null  float64\n",
      " 28  primary_cleaner.state.floatbank8_d_air              14146 non-null  float64\n",
      " 29  primary_cleaner.state.floatbank8_d_level            14148 non-null  float64\n",
      " 30  rougher.calculation.sulfate_to_au_concentrate       14148 non-null  float64\n",
      " 31  rougher.calculation.floatbank10_sulfate_to_au_feed  14148 non-null  float64\n",
      " 32  rougher.calculation.floatbank11_sulfate_to_au_feed  14148 non-null  float64\n",
      " 33  rougher.calculation.au_pb_ratio                     14149 non-null  float64\n",
      " 34  rougher.input.feed_ag                               14149 non-null  float64\n",
      " 35  rougher.input.feed_pb                               14049 non-null  float64\n",
      " 36  rougher.input.feed_rate                             14141 non-null  float64\n",
      " 37  rougher.input.feed_size                             14005 non-null  float64\n",
      " 38  rougher.input.feed_sol                              14071 non-null  float64\n",
      " 39  rougher.input.feed_au                               14149 non-null  float64\n",
      " 40  rougher.input.floatbank10_sulfate                   14120 non-null  float64\n",
      " 41  rougher.input.floatbank10_xanthate                  14141 non-null  float64\n",
      " 42  rougher.input.floatbank11_sulfate                   14113 non-null  float64\n",
      " 43  rougher.input.floatbank11_xanthate                  13721 non-null  float64\n",
      " 44  rougher.output.concentrate_ag                       14149 non-null  float64\n",
      " 45  rougher.output.concentrate_pb                       14149 non-null  float64\n",
      " 46  rougher.output.concentrate_sol                      14127 non-null  float64\n",
      " 47  rougher.output.concentrate_au                       14149 non-null  float64\n",
      " 48  rougher.output.recovery                             14149 non-null  float64\n",
      " 49  rougher.output.tail_ag                              14148 non-null  float64\n",
      " 50  rougher.output.tail_pb                              14149 non-null  float64\n",
      " 51  rougher.output.tail_sol                             14149 non-null  float64\n",
      " 52  rougher.output.tail_au                              14149 non-null  float64\n",
      " 53  rougher.state.floatbank10_a_air                     14148 non-null  float64\n",
      " 54  rougher.state.floatbank10_a_level                   14148 non-null  float64\n",
      " 55  rougher.state.floatbank10_b_air                     14148 non-null  float64\n",
      " 56  rougher.state.floatbank10_b_level                   14148 non-null  float64\n",
      " 57  rougher.state.floatbank10_c_air                     14148 non-null  float64\n",
      " 58  rougher.state.floatbank10_c_level                   14148 non-null  float64\n",
      " 59  rougher.state.floatbank10_d_air                     14149 non-null  float64\n",
      " 60  rougher.state.floatbank10_d_level                   14149 non-null  float64\n",
      " 61  rougher.state.floatbank10_e_air                     13713 non-null  float64\n",
      " 62  rougher.state.floatbank10_e_level                   14149 non-null  float64\n",
      " 63  rougher.state.floatbank10_f_air                     14149 non-null  float64\n",
      " 64  rougher.state.floatbank10_f_level                   14149 non-null  float64\n",
      " 65  secondary_cleaner.output.tail_ag                    14147 non-null  float64\n",
      " 66  secondary_cleaner.output.tail_pb                    14139 non-null  float64\n",
      " 67  secondary_cleaner.output.tail_sol                   12544 non-null  float64\n",
      " 68  secondary_cleaner.output.tail_au                    14149 non-null  float64\n",
      " 69  secondary_cleaner.state.floatbank2_a_air            13932 non-null  float64\n",
      " 70  secondary_cleaner.state.floatbank2_a_level          14148 non-null  float64\n",
      " 71  secondary_cleaner.state.floatbank2_b_air            14128 non-null  float64\n",
      " 72  secondary_cleaner.state.floatbank2_b_level          14148 non-null  float64\n",
      " 73  secondary_cleaner.state.floatbank3_a_air            14145 non-null  float64\n",
      " 74  secondary_cleaner.state.floatbank3_a_level          14148 non-null  float64\n",
      " 75  secondary_cleaner.state.floatbank3_b_air            14148 non-null  float64\n",
      " 76  secondary_cleaner.state.floatbank3_b_level          14148 non-null  float64\n",
      " 77  secondary_cleaner.state.floatbank4_a_air            14143 non-null  float64\n",
      " 78  secondary_cleaner.state.floatbank4_a_level          14148 non-null  float64\n",
      " 79  secondary_cleaner.state.floatbank4_b_air            14148 non-null  float64\n",
      " 80  secondary_cleaner.state.floatbank4_b_level          14148 non-null  float64\n",
      " 81  secondary_cleaner.state.floatbank5_a_air            14148 non-null  float64\n",
      " 82  secondary_cleaner.state.floatbank5_a_level          14148 non-null  float64\n",
      " 83  secondary_cleaner.state.floatbank5_b_air            14148 non-null  float64\n",
      " 84  secondary_cleaner.state.floatbank5_b_level          14148 non-null  float64\n",
      " 85  secondary_cleaner.state.floatbank6_a_air            14147 non-null  float64\n",
      " 86  secondary_cleaner.state.floatbank6_a_level          14148 non-null  float64\n",
      "dtypes: float64(86), object(1)\n",
      "memory usage: 9.4+ MB\n"
     ]
    }
   ],
   "source": [
    "# Выведем общую информацию\n",
    "df_train.info()"
   ]
  },
  {
   "cell_type": "code",
   "execution_count": 8,
   "metadata": {},
   "outputs": [
    {
     "data": {
      "text/plain": [
       "secondary_cleaner.output.tail_sol             1605\n",
       "rougher.state.floatbank10_e_air                436\n",
       "rougher.input.floatbank11_xanthate             428\n",
       "primary_cleaner.output.concentrate_sol         286\n",
       "secondary_cleaner.state.floatbank2_a_air       217\n",
       "                                              ... \n",
       "rougher.state.floatbank10_a_air                  1\n",
       "rougher.state.floatbank10_a_level                1\n",
       "rougher.state.floatbank10_b_air                  1\n",
       "rougher.state.floatbank10_b_level                1\n",
       "secondary_cleaner.state.floatbank6_a_level       1\n",
       "Length: 62, dtype: int64"
      ]
     },
     "execution_count": 8,
     "metadata": {},
     "output_type": "execute_result"
    }
   ],
   "source": [
    "# Выведем пропуски\n",
    "df_train.isna().sum()[df_train.isna().sum() > 0].sort_values(ascending=False)"
   ]
  },
  {
   "cell_type": "markdown",
   "metadata": {},
   "source": [
    "Во фрейме 14149 строк и 87 колонок. В 62 из них наблюдаются пропуски. Больше всего – в `secondary_cleaner.output.tail_sol`: 1605"
   ]
  },
  {
   "cell_type": "markdown",
   "metadata": {},
   "source": [
    "### Выведем информацию по `df_test`"
   ]
  },
  {
   "cell_type": "code",
   "execution_count": 9,
   "metadata": {},
   "outputs": [
    {
     "data": {
      "text/html": [
       "<div>\n",
       "<style scoped>\n",
       "    .dataframe tbody tr th:only-of-type {\n",
       "        vertical-align: middle;\n",
       "    }\n",
       "\n",
       "    .dataframe tbody tr th {\n",
       "        vertical-align: top;\n",
       "    }\n",
       "\n",
       "    .dataframe thead th {\n",
       "        text-align: right;\n",
       "    }\n",
       "</style>\n",
       "<table border=\"1\" class=\"dataframe\">\n",
       "  <thead>\n",
       "    <tr style=\"text-align: right;\">\n",
       "      <th></th>\n",
       "      <th>date</th>\n",
       "      <th>primary_cleaner.input.sulfate</th>\n",
       "      <th>primary_cleaner.input.depressant</th>\n",
       "      <th>primary_cleaner.input.feed_size</th>\n",
       "      <th>primary_cleaner.input.xanthate</th>\n",
       "      <th>primary_cleaner.state.floatbank8_a_air</th>\n",
       "      <th>primary_cleaner.state.floatbank8_a_level</th>\n",
       "      <th>primary_cleaner.state.floatbank8_b_air</th>\n",
       "      <th>primary_cleaner.state.floatbank8_b_level</th>\n",
       "      <th>primary_cleaner.state.floatbank8_c_air</th>\n",
       "      <th>...</th>\n",
       "      <th>secondary_cleaner.state.floatbank4_a_air</th>\n",
       "      <th>secondary_cleaner.state.floatbank4_a_level</th>\n",
       "      <th>secondary_cleaner.state.floatbank4_b_air</th>\n",
       "      <th>secondary_cleaner.state.floatbank4_b_level</th>\n",
       "      <th>secondary_cleaner.state.floatbank5_a_air</th>\n",
       "      <th>secondary_cleaner.state.floatbank5_a_level</th>\n",
       "      <th>secondary_cleaner.state.floatbank5_b_air</th>\n",
       "      <th>secondary_cleaner.state.floatbank5_b_level</th>\n",
       "      <th>secondary_cleaner.state.floatbank6_a_air</th>\n",
       "      <th>secondary_cleaner.state.floatbank6_a_level</th>\n",
       "    </tr>\n",
       "  </thead>\n",
       "  <tbody>\n",
       "    <tr>\n",
       "      <th>0</th>\n",
       "      <td>2016-09-01 00:59:59</td>\n",
       "      <td>210.800909</td>\n",
       "      <td>14.993118</td>\n",
       "      <td>8.080000</td>\n",
       "      <td>1.005021</td>\n",
       "      <td>1398.981301</td>\n",
       "      <td>-500.225577</td>\n",
       "      <td>1399.144926</td>\n",
       "      <td>-499.919735</td>\n",
       "      <td>1400.102998</td>\n",
       "      <td>...</td>\n",
       "      <td>12.023554</td>\n",
       "      <td>-497.795834</td>\n",
       "      <td>8.016656</td>\n",
       "      <td>-501.289139</td>\n",
       "      <td>7.946562</td>\n",
       "      <td>-432.317850</td>\n",
       "      <td>4.872511</td>\n",
       "      <td>-500.037437</td>\n",
       "      <td>26.705889</td>\n",
       "      <td>-499.709414</td>\n",
       "    </tr>\n",
       "    <tr>\n",
       "      <th>1</th>\n",
       "      <td>2016-09-01 01:59:59</td>\n",
       "      <td>215.392455</td>\n",
       "      <td>14.987471</td>\n",
       "      <td>8.080000</td>\n",
       "      <td>0.990469</td>\n",
       "      <td>1398.777912</td>\n",
       "      <td>-500.057435</td>\n",
       "      <td>1398.055362</td>\n",
       "      <td>-499.778182</td>\n",
       "      <td>1396.151033</td>\n",
       "      <td>...</td>\n",
       "      <td>12.058140</td>\n",
       "      <td>-498.695773</td>\n",
       "      <td>8.130979</td>\n",
       "      <td>-499.634209</td>\n",
       "      <td>7.958270</td>\n",
       "      <td>-525.839648</td>\n",
       "      <td>4.878850</td>\n",
       "      <td>-500.162375</td>\n",
       "      <td>25.019940</td>\n",
       "      <td>-499.819438</td>\n",
       "    </tr>\n",
       "    <tr>\n",
       "      <th>2</th>\n",
       "      <td>2016-09-01 02:59:59</td>\n",
       "      <td>215.259946</td>\n",
       "      <td>12.884934</td>\n",
       "      <td>7.786667</td>\n",
       "      <td>0.996043</td>\n",
       "      <td>1398.493666</td>\n",
       "      <td>-500.868360</td>\n",
       "      <td>1398.860436</td>\n",
       "      <td>-499.764529</td>\n",
       "      <td>1398.075709</td>\n",
       "      <td>...</td>\n",
       "      <td>11.962366</td>\n",
       "      <td>-498.767484</td>\n",
       "      <td>8.096893</td>\n",
       "      <td>-500.827423</td>\n",
       "      <td>8.071056</td>\n",
       "      <td>-500.801673</td>\n",
       "      <td>4.905125</td>\n",
       "      <td>-499.828510</td>\n",
       "      <td>24.994862</td>\n",
       "      <td>-500.622559</td>\n",
       "    </tr>\n",
       "  </tbody>\n",
       "</table>\n",
       "<p>3 rows × 53 columns</p>\n",
       "</div>"
      ],
      "text/plain": [
       "                  date  primary_cleaner.input.sulfate  \\\n",
       "0  2016-09-01 00:59:59                     210.800909   \n",
       "1  2016-09-01 01:59:59                     215.392455   \n",
       "2  2016-09-01 02:59:59                     215.259946   \n",
       "\n",
       "   primary_cleaner.input.depressant  primary_cleaner.input.feed_size  \\\n",
       "0                         14.993118                         8.080000   \n",
       "1                         14.987471                         8.080000   \n",
       "2                         12.884934                         7.786667   \n",
       "\n",
       "   primary_cleaner.input.xanthate  primary_cleaner.state.floatbank8_a_air  \\\n",
       "0                        1.005021                             1398.981301   \n",
       "1                        0.990469                             1398.777912   \n",
       "2                        0.996043                             1398.493666   \n",
       "\n",
       "   primary_cleaner.state.floatbank8_a_level  \\\n",
       "0                               -500.225577   \n",
       "1                               -500.057435   \n",
       "2                               -500.868360   \n",
       "\n",
       "   primary_cleaner.state.floatbank8_b_air  \\\n",
       "0                             1399.144926   \n",
       "1                             1398.055362   \n",
       "2                             1398.860436   \n",
       "\n",
       "   primary_cleaner.state.floatbank8_b_level  \\\n",
       "0                               -499.919735   \n",
       "1                               -499.778182   \n",
       "2                               -499.764529   \n",
       "\n",
       "   primary_cleaner.state.floatbank8_c_air  ...  \\\n",
       "0                             1400.102998  ...   \n",
       "1                             1396.151033  ...   \n",
       "2                             1398.075709  ...   \n",
       "\n",
       "   secondary_cleaner.state.floatbank4_a_air  \\\n",
       "0                                 12.023554   \n",
       "1                                 12.058140   \n",
       "2                                 11.962366   \n",
       "\n",
       "   secondary_cleaner.state.floatbank4_a_level  \\\n",
       "0                                 -497.795834   \n",
       "1                                 -498.695773   \n",
       "2                                 -498.767484   \n",
       "\n",
       "   secondary_cleaner.state.floatbank4_b_air  \\\n",
       "0                                  8.016656   \n",
       "1                                  8.130979   \n",
       "2                                  8.096893   \n",
       "\n",
       "   secondary_cleaner.state.floatbank4_b_level  \\\n",
       "0                                 -501.289139   \n",
       "1                                 -499.634209   \n",
       "2                                 -500.827423   \n",
       "\n",
       "   secondary_cleaner.state.floatbank5_a_air  \\\n",
       "0                                  7.946562   \n",
       "1                                  7.958270   \n",
       "2                                  8.071056   \n",
       "\n",
       "   secondary_cleaner.state.floatbank5_a_level  \\\n",
       "0                                 -432.317850   \n",
       "1                                 -525.839648   \n",
       "2                                 -500.801673   \n",
       "\n",
       "   secondary_cleaner.state.floatbank5_b_air  \\\n",
       "0                                  4.872511   \n",
       "1                                  4.878850   \n",
       "2                                  4.905125   \n",
       "\n",
       "   secondary_cleaner.state.floatbank5_b_level  \\\n",
       "0                                 -500.037437   \n",
       "1                                 -500.162375   \n",
       "2                                 -499.828510   \n",
       "\n",
       "   secondary_cleaner.state.floatbank6_a_air  \\\n",
       "0                                 26.705889   \n",
       "1                                 25.019940   \n",
       "2                                 24.994862   \n",
       "\n",
       "   secondary_cleaner.state.floatbank6_a_level  \n",
       "0                                 -499.709414  \n",
       "1                                 -499.819438  \n",
       "2                                 -500.622559  \n",
       "\n",
       "[3 rows x 53 columns]"
      ]
     },
     "execution_count": 9,
     "metadata": {},
     "output_type": "execute_result"
    }
   ],
   "source": [
    "# Откроем тестовый фрейм\n",
    "df_test.head(3)"
   ]
  },
  {
   "cell_type": "code",
   "execution_count": 10,
   "metadata": {
    "scrolled": true
   },
   "outputs": [
    {
     "name": "stdout",
     "output_type": "stream",
     "text": [
      "<class 'pandas.core.frame.DataFrame'>\n",
      "RangeIndex: 5290 entries, 0 to 5289\n",
      "Data columns (total 53 columns):\n",
      " #   Column                                      Non-Null Count  Dtype  \n",
      "---  ------                                      --------------  -----  \n",
      " 0   date                                        5290 non-null   object \n",
      " 1   primary_cleaner.input.sulfate               5286 non-null   float64\n",
      " 2   primary_cleaner.input.depressant            5285 non-null   float64\n",
      " 3   primary_cleaner.input.feed_size             5290 non-null   float64\n",
      " 4   primary_cleaner.input.xanthate              5286 non-null   float64\n",
      " 5   primary_cleaner.state.floatbank8_a_air      5290 non-null   float64\n",
      " 6   primary_cleaner.state.floatbank8_a_level    5290 non-null   float64\n",
      " 7   primary_cleaner.state.floatbank8_b_air      5290 non-null   float64\n",
      " 8   primary_cleaner.state.floatbank8_b_level    5290 non-null   float64\n",
      " 9   primary_cleaner.state.floatbank8_c_air      5290 non-null   float64\n",
      " 10  primary_cleaner.state.floatbank8_c_level    5290 non-null   float64\n",
      " 11  primary_cleaner.state.floatbank8_d_air      5290 non-null   float64\n",
      " 12  primary_cleaner.state.floatbank8_d_level    5290 non-null   float64\n",
      " 13  rougher.input.feed_ag                       5290 non-null   float64\n",
      " 14  rougher.input.feed_pb                       5290 non-null   float64\n",
      " 15  rougher.input.feed_rate                     5287 non-null   float64\n",
      " 16  rougher.input.feed_size                     5289 non-null   float64\n",
      " 17  rougher.input.feed_sol                      5269 non-null   float64\n",
      " 18  rougher.input.feed_au                       5290 non-null   float64\n",
      " 19  rougher.input.floatbank10_sulfate           5285 non-null   float64\n",
      " 20  rougher.input.floatbank10_xanthate          5290 non-null   float64\n",
      " 21  rougher.input.floatbank11_sulfate           5282 non-null   float64\n",
      " 22  rougher.input.floatbank11_xanthate          5265 non-null   float64\n",
      " 23  rougher.state.floatbank10_a_air             5290 non-null   float64\n",
      " 24  rougher.state.floatbank10_a_level           5290 non-null   float64\n",
      " 25  rougher.state.floatbank10_b_air             5290 non-null   float64\n",
      " 26  rougher.state.floatbank10_b_level           5290 non-null   float64\n",
      " 27  rougher.state.floatbank10_c_air             5290 non-null   float64\n",
      " 28  rougher.state.floatbank10_c_level           5290 non-null   float64\n",
      " 29  rougher.state.floatbank10_d_air             5290 non-null   float64\n",
      " 30  rougher.state.floatbank10_d_level           5290 non-null   float64\n",
      " 31  rougher.state.floatbank10_e_air             5290 non-null   float64\n",
      " 32  rougher.state.floatbank10_e_level           5290 non-null   float64\n",
      " 33  rougher.state.floatbank10_f_air             5290 non-null   float64\n",
      " 34  rougher.state.floatbank10_f_level           5290 non-null   float64\n",
      " 35  secondary_cleaner.state.floatbank2_a_air    5287 non-null   float64\n",
      " 36  secondary_cleaner.state.floatbank2_a_level  5290 non-null   float64\n",
      " 37  secondary_cleaner.state.floatbank2_b_air    5288 non-null   float64\n",
      " 38  secondary_cleaner.state.floatbank2_b_level  5290 non-null   float64\n",
      " 39  secondary_cleaner.state.floatbank3_a_air    5281 non-null   float64\n",
      " 40  secondary_cleaner.state.floatbank3_a_level  5290 non-null   float64\n",
      " 41  secondary_cleaner.state.floatbank3_b_air    5290 non-null   float64\n",
      " 42  secondary_cleaner.state.floatbank3_b_level  5290 non-null   float64\n",
      " 43  secondary_cleaner.state.floatbank4_a_air    5290 non-null   float64\n",
      " 44  secondary_cleaner.state.floatbank4_a_level  5290 non-null   float64\n",
      " 45  secondary_cleaner.state.floatbank4_b_air    5290 non-null   float64\n",
      " 46  secondary_cleaner.state.floatbank4_b_level  5290 non-null   float64\n",
      " 47  secondary_cleaner.state.floatbank5_a_air    5290 non-null   float64\n",
      " 48  secondary_cleaner.state.floatbank5_a_level  5290 non-null   float64\n",
      " 49  secondary_cleaner.state.floatbank5_b_air    5290 non-null   float64\n",
      " 50  secondary_cleaner.state.floatbank5_b_level  5290 non-null   float64\n",
      " 51  secondary_cleaner.state.floatbank6_a_air    5290 non-null   float64\n",
      " 52  secondary_cleaner.state.floatbank6_a_level  5290 non-null   float64\n",
      "dtypes: float64(52), object(1)\n",
      "memory usage: 2.1+ MB\n"
     ]
    }
   ],
   "source": [
    "# Посмотрим на общую информацию\n",
    "df_test.info(3)"
   ]
  },
  {
   "cell_type": "code",
   "execution_count": 11,
   "metadata": {},
   "outputs": [
    {
     "data": {
      "text/plain": [
       "rougher.input.floatbank11_xanthate          25\n",
       "rougher.input.feed_sol                      21\n",
       "secondary_cleaner.state.floatbank3_a_air     9\n",
       "rougher.input.floatbank11_sulfate            8\n",
       "primary_cleaner.input.depressant             5\n",
       "rougher.input.floatbank10_sulfate            5\n",
       "primary_cleaner.input.sulfate                4\n",
       "primary_cleaner.input.xanthate               4\n",
       "rougher.input.feed_rate                      3\n",
       "secondary_cleaner.state.floatbank2_a_air     3\n",
       "secondary_cleaner.state.floatbank2_b_air     2\n",
       "rougher.input.feed_size                      1\n",
       "dtype: int64"
      ]
     },
     "execution_count": 11,
     "metadata": {},
     "output_type": "execute_result"
    }
   ],
   "source": [
    "# Выведем информацию по пропускам\n",
    "df_test.isna().sum()[df_test.isna().sum() > 0].sort_values(ascending=False)"
   ]
  },
  {
   "cell_type": "markdown",
   "metadata": {},
   "source": [
    "Во фрейме 5290 строк и 53 колонки. Пропуски наблюдаются в 12 колонках. Больше всего – в `rougher.input.floatbank11_xanthate`: 25"
   ]
  },
  {
   "cell_type": "markdown",
   "metadata": {},
   "source": [
    "### Вывод по общей информации фреймов"
   ]
  },
  {
   "cell_type": "markdown",
   "metadata": {},
   "source": [
    "`df_full` <br>\n",
    "- 19439 строк и 87 колонок.<br>\n",
    "- 63 колонки с пропусками. <br>\n",
    "- Наибольшее количество из них – в `secondary_cleaner.output.tail_sol`: 1748<br>\n",
    "\n",
    "`df_train` <br>\n",
    "- 14149 строк и 87 колонок.<br>\n",
    "- 62 колонки с  пропусками. <br>\n",
    "- Наибольшее количество из них – в `secondary_cleaner.output.tail_sol`: 1605<br>\n",
    "\n",
    "`df_test` <br>\n",
    "- 5290 строк и 53 колонки.<br>\n",
    "- 12 колонок с пропусками.<br>\n",
    "- Наибольшее количество из них – в `rougher.input.floatbank11_xanthate`: 25"
   ]
  },
  {
   "cell_type": "markdown",
   "metadata": {},
   "source": [
    "### Проверим, правильно ли рассчитана эффективность обогащения "
   ]
  },
  {
   "cell_type": "markdown",
   "metadata": {},
   "source": [
    "Рассчитаем `recovery` для золота и сравним `mae` с имеющимися в сете значениями `rougher.output.recovery`"
   ]
  },
  {
   "cell_type": "markdown",
   "metadata": {},
   "source": [
    "\\begin{equation}\n",
    " Recovery = \\frac{C * (F - T)}{F * (C - T)} * 100\\%\n",
    "\\label{eq:Sample}\n",
    "\\end{equation}"
   ]
  },
  {
   "cell_type": "markdown",
   "metadata": {},
   "source": [
    " C – доля золота в концентрате после флотации/очистки `df_train['rougher.output.concentrate_au']`<br>\n",
    " F — доля золота в сырье/концентрате до флотации/очистки `df_train['rougher.input.feed_au']`<br>\n",
    " T — доля золота в отвальных хвостах после флотации/очистки `df_train['rougher.output.tail_au']`<br>"
   ]
  },
  {
   "cell_type": "code",
   "execution_count": 12,
   "metadata": {
    "scrolled": true
   },
   "outputs": [
    {
     "data": {
      "text/html": [
       "<div>\n",
       "<style scoped>\n",
       "    .dataframe tbody tr th:only-of-type {\n",
       "        vertical-align: middle;\n",
       "    }\n",
       "\n",
       "    .dataframe tbody tr th {\n",
       "        vertical-align: top;\n",
       "    }\n",
       "\n",
       "    .dataframe thead th {\n",
       "        text-align: right;\n",
       "    }\n",
       "</style>\n",
       "<table border=\"1\" class=\"dataframe\">\n",
       "  <thead>\n",
       "    <tr style=\"text-align: right;\">\n",
       "      <th></th>\n",
       "      <th>rougher.output.concentrate_au</th>\n",
       "      <th>rougher.input.feed_au</th>\n",
       "      <th>rougher.output.tail_au</th>\n",
       "      <th>rougher.output.recovery</th>\n",
       "    </tr>\n",
       "  </thead>\n",
       "  <tbody>\n",
       "    <tr>\n",
       "      <th>0</th>\n",
       "      <td>19.793808</td>\n",
       "      <td>6.486150</td>\n",
       "      <td>1.170244</td>\n",
       "      <td>87.107763</td>\n",
       "    </tr>\n",
       "    <tr>\n",
       "      <th>1</th>\n",
       "      <td>20.050975</td>\n",
       "      <td>6.478583</td>\n",
       "      <td>1.184827</td>\n",
       "      <td>86.843261</td>\n",
       "    </tr>\n",
       "    <tr>\n",
       "      <th>2</th>\n",
       "      <td>19.737170</td>\n",
       "      <td>6.362222</td>\n",
       "      <td>1.162562</td>\n",
       "      <td>86.842308</td>\n",
       "    </tr>\n",
       "  </tbody>\n",
       "</table>\n",
       "</div>"
      ],
      "text/plain": [
       "   rougher.output.concentrate_au  rougher.input.feed_au  \\\n",
       "0                      19.793808               6.486150   \n",
       "1                      20.050975               6.478583   \n",
       "2                      19.737170               6.362222   \n",
       "\n",
       "   rougher.output.tail_au  rougher.output.recovery  \n",
       "0                1.170244                87.107763  \n",
       "1                1.184827                86.843261  \n",
       "2                1.162562                86.842308  "
      ]
     },
     "execution_count": 12,
     "metadata": {},
     "output_type": "execute_result"
    }
   ],
   "source": [
    "# Создадим датафрейм для вычислений\n",
    "recovery_df = df_train[['rougher.output.concentrate_au', 'rougher.input.feed_au', 'rougher.output.tail_au', 'rougher.output.recovery']]\n",
    "recovery_df.head(3)"
   ]
  },
  {
   "cell_type": "code",
   "execution_count": 13,
   "metadata": {},
   "outputs": [],
   "source": [
    "# Объявим функцию по расчёту recovery\n",
    "def recovery(c,f,t):\n",
    "    return ((c * (f - t)) / (f * (c - t))) * 100"
   ]
  },
  {
   "cell_type": "code",
   "execution_count": 14,
   "metadata": {},
   "outputs": [],
   "source": [
    "# добавим в наш новый фрейм столбец с вычисленными значениями по формуле recovery\n",
    "recovery_df.insert(3, column='calculate_recovery', value=recovery(recovery_df['rougher.output.concentrate_au'],recovery_df['rougher.input.feed_au'],recovery_df['rougher.output.tail_au']))"
   ]
  },
  {
   "cell_type": "code",
   "execution_count": 15,
   "metadata": {},
   "outputs": [
    {
     "data": {
      "text/html": [
       "<div>\n",
       "<style scoped>\n",
       "    .dataframe tbody tr th:only-of-type {\n",
       "        vertical-align: middle;\n",
       "    }\n",
       "\n",
       "    .dataframe tbody tr th {\n",
       "        vertical-align: top;\n",
       "    }\n",
       "\n",
       "    .dataframe thead th {\n",
       "        text-align: right;\n",
       "    }\n",
       "</style>\n",
       "<table border=\"1\" class=\"dataframe\">\n",
       "  <thead>\n",
       "    <tr style=\"text-align: right;\">\n",
       "      <th></th>\n",
       "      <th>rougher.output.concentrate_au</th>\n",
       "      <th>rougher.input.feed_au</th>\n",
       "      <th>rougher.output.tail_au</th>\n",
       "      <th>calculate_recovery</th>\n",
       "      <th>rougher.output.recovery</th>\n",
       "    </tr>\n",
       "  </thead>\n",
       "  <tbody>\n",
       "    <tr>\n",
       "      <th>0</th>\n",
       "      <td>19.793808</td>\n",
       "      <td>6.486150</td>\n",
       "      <td>1.170244</td>\n",
       "      <td>87.107763</td>\n",
       "      <td>87.107763</td>\n",
       "    </tr>\n",
       "    <tr>\n",
       "      <th>1</th>\n",
       "      <td>20.050975</td>\n",
       "      <td>6.478583</td>\n",
       "      <td>1.184827</td>\n",
       "      <td>86.843261</td>\n",
       "      <td>86.843261</td>\n",
       "    </tr>\n",
       "    <tr>\n",
       "      <th>2</th>\n",
       "      <td>19.737170</td>\n",
       "      <td>6.362222</td>\n",
       "      <td>1.162562</td>\n",
       "      <td>86.842308</td>\n",
       "      <td>86.842308</td>\n",
       "    </tr>\n",
       "  </tbody>\n",
       "</table>\n",
       "</div>"
      ],
      "text/plain": [
       "   rougher.output.concentrate_au  rougher.input.feed_au  \\\n",
       "0                      19.793808               6.486150   \n",
       "1                      20.050975               6.478583   \n",
       "2                      19.737170               6.362222   \n",
       "\n",
       "   rougher.output.tail_au  calculate_recovery  rougher.output.recovery  \n",
       "0                1.170244           87.107763                87.107763  \n",
       "1                1.184827           86.843261                86.843261  \n",
       "2                1.162562           86.842308                86.842308  "
      ]
     },
     "execution_count": 15,
     "metadata": {},
     "output_type": "execute_result"
    }
   ],
   "source": [
    "# Выведем полученный фрейм\n",
    "recovery_df.head(3)"
   ]
  },
  {
   "cell_type": "code",
   "execution_count": 16,
   "metadata": {},
   "outputs": [
    {
     "name": "stdout",
     "output_type": "stream",
     "text": [
      "MAE эффективности обогащения = 9.73512347450521e-15\n"
     ]
    }
   ],
   "source": [
    "# Выведем MAE\n",
    "mae = mean_absolute_error(recovery_df['rougher.output.recovery'], recovery_df['calculate_recovery'])\n",
    "print(f'MAE эффективности обогащения = {mae}')"
   ]
  },
  {
   "cell_type": "markdown",
   "metadata": {},
   "source": [
    "Столь малое значение `mae` говорит о том, что `recovery` эффективности обогащения расчитано верно"
   ]
  },
  {
   "cell_type": "markdown",
   "metadata": {},
   "source": [
    "### Проанализируем признаки, недоступные в тестовой выборке"
   ]
  },
  {
   "cell_type": "code",
   "execution_count": 17,
   "metadata": {},
   "outputs": [
    {
     "data": {
      "text/plain": [
       "34"
      ]
     },
     "metadata": {},
     "output_type": "display_data"
    },
    {
     "data": {
      "text/plain": [
       "secondary_cleaner.output.tail_pb                      float64\n",
       "secondary_cleaner.output.tail_au                      float64\n",
       "primary_cleaner.output.concentrate_sol                float64\n",
       "final.output.tail_pb                                  float64\n",
       "rougher.output.tail_pb                                float64\n",
       "rougher.output.tail_au                                float64\n",
       "final.output.concentrate_au                           float64\n",
       "rougher.output.recovery                               float64\n",
       "rougher.output.concentrate_sol                        float64\n",
       "final.output.concentrate_ag                           float64\n",
       "primary_cleaner.output.tail_ag                        float64\n",
       "final.output.tail_au                                  float64\n",
       "rougher.calculation.sulfate_to_au_concentrate         float64\n",
       "primary_cleaner.output.tail_au                        float64\n",
       "rougher.output.tail_sol                               float64\n",
       "secondary_cleaner.output.tail_ag                      float64\n",
       "rougher.calculation.au_pb_ratio                       float64\n",
       "primary_cleaner.output.tail_sol                       float64\n",
       "rougher.calculation.floatbank11_sulfate_to_au_feed    float64\n",
       "secondary_cleaner.output.tail_sol                     float64\n",
       "rougher.output.concentrate_ag                         float64\n",
       "rougher.output.concentrate_pb                         float64\n",
       "rougher.output.tail_ag                                float64\n",
       "rougher.output.concentrate_au                         float64\n",
       "primary_cleaner.output.concentrate_au                 float64\n",
       "primary_cleaner.output.concentrate_ag                 float64\n",
       "final.output.concentrate_sol                          float64\n",
       "final.output.recovery                                 float64\n",
       "primary_cleaner.output.tail_pb                        float64\n",
       "final.output.tail_ag                                  float64\n",
       "final.output.tail_sol                                 float64\n",
       "primary_cleaner.output.concentrate_pb                 float64\n",
       "rougher.calculation.floatbank10_sulfate_to_au_feed    float64\n",
       "final.output.concentrate_pb                           float64\n",
       "dtype: object"
      ]
     },
     "execution_count": 17,
     "metadata": {},
     "output_type": "execute_result"
    }
   ],
   "source": [
    "# Выведем признаки, которые есть в полном фрейме, но которых нет в тестовом\n",
    "diff = set(df_full.columns).difference(set(df_test))\n",
    "\n",
    "display(len(diff))\n",
    "df_full[list(diff)].dtypes"
   ]
  },
  {
   "cell_type": "markdown",
   "metadata": {},
   "source": [
    "Все представленные признаки касаются либо информации по итогу обработки (`output`), <br>\n",
    "либо расчётных данных (`calculate`), <br>\n",
    "однако нет целевых признаков: `rougher.output.recovery` и `final.output.recovery`"
   ]
  },
  {
   "cell_type": "markdown",
   "metadata": {},
   "source": [
    "### Проведём предобработку данных"
   ]
  },
  {
   "cell_type": "markdown",
   "metadata": {},
   "source": [
    "Как мы уже выяснили в начале исследования, во всех фреймах признак с датой не имеет соответствующего формата. Исправим это"
   ]
  },
  {
   "cell_type": "code",
   "execution_count": 18,
   "metadata": {},
   "outputs": [],
   "source": [
    "# Изменим тип данных в дате\n",
    "df_full['date'] = pd.to_datetime(df_full['date'])\n",
    "df_train['date'] = pd.to_datetime(df_train['date'])\n",
    "df_test['date'] = pd.to_datetime(df_test['date'])"
   ]
  },
  {
   "cell_type": "code",
   "execution_count": 19,
   "metadata": {},
   "outputs": [
    {
     "data": {
      "text/plain": [
       "(date    datetime64[ns]\n",
       " dtype: object,\n",
       " date    datetime64[ns]\n",
       " dtype: object,\n",
       " date    datetime64[ns]\n",
       " dtype: object)"
      ]
     },
     "execution_count": 19,
     "metadata": {},
     "output_type": "execute_result"
    }
   ],
   "source": [
    "# Проверим изменения\n",
    "(df_full.dtypes[:1],\n",
    "df_train.dtypes[:1],\n",
    "df_test.dtypes[:1])"
   ]
  },
  {
   "cell_type": "markdown",
   "metadata": {},
   "source": [
    "Добавим таргеты в тестовую выборку"
   ]
  },
  {
   "cell_type": "code",
   "execution_count": 20,
   "metadata": {},
   "outputs": [],
   "source": [
    "df_test = df_test.merge(df_full[['date', 'rougher.output.recovery', 'final.output.recovery']], how='left', on='date')"
   ]
  },
  {
   "cell_type": "code",
   "execution_count": 21,
   "metadata": {
    "tags": []
   },
   "outputs": [
    {
     "data": {
      "text/html": [
       "<div>\n",
       "<style scoped>\n",
       "    .dataframe tbody tr th:only-of-type {\n",
       "        vertical-align: middle;\n",
       "    }\n",
       "\n",
       "    .dataframe tbody tr th {\n",
       "        vertical-align: top;\n",
       "    }\n",
       "\n",
       "    .dataframe thead th {\n",
       "        text-align: right;\n",
       "    }\n",
       "</style>\n",
       "<table border=\"1\" class=\"dataframe\">\n",
       "  <thead>\n",
       "    <tr style=\"text-align: right;\">\n",
       "      <th></th>\n",
       "      <th>date</th>\n",
       "      <th>primary_cleaner.input.sulfate</th>\n",
       "      <th>primary_cleaner.input.depressant</th>\n",
       "      <th>primary_cleaner.input.feed_size</th>\n",
       "      <th>primary_cleaner.input.xanthate</th>\n",
       "      <th>primary_cleaner.state.floatbank8_a_air</th>\n",
       "      <th>primary_cleaner.state.floatbank8_a_level</th>\n",
       "      <th>primary_cleaner.state.floatbank8_b_air</th>\n",
       "      <th>primary_cleaner.state.floatbank8_b_level</th>\n",
       "      <th>primary_cleaner.state.floatbank8_c_air</th>\n",
       "      <th>...</th>\n",
       "      <th>secondary_cleaner.state.floatbank4_b_air</th>\n",
       "      <th>secondary_cleaner.state.floatbank4_b_level</th>\n",
       "      <th>secondary_cleaner.state.floatbank5_a_air</th>\n",
       "      <th>secondary_cleaner.state.floatbank5_a_level</th>\n",
       "      <th>secondary_cleaner.state.floatbank5_b_air</th>\n",
       "      <th>secondary_cleaner.state.floatbank5_b_level</th>\n",
       "      <th>secondary_cleaner.state.floatbank6_a_air</th>\n",
       "      <th>secondary_cleaner.state.floatbank6_a_level</th>\n",
       "      <th>rougher.output.recovery</th>\n",
       "      <th>final.output.recovery</th>\n",
       "    </tr>\n",
       "  </thead>\n",
       "  <tbody>\n",
       "    <tr>\n",
       "      <th>0</th>\n",
       "      <td>2016-09-01 00:59:59</td>\n",
       "      <td>210.800909</td>\n",
       "      <td>14.993118</td>\n",
       "      <td>8.080000</td>\n",
       "      <td>1.005021</td>\n",
       "      <td>1398.981301</td>\n",
       "      <td>-500.225577</td>\n",
       "      <td>1399.144926</td>\n",
       "      <td>-499.919735</td>\n",
       "      <td>1400.102998</td>\n",
       "      <td>...</td>\n",
       "      <td>8.016656</td>\n",
       "      <td>-501.289139</td>\n",
       "      <td>7.946562</td>\n",
       "      <td>-432.317850</td>\n",
       "      <td>4.872511</td>\n",
       "      <td>-500.037437</td>\n",
       "      <td>26.705889</td>\n",
       "      <td>-499.709414</td>\n",
       "      <td>89.993421</td>\n",
       "      <td>70.273583</td>\n",
       "    </tr>\n",
       "    <tr>\n",
       "      <th>1</th>\n",
       "      <td>2016-09-01 01:59:59</td>\n",
       "      <td>215.392455</td>\n",
       "      <td>14.987471</td>\n",
       "      <td>8.080000</td>\n",
       "      <td>0.990469</td>\n",
       "      <td>1398.777912</td>\n",
       "      <td>-500.057435</td>\n",
       "      <td>1398.055362</td>\n",
       "      <td>-499.778182</td>\n",
       "      <td>1396.151033</td>\n",
       "      <td>...</td>\n",
       "      <td>8.130979</td>\n",
       "      <td>-499.634209</td>\n",
       "      <td>7.958270</td>\n",
       "      <td>-525.839648</td>\n",
       "      <td>4.878850</td>\n",
       "      <td>-500.162375</td>\n",
       "      <td>25.019940</td>\n",
       "      <td>-499.819438</td>\n",
       "      <td>88.089657</td>\n",
       "      <td>68.910432</td>\n",
       "    </tr>\n",
       "    <tr>\n",
       "      <th>2</th>\n",
       "      <td>2016-09-01 02:59:59</td>\n",
       "      <td>215.259946</td>\n",
       "      <td>12.884934</td>\n",
       "      <td>7.786667</td>\n",
       "      <td>0.996043</td>\n",
       "      <td>1398.493666</td>\n",
       "      <td>-500.868360</td>\n",
       "      <td>1398.860436</td>\n",
       "      <td>-499.764529</td>\n",
       "      <td>1398.075709</td>\n",
       "      <td>...</td>\n",
       "      <td>8.096893</td>\n",
       "      <td>-500.827423</td>\n",
       "      <td>8.071056</td>\n",
       "      <td>-500.801673</td>\n",
       "      <td>4.905125</td>\n",
       "      <td>-499.828510</td>\n",
       "      <td>24.994862</td>\n",
       "      <td>-500.622559</td>\n",
       "      <td>88.412756</td>\n",
       "      <td>68.143213</td>\n",
       "    </tr>\n",
       "  </tbody>\n",
       "</table>\n",
       "<p>3 rows × 55 columns</p>\n",
       "</div>"
      ],
      "text/plain": [
       "                 date  primary_cleaner.input.sulfate  \\\n",
       "0 2016-09-01 00:59:59                     210.800909   \n",
       "1 2016-09-01 01:59:59                     215.392455   \n",
       "2 2016-09-01 02:59:59                     215.259946   \n",
       "\n",
       "   primary_cleaner.input.depressant  primary_cleaner.input.feed_size  \\\n",
       "0                         14.993118                         8.080000   \n",
       "1                         14.987471                         8.080000   \n",
       "2                         12.884934                         7.786667   \n",
       "\n",
       "   primary_cleaner.input.xanthate  primary_cleaner.state.floatbank8_a_air  \\\n",
       "0                        1.005021                             1398.981301   \n",
       "1                        0.990469                             1398.777912   \n",
       "2                        0.996043                             1398.493666   \n",
       "\n",
       "   primary_cleaner.state.floatbank8_a_level  \\\n",
       "0                               -500.225577   \n",
       "1                               -500.057435   \n",
       "2                               -500.868360   \n",
       "\n",
       "   primary_cleaner.state.floatbank8_b_air  \\\n",
       "0                             1399.144926   \n",
       "1                             1398.055362   \n",
       "2                             1398.860436   \n",
       "\n",
       "   primary_cleaner.state.floatbank8_b_level  \\\n",
       "0                               -499.919735   \n",
       "1                               -499.778182   \n",
       "2                               -499.764529   \n",
       "\n",
       "   primary_cleaner.state.floatbank8_c_air  ...  \\\n",
       "0                             1400.102998  ...   \n",
       "1                             1396.151033  ...   \n",
       "2                             1398.075709  ...   \n",
       "\n",
       "   secondary_cleaner.state.floatbank4_b_air  \\\n",
       "0                                  8.016656   \n",
       "1                                  8.130979   \n",
       "2                                  8.096893   \n",
       "\n",
       "   secondary_cleaner.state.floatbank4_b_level  \\\n",
       "0                                 -501.289139   \n",
       "1                                 -499.634209   \n",
       "2                                 -500.827423   \n",
       "\n",
       "   secondary_cleaner.state.floatbank5_a_air  \\\n",
       "0                                  7.946562   \n",
       "1                                  7.958270   \n",
       "2                                  8.071056   \n",
       "\n",
       "   secondary_cleaner.state.floatbank5_a_level  \\\n",
       "0                                 -432.317850   \n",
       "1                                 -525.839648   \n",
       "2                                 -500.801673   \n",
       "\n",
       "   secondary_cleaner.state.floatbank5_b_air  \\\n",
       "0                                  4.872511   \n",
       "1                                  4.878850   \n",
       "2                                  4.905125   \n",
       "\n",
       "   secondary_cleaner.state.floatbank5_b_level  \\\n",
       "0                                 -500.037437   \n",
       "1                                 -500.162375   \n",
       "2                                 -499.828510   \n",
       "\n",
       "   secondary_cleaner.state.floatbank6_a_air  \\\n",
       "0                                 26.705889   \n",
       "1                                 25.019940   \n",
       "2                                 24.994862   \n",
       "\n",
       "   secondary_cleaner.state.floatbank6_a_level  rougher.output.recovery  \\\n",
       "0                                 -499.709414                89.993421   \n",
       "1                                 -499.819438                88.089657   \n",
       "2                                 -500.622559                88.412756   \n",
       "\n",
       "   final.output.recovery  \n",
       "0              70.273583  \n",
       "1              68.910432  \n",
       "2              68.143213  \n",
       "\n",
       "[3 rows x 55 columns]"
      ]
     },
     "execution_count": 21,
     "metadata": {},
     "output_type": "execute_result"
    }
   ],
   "source": [
    "# Выведем первые строчки и убедимся, что нужные колонки добавлены\n",
    "df_test.head(3)"
   ]
  },
  {
   "cell_type": "markdown",
   "metadata": {},
   "source": [
    "Избавимся от колонок, что есть в тренировочной, но нет в тестовой выборке, поскольку эта разница помешает нам при построении модели"
   ]
  },
  {
   "cell_type": "code",
   "execution_count": 22,
   "metadata": {},
   "outputs": [],
   "source": [
    "diff = list(set(df_train.columns).difference(set(df_test)))\n",
    "df_train.drop(columns=diff, axis=1, inplace=True)"
   ]
  },
  {
   "cell_type": "markdown",
   "metadata": {},
   "source": [
    "Проверим что количество столбцов теперь действительно одинаковое"
   ]
  },
  {
   "cell_type": "code",
   "execution_count": 23,
   "metadata": {},
   "outputs": [
    {
     "data": {
      "text/plain": [
       "(55, 55)"
      ]
     },
     "execution_count": 23,
     "metadata": {},
     "output_type": "execute_result"
    }
   ],
   "source": [
    "(len(df_test.columns),\n",
    "len(df_train.columns))"
   ]
  },
  {
   "cell_type": "markdown",
   "metadata": {},
   "source": [
    "Заполним пропуски в данных методом `forward_fill`, то есть будем брать предыдущее значение для заполнения последующего *Nan'а*"
   ]
  },
  {
   "cell_type": "code",
   "execution_count": 24,
   "metadata": {},
   "outputs": [],
   "source": [
    "df_full.fillna(method='ffill', inplace=True)\n",
    "df_train.fillna(method='ffill', inplace=True)\n",
    "df_test.fillna(method='ffill', inplace=True)"
   ]
  },
  {
   "cell_type": "markdown",
   "metadata": {},
   "source": [
    "Проверим результат работы"
   ]
  },
  {
   "cell_type": "code",
   "execution_count": 25,
   "metadata": {},
   "outputs": [
    {
     "data": {
      "text/plain": [
       "(Series([], dtype: int64), Series([], dtype: int64), Series([], dtype: int64))"
      ]
     },
     "execution_count": 25,
     "metadata": {},
     "output_type": "execute_result"
    }
   ],
   "source": [
    "(df_full.isna().sum()[df_full.isna().sum() > 0],\n",
    "df_train.isna().sum()[df_train.isna().sum() > 0],\n",
    "df_test.isna().sum()[df_test.isna().sum() > 0])"
   ]
  },
  {
   "cell_type": "markdown",
   "metadata": {},
   "source": [
    "### Вывод по предобработке данных"
   ]
  },
  {
   "cell_type": "markdown",
   "metadata": {},
   "source": [
    "В трёх датафреймах разное количество пропусков и колонок.\n",
    "Для оптимальной работы при построении моделей мы добавили таргеты в тестовую выборку, а из тренировочной убрали колонки, которых не было в тестовой. Также мы перевели тип данных признака даты в соответствующий формат и заполнили пропуски во всех выборках методом forward_fill "
   ]
  },
  {
   "cell_type": "markdown",
   "metadata": {},
   "source": [
    "## Анализ данных"
   ]
  },
  {
   "cell_type": "markdown",
   "metadata": {},
   "source": [
    "### Исследуем динамику содержания металлов на всех этапах обработки"
   ]
  },
  {
   "cell_type": "code",
   "execution_count": 26,
   "metadata": {},
   "outputs": [],
   "source": [
    "# Создадим датафрейм с необходимыми нам признаками для дальнейшей визуализации\n",
    "dynamics = pd.DataFrame({'steps' : ['первичная смесь', 'флотация', 'очистка', 'концентрат'],\n",
    "                         'Pb' : [df_full['rougher.input.feed_pb'].median(),\n",
    "                                 df_full['rougher.output.concentrate_pb'].median(),\n",
    "                                 df_full['primary_cleaner.output.concentrate_pb'].median(),\n",
    "                                 df_full['final.output.concentrate_pb'].median()],\n",
    "                          'Ag' :           [df_full['rougher.input.feed_ag'].median(),\n",
    "                                            df_full['rougher.output.concentrate_ag'].median(),\n",
    "                                            df_full['primary_cleaner.output.concentrate_ag'].median(),\n",
    "                                            df_full['final.output.concentrate_ag'].median()],\n",
    "                           'Au' :   [df_full['rougher.input.feed_au'].median(),\n",
    "                                     df_full['rougher.output.concentrate_au'].median(),\n",
    "                                     df_full['primary_cleaner.output.concentrate_au'].median(),\n",
    "                                     df_full['final.output.concentrate_au'].median()]})"
   ]
  },
  {
   "cell_type": "code",
   "execution_count": 27,
   "metadata": {},
   "outputs": [
    {
     "data": {
      "text/html": [
       "<div>\n",
       "<style scoped>\n",
       "    .dataframe tbody tr th:only-of-type {\n",
       "        vertical-align: middle;\n",
       "    }\n",
       "\n",
       "    .dataframe tbody tr th {\n",
       "        vertical-align: top;\n",
       "    }\n",
       "\n",
       "    .dataframe thead th {\n",
       "        text-align: right;\n",
       "    }\n",
       "</style>\n",
       "<table border=\"1\" class=\"dataframe\">\n",
       "  <thead>\n",
       "    <tr style=\"text-align: right;\">\n",
       "      <th></th>\n",
       "      <th>steps</th>\n",
       "      <th>Pb</th>\n",
       "      <th>Ag</th>\n",
       "      <th>Au</th>\n",
       "    </tr>\n",
       "  </thead>\n",
       "  <tbody>\n",
       "    <tr>\n",
       "      <th>0</th>\n",
       "      <td>первичная смесь</td>\n",
       "      <td>3.528235</td>\n",
       "      <td>8.593574</td>\n",
       "      <td>8.125839</td>\n",
       "    </tr>\n",
       "    <tr>\n",
       "      <th>1</th>\n",
       "      <td>флотация</td>\n",
       "      <td>7.742580</td>\n",
       "      <td>12.098115</td>\n",
       "      <td>20.280214</td>\n",
       "    </tr>\n",
       "    <tr>\n",
       "      <th>2</th>\n",
       "      <td>очистка</td>\n",
       "      <td>10.142270</td>\n",
       "      <td>8.507298</td>\n",
       "      <td>32.841295</td>\n",
       "    </tr>\n",
       "    <tr>\n",
       "      <th>3</th>\n",
       "      <td>концентрат</td>\n",
       "      <td>10.102264</td>\n",
       "      <td>5.066039</td>\n",
       "      <td>45.011244</td>\n",
       "    </tr>\n",
       "  </tbody>\n",
       "</table>\n",
       "</div>"
      ],
      "text/plain": [
       "             steps         Pb         Ag         Au\n",
       "0  первичная смесь   3.528235   8.593574   8.125839\n",
       "1         флотация   7.742580  12.098115  20.280214\n",
       "2          очистка  10.142270   8.507298  32.841295\n",
       "3       концентрат  10.102264   5.066039  45.011244"
      ]
     },
     "execution_count": 27,
     "metadata": {},
     "output_type": "execute_result"
    }
   ],
   "source": [
    "dynamics"
   ]
  },
  {
   "cell_type": "code",
   "execution_count": 28,
   "metadata": {},
   "outputs": [
    {
     "data": {
      "image/png": "[encoded data removed]",
      "text/plain": [
       "<Figure size 864x360 with 3 Axes>"
      ]
     },
     "metadata": {
      "needs_background": "light"
     },
     "output_type": "display_data"
    }
   ],
   "source": [
    "# Выведеи графики изменения объёма металлов поэтапно\n",
    "fig, (ax1, ax2, ax3) = plt.subplots(1,3, figsize=(12, 5))\n",
    "plt.subplots_adjust(wspace=.8)\n",
    "ax1.barh(dynamics['steps'], dynamics['Pb'])\n",
    "ax1.set_title('Динамика Pb')\n",
    "ax2.barh(dynamics['steps'], dynamics['Ag'])\n",
    "ax2.set_title('Динамика Ag')\n",
    "ax3.barh(dynamics['steps'], dynamics['Au'])\n",
    "ax3.set_title('Динамика Au')\n",
    "plt.show()"
   ]
  },
  {
   "cell_type": "markdown",
   "metadata": {},
   "source": [
    "`Золото` показывает положительный линейный рост содержания на всех этапах обработки<br> \n",
    "`Свинец` растёт до стадии очистки и остаётся неизменным.<br> \n",
    "`Серебро` после флотации значительно падает"
   ]
  },
  {
   "cell_type": "markdown",
   "metadata": {},
   "source": [
    "### Исследуем распределения размера гранул сырья на тренировочной и тестовой выборках"
   ]
  },
  {
   "cell_type": "code",
   "execution_count": 29,
   "metadata": {},
   "outputs": [
    {
     "data": {
      "image/png": "[encoded data removed]",
      "text/plain": [
       "<Figure size 432x288 with 1 Axes>"
      ]
     },
     "metadata": {
      "needs_background": "light"
     },
     "output_type": "display_data"
    }
   ],
   "source": [
    "# Выведем распределения гранул сырья на этапе первичной смеси\n",
    "df_train['rougher.input.feed_size'].plot.kde() \n",
    "df_test['rougher.input.feed_size'].plot.kde()\n",
    "plt.title('Размеры гранул сырья на этапе первичной смеси');"
   ]
  },
  {
   "cell_type": "code",
   "execution_count": 30,
   "metadata": {},
   "outputs": [
    {
     "data": {
      "image/png": "[encoded data removed]",
      "text/plain": [
       "<Figure size 432x288 with 1 Axes>"
      ]
     },
     "metadata": {
      "needs_background": "light"
     },
     "output_type": "display_data"
    }
   ],
   "source": [
    "# Выведем распределения гранул сырья на этапе очистки\n",
    "df_train['primary_cleaner.input.feed_size'].plot.kde() \n",
    "df_test['primary_cleaner.input.feed_size'].plot.kde()\n",
    "plt.title('Размеры гранул сырья на этапе очистки');"
   ]
  },
  {
   "cell_type": "markdown",
   "metadata": {},
   "source": [
    "Таким образом мы убедились, что распределения размеров гранул сырья на тренировочной и тестовой выборках сильно не отличаются, а значит, оценка нашей будущей модели будет верной"
   ]
  },
  {
   "cell_type": "markdown",
   "metadata": {},
   "source": [
    "###  Исследуем суммарную концентрацию всех веществ на разных стадиях: в сырье, в черновом и финальном концентратах. "
   ]
  },
  {
   "cell_type": "code",
   "execution_count": 31,
   "metadata": {},
   "outputs": [],
   "source": [
    "sum_concentrane = pd.DataFrame({'первичная смесь': df_full['rougher.input.feed_pb'] + \n",
    "                                                   df_full['rougher.input.feed_ag'] +\n",
    "                                                   df_full['rougher.input.feed_au'],\n",
    "                                'флотация': df_full['rougher.output.concentrate_pb'] +\n",
    "                                            df_full['rougher.output.concentrate_ag'] +\n",
    "                                            df_full['rougher.output.concentrate_au'],\n",
    "                                 'очистка': df_full['primary_cleaner.output.concentrate_pb'] +\n",
    "                                            df_full['primary_cleaner.output.concentrate_ag'] +\n",
    "                                            df_full['primary_cleaner.output.concentrate_au'],\n",
    "                                 'концентрат': df_full['final.output.concentrate_pb'] +\n",
    "                                               df_full['final.output.concentrate_ag'] +\n",
    "                                               df_full['final.output.concentrate_au']})"
   ]
  },
  {
   "cell_type": "code",
   "execution_count": 32,
   "metadata": {},
   "outputs": [
    {
     "data": {
      "image/png": "[encoded data removed]",
      "text/plain": [
       "<Figure size 864x360 with 4 Axes>"
      ]
     },
     "metadata": {
      "needs_background": "light"
     },
     "output_type": "display_data"
    }
   ],
   "source": [
    "fig, (ax1, ax2, ax3, ax4) = plt.subplots(1,4, figsize=(12,5))\n",
    "ax1.boxplot(sum_concentrane['первичная смесь'])\n",
    "ax1.set_title('первичная смесь')\n",
    "ax2.boxplot(sum_concentrane['флотация'])\n",
    "ax2.set_title('флотация')\n",
    "ax3.boxplot(sum_concentrane['очистка'])\n",
    "ax3.set_title('очистка')\n",
    "ax4.boxplot(sum_concentrane['концентрат'])\n",
    "ax4.set_title('концентрат');"
   ]
  },
  {
   "cell_type": "markdown",
   "metadata": {},
   "source": [
    "На графике заметна динамика насыщения концентрата всех анализируемых веществ. Однако вместе с увеличением среднего растут и выбросы! Поскольку мы имеем дело с концентрацией, то логично предположить, что нулевые и околонулевые значения не могут соответствовать реальности. Возможно, это связано с погрешностью или и вовсе сбоем прибора. Уберём эти значения из тренирновочной выборки"
   ]
  },
  {
   "cell_type": "code",
   "execution_count": 33,
   "metadata": {},
   "outputs": [
    {
     "data": {
      "text/plain": [
       "14149"
      ]
     },
     "execution_count": 33,
     "metadata": {},
     "output_type": "execute_result"
    }
   ],
   "source": [
    "df_train.shape[0]"
   ]
  },
  {
   "cell_type": "code",
   "execution_count": 34,
   "metadata": {},
   "outputs": [],
   "source": [
    "df_train = df_train[df_full['rougher.input.feed_pb'] > 1]\n",
    "df_train = df_train[df_full['rougher.input.feed_ag'] > 1]\n",
    "df_train = df_train[df_full['rougher.input.feed_au'] > 1]\n",
    "\n",
    "df_train = df_train[df_full['rougher.output.concentrate_pb'] > 1]\n",
    "df_train = df_train[df_full['rougher.output.concentrate_ag'] > 1]\n",
    "df_train = df_train[df_full['rougher.output.concentrate_au'] > 1]\n",
    "\n",
    "df_train = df_train[df_full['primary_cleaner.output.concentrate_pb'] > 1]\n",
    "df_train = df_train[df_full['primary_cleaner.output.concentrate_ag'] > 1]\n",
    "df_train = df_train[df_full['primary_cleaner.output.concentrate_au'] > 1]\n",
    "\n",
    "df_train = df_train[df_full['final.output.concentrate_pb'] > 1]\n",
    "df_train = df_train[df_full['final.output.concentrate_pb'] > 1]\n",
    "df_train = df_train[df_full['final.output.concentrate_pb'] > 1]"
   ]
  },
  {
   "cell_type": "code",
   "execution_count": 35,
   "metadata": {},
   "outputs": [
    {
     "data": {
      "text/plain": [
       "13627"
      ]
     },
     "execution_count": 35,
     "metadata": {},
     "output_type": "execute_result"
    }
   ],
   "source": [
    "df_train.shape[0]"
   ]
  },
  {
   "cell_type": "markdown",
   "metadata": {},
   "source": [
    "Мы избавились от `~500` строк с нулевыми и околонулевыми значениями в признаках концентратов"
   ]
  },
  {
   "cell_type": "markdown",
   "metadata": {},
   "source": [
    "## Модель"
   ]
  },
  {
   "cell_type": "markdown",
   "metadata": {},
   "source": [
    "### Напишем функцию для вычисления итоговой sMAPE"
   ]
  },
  {
   "cell_type": "markdown",
   "metadata": {},
   "source": [
    "Сначала объявим функцию для расчёта sMAPE для сырья и финальной стадии обработки<br>\n",
    "Затем объявим функцию, использующую предыдущую, для расчёта итоговой величины"
   ]
  },
  {
   "cell_type": "code",
   "execution_count": 36,
   "metadata": {},
   "outputs": [],
   "source": [
    "def smape(target_real, target_predict):\n",
    "    return sum(abs(target_real - target_predict)/((abs(target_real) + abs(target_predict))/2))*100/len(target_real)\n",
    "\n",
    "def result_smape(smape_rougher, smape_final):\n",
    "    return .25 * smape_rougher + .75 * smape_final"
   ]
  },
  {
   "cell_type": "markdown",
   "metadata": {},
   "source": [
    "###  Обучим разные модели и оценим их качество кросс-валидацией"
   ]
  },
  {
   "cell_type": "markdown",
   "metadata": {},
   "source": [
    "Выделим наши фичи и таргеты в тренировочной и тестовой выборках"
   ]
  },
  {
   "cell_type": "code",
   "execution_count": 37,
   "metadata": {},
   "outputs": [],
   "source": [
    "features_train = df_train.drop(columns=['rougher.output.recovery', 'final.output.recovery'], axis=1)\n",
    "target_rougher_train = df_train['rougher.output.recovery']\n",
    "target_final_train = df_train['final.output.recovery']\n",
    "\n",
    "features_test = df_test.drop(columns=['rougher.output.recovery', 'final.output.recovery'], axis=1)\n",
    "target_rougher_test = df_test['rougher.output.recovery']\n",
    "target_final_test = df_test['final.output.recovery']"
   ]
  },
  {
   "cell_type": "markdown",
   "metadata": {},
   "source": [
    "Поскольку нашей метрикой будет являться sMAPE, а проверять модель мы намерены RandomizedSearchCV, использующим нужную нам кроссвалидацию, воспользуемся функцией make_score, в которую передадим объявленный ранее sMAPE"
   ]
  },
  {
   "cell_type": "code",
   "execution_count": 38,
   "metadata": {},
   "outputs": [],
   "source": [
    "# Так как метрики в сёрче работают на увеличение показателя, поставим гиперпараметр, \n",
    "# отвечающий за выбор показателя метрики, равным False\n",
    "# Далее мы просто возьмём модуль числа\n",
    "smape_func = make_scorer(smape, greater_is_better=False)"
   ]
  },
  {
   "cell_type": "markdown",
   "metadata": {},
   "source": [
    "**Обучим Дерево решений и Случайный лес для этапов сырья и финального продукта**"
   ]
  },
  {
   "cell_type": "markdown",
   "metadata": {},
   "source": [
    "Дерево решений для сырья"
   ]
  },
  {
   "cell_type": "code",
   "execution_count": 39,
   "metadata": {},
   "outputs": [
    {
     "name": "stdout",
     "output_type": "stream",
     "text": [
      "sMAPE наилучшей модели: 11.40939634206888\n",
      "CPU times: user 20.5 s, sys: 0 ns, total: 20.5 s\n",
      "Wall time: 22.1 s\n"
     ]
    }
   ],
   "source": [
    "%%time\n",
    "tree = DecisionTreeRegressor(random_state=1)\n",
    "\n",
    "tree_param_grid = {'max_depth': range (1, 21)}\n",
    "tree_rs_rougher = RandomizedSearchCV(tree, tree_param_grid, scoring=smape_func, random_state=1)\n",
    "tree_rs_rougher.fit(features_train.drop(columns=['date'], axis=1), target_rougher_train)\n",
    "\n",
    "print(f'sMAPE наилучшей модели: {abs(tree_rs_rougher.best_score_)}')"
   ]
  },
  {
   "cell_type": "markdown",
   "metadata": {},
   "source": [
    "Дерево решений для финального продукта"
   ]
  },
  {
   "cell_type": "code",
   "execution_count": 40,
   "metadata": {},
   "outputs": [
    {
     "name": "stdout",
     "output_type": "stream",
     "text": [
      "sMAPE наилучшей модели: 9.978715159847923\n",
      "CPU times: user 20.4 s, sys: 32.2 ms, total: 20.5 s\n",
      "Wall time: 20.5 s\n"
     ]
    }
   ],
   "source": [
    "%%time\n",
    "tree = DecisionTreeRegressor(random_state=1)\n",
    "\n",
    "tree_param_grid = {'max_depth': range (1, 21)}\n",
    "tree_rs_final = RandomizedSearchCV(tree, tree_param_grid, scoring=smape_func, random_state=1)\n",
    "tree_rs_final.fit(features_train.drop(columns=['date'], axis=1), target_final_train)\n",
    "\n",
    "print(f'sMAPE наилучшей модели: {abs(tree_rs_final.best_score_)}')"
   ]
  },
  {
   "cell_type": "markdown",
   "metadata": {},
   "source": [
    "**Итоговый sMape Дерева решений**"
   ]
  },
  {
   "cell_type": "code",
   "execution_count": 41,
   "metadata": {},
   "outputs": [
    {
     "data": {
      "text/plain": [
       "10.336385455403162"
      ]
     },
     "execution_count": 41,
     "metadata": {},
     "output_type": "execute_result"
    }
   ],
   "source": [
    "result_smape(abs(tree_rs_rougher.best_score_), abs(tree_rs_final.best_score_))"
   ]
  },
  {
   "cell_type": "markdown",
   "metadata": {},
   "source": [
    "Случайный лес для сырья"
   ]
  },
  {
   "cell_type": "code",
   "execution_count": 42,
   "metadata": {},
   "outputs": [
    {
     "name": "stdout",
     "output_type": "stream",
     "text": [
      "sMAPE наилучшей модели: 10.834780970384411\n",
      "CPU times: user 6min 37s, sys: 536 ms, total: 6min 37s\n",
      "Wall time: 9min 20s\n"
     ]
    }
   ],
   "source": [
    "%%time\n",
    "forest = RandomForestRegressor(random_state=1)\n",
    "\n",
    "forest_params = {'n_estimators': range (10, 61, 10),\n",
    "              'max_depth': range (1, 21),\n",
    "              'min_samples_leaf': range (1, 21),\n",
    "              'min_samples_split': range (1, 21)\n",
    "              }\n",
    "\n",
    "forest_rs_rougher = RandomizedSearchCV(forest, forest_params, scoring=smape_func, random_state=1)\n",
    "\n",
    "forest_rs_rougher.fit(features_train.drop(columns=['date'], axis=1), target_rougher_train)\n",
    "\n",
    "print(f'sMAPE наилучшей модели: {abs(forest_rs_rougher.best_score_)}')"
   ]
  },
  {
   "cell_type": "markdown",
   "metadata": {},
   "source": [
    "Случайный лес для финального продукта"
   ]
  },
  {
   "cell_type": "code",
   "execution_count": 43,
   "metadata": {},
   "outputs": [
    {
     "name": "stdout",
     "output_type": "stream",
     "text": [
      "sMAPE наилучшей модели: 9.803026106188417\n",
      "CPU times: user 6min 24s, sys: 448 ms, total: 6min 24s\n",
      "Wall time: 6min 27s\n"
     ]
    }
   ],
   "source": [
    "%%time\n",
    "forest = RandomForestRegressor(random_state=1)\n",
    "\n",
    "forest_params = {'n_estimators': range (10, 61, 10),\n",
    "              'max_depth': range (1, 21),\n",
    "              'min_samples_leaf': range (1, 21),\n",
    "              'min_samples_split': range (1, 21)\n",
    "              }\n",
    "\n",
    "forest_rs_final = RandomizedSearchCV(forest, forest_params, scoring=smape_func, random_state=1)\n",
    "\n",
    "forest_rs_final.fit(features_train.drop(columns=['date'], axis=1), target_final_train)\n",
    "\n",
    "print(f'sMAPE наилучшей модели: {abs(forest_rs_final.best_score_)}')"
   ]
  },
  {
   "cell_type": "markdown",
   "metadata": {},
   "source": [
    "**Итоговый sMape Случайного леса**"
   ]
  },
  {
   "cell_type": "code",
   "execution_count": 44,
   "metadata": {},
   "outputs": [
    {
     "data": {
      "text/plain": [
       "10.060964822237416"
      ]
     },
     "execution_count": 44,
     "metadata": {},
     "output_type": "execute_result"
    }
   ],
   "source": [
    "result_smape(abs(forest_rs_rougher.best_score_), abs(forest_rs_final.best_score_))"
   ]
  },
  {
   "cell_type": "markdown",
   "metadata": {},
   "source": [
    "Сравнив итоговые показатели, мы пришли к выводу, что Случайный лес справился несколько лучше, нежели Дерево решений. В качестве проверки на адекватность нашей модели создадим модель-манекен и сравним sMAPE леса с её sMAPE"
   ]
  },
  {
   "cell_type": "code",
   "execution_count": 45,
   "metadata": {},
   "outputs": [
    {
     "name": "stdout",
     "output_type": "stream",
     "text": [
      "Итоговый sMAPE манекена: 11.187648053459304\n"
     ]
    }
   ],
   "source": [
    "dummy = DummyRegressor()\n",
    "dummy.fit(features_train.drop(columns=['date'], axis=1), target_rougher_train)\n",
    "\n",
    "smape_rougher_dummy = abs(cross_val_score(dummy, features_train.drop(columns=['date'], axis=1), target_rougher_train,\n",
    "                          scoring=smape_func)).mean()\n",
    "\n",
    "dummy = DummyRegressor()\n",
    "dummy.fit(features_train.drop(columns=['date'], axis=1), target_final_train)\n",
    "\n",
    "smape_final_dummy = abs(cross_val_score(dummy, features_train.drop(columns=['date'], axis=1), target_final_train,\n",
    "                          scoring=smape_func)).mean()\n",
    "\n",
    "print(f'Итоговый sMAPE манекена: {result_smape(abs(smape_rougher_dummy), abs(smape_final_dummy))}')"
   ]
  },
  {
   "cell_type": "markdown",
   "metadata": {},
   "source": [
    "Лучше Дерева и лучше манекена зарекомендовал себя Случайный лес. <br>\n",
    "Проверим его итоговый sMAPE на тестовой выборке"
   ]
  },
  {
   "cell_type": "code",
   "execution_count": 46,
   "metadata": {},
   "outputs": [
    {
     "name": "stdout",
     "output_type": "stream",
     "text": [
      "sMAPE Случайного леса на тесте: 9.784769884602717\n"
     ]
    }
   ],
   "source": [
    "smape_forest_rougher = smape(target_rougher_test, forest_rs_rougher.predict(features_test.drop(columns=['date'], axis=1)))\n",
    "smape_forest_final = smape(target_final_test, forest_rs_final.predict(features_test.drop(columns=['date'], axis=1)))\n",
    "\n",
    "print(f'sMAPE Случайного леса на тесте: {result_smape(smape_forest_rougher, smape_forest_final)}')"
   ]
  },
  {
   "cell_type": "markdown",
   "metadata": {},
   "source": [
    "**Вывод**<br>\n",
    "По итогу исследования мы выяснили, что с предсказаниями концентрата вещества на этапаха сырья и финального продукта лучше всего справляется Случайный лес. Его итоговый sMAPE на тестовой выборке составил `~9.8` единиц против `~11.2` у модели-манекена. Цель исследования достигнута."
   ]
  },
  {
   "cell_type": "markdown",
   "metadata": {},
   "source": [
    "<div style=\"border:solid Chocolate 2px; padding: 40px\">\n",
    "\n",
    "\n",
    "<h2> Итоговый комментарий ревьюера v.1 <a class=\"tocSkip\"> </h2>    \n",
    "    \n",
    "  \n",
    "У меня сложилось хорошее общее впечатление о проекте, тебе удалось неплохо справиться с таким объемным и сложным проектом. Молодец! Подготовлены данные для анализа, изучен каждый параметр. Все красиво визуализировано, построено несколько моделей регрессии и оценено их качество. Осмысленная аналитика и дельная модельная работа - многое удалось как надо)\n",
    "    \n",
    "Отмечу отдельные положительные моменты проекта🙂:\n",
    "    \n",
    "- в ходе проекта встречались функции, помогающие избавиться от дублирования кода;\n",
    "- много красивых визуализаций в проекте и хорошая интерпретация;\n",
    "- при обучении моделей использована кросс-валидация и поиск гиперпараметров.\n",
    "    \n",
    "Проект может быть зачтен, но я его отправлю назад, чтобы у тебя была возможность задать вопросы и внести правки, при желании. Однако, ты можешь просто вернуть проект в таком же виде и я его зачту."
   ]
  },
  {
   "cell_type": "markdown",
   "metadata": {},
   "source": [
    "<br/>    \n",
    "<div class=\"alert alert-info\">\n",
    "<h2> Комментарий студента: <a class=\"tocSkip\"> </h2>\n",
    "\n",
    "<b>👋:</b> Спасибо огромное за предоставленные ресурсы, буду изучать материалы!) Всего тебе доброго и с наступающим Новым годом!))\n",
    "</div> "
   ]
  },
  {
   "cell_type": "markdown",
   "metadata": {},
   "source": [
    "<div style=\"border:solid Chocolate 2px; padding: 40px\">\n",
    "\n",
    "\n",
    "<h2> Итоговый комментарий ревьюера v.2 <a class=\"tocSkip\"> </h2>    \n",
    "    \n",
    "     \n",
    "  \n",
    "Пожалуйста! Принимаю работу)\n",
    "    \n",
    "Если хочешь лучше разобраться в ML, то могу посоветовать тебе: \n",
    "    \n",
    "- Открытый курс машинного обучения: https://habr.com/ru/company/ods/blog/322626/   \n",
    "    \n",
    "- Книжка от ШАД: https://academy.yandex.ru/handbook/ml/\n",
    "    \n",
    "- Также рекомендую лекции от Andrew Ng: https://www.youtube.com/watch?v=PPLop4L2eGk&list=PLLssT5z_DsK-h9vYZkQkYNWcItqhlRJLN\n",
    "- Избежать утечки данных при кросс-валидации тебе поможет <a href=\"https://towardsdatascience.com/pipeline-columntransformer-and-featureunion-explained-f5491f815f\">конвеерная обработка данных</a>.     \n",
    "    \n",
    "- Не все признаки приносят пользу при моделировании. Инструмент <a href=\"https://proglib.io/p/feature-selector\">FeatureSelector</a> поможет тебе отобрать важные признаки и избавит от ручной обработки.  Также можешь посмотреть статью на <a href=\"https://www.kaggle.com/code/prashant111/comprehensive-guide-on-feature-selection/notebook\">Kaggle</a>.    \n",
    "    \n",
    "    \n",
    "В этом проекте были отработаны несколько моментов. А самый очевидный: заметно, что разность метрик качества (константной и нашей модели) -  не слишком большая. Такое расхождение метрик допустимо в этом проекте. Что тогда  для дальнейшего улучшения качества моделирования возможно тут пересмотреть?\n",
    "Попробую описать для тебя:\n",
    "1. Качество данных на входе модели машинного обучения: повторно оценить аномалии, пропуски, соответствие законам химии и физики, все ли правдоподобно?\n",
    "2. Работа с моделями машинного обучения:\n",
    "- Создание новых признаков для моделей, Features Engineering: возможно стоит обратиться к технологу производства и ещё раз пробежаться по бизнес-цепочке процесса.\n",
    "- Отбор самих моделей машинного обучения и гиперпараметров.\n",
    "    \n",
    "3. Параметры производственного процесса, к примеру: температура сырья, скорость ленточного конвейера, и.т.п.\n",
    "    \n",
    "\n",
    "Если провести Анализ измерительных систем, или MSA, то можно разобраться в причинах неточности полученных с производства данных. Статистический анализ данных, или SPC, - тоже будет являться незаменимым помощником в решении нашей задачи.\n",
    "    \n",
    "Добавлю здесь, что цель нашего проекта достигнута, а именно пройдены важные этапы подготовки данных и построения модели для производства золота.\n",
    "    \n",
    "Успехов тебе в следующем спринте!\n",
    "    \n",
    "Рад был помочь тебе)\n",
    "    \n",
    "</div>"
   ]
  },
  {
   "cell_type": "markdown",
   "metadata": {},
   "source": [
    "## Чек-лист готовности проекта"
   ]
  },
  {
   "cell_type": "markdown",
   "metadata": {},
   "source": [
    "- [x]  Jupyter Notebook открыт\n",
    "- [x]  Весь код выполняется без ошибок\n",
    "- [x]  Ячейки с кодом расположены в порядке выполнения\n",
    "- [x]  Выполнен шаг 1: данные подготовлены\n",
    "    - [x]  Проверена формула вычисления эффективности обогащения\n",
    "    - [x]  Проанализированы признаки, недоступные в тестовой выборке\n",
    "    - [x]  Проведена предобработка данных\n",
    "- [x]  Выполнен шаг 2: данные проанализированы\n",
    "    - [x]  Исследовано изменение концентрации элементов на каждом этапе\n",
    "    - [x]  Проанализированы распределения размеров гранул на обучающей и тестовой выборках\n",
    "    - [x]  Исследованы суммарные концентрации\n",
    "- [x]  Выполнен шаг 3: построена модель прогнозирования\n",
    "    - [x]  Написана функция для вычисления итогового *sMAPE*\n",
    "    - [x]  Обучено и проверено несколько моделей\n",
    "    - [x]  Выбрана лучшая модель, её качество проверено на тестовой выборке"
   ]
  }
 ],
 "metadata": {
  "ExecuteTimeLog": [
   {
    "duration": 77,
    "start_time": "2022-12-27T18:27:34.368Z"
   },
   {
    "duration": 1083,
    "start_time": "2022-12-27T18:28:00.551Z"
   },
   {
    "duration": 134,
    "start_time": "2022-12-27T18:28:01.636Z"
   },
   {
    "duration": 0,
    "start_time": "2022-12-27T18:28:01.771Z"
   },
   {
    "duration": 0,
    "start_time": "2022-12-27T18:28:01.773Z"
   },
   {
    "duration": 0,
    "start_time": "2022-12-27T18:28:01.773Z"
   },
   {
    "duration": 0,
    "start_time": "2022-12-27T18:28:01.774Z"
   },
   {
    "duration": 0,
    "start_time": "2022-12-27T18:28:01.775Z"
   },
   {
    "duration": 0,
    "start_time": "2022-12-27T18:28:01.777Z"
   },
   {
    "duration": 1,
    "start_time": "2022-12-27T18:28:01.777Z"
   },
   {
    "duration": 0,
    "start_time": "2022-12-27T18:28:01.778Z"
   },
   {
    "duration": 0,
    "start_time": "2022-12-27T18:28:01.779Z"
   },
   {
    "duration": 0,
    "start_time": "2022-12-27T18:28:01.781Z"
   },
   {
    "duration": 3,
    "start_time": "2022-12-27T18:28:38.048Z"
   },
   {
    "duration": 1728,
    "start_time": "2022-12-27T18:28:38.055Z"
   },
   {
    "duration": 24,
    "start_time": "2022-12-27T18:28:39.785Z"
   },
   {
    "duration": 17,
    "start_time": "2022-12-27T18:28:39.810Z"
   },
   {
    "duration": 15,
    "start_time": "2022-12-27T18:28:39.829Z"
   },
   {
    "duration": 20,
    "start_time": "2022-12-27T18:28:39.845Z"
   },
   {
    "duration": 17,
    "start_time": "2022-12-27T18:28:39.867Z"
   },
   {
    "duration": 45,
    "start_time": "2022-12-27T18:28:39.886Z"
   },
   {
    "duration": 19,
    "start_time": "2022-12-27T18:28:39.933Z"
   },
   {
    "duration": 14,
    "start_time": "2022-12-27T18:28:39.953Z"
   },
   {
    "duration": 8,
    "start_time": "2022-12-27T18:28:39.969Z"
   },
   {
    "duration": 73,
    "start_time": "2022-12-27T18:28:39.979Z"
   },
   {
    "duration": 92,
    "start_time": "2022-12-27T18:32:31.094Z"
   },
   {
    "duration": 10,
    "start_time": "2022-12-27T18:33:55.527Z"
   },
   {
    "duration": 73,
    "start_time": "2022-12-27T18:45:28.711Z"
   },
   {
    "duration": 3,
    "start_time": "2022-12-27T18:50:28.825Z"
   },
   {
    "duration": 640,
    "start_time": "2022-12-27T18:50:28.830Z"
   },
   {
    "duration": 19,
    "start_time": "2022-12-27T18:50:29.473Z"
   },
   {
    "duration": 31,
    "start_time": "2022-12-27T18:50:29.493Z"
   },
   {
    "duration": 14,
    "start_time": "2022-12-27T18:50:29.526Z"
   },
   {
    "duration": 19,
    "start_time": "2022-12-27T18:50:29.542Z"
   },
   {
    "duration": 21,
    "start_time": "2022-12-27T18:50:29.562Z"
   },
   {
    "duration": 42,
    "start_time": "2022-12-27T18:50:29.585Z"
   },
   {
    "duration": 20,
    "start_time": "2022-12-27T18:50:29.629Z"
   },
   {
    "duration": 13,
    "start_time": "2022-12-27T18:50:29.651Z"
   },
   {
    "duration": 9,
    "start_time": "2022-12-27T18:50:29.667Z"
   },
   {
    "duration": 11,
    "start_time": "2022-12-27T18:50:29.678Z"
   },
   {
    "duration": 31,
    "start_time": "2022-12-27T18:50:29.691Z"
   },
   {
    "duration": 15,
    "start_time": "2022-12-27T18:50:29.724Z"
   },
   {
    "duration": 19,
    "start_time": "2022-12-27T18:50:29.740Z"
   },
   {
    "duration": 17,
    "start_time": "2022-12-27T18:50:29.761Z"
   },
   {
    "duration": 14,
    "start_time": "2022-12-27T18:50:29.780Z"
   },
   {
    "duration": 12,
    "start_time": "2022-12-27T18:50:29.796Z"
   },
   {
    "duration": 15,
    "start_time": "2022-12-27T18:50:29.809Z"
   },
   {
    "duration": 17,
    "start_time": "2022-12-27T18:50:29.825Z"
   },
   {
    "duration": 0,
    "start_time": "2022-12-27T18:50:29.843Z"
   },
   {
    "duration": 15,
    "start_time": "2022-12-27T18:53:21.334Z"
   },
   {
    "duration": 22,
    "start_time": "2022-12-27T18:53:44.359Z"
   },
   {
    "duration": 31,
    "start_time": "2022-12-27T18:54:56.279Z"
   },
   {
    "duration": 30,
    "start_time": "2022-12-27T18:57:48.813Z"
   },
   {
    "duration": 10,
    "start_time": "2022-12-27T18:58:31.819Z"
   },
   {
    "duration": 26,
    "start_time": "2022-12-27T18:58:36.831Z"
   },
   {
    "duration": 20,
    "start_time": "2022-12-27T18:59:24.563Z"
   },
   {
    "duration": 20,
    "start_time": "2022-12-27T18:59:41.755Z"
   },
   {
    "duration": 20,
    "start_time": "2022-12-27T19:00:38.214Z"
   },
   {
    "duration": 7,
    "start_time": "2022-12-27T19:05:53.055Z"
   },
   {
    "duration": 12,
    "start_time": "2022-12-27T19:05:58.669Z"
   },
   {
    "duration": 5,
    "start_time": "2022-12-27T19:06:45.622Z"
   },
   {
    "duration": 4,
    "start_time": "2022-12-27T19:06:55.813Z"
   },
   {
    "duration": 4,
    "start_time": "2022-12-27T19:07:03.215Z"
   },
   {
    "duration": 11,
    "start_time": "2022-12-27T19:07:30.923Z"
   },
   {
    "duration": 8,
    "start_time": "2022-12-27T19:42:52.508Z"
   },
   {
    "duration": 8,
    "start_time": "2022-12-27T19:43:12.037Z"
   },
   {
    "duration": 1152,
    "start_time": "2022-12-27T19:43:37.048Z"
   },
   {
    "duration": 7,
    "start_time": "2022-12-27T19:43:44.347Z"
   },
   {
    "duration": 15,
    "start_time": "2022-12-27T19:47:14.091Z"
   },
   {
    "duration": 7,
    "start_time": "2022-12-27T19:47:40.405Z"
   },
   {
    "duration": 3,
    "start_time": "2022-12-27T19:48:00.811Z"
   },
   {
    "duration": 5,
    "start_time": "2022-12-27T19:48:07.207Z"
   },
   {
    "duration": 4,
    "start_time": "2022-12-27T19:48:51.036Z"
   },
   {
    "duration": 8,
    "start_time": "2022-12-27T19:50:35.382Z"
   },
   {
    "duration": 13,
    "start_time": "2022-12-27T19:50:50.926Z"
   },
   {
    "duration": 15,
    "start_time": "2022-12-27T19:53:23.211Z"
   },
   {
    "duration": 8,
    "start_time": "2022-12-27T19:54:02.542Z"
   },
   {
    "duration": 460,
    "start_time": "2022-12-27T19:54:14.482Z"
   },
   {
    "duration": 391,
    "start_time": "2022-12-27T19:54:30.108Z"
   },
   {
    "duration": 365,
    "start_time": "2022-12-27T19:54:48.026Z"
   },
   {
    "duration": 399,
    "start_time": "2022-12-27T19:54:58.482Z"
   },
   {
    "duration": 43,
    "start_time": "2022-12-27T19:55:48.644Z"
   },
   {
    "duration": 11,
    "start_time": "2022-12-27T19:55:57.668Z"
   },
   {
    "duration": 509,
    "start_time": "2022-12-27T19:56:08.394Z"
   },
   {
    "duration": 3,
    "start_time": "2022-12-27T19:59:28.169Z"
   },
   {
    "duration": 683,
    "start_time": "2022-12-27T19:59:28.174Z"
   },
   {
    "duration": 20,
    "start_time": "2022-12-27T19:59:28.859Z"
   },
   {
    "duration": 20,
    "start_time": "2022-12-27T19:59:28.880Z"
   },
   {
    "duration": 26,
    "start_time": "2022-12-27T19:59:28.902Z"
   },
   {
    "duration": 18,
    "start_time": "2022-12-27T19:59:28.929Z"
   },
   {
    "duration": 16,
    "start_time": "2022-12-27T19:59:28.949Z"
   },
   {
    "duration": 14,
    "start_time": "2022-12-27T19:59:28.966Z"
   },
   {
    "duration": 46,
    "start_time": "2022-12-27T19:59:28.982Z"
   },
   {
    "duration": 16,
    "start_time": "2022-12-27T19:59:29.029Z"
   },
   {
    "duration": 9,
    "start_time": "2022-12-27T19:59:29.047Z"
   },
   {
    "duration": 9,
    "start_time": "2022-12-27T19:59:29.057Z"
   },
   {
    "duration": 3,
    "start_time": "2022-12-27T19:59:29.068Z"
   },
   {
    "duration": 8,
    "start_time": "2022-12-27T19:59:29.074Z"
   },
   {
    "duration": 41,
    "start_time": "2022-12-27T19:59:29.084Z"
   },
   {
    "duration": 5,
    "start_time": "2022-12-27T19:59:29.127Z"
   },
   {
    "duration": 10,
    "start_time": "2022-12-27T19:59:29.133Z"
   },
   {
    "duration": 19,
    "start_time": "2022-12-27T19:59:29.145Z"
   },
   {
    "duration": 7,
    "start_time": "2022-12-27T19:59:29.166Z"
   },
   {
    "duration": 12,
    "start_time": "2022-12-27T19:59:29.175Z"
   },
   {
    "duration": 51,
    "start_time": "2022-12-27T19:59:29.188Z"
   },
   {
    "duration": 6,
    "start_time": "2022-12-27T19:59:29.241Z"
   },
   {
    "duration": 7,
    "start_time": "2022-12-27T19:59:29.249Z"
   },
   {
    "duration": 17,
    "start_time": "2022-12-27T19:59:29.257Z"
   },
   {
    "duration": 413,
    "start_time": "2022-12-27T19:59:29.275Z"
   },
   {
    "duration": 6,
    "start_time": "2022-12-27T19:59:29.690Z"
   },
   {
    "duration": 417,
    "start_time": "2022-12-27T19:59:29.698Z"
   },
   {
    "duration": 9,
    "start_time": "2022-12-27T20:00:27.479Z"
   },
   {
    "duration": 10,
    "start_time": "2022-12-27T20:00:33.918Z"
   },
   {
    "duration": 14,
    "start_time": "2022-12-27T20:00:44.710Z"
   },
   {
    "duration": 3,
    "start_time": "2022-12-27T20:02:56.882Z"
   },
   {
    "duration": 471,
    "start_time": "2022-12-27T20:03:02.628Z"
   },
   {
    "duration": 376,
    "start_time": "2022-12-27T20:03:05.019Z"
   },
   {
    "duration": 11,
    "start_time": "2022-12-27T20:08:06.306Z"
   },
   {
    "duration": 10,
    "start_time": "2022-12-27T20:08:39.541Z"
   },
   {
    "duration": 9,
    "start_time": "2022-12-27T20:08:50.510Z"
   },
   {
    "duration": 14,
    "start_time": "2022-12-27T20:08:57.412Z"
   },
   {
    "duration": 28,
    "start_time": "2022-12-27T20:09:29.372Z"
   },
   {
    "duration": 6,
    "start_time": "2022-12-27T20:22:40.495Z"
   },
   {
    "duration": 11,
    "start_time": "2022-12-27T20:22:43.175Z"
   },
   {
    "duration": 9,
    "start_time": "2022-12-27T20:22:49.876Z"
   },
   {
    "duration": 15,
    "start_time": "2022-12-27T20:25:32.136Z"
   },
   {
    "duration": 11,
    "start_time": "2022-12-27T20:25:36.396Z"
   },
   {
    "duration": 13,
    "start_time": "2022-12-27T20:29:59.937Z"
   },
   {
    "duration": 11,
    "start_time": "2022-12-27T20:30:01.865Z"
   },
   {
    "duration": 3,
    "start_time": "2022-12-27T20:32:06.812Z"
   },
   {
    "duration": 20,
    "start_time": "2022-12-27T20:32:44.679Z"
   },
   {
    "duration": 142,
    "start_time": "2022-12-27T20:32:58.176Z"
   },
   {
    "duration": 132,
    "start_time": "2022-12-27T20:33:07.908Z"
   },
   {
    "duration": 115,
    "start_time": "2022-12-27T20:33:29.995Z"
   },
   {
    "duration": 11,
    "start_time": "2022-12-27T20:33:44.474Z"
   },
   {
    "duration": 108,
    "start_time": "2022-12-27T20:34:00.807Z"
   },
   {
    "duration": 112,
    "start_time": "2022-12-27T20:34:11.528Z"
   },
   {
    "duration": 198,
    "start_time": "2022-12-27T20:35:14.479Z"
   },
   {
    "duration": 90,
    "start_time": "2022-12-27T20:35:32.912Z"
   },
   {
    "duration": 107,
    "start_time": "2022-12-27T20:36:56.679Z"
   },
   {
    "duration": 98,
    "start_time": "2022-12-27T20:37:01.373Z"
   },
   {
    "duration": 104,
    "start_time": "2022-12-27T20:37:12.514Z"
   },
   {
    "duration": 9,
    "start_time": "2022-12-27T20:37:29.358Z"
   },
   {
    "duration": 98,
    "start_time": "2022-12-27T20:37:42.663Z"
   },
   {
    "duration": 147,
    "start_time": "2022-12-27T20:37:50.317Z"
   },
   {
    "duration": 112,
    "start_time": "2022-12-27T20:38:07.429Z"
   },
   {
    "duration": 111,
    "start_time": "2022-12-27T20:38:18.764Z"
   },
   {
    "duration": 95,
    "start_time": "2022-12-27T20:38:26.053Z"
   },
   {
    "duration": 102,
    "start_time": "2022-12-27T20:38:32.551Z"
   },
   {
    "duration": 102,
    "start_time": "2022-12-27T20:38:37.922Z"
   },
   {
    "duration": 119,
    "start_time": "2022-12-27T20:39:08.550Z"
   },
   {
    "duration": 112,
    "start_time": "2022-12-27T20:39:13.778Z"
   },
   {
    "duration": 96,
    "start_time": "2022-12-27T20:39:21.857Z"
   },
   {
    "duration": 203,
    "start_time": "2022-12-27T20:42:48.664Z"
   },
   {
    "duration": 209,
    "start_time": "2022-12-27T20:43:10.946Z"
   },
   {
    "duration": 210,
    "start_time": "2022-12-27T20:43:15.450Z"
   },
   {
    "duration": 312,
    "start_time": "2022-12-27T20:43:38.076Z"
   },
   {
    "duration": 197,
    "start_time": "2022-12-27T20:46:57.909Z"
   },
   {
    "duration": 200,
    "start_time": "2022-12-27T20:48:11.016Z"
   },
   {
    "duration": 236,
    "start_time": "2022-12-27T20:48:54.175Z"
   },
   {
    "duration": 196,
    "start_time": "2022-12-27T20:49:08.320Z"
   },
   {
    "duration": 191,
    "start_time": "2022-12-27T20:49:15.227Z"
   },
   {
    "duration": 288,
    "start_time": "2022-12-27T20:50:08.512Z"
   },
   {
    "duration": 493,
    "start_time": "2022-12-27T20:50:25.435Z"
   },
   {
    "duration": 284,
    "start_time": "2022-12-27T20:50:41.224Z"
   },
   {
    "duration": 184,
    "start_time": "2022-12-27T20:50:48.032Z"
   },
   {
    "duration": 193,
    "start_time": "2022-12-27T20:54:49.642Z"
   },
   {
    "duration": 201,
    "start_time": "2022-12-27T20:54:57.909Z"
   },
   {
    "duration": 198,
    "start_time": "2022-12-27T20:56:36.867Z"
   },
   {
    "duration": 172,
    "start_time": "2022-12-27T20:56:46.536Z"
   },
   {
    "duration": 197,
    "start_time": "2022-12-27T20:56:52.872Z"
   },
   {
    "duration": 315,
    "start_time": "2022-12-27T20:56:57.054Z"
   },
   {
    "duration": 186,
    "start_time": "2022-12-27T20:58:06.911Z"
   },
   {
    "duration": 217,
    "start_time": "2022-12-27T20:58:18.011Z"
   },
   {
    "duration": 205,
    "start_time": "2022-12-27T20:58:29.268Z"
   },
   {
    "duration": 239,
    "start_time": "2022-12-27T20:58:31.144Z"
   },
   {
    "duration": 223,
    "start_time": "2022-12-27T20:58:44.111Z"
   },
   {
    "duration": 215,
    "start_time": "2022-12-27T20:58:53.808Z"
   },
   {
    "duration": 214,
    "start_time": "2022-12-27T20:59:02.023Z"
   },
   {
    "duration": 178,
    "start_time": "2022-12-27T20:59:10.214Z"
   },
   {
    "duration": 174,
    "start_time": "2022-12-27T20:59:35.275Z"
   },
   {
    "duration": 249,
    "start_time": "2022-12-27T21:00:37.845Z"
   },
   {
    "duration": 437,
    "start_time": "2022-12-27T21:00:48.937Z"
   },
   {
    "duration": 195,
    "start_time": "2022-12-27T21:00:59.438Z"
   },
   {
    "duration": 247,
    "start_time": "2022-12-27T21:01:06.127Z"
   },
   {
    "duration": 172,
    "start_time": "2022-12-27T21:01:17.279Z"
   },
   {
    "duration": 183,
    "start_time": "2022-12-27T21:01:22.108Z"
   },
   {
    "duration": 193,
    "start_time": "2022-12-27T21:01:27.559Z"
   },
   {
    "duration": 196,
    "start_time": "2022-12-27T21:03:16.112Z"
   },
   {
    "duration": 211,
    "start_time": "2022-12-27T21:03:41.749Z"
   },
   {
    "duration": 218,
    "start_time": "2022-12-27T21:03:51.824Z"
   },
   {
    "duration": 392,
    "start_time": "2022-12-27T21:05:03.527Z"
   },
   {
    "duration": 209,
    "start_time": "2022-12-27T21:05:17.461Z"
   },
   {
    "duration": 245,
    "start_time": "2022-12-27T21:05:23.916Z"
   },
   {
    "duration": 219,
    "start_time": "2022-12-27T21:05:47.252Z"
   },
   {
    "duration": 250,
    "start_time": "2022-12-27T21:05:57.512Z"
   },
   {
    "duration": 192,
    "start_time": "2022-12-27T21:06:10.781Z"
   },
   {
    "duration": 186,
    "start_time": "2022-12-27T21:06:24.949Z"
   },
   {
    "duration": 197,
    "start_time": "2022-12-27T21:06:35.109Z"
   },
   {
    "duration": 206,
    "start_time": "2022-12-27T21:10:27.533Z"
   },
   {
    "duration": 1173,
    "start_time": "2022-12-27T21:18:28.609Z"
   },
   {
    "duration": 1522,
    "start_time": "2022-12-28T14:54:08.714Z"
   },
   {
    "duration": 3292,
    "start_time": "2022-12-28T14:54:10.238Z"
   },
   {
    "duration": 25,
    "start_time": "2022-12-28T14:54:13.532Z"
   },
   {
    "duration": 20,
    "start_time": "2022-12-28T14:54:13.560Z"
   },
   {
    "duration": 29,
    "start_time": "2022-12-28T14:54:13.581Z"
   },
   {
    "duration": 20,
    "start_time": "2022-12-28T14:54:13.612Z"
   },
   {
    "duration": 40,
    "start_time": "2022-12-28T14:54:13.633Z"
   },
   {
    "duration": 15,
    "start_time": "2022-12-28T14:54:13.675Z"
   },
   {
    "duration": 30,
    "start_time": "2022-12-28T14:54:13.692Z"
   },
   {
    "duration": 35,
    "start_time": "2022-12-28T14:54:13.726Z"
   },
   {
    "duration": 11,
    "start_time": "2022-12-28T14:54:13.763Z"
   },
   {
    "duration": 11,
    "start_time": "2022-12-28T14:54:13.777Z"
   },
   {
    "duration": 9,
    "start_time": "2022-12-28T14:54:13.789Z"
   },
   {
    "duration": 14,
    "start_time": "2022-12-28T14:54:13.800Z"
   },
   {
    "duration": 14,
    "start_time": "2022-12-28T14:54:13.816Z"
   },
   {
    "duration": 10,
    "start_time": "2022-12-28T14:54:13.831Z"
   },
   {
    "duration": 27,
    "start_time": "2022-12-28T14:54:13.843Z"
   },
   {
    "duration": 24,
    "start_time": "2022-12-28T14:54:13.876Z"
   },
   {
    "duration": 10,
    "start_time": "2022-12-28T14:54:13.901Z"
   },
   {
    "duration": 17,
    "start_time": "2022-12-28T14:54:13.912Z"
   },
   {
    "duration": 23,
    "start_time": "2022-12-28T14:54:13.931Z"
   },
   {
    "duration": 26,
    "start_time": "2022-12-28T14:54:13.955Z"
   },
   {
    "duration": 11,
    "start_time": "2022-12-28T14:54:13.983Z"
   },
   {
    "duration": 18,
    "start_time": "2022-12-28T14:54:13.995Z"
   },
   {
    "duration": 24,
    "start_time": "2022-12-28T14:54:14.014Z"
   },
   {
    "duration": 12,
    "start_time": "2022-12-28T14:54:14.040Z"
   },
   {
    "duration": 25,
    "start_time": "2022-12-28T14:54:14.054Z"
   },
   {
    "duration": 236,
    "start_time": "2022-12-28T14:54:14.082Z"
   },
   {
    "duration": 12,
    "start_time": "2022-12-28T14:54:14.320Z"
   },
   {
    "duration": 199,
    "start_time": "2022-12-28T14:57:32.814Z"
   },
   {
    "duration": 185,
    "start_time": "2022-12-28T14:58:10.393Z"
   },
   {
    "duration": 1215,
    "start_time": "2022-12-28T15:00:56.684Z"
   },
   {
    "duration": 114,
    "start_time": "2022-12-28T15:03:19.493Z"
   },
   {
    "duration": 12,
    "start_time": "2022-12-28T15:03:39.279Z"
   },
   {
    "duration": 13,
    "start_time": "2022-12-28T15:03:48.069Z"
   },
   {
    "duration": 1317,
    "start_time": "2022-12-28T15:04:44.183Z"
   },
   {
    "duration": 6,
    "start_time": "2022-12-28T15:05:01.684Z"
   },
   {
    "duration": 1252,
    "start_time": "2022-12-28T15:05:58.868Z"
   },
   {
    "duration": 10,
    "start_time": "2022-12-28T15:06:06.422Z"
   },
   {
    "duration": 583,
    "start_time": "2022-12-28T15:06:56.442Z"
   },
   {
    "duration": 1065,
    "start_time": "2022-12-28T15:07:21.579Z"
   },
   {
    "duration": 551,
    "start_time": "2022-12-28T15:07:59.732Z"
   },
   {
    "duration": 525,
    "start_time": "2022-12-28T15:08:06.221Z"
   },
   {
    "duration": 583,
    "start_time": "2022-12-28T15:08:32.341Z"
   },
   {
    "duration": 526,
    "start_time": "2022-12-28T15:08:59.727Z"
   },
   {
    "duration": 548,
    "start_time": "2022-12-28T15:09:06.209Z"
   },
   {
    "duration": 552,
    "start_time": "2022-12-28T15:09:24.993Z"
   },
   {
    "duration": 551,
    "start_time": "2022-12-28T15:09:32.830Z"
   },
   {
    "duration": 49,
    "start_time": "2022-12-28T15:21:04.885Z"
   },
   {
    "duration": 12,
    "start_time": "2022-12-28T15:25:48.598Z"
   },
   {
    "duration": 581,
    "start_time": "2022-12-28T15:26:06.176Z"
   },
   {
    "duration": 13,
    "start_time": "2022-12-28T15:26:35.275Z"
   },
   {
    "duration": 584,
    "start_time": "2022-12-28T15:26:37.472Z"
   },
   {
    "duration": 658,
    "start_time": "2022-12-28T15:28:59.781Z"
   },
   {
    "duration": 11,
    "start_time": "2022-12-28T15:29:08.872Z"
   },
   {
    "duration": 6,
    "start_time": "2022-12-28T15:29:17.002Z"
   },
   {
    "duration": 7,
    "start_time": "2022-12-28T15:29:27.810Z"
   },
   {
    "duration": 6,
    "start_time": "2022-12-28T15:29:50.294Z"
   },
   {
    "duration": 15,
    "start_time": "2022-12-28T15:30:29.698Z"
   },
   {
    "duration": 6,
    "start_time": "2022-12-28T15:30:31.613Z"
   },
   {
    "duration": 473,
    "start_time": "2022-12-28T15:30:42.897Z"
   },
   {
    "duration": 15,
    "start_time": "2022-12-28T15:31:35.432Z"
   },
   {
    "duration": 479,
    "start_time": "2022-12-28T15:31:37.682Z"
   },
   {
    "duration": 13,
    "start_time": "2022-12-28T15:32:05.340Z"
   },
   {
    "duration": 129,
    "start_time": "2022-12-28T15:32:23.078Z"
   },
   {
    "duration": 12,
    "start_time": "2022-12-28T15:32:51.761Z"
   },
   {
    "duration": 96,
    "start_time": "2022-12-28T15:33:06.240Z"
   },
   {
    "duration": 3,
    "start_time": "2022-12-28T15:33:34.036Z"
   },
   {
    "duration": 698,
    "start_time": "2022-12-28T15:33:34.043Z"
   },
   {
    "duration": 20,
    "start_time": "2022-12-28T15:33:34.743Z"
   },
   {
    "duration": 41,
    "start_time": "2022-12-28T15:33:34.765Z"
   },
   {
    "duration": 16,
    "start_time": "2022-12-28T15:33:34.808Z"
   },
   {
    "duration": 19,
    "start_time": "2022-12-28T15:33:34.826Z"
   },
   {
    "duration": 23,
    "start_time": "2022-12-28T15:33:34.847Z"
   },
   {
    "duration": 14,
    "start_time": "2022-12-28T15:33:34.877Z"
   },
   {
    "duration": 26,
    "start_time": "2022-12-28T15:33:34.893Z"
   },
   {
    "duration": 18,
    "start_time": "2022-12-28T15:33:34.921Z"
   },
   {
    "duration": 15,
    "start_time": "2022-12-28T15:33:34.942Z"
   },
   {
    "duration": 23,
    "start_time": "2022-12-28T15:33:34.959Z"
   },
   {
    "duration": 23,
    "start_time": "2022-12-28T15:33:34.984Z"
   },
   {
    "duration": 38,
    "start_time": "2022-12-28T15:33:35.008Z"
   },
   {
    "duration": 27,
    "start_time": "2022-12-28T15:33:35.047Z"
   },
   {
    "duration": 10,
    "start_time": "2022-12-28T15:33:35.076Z"
   },
   {
    "duration": 12,
    "start_time": "2022-12-28T15:33:35.088Z"
   },
   {
    "duration": 13,
    "start_time": "2022-12-28T15:33:35.102Z"
   },
   {
    "duration": 7,
    "start_time": "2022-12-28T15:33:35.116Z"
   },
   {
    "duration": 11,
    "start_time": "2022-12-28T15:33:35.125Z"
   },
   {
    "duration": 44,
    "start_time": "2022-12-28T15:33:35.137Z"
   },
   {
    "duration": 6,
    "start_time": "2022-12-28T15:33:35.183Z"
   },
   {
    "duration": 7,
    "start_time": "2022-12-28T15:33:35.191Z"
   },
   {
    "duration": 14,
    "start_time": "2022-12-28T15:33:35.199Z"
   },
   {
    "duration": 25,
    "start_time": "2022-12-28T15:33:35.215Z"
   },
   {
    "duration": 40,
    "start_time": "2022-12-28T15:33:35.241Z"
   },
   {
    "duration": 9,
    "start_time": "2022-12-28T15:33:35.282Z"
   },
   {
    "duration": 252,
    "start_time": "2022-12-28T15:33:35.293Z"
   },
   {
    "duration": 620,
    "start_time": "2022-12-28T15:33:35.547Z"
   },
   {
    "duration": 586,
    "start_time": "2022-12-28T15:33:36.169Z"
   },
   {
    "duration": 2,
    "start_time": "2022-12-28T15:33:36.757Z"
   },
   {
    "duration": 98,
    "start_time": "2022-12-28T15:33:36.761Z"
   },
   {
    "duration": 14,
    "start_time": "2022-12-28T15:34:04.634Z"
   },
   {
    "duration": 8,
    "start_time": "2022-12-28T15:57:37.714Z"
   },
   {
    "duration": 13,
    "start_time": "2022-12-28T15:57:43.898Z"
   },
   {
    "duration": 134,
    "start_time": "2022-12-28T15:58:33.267Z"
   },
   {
    "duration": 358,
    "start_time": "2022-12-28T15:59:29.921Z"
   },
   {
    "duration": 382,
    "start_time": "2022-12-28T16:01:43.498Z"
   },
   {
    "duration": 54,
    "start_time": "2022-12-28T16:02:30.227Z"
   },
   {
    "duration": 274,
    "start_time": "2022-12-28T16:02:38.630Z"
   },
   {
    "duration": 313,
    "start_time": "2022-12-28T16:04:41.880Z"
   },
   {
    "duration": 285,
    "start_time": "2022-12-28T16:05:04.001Z"
   },
   {
    "duration": 356,
    "start_time": "2022-12-28T16:05:10.000Z"
   },
   {
    "duration": 443,
    "start_time": "2022-12-28T16:05:26.243Z"
   },
   {
    "duration": 296,
    "start_time": "2022-12-28T16:05:31.610Z"
   },
   {
    "duration": 338,
    "start_time": "2022-12-28T16:05:34.567Z"
   },
   {
    "duration": 324,
    "start_time": "2022-12-28T16:05:38.741Z"
   },
   {
    "duration": 345,
    "start_time": "2022-12-28T16:05:45.708Z"
   },
   {
    "duration": 344,
    "start_time": "2022-12-28T16:07:11.127Z"
   },
   {
    "duration": 6,
    "start_time": "2022-12-28T16:15:55.306Z"
   },
   {
    "duration": 10,
    "start_time": "2022-12-28T16:16:05.905Z"
   },
   {
    "duration": 9,
    "start_time": "2022-12-28T16:16:27.990Z"
   },
   {
    "duration": 8,
    "start_time": "2022-12-28T16:16:31.211Z"
   },
   {
    "duration": 811,
    "start_time": "2022-12-28T16:16:40.641Z"
   },
   {
    "duration": 763,
    "start_time": "2022-12-28T16:17:26.035Z"
   },
   {
    "duration": 749,
    "start_time": "2022-12-28T16:17:29.098Z"
   },
   {
    "duration": 1049,
    "start_time": "2022-12-28T16:17:40.769Z"
   },
   {
    "duration": 822,
    "start_time": "2022-12-28T16:17:50.864Z"
   },
   {
    "duration": 804,
    "start_time": "2022-12-28T16:17:56.297Z"
   },
   {
    "duration": 5,
    "start_time": "2022-12-28T16:18:14.663Z"
   },
   {
    "duration": 5,
    "start_time": "2022-12-28T16:55:12.734Z"
   },
   {
    "duration": 13,
    "start_time": "2022-12-28T16:55:18.634Z"
   },
   {
    "duration": 4,
    "start_time": "2022-12-28T16:55:23.204Z"
   },
   {
    "duration": 17,
    "start_time": "2022-12-28T16:56:15.949Z"
   },
   {
    "duration": 5,
    "start_time": "2022-12-28T16:56:17.924Z"
   },
   {
    "duration": 177,
    "start_time": "2022-12-28T17:14:14.361Z"
   },
   {
    "duration": 4,
    "start_time": "2022-12-28T17:14:16.600Z"
   },
   {
    "duration": 3,
    "start_time": "2022-12-28T17:14:39.806Z"
   },
   {
    "duration": 779,
    "start_time": "2022-12-28T17:14:39.812Z"
   },
   {
    "duration": 22,
    "start_time": "2022-12-28T17:14:40.594Z"
   },
   {
    "duration": 35,
    "start_time": "2022-12-28T17:14:40.618Z"
   },
   {
    "duration": 20,
    "start_time": "2022-12-28T17:14:40.655Z"
   },
   {
    "duration": 32,
    "start_time": "2022-12-28T17:14:40.680Z"
   },
   {
    "duration": 20,
    "start_time": "2022-12-28T17:14:40.714Z"
   },
   {
    "duration": 18,
    "start_time": "2022-12-28T17:14:40.736Z"
   },
   {
    "duration": 41,
    "start_time": "2022-12-28T17:14:40.755Z"
   },
   {
    "duration": 22,
    "start_time": "2022-12-28T17:14:40.798Z"
   },
   {
    "duration": 25,
    "start_time": "2022-12-28T17:14:40.823Z"
   },
   {
    "duration": 37,
    "start_time": "2022-12-28T17:14:40.850Z"
   },
   {
    "duration": 18,
    "start_time": "2022-12-28T17:14:40.888Z"
   },
   {
    "duration": 36,
    "start_time": "2022-12-28T17:14:40.908Z"
   },
   {
    "duration": 37,
    "start_time": "2022-12-28T17:14:40.946Z"
   },
   {
    "duration": 28,
    "start_time": "2022-12-28T17:14:40.985Z"
   },
   {
    "duration": 36,
    "start_time": "2022-12-28T17:14:41.016Z"
   },
   {
    "duration": 38,
    "start_time": "2022-12-28T17:14:41.053Z"
   },
   {
    "duration": 17,
    "start_time": "2022-12-28T17:14:41.092Z"
   },
   {
    "duration": 15,
    "start_time": "2022-12-28T17:14:41.111Z"
   },
   {
    "duration": 25,
    "start_time": "2022-12-28T17:14:41.128Z"
   },
   {
    "duration": 15,
    "start_time": "2022-12-28T17:14:41.154Z"
   },
   {
    "duration": 38,
    "start_time": "2022-12-28T17:14:41.171Z"
   },
   {
    "duration": 17,
    "start_time": "2022-12-28T17:14:41.211Z"
   },
   {
    "duration": 23,
    "start_time": "2022-12-28T17:14:41.230Z"
   },
   {
    "duration": 13,
    "start_time": "2022-12-28T17:14:41.255Z"
   },
   {
    "duration": 23,
    "start_time": "2022-12-28T17:14:41.270Z"
   },
   {
    "duration": 259,
    "start_time": "2022-12-28T17:14:41.295Z"
   },
   {
    "duration": 647,
    "start_time": "2022-12-28T17:14:41.558Z"
   },
   {
    "duration": 605,
    "start_time": "2022-12-28T17:14:42.207Z"
   },
   {
    "duration": 12,
    "start_time": "2022-12-28T17:14:42.813Z"
   },
   {
    "duration": 7,
    "start_time": "2022-12-28T17:14:42.827Z"
   },
   {
    "duration": 352,
    "start_time": "2022-12-28T17:14:42.835Z"
   },
   {
    "duration": 6,
    "start_time": "2022-12-28T17:14:43.188Z"
   },
   {
    "duration": 43,
    "start_time": "2022-12-28T17:14:43.196Z"
   },
   {
    "duration": 4,
    "start_time": "2022-12-28T17:14:43.241Z"
   },
   {
    "duration": 4,
    "start_time": "2022-12-28T19:10:30.850Z"
   },
   {
    "duration": 3,
    "start_time": "2022-12-28T19:31:05.979Z"
   },
   {
    "duration": 15,
    "start_time": "2022-12-28T19:35:12.434Z"
   },
   {
    "duration": 7,
    "start_time": "2022-12-28T19:35:46.353Z"
   },
   {
    "duration": 6,
    "start_time": "2022-12-28T19:37:07.616Z"
   },
   {
    "duration": 34,
    "start_time": "2022-12-28T19:37:19.945Z"
   },
   {
    "duration": 11,
    "start_time": "2022-12-28T19:42:56.075Z"
   },
   {
    "duration": 4,
    "start_time": "2022-12-28T20:13:37.592Z"
   },
   {
    "duration": 3,
    "start_time": "2022-12-28T20:22:49.880Z"
   },
   {
    "duration": 53,
    "start_time": "2022-12-28T20:27:06.332Z"
   },
   {
    "duration": 2,
    "start_time": "2022-12-28T20:31:23.997Z"
   },
   {
    "duration": 16,
    "start_time": "2022-12-28T20:46:45.331Z"
   },
   {
    "duration": 10,
    "start_time": "2022-12-28T20:46:57.264Z"
   },
   {
    "duration": 4,
    "start_time": "2022-12-28T20:47:42.819Z"
   },
   {
    "duration": 10,
    "start_time": "2022-12-28T20:47:48.905Z"
   },
   {
    "duration": 232,
    "start_time": "2022-12-28T20:48:06.407Z"
   },
   {
    "duration": 32,
    "start_time": "2022-12-28T20:48:45.910Z"
   },
   {
    "duration": 5,
    "start_time": "2022-12-28T20:49:02.832Z"
   },
   {
    "duration": 19536,
    "start_time": "2022-12-28T20:49:42.301Z"
   },
   {
    "duration": 8,
    "start_time": "2022-12-28T20:54:18.929Z"
   },
   {
    "duration": 12,
    "start_time": "2022-12-28T20:54:33.996Z"
   },
   {
    "duration": 5,
    "start_time": "2022-12-28T20:54:47.641Z"
   },
   {
    "duration": 2,
    "start_time": "2022-12-28T20:55:19.737Z"
   },
   {
    "duration": 22981,
    "start_time": "2022-12-28T20:55:22.199Z"
   },
   {
    "duration": 4,
    "start_time": "2022-12-28T20:58:00.397Z"
   },
   {
    "duration": 23959,
    "start_time": "2022-12-28T20:58:05.593Z"
   },
   {
    "duration": 3,
    "start_time": "2022-12-28T21:02:20.308Z"
   },
   {
    "duration": 24130,
    "start_time": "2022-12-28T21:02:27.488Z"
   },
   {
    "duration": 3,
    "start_time": "2022-12-28T21:04:05.251Z"
   },
   {
    "duration": 3,
    "start_time": "2022-12-28T21:04:14.402Z"
   },
   {
    "duration": 4,
    "start_time": "2022-12-28T21:04:31.604Z"
   },
   {
    "duration": 3,
    "start_time": "2022-12-28T21:04:38.600Z"
   },
   {
    "duration": 23555,
    "start_time": "2022-12-28T21:04:40.807Z"
   },
   {
    "duration": 3,
    "start_time": "2022-12-28T21:10:12.060Z"
   },
   {
    "duration": 23034,
    "start_time": "2022-12-28T21:11:11.204Z"
   },
   {
    "duration": 4,
    "start_time": "2022-12-28T21:15:01.818Z"
   },
   {
    "duration": 10,
    "start_time": "2022-12-28T21:15:56.992Z"
   },
   {
    "duration": 19008,
    "start_time": "2022-12-28T21:16:08.147Z"
   },
   {
    "duration": 25597,
    "start_time": "2022-12-28T21:16:27.157Z"
   },
   {
    "duration": 20400,
    "start_time": "2022-12-28T21:17:19.994Z"
   },
   {
    "duration": 20188,
    "start_time": "2022-12-28T21:17:40.396Z"
   },
   {
    "duration": 4,
    "start_time": "2022-12-28T21:18:00.586Z"
   },
   {
    "duration": 4,
    "start_time": "2022-12-28T21:18:47.458Z"
   },
   {
    "duration": 6,
    "start_time": "2022-12-28T21:18:53.132Z"
   },
   {
    "duration": 5,
    "start_time": "2022-12-28T21:18:57.593Z"
   },
   {
    "duration": 5,
    "start_time": "2022-12-28T21:18:57.791Z"
   },
   {
    "duration": 5,
    "start_time": "2022-12-28T21:18:57.992Z"
   },
   {
    "duration": 6,
    "start_time": "2022-12-28T21:18:58.337Z"
   },
   {
    "duration": 1597,
    "start_time": "2022-12-29T14:20:06.850Z"
   },
   {
    "duration": 2132,
    "start_time": "2022-12-29T14:20:08.448Z"
   },
   {
    "duration": 23,
    "start_time": "2022-12-29T14:20:10.581Z"
   },
   {
    "duration": 19,
    "start_time": "2022-12-29T14:20:10.605Z"
   },
   {
    "duration": 17,
    "start_time": "2022-12-29T14:20:10.626Z"
   },
   {
    "duration": 18,
    "start_time": "2022-12-29T14:20:10.645Z"
   },
   {
    "duration": 20,
    "start_time": "2022-12-29T14:20:10.664Z"
   },
   {
    "duration": 38,
    "start_time": "2022-12-29T14:20:10.685Z"
   },
   {
    "duration": 19,
    "start_time": "2022-12-29T14:20:10.725Z"
   },
   {
    "duration": 12,
    "start_time": "2022-12-29T14:20:10.746Z"
   },
   {
    "duration": 7,
    "start_time": "2022-12-29T14:20:10.760Z"
   },
   {
    "duration": 10,
    "start_time": "2022-12-29T14:20:10.769Z"
   },
   {
    "duration": 32,
    "start_time": "2022-12-29T14:20:10.781Z"
   },
   {
    "duration": 8,
    "start_time": "2022-12-29T14:20:10.815Z"
   },
   {
    "duration": 29,
    "start_time": "2022-12-29T14:20:10.825Z"
   },
   {
    "duration": 14,
    "start_time": "2022-12-29T14:20:10.855Z"
   },
   {
    "duration": 20,
    "start_time": "2022-12-29T14:20:10.871Z"
   },
   {
    "duration": 12,
    "start_time": "2022-12-29T14:20:10.893Z"
   },
   {
    "duration": 13,
    "start_time": "2022-12-29T14:20:10.906Z"
   },
   {
    "duration": 17,
    "start_time": "2022-12-29T14:20:10.921Z"
   },
   {
    "duration": 23,
    "start_time": "2022-12-29T14:20:10.940Z"
   },
   {
    "duration": 9,
    "start_time": "2022-12-29T14:20:10.966Z"
   },
   {
    "duration": 8,
    "start_time": "2022-12-29T14:20:10.976Z"
   },
   {
    "duration": 12,
    "start_time": "2022-12-29T14:20:10.986Z"
   },
   {
    "duration": 29,
    "start_time": "2022-12-29T14:20:11.000Z"
   },
   {
    "duration": 11,
    "start_time": "2022-12-29T14:20:11.031Z"
   },
   {
    "duration": 11,
    "start_time": "2022-12-29T14:20:11.043Z"
   },
   {
    "duration": 230,
    "start_time": "2022-12-29T14:20:11.057Z"
   },
   {
    "duration": 557,
    "start_time": "2022-12-29T14:20:11.288Z"
   },
   {
    "duration": 631,
    "start_time": "2022-12-29T14:20:11.847Z"
   },
   {
    "duration": 7,
    "start_time": "2022-12-29T14:20:12.480Z"
   },
   {
    "duration": 369,
    "start_time": "2022-12-29T14:20:12.489Z"
   },
   {
    "duration": 3,
    "start_time": "2022-12-29T14:20:12.860Z"
   },
   {
    "duration": 53,
    "start_time": "2022-12-29T14:20:12.865Z"
   },
   {
    "duration": 4,
    "start_time": "2022-12-29T14:20:12.920Z"
   },
   {
    "duration": 5,
    "start_time": "2022-12-29T14:20:12.925Z"
   },
   {
    "duration": 12,
    "start_time": "2022-12-29T14:20:12.932Z"
   },
   {
    "duration": 8,
    "start_time": "2022-12-29T14:20:12.946Z"
   },
   {
    "duration": 18956,
    "start_time": "2022-12-29T14:20:12.956Z"
   },
   {
    "duration": 18788,
    "start_time": "2022-12-29T14:20:31.915Z"
   },
   {
    "duration": 8,
    "start_time": "2022-12-29T14:20:50.705Z"
   },
   {
    "duration": 175,
    "start_time": "2022-12-29T14:27:05.074Z"
   },
   {
    "duration": 361276,
    "start_time": "2022-12-29T14:27:35.505Z"
   },
   {
    "duration": 353415,
    "start_time": "2022-12-29T14:33:44.837Z"
   },
   {
    "duration": 5,
    "start_time": "2022-12-29T14:40:03.801Z"
   },
   {
    "duration": 4,
    "start_time": "2022-12-29T14:49:38.277Z"
   },
   {
    "duration": 78,
    "start_time": "2022-12-29T14:52:23.793Z"
   },
   {
    "duration": 32,
    "start_time": "2022-12-29T14:52:34.683Z"
   },
   {
    "duration": 69,
    "start_time": "2022-12-29T14:52:43.773Z"
   },
   {
    "duration": 28,
    "start_time": "2022-12-29T14:52:47.171Z"
   },
   {
    "duration": 46,
    "start_time": "2022-12-29T14:56:55.765Z"
   },
   {
    "duration": 48,
    "start_time": "2022-12-29T14:57:04.310Z"
   },
   {
    "duration": 48,
    "start_time": "2022-12-29T14:57:04.853Z"
   },
   {
    "duration": 50,
    "start_time": "2022-12-29T14:57:05.245Z"
   },
   {
    "duration": 50,
    "start_time": "2022-12-29T14:57:05.475Z"
   },
   {
    "duration": 46,
    "start_time": "2022-12-29T14:57:05.682Z"
   },
   {
    "duration": 48,
    "start_time": "2022-12-29T14:57:05.858Z"
   },
   {
    "duration": 45,
    "start_time": "2022-12-29T14:57:06.037Z"
   },
   {
    "duration": 4,
    "start_time": "2022-12-29T15:17:59.681Z"
   },
   {
    "duration": 4,
    "start_time": "2022-12-29T15:18:00.183Z"
   },
   {
    "duration": 4,
    "start_time": "2022-12-29T15:18:00.421Z"
   },
   {
    "duration": 4,
    "start_time": "2022-12-29T15:18:00.608Z"
   },
   {
    "duration": 5,
    "start_time": "2022-12-29T15:18:00.775Z"
   },
   {
    "duration": 6,
    "start_time": "2022-12-29T15:20:57.773Z"
   },
   {
    "duration": 6,
    "start_time": "2022-12-29T15:21:10.275Z"
   },
   {
    "duration": 32,
    "start_time": "2022-12-29T15:38:33.551Z"
   },
   {
    "duration": 4,
    "start_time": "2022-12-29T15:38:41.410Z"
   },
   {
    "duration": 4,
    "start_time": "2022-12-29T15:38:45.880Z"
   },
   {
    "duration": 70,
    "start_time": "2022-12-29T15:39:51.365Z"
   },
   {
    "duration": 33,
    "start_time": "2022-12-29T15:39:56.519Z"
   },
   {
    "duration": 1372,
    "start_time": "2022-12-29T15:47:27.718Z"
   },
   {
    "duration": 651,
    "start_time": "2022-12-29T15:47:29.092Z"
   },
   {
    "duration": 22,
    "start_time": "2022-12-29T15:47:29.745Z"
   },
   {
    "duration": 29,
    "start_time": "2022-12-29T15:47:29.770Z"
   },
   {
    "duration": 26,
    "start_time": "2022-12-29T15:47:29.801Z"
   },
   {
    "duration": 27,
    "start_time": "2022-12-29T15:47:29.828Z"
   },
   {
    "duration": 48,
    "start_time": "2022-12-29T15:47:29.857Z"
   },
   {
    "duration": 25,
    "start_time": "2022-12-29T15:47:29.907Z"
   },
   {
    "duration": 43,
    "start_time": "2022-12-29T15:47:29.934Z"
   },
   {
    "duration": 47,
    "start_time": "2022-12-29T15:47:29.979Z"
   },
   {
    "duration": 30,
    "start_time": "2022-12-29T15:47:30.028Z"
   },
   {
    "duration": 47,
    "start_time": "2022-12-29T15:47:30.060Z"
   },
   {
    "duration": 33,
    "start_time": "2022-12-29T15:47:30.109Z"
   },
   {
    "duration": 61,
    "start_time": "2022-12-29T15:47:30.144Z"
   },
   {
    "duration": 44,
    "start_time": "2022-12-29T15:47:30.206Z"
   },
   {
    "duration": 35,
    "start_time": "2022-12-29T15:47:30.251Z"
   },
   {
    "duration": 41,
    "start_time": "2022-12-29T15:47:30.288Z"
   },
   {
    "duration": 57,
    "start_time": "2022-12-29T15:47:30.330Z"
   },
   {
    "duration": 43,
    "start_time": "2022-12-29T15:47:30.389Z"
   },
   {
    "duration": 73,
    "start_time": "2022-12-29T15:47:30.434Z"
   },
   {
    "duration": 53,
    "start_time": "2022-12-29T15:47:30.508Z"
   },
   {
    "duration": 50,
    "start_time": "2022-12-29T15:47:30.564Z"
   },
   {
    "duration": 52,
    "start_time": "2022-12-29T15:47:30.616Z"
   },
   {
    "duration": 38,
    "start_time": "2022-12-29T15:47:30.669Z"
   },
   {
    "duration": 47,
    "start_time": "2022-12-29T15:47:30.709Z"
   },
   {
    "duration": 24,
    "start_time": "2022-12-29T15:47:30.757Z"
   },
   {
    "duration": 62,
    "start_time": "2022-12-29T15:47:30.782Z"
   },
   {
    "duration": 246,
    "start_time": "2022-12-29T15:47:30.847Z"
   },
   {
    "duration": 553,
    "start_time": "2022-12-29T15:47:31.094Z"
   },
   {
    "duration": 618,
    "start_time": "2022-12-29T15:47:31.648Z"
   },
   {
    "duration": 8,
    "start_time": "2022-12-29T15:47:32.268Z"
   },
   {
    "duration": 370,
    "start_time": "2022-12-29T15:47:32.278Z"
   },
   {
    "duration": 5,
    "start_time": "2022-12-29T15:47:32.650Z"
   },
   {
    "duration": 64,
    "start_time": "2022-12-29T15:47:32.657Z"
   },
   {
    "duration": 5,
    "start_time": "2022-12-29T15:47:32.722Z"
   },
   {
    "duration": 11,
    "start_time": "2022-12-29T15:47:32.729Z"
   },
   {
    "duration": 36,
    "start_time": "2022-12-29T15:47:32.742Z"
   },
   {
    "duration": 9,
    "start_time": "2022-12-29T15:47:32.781Z"
   },
   {
    "duration": 19231,
    "start_time": "2022-12-29T15:47:32.791Z"
   },
   {
    "duration": 19296,
    "start_time": "2022-12-29T15:47:52.024Z"
   },
   {
    "duration": 4,
    "start_time": "2022-12-29T15:48:11.322Z"
   },
   {
    "duration": 365186,
    "start_time": "2022-12-29T15:48:11.327Z"
   },
   {
    "duration": 351612,
    "start_time": "2022-12-29T15:54:16.516Z"
   },
   {
    "duration": 4,
    "start_time": "2022-12-29T16:00:08.130Z"
   },
   {
    "duration": 47,
    "start_time": "2022-12-29T16:00:08.135Z"
   },
   {
    "duration": 42,
    "start_time": "2022-12-29T16:00:08.184Z"
   },
   {
    "duration": 32,
    "start_time": "2022-12-30T11:01:21.122Z"
   },
   {
    "duration": 48,
    "start_time": "2022-12-30T11:01:27.275Z"
   },
   {
    "duration": 1967,
    "start_time": "2023-01-04T14:19:42.148Z"
   },
   {
    "duration": 1129,
    "start_time": "2023-01-04T14:19:44.117Z"
   },
   {
    "duration": 21,
    "start_time": "2023-01-04T14:19:45.248Z"
   },
   {
    "duration": 19,
    "start_time": "2023-01-04T14:19:45.271Z"
   },
   {
    "duration": 37,
    "start_time": "2023-01-04T14:19:45.292Z"
   },
   {
    "duration": 18,
    "start_time": "2023-01-04T14:19:45.330Z"
   },
   {
    "duration": 18,
    "start_time": "2023-01-04T14:19:45.350Z"
   },
   {
    "duration": 45,
    "start_time": "2023-01-04T14:19:45.370Z"
   },
   {
    "duration": 26,
    "start_time": "2023-01-04T14:19:45.417Z"
   },
   {
    "duration": 12,
    "start_time": "2023-01-04T14:19:45.445Z"
   },
   {
    "duration": 8,
    "start_time": "2023-01-04T14:19:45.458Z"
   },
   {
    "duration": 9,
    "start_time": "2023-01-04T14:19:45.468Z"
   },
   {
    "duration": 43,
    "start_time": "2023-01-04T14:19:45.478Z"
   },
   {
    "duration": 6,
    "start_time": "2023-01-04T14:19:45.524Z"
   },
   {
    "duration": 11,
    "start_time": "2023-01-04T14:19:45.531Z"
   },
   {
    "duration": 11,
    "start_time": "2023-01-04T14:19:45.544Z"
   },
   {
    "duration": 13,
    "start_time": "2023-01-04T14:19:45.556Z"
   },
   {
    "duration": 11,
    "start_time": "2023-01-04T14:19:45.571Z"
   },
   {
    "duration": 8,
    "start_time": "2023-01-04T14:19:45.616Z"
   },
   {
    "duration": 12,
    "start_time": "2023-01-04T14:19:45.625Z"
   },
   {
    "duration": 28,
    "start_time": "2023-01-04T14:19:45.639Z"
   },
   {
    "duration": 9,
    "start_time": "2023-01-04T14:19:45.668Z"
   },
   {
    "duration": 9,
    "start_time": "2023-01-04T14:19:45.678Z"
   },
   {
    "duration": 32,
    "start_time": "2023-01-04T14:19:45.688Z"
   },
   {
    "duration": 21,
    "start_time": "2023-01-04T14:19:45.722Z"
   },
   {
    "duration": 12,
    "start_time": "2023-01-04T14:19:45.745Z"
   },
   {
    "duration": 10,
    "start_time": "2023-01-04T14:19:45.758Z"
   },
   {
    "duration": 241,
    "start_time": "2023-01-04T14:19:45.769Z"
   },
   {
    "duration": 602,
    "start_time": "2023-01-04T14:19:46.012Z"
   },
   {
    "duration": 548,
    "start_time": "2023-01-04T14:19:46.615Z"
   },
   {
    "duration": 6,
    "start_time": "2023-01-04T14:19:47.165Z"
   },
   {
    "duration": 378,
    "start_time": "2023-01-04T14:19:47.173Z"
   },
   {
    "duration": 4,
    "start_time": "2023-01-04T14:19:47.553Z"
   },
   {
    "duration": 40,
    "start_time": "2023-01-04T14:19:47.558Z"
   },
   {
    "duration": 18,
    "start_time": "2023-01-04T14:19:47.599Z"
   },
   {
    "duration": 5,
    "start_time": "2023-01-04T14:19:47.619Z"
   },
   {
    "duration": 10,
    "start_time": "2023-01-04T14:19:47.626Z"
   },
   {
    "duration": 4,
    "start_time": "2023-01-04T14:19:47.638Z"
   },
   {
    "duration": 22100,
    "start_time": "2023-01-04T14:19:47.644Z"
   },
   {
    "duration": 20502,
    "start_time": "2023-01-04T14:20:09.745Z"
   },
   {
    "duration": 4,
    "start_time": "2023-01-04T14:20:30.250Z"
   },
   {
    "duration": 560731,
    "start_time": "2023-01-04T14:20:30.256Z"
   },
   {
    "duration": 387966,
    "start_time": "2023-01-04T14:29:50.989Z"
   },
   {
    "duration": 5,
    "start_time": "2023-01-04T14:36:18.957Z"
   },
   {
    "duration": 82,
    "start_time": "2023-01-04T14:36:18.964Z"
   },
   {
    "duration": 35,
    "start_time": "2023-01-04T14:36:19.048Z"
   }
  ],
  "kernelspec": {
   "display_name": "Python 3 (ipykernel)",
   "language": "python",
   "name": "python3"
  },
  "language_info": {
   "codemirror_mode": {
    "name": "ipython",
    "version": 3
   },
   "file_extension": ".py",
   "mimetype": "text/x-python",
   "name": "python",
   "nbconvert_exporter": "python",
   "pygments_lexer": "ipython3",
   "version": "3.9.15"
  },
  "toc": {
   "base_numbering": 1,
   "nav_menu": {},
   "number_sections": true,
   "sideBar": true,
   "skip_h1_title": true,
   "title_cell": "Содержание",
   "title_sidebar": "Contents",
   "toc_cell": true,
   "toc_position": {
    "height": "calc(100% - 180px)",
    "left": "10px",
    "top": "150px",
    "width": "165px"
   },
   "toc_section_display": true,
   "toc_window_display": true
  }
 },
 "nbformat": 4,
 "nbformat_minor": 4
}
