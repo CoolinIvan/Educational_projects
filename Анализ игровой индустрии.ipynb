{
 "cells": [
  {
   "cell_type": "markdown",
   "metadata": {},
   "source": [
    "# Описание проекта\n",
    "Интернет-магазин «Стримчик» продаёт по всему миру компьютерные игры. Из открытых источников доступны исторические данные о продажах игр, оценки пользователей и экспертов, жанры и платформы (например, Xbox или PlayStation). Нам нужно выявить определяющие успешность игры закономерности. Это позволит сделать ставку на потенциально популярный продукт и спланировать рекламные кампании.\n",
    "\n",
    "Перед нами данные до 2016 года. Представим, что сейчас декабрь 2016 г., и мы планируем кампанию на 2017-й. Нужно отработать принцип работы с данными. Неважно, прогнозируем ли мы продажи на 2017 год по данным 2016-го или же 2027-й — по данным 2026 года.\n",
    "\n",
    "В наборе данных попадается аббревиатура ESRB (Entertainment Software Rating Board) — это ассоциация, определяющая возрастной рейтинг компьютерных игр. ESRB оценивает игровой контент и присваивает ему подходящую возрастную категорию, например, «Для взрослых», «Для детей младшего возраста» или «Для подростков»."
   ]
  },
  {
   "cell_type": "code",
   "execution_count": 5,
   "metadata": {},
   "outputs": [],
   "source": [
    "import pandas as pd\n",
    "import numpy as np\n",
    "import warnings\n",
    "import matplotlib.pyplot as plt\n",
    "from collections import Counter\n",
    "from scipy import stats as st\n",
    "warnings.simplefilter('ignore')"
   ]
  },
  {
   "cell_type": "code",
   "execution_count": 6,
   "metadata": {},
   "outputs": [
    {
     "data": {
      "text/html": [
       "<div>\n",
       "<style scoped>\n",
       "    .dataframe tbody tr th:only-of-type {\n",
       "        vertical-align: middle;\n",
       "    }\n",
       "\n",
       "    .dataframe tbody tr th {\n",
       "        vertical-align: top;\n",
       "    }\n",
       "\n",
       "    .dataframe thead th {\n",
       "        text-align: right;\n",
       "    }\n",
       "</style>\n",
       "<table border=\"1\" class=\"dataframe\">\n",
       "  <thead>\n",
       "    <tr style=\"text-align: right;\">\n",
       "      <th></th>\n",
       "      <th>Name</th>\n",
       "      <th>Platform</th>\n",
       "      <th>Year_of_Release</th>\n",
       "      <th>Genre</th>\n",
       "      <th>NA_sales</th>\n",
       "      <th>EU_sales</th>\n",
       "      <th>JP_sales</th>\n",
       "      <th>Other_sales</th>\n",
       "      <th>Critic_Score</th>\n",
       "      <th>User_Score</th>\n",
       "      <th>Rating</th>\n",
       "    </tr>\n",
       "  </thead>\n",
       "  <tbody>\n",
       "    <tr>\n",
       "      <th>0</th>\n",
       "      <td>Wii Sports</td>\n",
       "      <td>Wii</td>\n",
       "      <td>2006.0</td>\n",
       "      <td>Sports</td>\n",
       "      <td>41.36</td>\n",
       "      <td>28.96</td>\n",
       "      <td>3.77</td>\n",
       "      <td>8.45</td>\n",
       "      <td>76.0</td>\n",
       "      <td>8</td>\n",
       "      <td>E</td>\n",
       "    </tr>\n",
       "    <tr>\n",
       "      <th>1</th>\n",
       "      <td>Super Mario Bros.</td>\n",
       "      <td>NES</td>\n",
       "      <td>1985.0</td>\n",
       "      <td>Platform</td>\n",
       "      <td>29.08</td>\n",
       "      <td>3.58</td>\n",
       "      <td>6.81</td>\n",
       "      <td>0.77</td>\n",
       "      <td>NaN</td>\n",
       "      <td>NaN</td>\n",
       "      <td>NaN</td>\n",
       "    </tr>\n",
       "    <tr>\n",
       "      <th>2</th>\n",
       "      <td>Mario Kart Wii</td>\n",
       "      <td>Wii</td>\n",
       "      <td>2008.0</td>\n",
       "      <td>Racing</td>\n",
       "      <td>15.68</td>\n",
       "      <td>12.76</td>\n",
       "      <td>3.79</td>\n",
       "      <td>3.29</td>\n",
       "      <td>82.0</td>\n",
       "      <td>8.3</td>\n",
       "      <td>E</td>\n",
       "    </tr>\n",
       "    <tr>\n",
       "      <th>3</th>\n",
       "      <td>Wii Sports Resort</td>\n",
       "      <td>Wii</td>\n",
       "      <td>2009.0</td>\n",
       "      <td>Sports</td>\n",
       "      <td>15.61</td>\n",
       "      <td>10.93</td>\n",
       "      <td>3.28</td>\n",
       "      <td>2.95</td>\n",
       "      <td>80.0</td>\n",
       "      <td>8</td>\n",
       "      <td>E</td>\n",
       "    </tr>\n",
       "    <tr>\n",
       "      <th>4</th>\n",
       "      <td>Pokemon Red/Pokemon Blue</td>\n",
       "      <td>GB</td>\n",
       "      <td>1996.0</td>\n",
       "      <td>Role-Playing</td>\n",
       "      <td>11.27</td>\n",
       "      <td>8.89</td>\n",
       "      <td>10.22</td>\n",
       "      <td>1.00</td>\n",
       "      <td>NaN</td>\n",
       "      <td>NaN</td>\n",
       "      <td>NaN</td>\n",
       "    </tr>\n",
       "  </tbody>\n",
       "</table>\n",
       "</div>"
      ],
      "text/plain": [
       "                       Name Platform  Year_of_Release         Genre  NA_sales  \\\n",
       "0                Wii Sports      Wii           2006.0        Sports     41.36   \n",
       "1         Super Mario Bros.      NES           1985.0      Platform     29.08   \n",
       "2            Mario Kart Wii      Wii           2008.0        Racing     15.68   \n",
       "3         Wii Sports Resort      Wii           2009.0        Sports     15.61   \n",
       "4  Pokemon Red/Pokemon Blue       GB           1996.0  Role-Playing     11.27   \n",
       "\n",
       "   EU_sales  JP_sales  Other_sales  Critic_Score User_Score Rating  \n",
       "0     28.96      3.77         8.45          76.0          8      E  \n",
       "1      3.58      6.81         0.77           NaN        NaN    NaN  \n",
       "2     12.76      3.79         3.29          82.0        8.3      E  \n",
       "3     10.93      3.28         2.95          80.0          8      E  \n",
       "4      8.89     10.22         1.00           NaN        NaN    NaN  "
      ]
     },
     "execution_count": 6,
     "metadata": {},
     "output_type": "execute_result"
    }
   ],
   "source": [
    "# Загрузим данные\n",
    "df = pd.read_csv('/datasets/games.csv')\n",
    "df.head()"
   ]
  },
  {
   "cell_type": "code",
   "execution_count": 7,
   "metadata": {},
   "outputs": [
    {
     "name": "stdout",
     "output_type": "stream",
     "text": [
      "<class 'pandas.core.frame.DataFrame'>\n",
      "RangeIndex: 16715 entries, 0 to 16714\n",
      "Data columns (total 11 columns):\n",
      " #   Column           Non-Null Count  Dtype  \n",
      "---  ------           --------------  -----  \n",
      " 0   Name             16713 non-null  object \n",
      " 1   Platform         16715 non-null  object \n",
      " 2   Year_of_Release  16446 non-null  float64\n",
      " 3   Genre            16713 non-null  object \n",
      " 4   NA_sales         16715 non-null  float64\n",
      " 5   EU_sales         16715 non-null  float64\n",
      " 6   JP_sales         16715 non-null  float64\n",
      " 7   Other_sales      16715 non-null  float64\n",
      " 8   Critic_Score     8137 non-null   float64\n",
      " 9   User_Score       10014 non-null  object \n",
      " 10  Rating           9949 non-null   object \n",
      "dtypes: float64(6), object(5)\n",
      "memory usage: 1.4+ MB\n"
     ]
    }
   ],
   "source": [
    "# Посмотрим на общую информацию\n",
    "df.info()"
   ]
  },
  {
   "cell_type": "markdown",
   "metadata": {},
   "source": [
    "6 колонок с пропусками, из них 2 всего лишь с 2 пропусками и 1 с 269 пропусками "
   ]
  },
  {
   "cell_type": "markdown",
   "metadata": {},
   "source": [
    "## Предобработка данных"
   ]
  },
  {
   "cell_type": "markdown",
   "metadata": {},
   "source": [
    "**Названия столбцов не соответствуют `snake_case`. Исправим нужным образом**"
   ]
  },
  {
   "cell_type": "code",
   "execution_count": 8,
   "metadata": {},
   "outputs": [
    {
     "data": {
      "text/plain": [
       "Index(['name', 'platform', 'year_of_release', 'genre', 'na_sales', 'eu_sales',\n",
       "       'jp_sales', 'other_sales', 'critic_score', 'user_score', 'rating'],\n",
       "      dtype='object')"
      ]
     },
     "execution_count": 8,
     "metadata": {},
     "output_type": "execute_result"
    }
   ],
   "source": [
    "df.columns = map(str.lower, df.columns)\n",
    "df.columns"
   ]
  },
  {
   "cell_type": "markdown",
   "metadata": {},
   "source": [
    "**Проверим датафрейм на наличие явных дубликатов**"
   ]
  },
  {
   "cell_type": "code",
   "execution_count": 9,
   "metadata": {},
   "outputs": [
    {
     "data": {
      "text/plain": [
       "False    16715\n",
       "dtype: int64"
      ]
     },
     "execution_count": 9,
     "metadata": {},
     "output_type": "execute_result"
    }
   ],
   "source": [
    "df.duplicated().value_counts()"
   ]
  },
  {
   "cell_type": "markdown",
   "metadata": {},
   "source": [
    "Явных дубликатов не обнаружено"
   ]
  },
  {
   "cell_type": "markdown",
   "metadata": {},
   "source": [
    "**Изменим типы данных по необходимости**"
   ]
  },
  {
   "cell_type": "code",
   "execution_count": 10,
   "metadata": {},
   "outputs": [
    {
     "data": {
      "text/plain": [
       "name                object\n",
       "platform            object\n",
       "year_of_release    float64\n",
       "genre               object\n",
       "na_sales           float64\n",
       "eu_sales           float64\n",
       "jp_sales           float64\n",
       "other_sales        float64\n",
       "critic_score       float64\n",
       "user_score          object\n",
       "rating              object\n",
       "dtype: object"
      ]
     },
     "execution_count": 10,
     "metadata": {},
     "output_type": "execute_result"
    }
   ],
   "source": [
    "df.dtypes"
   ]
  },
  {
   "cell_type": "markdown",
   "metadata": {},
   "source": [
    "- `year_of_release` должна быть типа `int`, поскольку это год\n",
    "- `user_score` должна быть `float`, поскольку в неё входят дробные числа"
   ]
  },
  {
   "cell_type": "code",
   "execution_count": 11,
   "metadata": {},
   "outputs": [],
   "source": [
    "df = df.astype({'year_of_release': 'Int64'})"
   ]
  },
  {
   "cell_type": "markdown",
   "metadata": {},
   "source": [
    "В колонке `user_score` попадается аббревиатура *tbd – to be determined (должно быть определено).*<br>\n",
    "По значению этот сигнал близок к пустому, поэтому изменим все **tbd** на **Nan**, а затем переведём тип данных в `float`"
   ]
  },
  {
   "cell_type": "code",
   "execution_count": 12,
   "metadata": {},
   "outputs": [
    {
     "data": {
      "text/plain": [
       "array(['8', nan, '8.3', '8.5', '6.6', '8.4', '8.6', '7.7', '6.3', '7.4',\n",
       "       '8.2', '9', '7.9', '8.1', '8.7', '7.1', '3.4', '5.3', '4.8', '3.2',\n",
       "       '8.9', '6.4', '7.8', '7.5', '2.6', '7.2', '9.2', '7', '7.3', '4.3',\n",
       "       '7.6', '5.7', '5', '9.1', '6.5', '8.8', '6.9', '9.4', '6.8', '6.1',\n",
       "       '6.7', '5.4', '4', '4.9', '4.5', '9.3', '6.2', '4.2', '6', '3.7',\n",
       "       '4.1', '5.8', '5.6', '5.5', '4.4', '4.6', '5.9', '3.9', '3.1',\n",
       "       '2.9', '5.2', '3.3', '4.7', '5.1', '3.5', '2.5', '1.9', '3', '2.7',\n",
       "       '2.2', '2', '9.5', '2.1', '3.6', '2.8', '1.8', '3.8', '0', '1.6',\n",
       "       '9.6', '2.4', '1.7', '1.1', '0.3', '1.5', '0.7', '1.2', '2.3',\n",
       "       '0.5', '1.3', '0.2', '0.6', '1.4', '0.9', '1', '9.7'], dtype=object)"
      ]
     },
     "execution_count": 12,
     "metadata": {},
     "output_type": "execute_result"
    }
   ],
   "source": [
    "df.user_score.replace('tbd', np.nan, inplace=True)\n",
    "df.user_score.unique()"
   ]
  },
  {
   "cell_type": "code",
   "execution_count": 13,
   "metadata": {},
   "outputs": [
    {
     "data": {
      "text/plain": [
       "name                object\n",
       "platform            object\n",
       "year_of_release      Int64\n",
       "genre               object\n",
       "na_sales           float64\n",
       "eu_sales           float64\n",
       "jp_sales           float64\n",
       "other_sales        float64\n",
       "critic_score       float64\n",
       "user_score         float64\n",
       "rating              object\n",
       "dtype: object"
      ]
     },
     "execution_count": 13,
     "metadata": {},
     "output_type": "execute_result"
    }
   ],
   "source": [
    "# Преобразуем этот тип данных и проверим итог всех изменений\n",
    "df.user_score = df.user_score.astype('float')\n",
    "df.dtypes"
   ]
  },
  {
   "cell_type": "markdown",
   "metadata": {},
   "source": [
    "**Обработаем пропуски**"
   ]
  },
  {
   "cell_type": "code",
   "execution_count": 14,
   "metadata": {},
   "outputs": [
    {
     "data": {
      "text/plain": [
       "user_score         9125\n",
       "critic_score       8578\n",
       "rating             6766\n",
       "year_of_release     269\n",
       "name                  2\n",
       "genre                 2\n",
       "dtype: int64"
      ]
     },
     "execution_count": 14,
     "metadata": {},
     "output_type": "execute_result"
    }
   ],
   "source": [
    "# Выведем список колонок с пропусками\n",
    "df.isna().sum()[df.isna().sum() > 0].sort_values(ascending=False)"
   ]
  },
  {
   "cell_type": "markdown",
   "metadata": {},
   "source": [
    "Заполним пропуски в `user_score` и `critic_score` заглушками"
   ]
  },
  {
   "cell_type": "code",
   "execution_count": 15,
   "metadata": {},
   "outputs": [],
   "source": [
    "# Заполним пропуски отрицательными цифрами\n",
    "df[['user_score', 'critic_score']] = df[['user_score', 'critic_score']].fillna(-1)"
   ]
  },
  {
   "cell_type": "markdown",
   "metadata": {},
   "source": [
    "Пропуски в `rating` также заполним заглушкой"
   ]
  },
  {
   "cell_type": "code",
   "execution_count": 16,
   "metadata": {},
   "outputs": [],
   "source": [
    "df['rating'] = df['rating'].fillna('0')"
   ]
  },
  {
   "cell_type": "markdown",
   "metadata": {},
   "source": [
    "Строки с пропусками в `year_of_release`, `name` и `genre` за счёт малочисленности уберём из датафрейма"
   ]
  },
  {
   "cell_type": "code",
   "execution_count": 17,
   "metadata": {},
   "outputs": [
    {
     "data": {
      "text/plain": [
       "Series([], dtype: int64)"
      ]
     },
     "execution_count": 17,
     "metadata": {},
     "output_type": "execute_result"
    }
   ],
   "source": [
    "df.dropna(subset=['year_of_release', 'name', 'genre'], inplace=True)\n",
    "df.reset_index(drop=True, inplace=True)\n",
    "df.isna().sum()[df.isna().sum() > 0].sort_values(ascending=False)"
   ]
  },
  {
   "cell_type": "markdown",
   "metadata": {},
   "source": [
    "Пропуски устранены"
   ]
  },
  {
   "cell_type": "markdown",
   "metadata": {},
   "source": [
    "**Посчитаем суммарные продажи по всем регионам и создадим отдельный столбец**"
   ]
  },
  {
   "cell_type": "code",
   "execution_count": 18,
   "metadata": {},
   "outputs": [
    {
     "data": {
      "text/html": [
       "<div>\n",
       "<style scoped>\n",
       "    .dataframe tbody tr th:only-of-type {\n",
       "        vertical-align: middle;\n",
       "    }\n",
       "\n",
       "    .dataframe tbody tr th {\n",
       "        vertical-align: top;\n",
       "    }\n",
       "\n",
       "    .dataframe thead th {\n",
       "        text-align: right;\n",
       "    }\n",
       "</style>\n",
       "<table border=\"1\" class=\"dataframe\">\n",
       "  <thead>\n",
       "    <tr style=\"text-align: right;\">\n",
       "      <th></th>\n",
       "      <th>name</th>\n",
       "      <th>platform</th>\n",
       "      <th>year_of_release</th>\n",
       "      <th>genre</th>\n",
       "      <th>na_sales</th>\n",
       "      <th>eu_sales</th>\n",
       "      <th>jp_sales</th>\n",
       "      <th>other_sales</th>\n",
       "      <th>total_sales</th>\n",
       "      <th>critic_score</th>\n",
       "      <th>user_score</th>\n",
       "      <th>rating</th>\n",
       "    </tr>\n",
       "  </thead>\n",
       "  <tbody>\n",
       "    <tr>\n",
       "      <th>0</th>\n",
       "      <td>Wii Sports</td>\n",
       "      <td>Wii</td>\n",
       "      <td>2006</td>\n",
       "      <td>Sports</td>\n",
       "      <td>41.36</td>\n",
       "      <td>28.96</td>\n",
       "      <td>3.77</td>\n",
       "      <td>8.45</td>\n",
       "      <td>82.54</td>\n",
       "      <td>76.0</td>\n",
       "      <td>8.0</td>\n",
       "      <td>E</td>\n",
       "    </tr>\n",
       "    <tr>\n",
       "      <th>1</th>\n",
       "      <td>Super Mario Bros.</td>\n",
       "      <td>NES</td>\n",
       "      <td>1985</td>\n",
       "      <td>Platform</td>\n",
       "      <td>29.08</td>\n",
       "      <td>3.58</td>\n",
       "      <td>6.81</td>\n",
       "      <td>0.77</td>\n",
       "      <td>40.24</td>\n",
       "      <td>-1.0</td>\n",
       "      <td>-1.0</td>\n",
       "      <td>0</td>\n",
       "    </tr>\n",
       "    <tr>\n",
       "      <th>2</th>\n",
       "      <td>Mario Kart Wii</td>\n",
       "      <td>Wii</td>\n",
       "      <td>2008</td>\n",
       "      <td>Racing</td>\n",
       "      <td>15.68</td>\n",
       "      <td>12.76</td>\n",
       "      <td>3.79</td>\n",
       "      <td>3.29</td>\n",
       "      <td>35.52</td>\n",
       "      <td>82.0</td>\n",
       "      <td>8.3</td>\n",
       "      <td>E</td>\n",
       "    </tr>\n",
       "    <tr>\n",
       "      <th>3</th>\n",
       "      <td>Wii Sports Resort</td>\n",
       "      <td>Wii</td>\n",
       "      <td>2009</td>\n",
       "      <td>Sports</td>\n",
       "      <td>15.61</td>\n",
       "      <td>10.93</td>\n",
       "      <td>3.28</td>\n",
       "      <td>2.95</td>\n",
       "      <td>32.77</td>\n",
       "      <td>80.0</td>\n",
       "      <td>8.0</td>\n",
       "      <td>E</td>\n",
       "    </tr>\n",
       "    <tr>\n",
       "      <th>4</th>\n",
       "      <td>Pokemon Red/Pokemon Blue</td>\n",
       "      <td>GB</td>\n",
       "      <td>1996</td>\n",
       "      <td>Role-Playing</td>\n",
       "      <td>11.27</td>\n",
       "      <td>8.89</td>\n",
       "      <td>10.22</td>\n",
       "      <td>1.00</td>\n",
       "      <td>31.38</td>\n",
       "      <td>-1.0</td>\n",
       "      <td>-1.0</td>\n",
       "      <td>0</td>\n",
       "    </tr>\n",
       "  </tbody>\n",
       "</table>\n",
       "</div>"
      ],
      "text/plain": [
       "                       name platform  year_of_release         genre  na_sales  \\\n",
       "0                Wii Sports      Wii             2006        Sports     41.36   \n",
       "1         Super Mario Bros.      NES             1985      Platform     29.08   \n",
       "2            Mario Kart Wii      Wii             2008        Racing     15.68   \n",
       "3         Wii Sports Resort      Wii             2009        Sports     15.61   \n",
       "4  Pokemon Red/Pokemon Blue       GB             1996  Role-Playing     11.27   \n",
       "\n",
       "   eu_sales  jp_sales  other_sales  total_sales  critic_score  user_score  \\\n",
       "0     28.96      3.77         8.45        82.54          76.0         8.0   \n",
       "1      3.58      6.81         0.77        40.24          -1.0        -1.0   \n",
       "2     12.76      3.79         3.29        35.52          82.0         8.3   \n",
       "3     10.93      3.28         2.95        32.77          80.0         8.0   \n",
       "4      8.89     10.22         1.00        31.38          -1.0        -1.0   \n",
       "\n",
       "  rating  \n",
       "0      E  \n",
       "1      0  \n",
       "2      E  \n",
       "3      E  \n",
       "4      0  "
      ]
     },
     "execution_count": 18,
     "metadata": {},
     "output_type": "execute_result"
    }
   ],
   "source": [
    "df.insert(8, column='total_sales', value=(df['na_sales'] + df['eu_sales'] + df['jp_sales'] + df['other_sales']))\n",
    "df.head()"
   ]
  },
  {
   "cell_type": "code",
   "execution_count": 19,
   "metadata": {},
   "outputs": [
    {
     "name": "stdout",
     "output_type": "stream",
     "text": [
      "<class 'pandas.core.frame.DataFrame'>\n",
      "RangeIndex: 16444 entries, 0 to 16443\n",
      "Data columns (total 12 columns):\n",
      " #   Column           Non-Null Count  Dtype  \n",
      "---  ------           --------------  -----  \n",
      " 0   name             16444 non-null  object \n",
      " 1   platform         16444 non-null  object \n",
      " 2   year_of_release  16444 non-null  Int64  \n",
      " 3   genre            16444 non-null  object \n",
      " 4   na_sales         16444 non-null  float64\n",
      " 5   eu_sales         16444 non-null  float64\n",
      " 6   jp_sales         16444 non-null  float64\n",
      " 7   other_sales      16444 non-null  float64\n",
      " 8   total_sales      16444 non-null  float64\n",
      " 9   critic_score     16444 non-null  float64\n",
      " 10  user_score       16444 non-null  float64\n",
      " 11  rating           16444 non-null  object \n",
      "dtypes: Int64(1), float64(7), object(4)\n",
      "memory usage: 1.5+ MB\n",
      "None\n",
      "-------------------------\n",
      "name [' Beyblade Burst' ' Fire Emblem Fates' \" Frozen: Olaf's Quest\" ...\n",
      " 'uDraw Studio' 'uDraw Studio: Instant Artist'\n",
      " '¡Shin Chan Flipa en colores!']\n",
      "name : кол-во NaN 0 , процент NaN 0.0 %\n",
      "-------------------------\n",
      "platform ['2600' '3DO' '3DS' 'DC' 'DS' 'GB' 'GBA' 'GC' 'GEN' 'GG' 'N64' 'NES' 'NG'\n",
      " 'PC' 'PCFX' 'PS' 'PS2' 'PS3' 'PS4' 'PSP' 'PSV' 'SAT' 'SCD' 'SNES' 'TG16'\n",
      " 'WS' 'Wii' 'WiiU' 'X360' 'XB' 'XOne']\n",
      "platform : кол-во NaN 0 , процент NaN 0.0 %\n",
      "-------------------------\n",
      "year_of_release <IntegerArray>\n",
      "[1980, 1981, 1982, 1983, 1984, 1985, 1986, 1987, 1988, 1989, 1990, 1991, 1992,\n",
      " 1993, 1994, 1995, 1996, 1997, 1998, 1999, 2000, 2001, 2002, 2003, 2004, 2005,\n",
      " 2006, 2007, 2008, 2009, 2010, 2011, 2012, 2013, 2014, 2015, 2016]\n",
      "Length: 37, dtype: Int64\n",
      "year_of_release : кол-во NaN 0 , процент NaN 0.0 %\n",
      "-------------------------\n",
      "genre ['Action' 'Adventure' 'Fighting' 'Misc' 'Platform' 'Puzzle' 'Racing'\n",
      " 'Role-Playing' 'Shooter' 'Simulation' 'Sports' 'Strategy']\n",
      "genre : кол-во NaN 0 , процент NaN 0.0 %\n",
      "-------------------------\n",
      "critic_score [-1. 13. 17. 19. 20. 21. 23. 24. 25. 26. 27. 28. 29. 30. 31. 32. 33. 34.\n",
      " 35. 36. 37. 38. 39. 40. 41. 42. 43. 44. 45. 46. 47. 48. 49. 50. 51. 52.\n",
      " 53. 54. 55. 56. 57. 58. 59. 60. 61. 62. 63. 64. 65. 66. 67. 68. 69. 70.\n",
      " 71. 72. 73. 74. 75. 76. 77. 78. 79. 80. 81. 82. 83. 84. 85. 86. 87. 88.\n",
      " 89. 90. 91. 92. 93. 94. 95. 96. 97. 98.]\n",
      "critic_score : кол-во NaN 0 , процент NaN 0.0 %\n",
      "-------------------------\n",
      "user_score [-1.   0.   0.2  0.3  0.5  0.6  0.7  0.9  1.   1.1  1.2  1.3  1.4  1.5\n",
      "  1.6  1.7  1.8  1.9  2.   2.1  2.2  2.3  2.4  2.5  2.6  2.7  2.8  2.9\n",
      "  3.   3.1  3.2  3.3  3.4  3.5  3.6  3.7  3.8  3.9  4.   4.1  4.2  4.3\n",
      "  4.4  4.5  4.6  4.7  4.8  4.9  5.   5.1  5.2  5.3  5.4  5.5  5.6  5.7\n",
      "  5.8  5.9  6.   6.1  6.2  6.3  6.4  6.5  6.6  6.7  6.8  6.9  7.   7.1\n",
      "  7.2  7.3  7.4  7.5  7.6  7.7  7.8  7.9  8.   8.1  8.2  8.3  8.4  8.5\n",
      "  8.6  8.7  8.8  8.9  9.   9.1  9.2  9.3  9.4  9.5  9.6  9.7]\n",
      "user_score : кол-во NaN 0 , процент NaN 0.0 %\n",
      "-------------------------\n",
      "rating ['0' 'AO' 'E' 'E10+' 'EC' 'K-A' 'M' 'RP' 'T']\n",
      "rating : кол-во NaN 0 , процент NaN 0.0 %\n"
     ]
    }
   ],
   "source": [
    "# Посмотрим, что у нас осталось\n",
    "temp = df.copy() \n",
    "list_c = ['name', 'platform', 'year_of_release', 'genre', 'critic_score', 'user_score', 'rating']\n",
    "print(temp.info())\n",
    "for col_l in list_c:\n",
    "  print('-'* 25)\n",
    "  print(col_l, temp[col_l].sort_values().unique())\n",
    "  print(col_l,': кол-во NaN',temp[col_l].isna().sum(),\n",
    "        ', процент NaN', round(temp[col_l].isna().sum()/len(temp)*100, 2),'%')"
   ]
  },
  {
   "cell_type": "markdown",
   "metadata": {},
   "source": [
    "## Исследовательский анализ данных"
   ]
  },
  {
   "cell_type": "markdown",
   "metadata": {},
   "source": [
    "**Проанализируем количество игр в зависимости от года релиза**"
   ]
  },
  {
   "cell_type": "code",
   "execution_count": 20,
   "metadata": {},
   "outputs": [
    {
     "data": {
      "image/png": "[encoded data removed]",
      "text/plain": [
       "<Figure size 1296x648 with 1 Axes>"
      ]
     },
     "metadata": {
      "needs_background": "light"
     },
     "output_type": "display_data"
    }
   ],
   "source": [
    "df.groupby('year_of_release')['name'].count().plot.bar(figsize=(18,9), rot=0)\n",
    "plt.title('Количество игр по годам');\n",
    "plt.ylabel('Количество игр');"
   ]
  },
  {
   "cell_type": "code",
   "execution_count": 21,
   "metadata": {},
   "outputs": [
    {
     "data": {
      "text/plain": [
       "year_of_release\n",
       "1980       9\n",
       "1981      46\n",
       "1982      36\n",
       "1983      17\n",
       "1984      14\n",
       "1985      14\n",
       "1986      21\n",
       "1987      16\n",
       "1988      15\n",
       "1989      17\n",
       "1990      16\n",
       "1991      41\n",
       "1992      43\n",
       "1993      60\n",
       "1994     121\n",
       "1995     219\n",
       "1996     263\n",
       "1997     289\n",
       "1998     379\n",
       "1999     338\n",
       "2000     350\n",
       "2001     482\n",
       "2002     829\n",
       "2003     775\n",
       "2004     762\n",
       "2005     939\n",
       "2006    1006\n",
       "2007    1197\n",
       "2008    1427\n",
       "2009    1426\n",
       "2010    1255\n",
       "2011    1136\n",
       "2012     653\n",
       "2013     544\n",
       "2014     581\n",
       "2015     606\n",
       "2016     502\n",
       "Name: platform, dtype: int64"
      ]
     },
     "execution_count": 21,
     "metadata": {},
     "output_type": "execute_result"
    }
   ],
   "source": [
    "df.groupby('year_of_release')['platform'].count()"
   ]
  },
  {
   "cell_type": "markdown",
   "metadata": {},
   "source": [
    "`C 2002 по 2011 года` наблюдается `наибольшее количество` выпущенных игр<br>\n",
    "`С 1980 по 1994 года` – наблюдается `наименьшее количество`, что обусловлено, скорее всего, малым разнообразием игровых платформ"
   ]
  },
  {
   "cell_type": "markdown",
   "metadata": {},
   "source": [
    "**Проанализируем продажи игр в завивимости от платформ**"
   ]
  },
  {
   "cell_type": "markdown",
   "metadata": {},
   "source": [
    "Выделим 10 платформ с наибольшими суммами продаж игр и построим таблицу этих продаж по годам"
   ]
  },
  {
   "cell_type": "code",
   "execution_count": 22,
   "metadata": {},
   "outputs": [
    {
     "data": {
      "text/html": [
       "<div>\n",
       "<style scoped>\n",
       "    .dataframe tbody tr th:only-of-type {\n",
       "        vertical-align: middle;\n",
       "    }\n",
       "\n",
       "    .dataframe tbody tr th {\n",
       "        vertical-align: top;\n",
       "    }\n",
       "\n",
       "    .dataframe thead th {\n",
       "        text-align: right;\n",
       "    }\n",
       "</style>\n",
       "<table border=\"1\" class=\"dataframe\">\n",
       "  <thead>\n",
       "    <tr style=\"text-align: right;\">\n",
       "      <th>platform</th>\n",
       "      <th>3DS</th>\n",
       "      <th>DS</th>\n",
       "      <th>GBA</th>\n",
       "      <th>PS</th>\n",
       "      <th>PS2</th>\n",
       "      <th>PS3</th>\n",
       "      <th>PS4</th>\n",
       "      <th>PSP</th>\n",
       "      <th>Wii</th>\n",
       "      <th>X360</th>\n",
       "    </tr>\n",
       "    <tr>\n",
       "      <th>year_of_release</th>\n",
       "      <th></th>\n",
       "      <th></th>\n",
       "      <th></th>\n",
       "      <th></th>\n",
       "      <th></th>\n",
       "      <th></th>\n",
       "      <th></th>\n",
       "      <th></th>\n",
       "      <th></th>\n",
       "      <th></th>\n",
       "    </tr>\n",
       "  </thead>\n",
       "  <tbody>\n",
       "    <tr>\n",
       "      <th>1985</th>\n",
       "      <td>NaN</td>\n",
       "      <td>1.0</td>\n",
       "      <td>NaN</td>\n",
       "      <td>NaN</td>\n",
       "      <td>NaN</td>\n",
       "      <td>NaN</td>\n",
       "      <td>NaN</td>\n",
       "      <td>NaN</td>\n",
       "      <td>NaN</td>\n",
       "      <td>NaN</td>\n",
       "    </tr>\n",
       "    <tr>\n",
       "      <th>1994</th>\n",
       "      <td>NaN</td>\n",
       "      <td>NaN</td>\n",
       "      <td>NaN</td>\n",
       "      <td>17.0</td>\n",
       "      <td>NaN</td>\n",
       "      <td>NaN</td>\n",
       "      <td>NaN</td>\n",
       "      <td>NaN</td>\n",
       "      <td>NaN</td>\n",
       "      <td>NaN</td>\n",
       "    </tr>\n",
       "    <tr>\n",
       "      <th>1995</th>\n",
       "      <td>NaN</td>\n",
       "      <td>NaN</td>\n",
       "      <td>NaN</td>\n",
       "      <td>99.0</td>\n",
       "      <td>NaN</td>\n",
       "      <td>NaN</td>\n",
       "      <td>NaN</td>\n",
       "      <td>NaN</td>\n",
       "      <td>NaN</td>\n",
       "      <td>NaN</td>\n",
       "    </tr>\n",
       "    <tr>\n",
       "      <th>1996</th>\n",
       "      <td>NaN</td>\n",
       "      <td>NaN</td>\n",
       "      <td>NaN</td>\n",
       "      <td>164.0</td>\n",
       "      <td>NaN</td>\n",
       "      <td>NaN</td>\n",
       "      <td>NaN</td>\n",
       "      <td>NaN</td>\n",
       "      <td>NaN</td>\n",
       "      <td>NaN</td>\n",
       "    </tr>\n",
       "    <tr>\n",
       "      <th>1997</th>\n",
       "      <td>NaN</td>\n",
       "      <td>NaN</td>\n",
       "      <td>NaN</td>\n",
       "      <td>188.0</td>\n",
       "      <td>NaN</td>\n",
       "      <td>NaN</td>\n",
       "      <td>NaN</td>\n",
       "      <td>NaN</td>\n",
       "      <td>NaN</td>\n",
       "      <td>NaN</td>\n",
       "    </tr>\n",
       "    <tr>\n",
       "      <th>1998</th>\n",
       "      <td>NaN</td>\n",
       "      <td>NaN</td>\n",
       "      <td>NaN</td>\n",
       "      <td>248.0</td>\n",
       "      <td>NaN</td>\n",
       "      <td>NaN</td>\n",
       "      <td>NaN</td>\n",
       "      <td>NaN</td>\n",
       "      <td>NaN</td>\n",
       "      <td>NaN</td>\n",
       "    </tr>\n",
       "    <tr>\n",
       "      <th>1999</th>\n",
       "      <td>NaN</td>\n",
       "      <td>NaN</td>\n",
       "      <td>NaN</td>\n",
       "      <td>200.0</td>\n",
       "      <td>NaN</td>\n",
       "      <td>NaN</td>\n",
       "      <td>NaN</td>\n",
       "      <td>NaN</td>\n",
       "      <td>NaN</td>\n",
       "      <td>NaN</td>\n",
       "    </tr>\n",
       "    <tr>\n",
       "      <th>2000</th>\n",
       "      <td>NaN</td>\n",
       "      <td>NaN</td>\n",
       "      <td>1.0</td>\n",
       "      <td>160.0</td>\n",
       "      <td>82.0</td>\n",
       "      <td>NaN</td>\n",
       "      <td>NaN</td>\n",
       "      <td>NaN</td>\n",
       "      <td>NaN</td>\n",
       "      <td>NaN</td>\n",
       "    </tr>\n",
       "    <tr>\n",
       "      <th>2001</th>\n",
       "      <td>NaN</td>\n",
       "      <td>NaN</td>\n",
       "      <td>107.0</td>\n",
       "      <td>91.0</td>\n",
       "      <td>185.0</td>\n",
       "      <td>NaN</td>\n",
       "      <td>NaN</td>\n",
       "      <td>NaN</td>\n",
       "      <td>NaN</td>\n",
       "      <td>NaN</td>\n",
       "    </tr>\n",
       "    <tr>\n",
       "      <th>2002</th>\n",
       "      <td>NaN</td>\n",
       "      <td>NaN</td>\n",
       "      <td>198.0</td>\n",
       "      <td>20.0</td>\n",
       "      <td>280.0</td>\n",
       "      <td>NaN</td>\n",
       "      <td>NaN</td>\n",
       "      <td>NaN</td>\n",
       "      <td>NaN</td>\n",
       "      <td>NaN</td>\n",
       "    </tr>\n",
       "    <tr>\n",
       "      <th>2003</th>\n",
       "      <td>NaN</td>\n",
       "      <td>NaN</td>\n",
       "      <td>150.0</td>\n",
       "      <td>3.0</td>\n",
       "      <td>256.0</td>\n",
       "      <td>NaN</td>\n",
       "      <td>NaN</td>\n",
       "      <td>NaN</td>\n",
       "      <td>NaN</td>\n",
       "      <td>NaN</td>\n",
       "    </tr>\n",
       "    <tr>\n",
       "      <th>2004</th>\n",
       "      <td>NaN</td>\n",
       "      <td>23.0</td>\n",
       "      <td>175.0</td>\n",
       "      <td>NaN</td>\n",
       "      <td>259.0</td>\n",
       "      <td>NaN</td>\n",
       "      <td>NaN</td>\n",
       "      <td>15.0</td>\n",
       "      <td>NaN</td>\n",
       "      <td>NaN</td>\n",
       "    </tr>\n",
       "    <tr>\n",
       "      <th>2005</th>\n",
       "      <td>NaN</td>\n",
       "      <td>118.0</td>\n",
       "      <td>135.0</td>\n",
       "      <td>NaN</td>\n",
       "      <td>260.0</td>\n",
       "      <td>NaN</td>\n",
       "      <td>NaN</td>\n",
       "      <td>95.0</td>\n",
       "      <td>NaN</td>\n",
       "      <td>18.0</td>\n",
       "    </tr>\n",
       "    <tr>\n",
       "      <th>2006</th>\n",
       "      <td>NaN</td>\n",
       "      <td>201.0</td>\n",
       "      <td>39.0</td>\n",
       "      <td>NaN</td>\n",
       "      <td>259.0</td>\n",
       "      <td>27.0</td>\n",
       "      <td>NaN</td>\n",
       "      <td>189.0</td>\n",
       "      <td>44.0</td>\n",
       "      <td>93.0</td>\n",
       "    </tr>\n",
       "    <tr>\n",
       "      <th>2007</th>\n",
       "      <td>NaN</td>\n",
       "      <td>376.0</td>\n",
       "      <td>6.0</td>\n",
       "      <td>NaN</td>\n",
       "      <td>214.0</td>\n",
       "      <td>90.0</td>\n",
       "      <td>NaN</td>\n",
       "      <td>133.0</td>\n",
       "      <td>185.0</td>\n",
       "      <td>123.0</td>\n",
       "    </tr>\n",
       "    <tr>\n",
       "      <th>2008</th>\n",
       "      <td>NaN</td>\n",
       "      <td>492.0</td>\n",
       "      <td>NaN</td>\n",
       "      <td>NaN</td>\n",
       "      <td>191.0</td>\n",
       "      <td>138.0</td>\n",
       "      <td>NaN</td>\n",
       "      <td>100.0</td>\n",
       "      <td>282.0</td>\n",
       "      <td>146.0</td>\n",
       "    </tr>\n",
       "    <tr>\n",
       "      <th>2009</th>\n",
       "      <td>NaN</td>\n",
       "      <td>403.0</td>\n",
       "      <td>NaN</td>\n",
       "      <td>NaN</td>\n",
       "      <td>96.0</td>\n",
       "      <td>162.0</td>\n",
       "      <td>NaN</td>\n",
       "      <td>161.0</td>\n",
       "      <td>325.0</td>\n",
       "      <td>172.0</td>\n",
       "    </tr>\n",
       "    <tr>\n",
       "      <th>2010</th>\n",
       "      <td>NaN</td>\n",
       "      <td>323.0</td>\n",
       "      <td>NaN</td>\n",
       "      <td>NaN</td>\n",
       "      <td>38.0</td>\n",
       "      <td>181.0</td>\n",
       "      <td>NaN</td>\n",
       "      <td>188.0</td>\n",
       "      <td>253.0</td>\n",
       "      <td>182.0</td>\n",
       "    </tr>\n",
       "    <tr>\n",
       "      <th>2011</th>\n",
       "      <td>116.0</td>\n",
       "      <td>153.0</td>\n",
       "      <td>NaN</td>\n",
       "      <td>NaN</td>\n",
       "      <td>7.0</td>\n",
       "      <td>215.0</td>\n",
       "      <td>NaN</td>\n",
       "      <td>139.0</td>\n",
       "      <td>143.0</td>\n",
       "      <td>206.0</td>\n",
       "    </tr>\n",
       "    <tr>\n",
       "      <th>2012</th>\n",
       "      <td>93.0</td>\n",
       "      <td>23.0</td>\n",
       "      <td>NaN</td>\n",
       "      <td>NaN</td>\n",
       "      <td>NaN</td>\n",
       "      <td>148.0</td>\n",
       "      <td>NaN</td>\n",
       "      <td>106.0</td>\n",
       "      <td>31.0</td>\n",
       "      <td>106.0</td>\n",
       "    </tr>\n",
       "    <tr>\n",
       "      <th>2013</th>\n",
       "      <td>91.0</td>\n",
       "      <td>8.0</td>\n",
       "      <td>NaN</td>\n",
       "      <td>NaN</td>\n",
       "      <td>NaN</td>\n",
       "      <td>126.0</td>\n",
       "      <td>16.0</td>\n",
       "      <td>54.0</td>\n",
       "      <td>12.0</td>\n",
       "      <td>75.0</td>\n",
       "    </tr>\n",
       "    <tr>\n",
       "      <th>2014</th>\n",
       "      <td>80.0</td>\n",
       "      <td>NaN</td>\n",
       "      <td>NaN</td>\n",
       "      <td>NaN</td>\n",
       "      <td>NaN</td>\n",
       "      <td>108.0</td>\n",
       "      <td>75.0</td>\n",
       "      <td>10.0</td>\n",
       "      <td>6.0</td>\n",
       "      <td>63.0</td>\n",
       "    </tr>\n",
       "    <tr>\n",
       "      <th>2015</th>\n",
       "      <td>86.0</td>\n",
       "      <td>NaN</td>\n",
       "      <td>NaN</td>\n",
       "      <td>NaN</td>\n",
       "      <td>NaN</td>\n",
       "      <td>73.0</td>\n",
       "      <td>137.0</td>\n",
       "      <td>3.0</td>\n",
       "      <td>4.0</td>\n",
       "      <td>35.0</td>\n",
       "    </tr>\n",
       "    <tr>\n",
       "      <th>2016</th>\n",
       "      <td>46.0</td>\n",
       "      <td>NaN</td>\n",
       "      <td>NaN</td>\n",
       "      <td>NaN</td>\n",
       "      <td>NaN</td>\n",
       "      <td>38.0</td>\n",
       "      <td>164.0</td>\n",
       "      <td>NaN</td>\n",
       "      <td>1.0</td>\n",
       "      <td>13.0</td>\n",
       "    </tr>\n",
       "  </tbody>\n",
       "</table>\n",
       "</div>"
      ],
      "text/plain": [
       "platform           3DS     DS    GBA     PS    PS2    PS3    PS4    PSP  \\\n",
       "year_of_release                                                           \n",
       "1985               NaN    1.0    NaN    NaN    NaN    NaN    NaN    NaN   \n",
       "1994               NaN    NaN    NaN   17.0    NaN    NaN    NaN    NaN   \n",
       "1995               NaN    NaN    NaN   99.0    NaN    NaN    NaN    NaN   \n",
       "1996               NaN    NaN    NaN  164.0    NaN    NaN    NaN    NaN   \n",
       "1997               NaN    NaN    NaN  188.0    NaN    NaN    NaN    NaN   \n",
       "1998               NaN    NaN    NaN  248.0    NaN    NaN    NaN    NaN   \n",
       "1999               NaN    NaN    NaN  200.0    NaN    NaN    NaN    NaN   \n",
       "2000               NaN    NaN    1.0  160.0   82.0    NaN    NaN    NaN   \n",
       "2001               NaN    NaN  107.0   91.0  185.0    NaN    NaN    NaN   \n",
       "2002               NaN    NaN  198.0   20.0  280.0    NaN    NaN    NaN   \n",
       "2003               NaN    NaN  150.0    3.0  256.0    NaN    NaN    NaN   \n",
       "2004               NaN   23.0  175.0    NaN  259.0    NaN    NaN   15.0   \n",
       "2005               NaN  118.0  135.0    NaN  260.0    NaN    NaN   95.0   \n",
       "2006               NaN  201.0   39.0    NaN  259.0   27.0    NaN  189.0   \n",
       "2007               NaN  376.0    6.0    NaN  214.0   90.0    NaN  133.0   \n",
       "2008               NaN  492.0    NaN    NaN  191.0  138.0    NaN  100.0   \n",
       "2009               NaN  403.0    NaN    NaN   96.0  162.0    NaN  161.0   \n",
       "2010               NaN  323.0    NaN    NaN   38.0  181.0    NaN  188.0   \n",
       "2011             116.0  153.0    NaN    NaN    7.0  215.0    NaN  139.0   \n",
       "2012              93.0   23.0    NaN    NaN    NaN  148.0    NaN  106.0   \n",
       "2013              91.0    8.0    NaN    NaN    NaN  126.0   16.0   54.0   \n",
       "2014              80.0    NaN    NaN    NaN    NaN  108.0   75.0   10.0   \n",
       "2015              86.0    NaN    NaN    NaN    NaN   73.0  137.0    3.0   \n",
       "2016              46.0    NaN    NaN    NaN    NaN   38.0  164.0    NaN   \n",
       "\n",
       "platform           Wii   X360  \n",
       "year_of_release                \n",
       "1985               NaN    NaN  \n",
       "1994               NaN    NaN  \n",
       "1995               NaN    NaN  \n",
       "1996               NaN    NaN  \n",
       "1997               NaN    NaN  \n",
       "1998               NaN    NaN  \n",
       "1999               NaN    NaN  \n",
       "2000               NaN    NaN  \n",
       "2001               NaN    NaN  \n",
       "2002               NaN    NaN  \n",
       "2003               NaN    NaN  \n",
       "2004               NaN    NaN  \n",
       "2005               NaN   18.0  \n",
       "2006              44.0   93.0  \n",
       "2007             185.0  123.0  \n",
       "2008             282.0  146.0  \n",
       "2009             325.0  172.0  \n",
       "2010             253.0  182.0  \n",
       "2011             143.0  206.0  \n",
       "2012              31.0  106.0  \n",
       "2013              12.0   75.0  \n",
       "2014               6.0   63.0  \n",
       "2015               4.0   35.0  \n",
       "2016               1.0   13.0  "
      ]
     },
     "execution_count": 22,
     "metadata": {},
     "output_type": "execute_result"
    }
   ],
   "source": [
    "costly_games = df.groupby('platform')[['total_sales']].sum().sort_values('total_sales', ascending=False).head(10).index\n",
    "df[df['platform'].isin(costly_games)].groupby('year_of_release')[['platform']].count()\n",
    "piv = df[df['platform'].isin(costly_games)].pivot_table(index='year_of_release', columns='platform', values='total_sales', aggfunc='count')\n",
    "piv"
   ]
  },
  {
   "cell_type": "markdown",
   "metadata": {},
   "source": [
    "Посчитаем, сколько лет в среднем консоль держится на рынке<br>\n",
    "Однако перед этим уберём одну аномалию: консоль Nintendo DS была выпущена в 2004 году. Уберём строчку с 1985 годом этой консоли"
   ]
  },
  {
   "cell_type": "code",
   "execution_count": 23,
   "metadata": {},
   "outputs": [],
   "source": [
    "# Найдём индекс строки с аномалией\n",
    "i_to_drop = df[(df['platform'] == 'DS') & (df['year_of_release'] == 1985)].index"
   ]
  },
  {
   "cell_type": "code",
   "execution_count": 24,
   "metadata": {},
   "outputs": [
    {
     "data": {
      "text/html": [
       "<style type=\"text/css\">\n",
       "#T_bf5dd_row0_col3, #T_bf5dd_row1_col3, #T_bf5dd_row2_col3, #T_bf5dd_row3_col3, #T_bf5dd_row4_col3, #T_bf5dd_row5_col3, #T_bf5dd_row6_col2, #T_bf5dd_row6_col3, #T_bf5dd_row6_col4, #T_bf5dd_row7_col2, #T_bf5dd_row7_col3, #T_bf5dd_row7_col4, #T_bf5dd_row8_col2, #T_bf5dd_row8_col3, #T_bf5dd_row8_col4, #T_bf5dd_row9_col2, #T_bf5dd_row9_col3, #T_bf5dd_row9_col4, #T_bf5dd_row10_col1, #T_bf5dd_row10_col2, #T_bf5dd_row10_col4, #T_bf5dd_row10_col7, #T_bf5dd_row11_col1, #T_bf5dd_row11_col2, #T_bf5dd_row11_col4, #T_bf5dd_row11_col7, #T_bf5dd_row11_col9, #T_bf5dd_row12_col1, #T_bf5dd_row12_col2, #T_bf5dd_row12_col4, #T_bf5dd_row12_col5, #T_bf5dd_row12_col7, #T_bf5dd_row12_col8, #T_bf5dd_row12_col9, #T_bf5dd_row13_col1, #T_bf5dd_row13_col2, #T_bf5dd_row13_col4, #T_bf5dd_row13_col5, #T_bf5dd_row13_col7, #T_bf5dd_row13_col8, #T_bf5dd_row13_col9, #T_bf5dd_row14_col1, #T_bf5dd_row14_col4, #T_bf5dd_row14_col5, #T_bf5dd_row14_col7, #T_bf5dd_row14_col8, #T_bf5dd_row14_col9, #T_bf5dd_row15_col1, #T_bf5dd_row15_col4, #T_bf5dd_row15_col5, #T_bf5dd_row15_col7, #T_bf5dd_row15_col8, #T_bf5dd_row15_col9, #T_bf5dd_row16_col1, #T_bf5dd_row16_col4, #T_bf5dd_row16_col5, #T_bf5dd_row16_col7, #T_bf5dd_row16_col8, #T_bf5dd_row16_col9, #T_bf5dd_row17_col0, #T_bf5dd_row17_col1, #T_bf5dd_row17_col4, #T_bf5dd_row17_col5, #T_bf5dd_row17_col7, #T_bf5dd_row17_col8, #T_bf5dd_row17_col9, #T_bf5dd_row18_col0, #T_bf5dd_row18_col1, #T_bf5dd_row18_col5, #T_bf5dd_row18_col7, #T_bf5dd_row18_col8, #T_bf5dd_row18_col9, #T_bf5dd_row19_col0, #T_bf5dd_row19_col1, #T_bf5dd_row19_col5, #T_bf5dd_row19_col6, #T_bf5dd_row19_col7, #T_bf5dd_row19_col8, #T_bf5dd_row19_col9, #T_bf5dd_row20_col0, #T_bf5dd_row20_col5, #T_bf5dd_row20_col6, #T_bf5dd_row20_col7, #T_bf5dd_row20_col8, #T_bf5dd_row20_col9, #T_bf5dd_row21_col0, #T_bf5dd_row21_col5, #T_bf5dd_row21_col6, #T_bf5dd_row21_col7, #T_bf5dd_row21_col8, #T_bf5dd_row21_col9, #T_bf5dd_row22_col0, #T_bf5dd_row22_col5, #T_bf5dd_row22_col6, #T_bf5dd_row22_col8, #T_bf5dd_row22_col9 {\n",
       "  background-color: springgreen;\n",
       "}\n",
       "</style>\n",
       "<table id=\"T_bf5dd\">\n",
       "  <thead>\n",
       "    <tr>\n",
       "      <th class=\"index_name level0\" >platform</th>\n",
       "      <th id=\"T_bf5dd_level0_col0\" class=\"col_heading level0 col0\" >3DS</th>\n",
       "      <th id=\"T_bf5dd_level0_col1\" class=\"col_heading level0 col1\" >DS</th>\n",
       "      <th id=\"T_bf5dd_level0_col2\" class=\"col_heading level0 col2\" >GBA</th>\n",
       "      <th id=\"T_bf5dd_level0_col3\" class=\"col_heading level0 col3\" >PS</th>\n",
       "      <th id=\"T_bf5dd_level0_col4\" class=\"col_heading level0 col4\" >PS2</th>\n",
       "      <th id=\"T_bf5dd_level0_col5\" class=\"col_heading level0 col5\" >PS3</th>\n",
       "      <th id=\"T_bf5dd_level0_col6\" class=\"col_heading level0 col6\" >PS4</th>\n",
       "      <th id=\"T_bf5dd_level0_col7\" class=\"col_heading level0 col7\" >PSP</th>\n",
       "      <th id=\"T_bf5dd_level0_col8\" class=\"col_heading level0 col8\" >Wii</th>\n",
       "      <th id=\"T_bf5dd_level0_col9\" class=\"col_heading level0 col9\" >X360</th>\n",
       "    </tr>\n",
       "    <tr>\n",
       "      <th class=\"index_name level0\" >year_of_release</th>\n",
       "      <th class=\"blank col0\" >&nbsp;</th>\n",
       "      <th class=\"blank col1\" >&nbsp;</th>\n",
       "      <th class=\"blank col2\" >&nbsp;</th>\n",
       "      <th class=\"blank col3\" >&nbsp;</th>\n",
       "      <th class=\"blank col4\" >&nbsp;</th>\n",
       "      <th class=\"blank col5\" >&nbsp;</th>\n",
       "      <th class=\"blank col6\" >&nbsp;</th>\n",
       "      <th class=\"blank col7\" >&nbsp;</th>\n",
       "      <th class=\"blank col8\" >&nbsp;</th>\n",
       "      <th class=\"blank col9\" >&nbsp;</th>\n",
       "    </tr>\n",
       "  </thead>\n",
       "  <tbody>\n",
       "    <tr>\n",
       "      <th id=\"T_bf5dd_level0_row0\" class=\"row_heading level0 row0\" >1994</th>\n",
       "      <td id=\"T_bf5dd_row0_col0\" class=\"data row0 col0\" >nan</td>\n",
       "      <td id=\"T_bf5dd_row0_col1\" class=\"data row0 col1\" >nan</td>\n",
       "      <td id=\"T_bf5dd_row0_col2\" class=\"data row0 col2\" >nan</td>\n",
       "      <td id=\"T_bf5dd_row0_col3\" class=\"data row0 col3\" >17.000000</td>\n",
       "      <td id=\"T_bf5dd_row0_col4\" class=\"data row0 col4\" >nan</td>\n",
       "      <td id=\"T_bf5dd_row0_col5\" class=\"data row0 col5\" >nan</td>\n",
       "      <td id=\"T_bf5dd_row0_col6\" class=\"data row0 col6\" >nan</td>\n",
       "      <td id=\"T_bf5dd_row0_col7\" class=\"data row0 col7\" >nan</td>\n",
       "      <td id=\"T_bf5dd_row0_col8\" class=\"data row0 col8\" >nan</td>\n",
       "      <td id=\"T_bf5dd_row0_col9\" class=\"data row0 col9\" >nan</td>\n",
       "    </tr>\n",
       "    <tr>\n",
       "      <th id=\"T_bf5dd_level0_row1\" class=\"row_heading level0 row1\" >1995</th>\n",
       "      <td id=\"T_bf5dd_row1_col0\" class=\"data row1 col0\" >nan</td>\n",
       "      <td id=\"T_bf5dd_row1_col1\" class=\"data row1 col1\" >nan</td>\n",
       "      <td id=\"T_bf5dd_row1_col2\" class=\"data row1 col2\" >nan</td>\n",
       "      <td id=\"T_bf5dd_row1_col3\" class=\"data row1 col3\" >99.000000</td>\n",
       "      <td id=\"T_bf5dd_row1_col4\" class=\"data row1 col4\" >nan</td>\n",
       "      <td id=\"T_bf5dd_row1_col5\" class=\"data row1 col5\" >nan</td>\n",
       "      <td id=\"T_bf5dd_row1_col6\" class=\"data row1 col6\" >nan</td>\n",
       "      <td id=\"T_bf5dd_row1_col7\" class=\"data row1 col7\" >nan</td>\n",
       "      <td id=\"T_bf5dd_row1_col8\" class=\"data row1 col8\" >nan</td>\n",
       "      <td id=\"T_bf5dd_row1_col9\" class=\"data row1 col9\" >nan</td>\n",
       "    </tr>\n",
       "    <tr>\n",
       "      <th id=\"T_bf5dd_level0_row2\" class=\"row_heading level0 row2\" >1996</th>\n",
       "      <td id=\"T_bf5dd_row2_col0\" class=\"data row2 col0\" >nan</td>\n",
       "      <td id=\"T_bf5dd_row2_col1\" class=\"data row2 col1\" >nan</td>\n",
       "      <td id=\"T_bf5dd_row2_col2\" class=\"data row2 col2\" >nan</td>\n",
       "      <td id=\"T_bf5dd_row2_col3\" class=\"data row2 col3\" >164.000000</td>\n",
       "      <td id=\"T_bf5dd_row2_col4\" class=\"data row2 col4\" >nan</td>\n",
       "      <td id=\"T_bf5dd_row2_col5\" class=\"data row2 col5\" >nan</td>\n",
       "      <td id=\"T_bf5dd_row2_col6\" class=\"data row2 col6\" >nan</td>\n",
       "      <td id=\"T_bf5dd_row2_col7\" class=\"data row2 col7\" >nan</td>\n",
       "      <td id=\"T_bf5dd_row2_col8\" class=\"data row2 col8\" >nan</td>\n",
       "      <td id=\"T_bf5dd_row2_col9\" class=\"data row2 col9\" >nan</td>\n",
       "    </tr>\n",
       "    <tr>\n",
       "      <th id=\"T_bf5dd_level0_row3\" class=\"row_heading level0 row3\" >1997</th>\n",
       "      <td id=\"T_bf5dd_row3_col0\" class=\"data row3 col0\" >nan</td>\n",
       "      <td id=\"T_bf5dd_row3_col1\" class=\"data row3 col1\" >nan</td>\n",
       "      <td id=\"T_bf5dd_row3_col2\" class=\"data row3 col2\" >nan</td>\n",
       "      <td id=\"T_bf5dd_row3_col3\" class=\"data row3 col3\" >188.000000</td>\n",
       "      <td id=\"T_bf5dd_row3_col4\" class=\"data row3 col4\" >nan</td>\n",
       "      <td id=\"T_bf5dd_row3_col5\" class=\"data row3 col5\" >nan</td>\n",
       "      <td id=\"T_bf5dd_row3_col6\" class=\"data row3 col6\" >nan</td>\n",
       "      <td id=\"T_bf5dd_row3_col7\" class=\"data row3 col7\" >nan</td>\n",
       "      <td id=\"T_bf5dd_row3_col8\" class=\"data row3 col8\" >nan</td>\n",
       "      <td id=\"T_bf5dd_row3_col9\" class=\"data row3 col9\" >nan</td>\n",
       "    </tr>\n",
       "    <tr>\n",
       "      <th id=\"T_bf5dd_level0_row4\" class=\"row_heading level0 row4\" >1998</th>\n",
       "      <td id=\"T_bf5dd_row4_col0\" class=\"data row4 col0\" >nan</td>\n",
       "      <td id=\"T_bf5dd_row4_col1\" class=\"data row4 col1\" >nan</td>\n",
       "      <td id=\"T_bf5dd_row4_col2\" class=\"data row4 col2\" >nan</td>\n",
       "      <td id=\"T_bf5dd_row4_col3\" class=\"data row4 col3\" >248.000000</td>\n",
       "      <td id=\"T_bf5dd_row4_col4\" class=\"data row4 col4\" >nan</td>\n",
       "      <td id=\"T_bf5dd_row4_col5\" class=\"data row4 col5\" >nan</td>\n",
       "      <td id=\"T_bf5dd_row4_col6\" class=\"data row4 col6\" >nan</td>\n",
       "      <td id=\"T_bf5dd_row4_col7\" class=\"data row4 col7\" >nan</td>\n",
       "      <td id=\"T_bf5dd_row4_col8\" class=\"data row4 col8\" >nan</td>\n",
       "      <td id=\"T_bf5dd_row4_col9\" class=\"data row4 col9\" >nan</td>\n",
       "    </tr>\n",
       "    <tr>\n",
       "      <th id=\"T_bf5dd_level0_row5\" class=\"row_heading level0 row5\" >1999</th>\n",
       "      <td id=\"T_bf5dd_row5_col0\" class=\"data row5 col0\" >nan</td>\n",
       "      <td id=\"T_bf5dd_row5_col1\" class=\"data row5 col1\" >nan</td>\n",
       "      <td id=\"T_bf5dd_row5_col2\" class=\"data row5 col2\" >nan</td>\n",
       "      <td id=\"T_bf5dd_row5_col3\" class=\"data row5 col3\" >200.000000</td>\n",
       "      <td id=\"T_bf5dd_row5_col4\" class=\"data row5 col4\" >nan</td>\n",
       "      <td id=\"T_bf5dd_row5_col5\" class=\"data row5 col5\" >nan</td>\n",
       "      <td id=\"T_bf5dd_row5_col6\" class=\"data row5 col6\" >nan</td>\n",
       "      <td id=\"T_bf5dd_row5_col7\" class=\"data row5 col7\" >nan</td>\n",
       "      <td id=\"T_bf5dd_row5_col8\" class=\"data row5 col8\" >nan</td>\n",
       "      <td id=\"T_bf5dd_row5_col9\" class=\"data row5 col9\" >nan</td>\n",
       "    </tr>\n",
       "    <tr>\n",
       "      <th id=\"T_bf5dd_level0_row6\" class=\"row_heading level0 row6\" >2000</th>\n",
       "      <td id=\"T_bf5dd_row6_col0\" class=\"data row6 col0\" >nan</td>\n",
       "      <td id=\"T_bf5dd_row6_col1\" class=\"data row6 col1\" >nan</td>\n",
       "      <td id=\"T_bf5dd_row6_col2\" class=\"data row6 col2\" >1.000000</td>\n",
       "      <td id=\"T_bf5dd_row6_col3\" class=\"data row6 col3\" >160.000000</td>\n",
       "      <td id=\"T_bf5dd_row6_col4\" class=\"data row6 col4\" >82.000000</td>\n",
       "      <td id=\"T_bf5dd_row6_col5\" class=\"data row6 col5\" >nan</td>\n",
       "      <td id=\"T_bf5dd_row6_col6\" class=\"data row6 col6\" >nan</td>\n",
       "      <td id=\"T_bf5dd_row6_col7\" class=\"data row6 col7\" >nan</td>\n",
       "      <td id=\"T_bf5dd_row6_col8\" class=\"data row6 col8\" >nan</td>\n",
       "      <td id=\"T_bf5dd_row6_col9\" class=\"data row6 col9\" >nan</td>\n",
       "    </tr>\n",
       "    <tr>\n",
       "      <th id=\"T_bf5dd_level0_row7\" class=\"row_heading level0 row7\" >2001</th>\n",
       "      <td id=\"T_bf5dd_row7_col0\" class=\"data row7 col0\" >nan</td>\n",
       "      <td id=\"T_bf5dd_row7_col1\" class=\"data row7 col1\" >nan</td>\n",
       "      <td id=\"T_bf5dd_row7_col2\" class=\"data row7 col2\" >107.000000</td>\n",
       "      <td id=\"T_bf5dd_row7_col3\" class=\"data row7 col3\" >91.000000</td>\n",
       "      <td id=\"T_bf5dd_row7_col4\" class=\"data row7 col4\" >185.000000</td>\n",
       "      <td id=\"T_bf5dd_row7_col5\" class=\"data row7 col5\" >nan</td>\n",
       "      <td id=\"T_bf5dd_row7_col6\" class=\"data row7 col6\" >nan</td>\n",
       "      <td id=\"T_bf5dd_row7_col7\" class=\"data row7 col7\" >nan</td>\n",
       "      <td id=\"T_bf5dd_row7_col8\" class=\"data row7 col8\" >nan</td>\n",
       "      <td id=\"T_bf5dd_row7_col9\" class=\"data row7 col9\" >nan</td>\n",
       "    </tr>\n",
       "    <tr>\n",
       "      <th id=\"T_bf5dd_level0_row8\" class=\"row_heading level0 row8\" >2002</th>\n",
       "      <td id=\"T_bf5dd_row8_col0\" class=\"data row8 col0\" >nan</td>\n",
       "      <td id=\"T_bf5dd_row8_col1\" class=\"data row8 col1\" >nan</td>\n",
       "      <td id=\"T_bf5dd_row8_col2\" class=\"data row8 col2\" >198.000000</td>\n",
       "      <td id=\"T_bf5dd_row8_col3\" class=\"data row8 col3\" >20.000000</td>\n",
       "      <td id=\"T_bf5dd_row8_col4\" class=\"data row8 col4\" >280.000000</td>\n",
       "      <td id=\"T_bf5dd_row8_col5\" class=\"data row8 col5\" >nan</td>\n",
       "      <td id=\"T_bf5dd_row8_col6\" class=\"data row8 col6\" >nan</td>\n",
       "      <td id=\"T_bf5dd_row8_col7\" class=\"data row8 col7\" >nan</td>\n",
       "      <td id=\"T_bf5dd_row8_col8\" class=\"data row8 col8\" >nan</td>\n",
       "      <td id=\"T_bf5dd_row8_col9\" class=\"data row8 col9\" >nan</td>\n",
       "    </tr>\n",
       "    <tr>\n",
       "      <th id=\"T_bf5dd_level0_row9\" class=\"row_heading level0 row9\" >2003</th>\n",
       "      <td id=\"T_bf5dd_row9_col0\" class=\"data row9 col0\" >nan</td>\n",
       "      <td id=\"T_bf5dd_row9_col1\" class=\"data row9 col1\" >nan</td>\n",
       "      <td id=\"T_bf5dd_row9_col2\" class=\"data row9 col2\" >150.000000</td>\n",
       "      <td id=\"T_bf5dd_row9_col3\" class=\"data row9 col3\" >3.000000</td>\n",
       "      <td id=\"T_bf5dd_row9_col4\" class=\"data row9 col4\" >256.000000</td>\n",
       "      <td id=\"T_bf5dd_row9_col5\" class=\"data row9 col5\" >nan</td>\n",
       "      <td id=\"T_bf5dd_row9_col6\" class=\"data row9 col6\" >nan</td>\n",
       "      <td id=\"T_bf5dd_row9_col7\" class=\"data row9 col7\" >nan</td>\n",
       "      <td id=\"T_bf5dd_row9_col8\" class=\"data row9 col8\" >nan</td>\n",
       "      <td id=\"T_bf5dd_row9_col9\" class=\"data row9 col9\" >nan</td>\n",
       "    </tr>\n",
       "    <tr>\n",
       "      <th id=\"T_bf5dd_level0_row10\" class=\"row_heading level0 row10\" >2004</th>\n",
       "      <td id=\"T_bf5dd_row10_col0\" class=\"data row10 col0\" >nan</td>\n",
       "      <td id=\"T_bf5dd_row10_col1\" class=\"data row10 col1\" >23.000000</td>\n",
       "      <td id=\"T_bf5dd_row10_col2\" class=\"data row10 col2\" >175.000000</td>\n",
       "      <td id=\"T_bf5dd_row10_col3\" class=\"data row10 col3\" >nan</td>\n",
       "      <td id=\"T_bf5dd_row10_col4\" class=\"data row10 col4\" >259.000000</td>\n",
       "      <td id=\"T_bf5dd_row10_col5\" class=\"data row10 col5\" >nan</td>\n",
       "      <td id=\"T_bf5dd_row10_col6\" class=\"data row10 col6\" >nan</td>\n",
       "      <td id=\"T_bf5dd_row10_col7\" class=\"data row10 col7\" >15.000000</td>\n",
       "      <td id=\"T_bf5dd_row10_col8\" class=\"data row10 col8\" >nan</td>\n",
       "      <td id=\"T_bf5dd_row10_col9\" class=\"data row10 col9\" >nan</td>\n",
       "    </tr>\n",
       "    <tr>\n",
       "      <th id=\"T_bf5dd_level0_row11\" class=\"row_heading level0 row11\" >2005</th>\n",
       "      <td id=\"T_bf5dd_row11_col0\" class=\"data row11 col0\" >nan</td>\n",
       "      <td id=\"T_bf5dd_row11_col1\" class=\"data row11 col1\" >118.000000</td>\n",
       "      <td id=\"T_bf5dd_row11_col2\" class=\"data row11 col2\" >135.000000</td>\n",
       "      <td id=\"T_bf5dd_row11_col3\" class=\"data row11 col3\" >nan</td>\n",
       "      <td id=\"T_bf5dd_row11_col4\" class=\"data row11 col4\" >260.000000</td>\n",
       "      <td id=\"T_bf5dd_row11_col5\" class=\"data row11 col5\" >nan</td>\n",
       "      <td id=\"T_bf5dd_row11_col6\" class=\"data row11 col6\" >nan</td>\n",
       "      <td id=\"T_bf5dd_row11_col7\" class=\"data row11 col7\" >95.000000</td>\n",
       "      <td id=\"T_bf5dd_row11_col8\" class=\"data row11 col8\" >nan</td>\n",
       "      <td id=\"T_bf5dd_row11_col9\" class=\"data row11 col9\" >18.000000</td>\n",
       "    </tr>\n",
       "    <tr>\n",
       "      <th id=\"T_bf5dd_level0_row12\" class=\"row_heading level0 row12\" >2006</th>\n",
       "      <td id=\"T_bf5dd_row12_col0\" class=\"data row12 col0\" >nan</td>\n",
       "      <td id=\"T_bf5dd_row12_col1\" class=\"data row12 col1\" >201.000000</td>\n",
       "      <td id=\"T_bf5dd_row12_col2\" class=\"data row12 col2\" >39.000000</td>\n",
       "      <td id=\"T_bf5dd_row12_col3\" class=\"data row12 col3\" >nan</td>\n",
       "      <td id=\"T_bf5dd_row12_col4\" class=\"data row12 col4\" >259.000000</td>\n",
       "      <td id=\"T_bf5dd_row12_col5\" class=\"data row12 col5\" >27.000000</td>\n",
       "      <td id=\"T_bf5dd_row12_col6\" class=\"data row12 col6\" >nan</td>\n",
       "      <td id=\"T_bf5dd_row12_col7\" class=\"data row12 col7\" >189.000000</td>\n",
       "      <td id=\"T_bf5dd_row12_col8\" class=\"data row12 col8\" >44.000000</td>\n",
       "      <td id=\"T_bf5dd_row12_col9\" class=\"data row12 col9\" >93.000000</td>\n",
       "    </tr>\n",
       "    <tr>\n",
       "      <th id=\"T_bf5dd_level0_row13\" class=\"row_heading level0 row13\" >2007</th>\n",
       "      <td id=\"T_bf5dd_row13_col0\" class=\"data row13 col0\" >nan</td>\n",
       "      <td id=\"T_bf5dd_row13_col1\" class=\"data row13 col1\" >376.000000</td>\n",
       "      <td id=\"T_bf5dd_row13_col2\" class=\"data row13 col2\" >6.000000</td>\n",
       "      <td id=\"T_bf5dd_row13_col3\" class=\"data row13 col3\" >nan</td>\n",
       "      <td id=\"T_bf5dd_row13_col4\" class=\"data row13 col4\" >214.000000</td>\n",
       "      <td id=\"T_bf5dd_row13_col5\" class=\"data row13 col5\" >90.000000</td>\n",
       "      <td id=\"T_bf5dd_row13_col6\" class=\"data row13 col6\" >nan</td>\n",
       "      <td id=\"T_bf5dd_row13_col7\" class=\"data row13 col7\" >133.000000</td>\n",
       "      <td id=\"T_bf5dd_row13_col8\" class=\"data row13 col8\" >185.000000</td>\n",
       "      <td id=\"T_bf5dd_row13_col9\" class=\"data row13 col9\" >123.000000</td>\n",
       "    </tr>\n",
       "    <tr>\n",
       "      <th id=\"T_bf5dd_level0_row14\" class=\"row_heading level0 row14\" >2008</th>\n",
       "      <td id=\"T_bf5dd_row14_col0\" class=\"data row14 col0\" >nan</td>\n",
       "      <td id=\"T_bf5dd_row14_col1\" class=\"data row14 col1\" >492.000000</td>\n",
       "      <td id=\"T_bf5dd_row14_col2\" class=\"data row14 col2\" >nan</td>\n",
       "      <td id=\"T_bf5dd_row14_col3\" class=\"data row14 col3\" >nan</td>\n",
       "      <td id=\"T_bf5dd_row14_col4\" class=\"data row14 col4\" >191.000000</td>\n",
       "      <td id=\"T_bf5dd_row14_col5\" class=\"data row14 col5\" >138.000000</td>\n",
       "      <td id=\"T_bf5dd_row14_col6\" class=\"data row14 col6\" >nan</td>\n",
       "      <td id=\"T_bf5dd_row14_col7\" class=\"data row14 col7\" >100.000000</td>\n",
       "      <td id=\"T_bf5dd_row14_col8\" class=\"data row14 col8\" >282.000000</td>\n",
       "      <td id=\"T_bf5dd_row14_col9\" class=\"data row14 col9\" >146.000000</td>\n",
       "    </tr>\n",
       "    <tr>\n",
       "      <th id=\"T_bf5dd_level0_row15\" class=\"row_heading level0 row15\" >2009</th>\n",
       "      <td id=\"T_bf5dd_row15_col0\" class=\"data row15 col0\" >nan</td>\n",
       "      <td id=\"T_bf5dd_row15_col1\" class=\"data row15 col1\" >403.000000</td>\n",
       "      <td id=\"T_bf5dd_row15_col2\" class=\"data row15 col2\" >nan</td>\n",
       "      <td id=\"T_bf5dd_row15_col3\" class=\"data row15 col3\" >nan</td>\n",
       "      <td id=\"T_bf5dd_row15_col4\" class=\"data row15 col4\" >96.000000</td>\n",
       "      <td id=\"T_bf5dd_row15_col5\" class=\"data row15 col5\" >162.000000</td>\n",
       "      <td id=\"T_bf5dd_row15_col6\" class=\"data row15 col6\" >nan</td>\n",
       "      <td id=\"T_bf5dd_row15_col7\" class=\"data row15 col7\" >161.000000</td>\n",
       "      <td id=\"T_bf5dd_row15_col8\" class=\"data row15 col8\" >325.000000</td>\n",
       "      <td id=\"T_bf5dd_row15_col9\" class=\"data row15 col9\" >172.000000</td>\n",
       "    </tr>\n",
       "    <tr>\n",
       "      <th id=\"T_bf5dd_level0_row16\" class=\"row_heading level0 row16\" >2010</th>\n",
       "      <td id=\"T_bf5dd_row16_col0\" class=\"data row16 col0\" >nan</td>\n",
       "      <td id=\"T_bf5dd_row16_col1\" class=\"data row16 col1\" >323.000000</td>\n",
       "      <td id=\"T_bf5dd_row16_col2\" class=\"data row16 col2\" >nan</td>\n",
       "      <td id=\"T_bf5dd_row16_col3\" class=\"data row16 col3\" >nan</td>\n",
       "      <td id=\"T_bf5dd_row16_col4\" class=\"data row16 col4\" >38.000000</td>\n",
       "      <td id=\"T_bf5dd_row16_col5\" class=\"data row16 col5\" >181.000000</td>\n",
       "      <td id=\"T_bf5dd_row16_col6\" class=\"data row16 col6\" >nan</td>\n",
       "      <td id=\"T_bf5dd_row16_col7\" class=\"data row16 col7\" >188.000000</td>\n",
       "      <td id=\"T_bf5dd_row16_col8\" class=\"data row16 col8\" >253.000000</td>\n",
       "      <td id=\"T_bf5dd_row16_col9\" class=\"data row16 col9\" >182.000000</td>\n",
       "    </tr>\n",
       "    <tr>\n",
       "      <th id=\"T_bf5dd_level0_row17\" class=\"row_heading level0 row17\" >2011</th>\n",
       "      <td id=\"T_bf5dd_row17_col0\" class=\"data row17 col0\" >116.000000</td>\n",
       "      <td id=\"T_bf5dd_row17_col1\" class=\"data row17 col1\" >153.000000</td>\n",
       "      <td id=\"T_bf5dd_row17_col2\" class=\"data row17 col2\" >nan</td>\n",
       "      <td id=\"T_bf5dd_row17_col3\" class=\"data row17 col3\" >nan</td>\n",
       "      <td id=\"T_bf5dd_row17_col4\" class=\"data row17 col4\" >7.000000</td>\n",
       "      <td id=\"T_bf5dd_row17_col5\" class=\"data row17 col5\" >215.000000</td>\n",
       "      <td id=\"T_bf5dd_row17_col6\" class=\"data row17 col6\" >nan</td>\n",
       "      <td id=\"T_bf5dd_row17_col7\" class=\"data row17 col7\" >139.000000</td>\n",
       "      <td id=\"T_bf5dd_row17_col8\" class=\"data row17 col8\" >143.000000</td>\n",
       "      <td id=\"T_bf5dd_row17_col9\" class=\"data row17 col9\" >206.000000</td>\n",
       "    </tr>\n",
       "    <tr>\n",
       "      <th id=\"T_bf5dd_level0_row18\" class=\"row_heading level0 row18\" >2012</th>\n",
       "      <td id=\"T_bf5dd_row18_col0\" class=\"data row18 col0\" >93.000000</td>\n",
       "      <td id=\"T_bf5dd_row18_col1\" class=\"data row18 col1\" >23.000000</td>\n",
       "      <td id=\"T_bf5dd_row18_col2\" class=\"data row18 col2\" >nan</td>\n",
       "      <td id=\"T_bf5dd_row18_col3\" class=\"data row18 col3\" >nan</td>\n",
       "      <td id=\"T_bf5dd_row18_col4\" class=\"data row18 col4\" >nan</td>\n",
       "      <td id=\"T_bf5dd_row18_col5\" class=\"data row18 col5\" >148.000000</td>\n",
       "      <td id=\"T_bf5dd_row18_col6\" class=\"data row18 col6\" >nan</td>\n",
       "      <td id=\"T_bf5dd_row18_col7\" class=\"data row18 col7\" >106.000000</td>\n",
       "      <td id=\"T_bf5dd_row18_col8\" class=\"data row18 col8\" >31.000000</td>\n",
       "      <td id=\"T_bf5dd_row18_col9\" class=\"data row18 col9\" >106.000000</td>\n",
       "    </tr>\n",
       "    <tr>\n",
       "      <th id=\"T_bf5dd_level0_row19\" class=\"row_heading level0 row19\" >2013</th>\n",
       "      <td id=\"T_bf5dd_row19_col0\" class=\"data row19 col0\" >91.000000</td>\n",
       "      <td id=\"T_bf5dd_row19_col1\" class=\"data row19 col1\" >8.000000</td>\n",
       "      <td id=\"T_bf5dd_row19_col2\" class=\"data row19 col2\" >nan</td>\n",
       "      <td id=\"T_bf5dd_row19_col3\" class=\"data row19 col3\" >nan</td>\n",
       "      <td id=\"T_bf5dd_row19_col4\" class=\"data row19 col4\" >nan</td>\n",
       "      <td id=\"T_bf5dd_row19_col5\" class=\"data row19 col5\" >126.000000</td>\n",
       "      <td id=\"T_bf5dd_row19_col6\" class=\"data row19 col6\" >16.000000</td>\n",
       "      <td id=\"T_bf5dd_row19_col7\" class=\"data row19 col7\" >54.000000</td>\n",
       "      <td id=\"T_bf5dd_row19_col8\" class=\"data row19 col8\" >12.000000</td>\n",
       "      <td id=\"T_bf5dd_row19_col9\" class=\"data row19 col9\" >75.000000</td>\n",
       "    </tr>\n",
       "    <tr>\n",
       "      <th id=\"T_bf5dd_level0_row20\" class=\"row_heading level0 row20\" >2014</th>\n",
       "      <td id=\"T_bf5dd_row20_col0\" class=\"data row20 col0\" >80.000000</td>\n",
       "      <td id=\"T_bf5dd_row20_col1\" class=\"data row20 col1\" >nan</td>\n",
       "      <td id=\"T_bf5dd_row20_col2\" class=\"data row20 col2\" >nan</td>\n",
       "      <td id=\"T_bf5dd_row20_col3\" class=\"data row20 col3\" >nan</td>\n",
       "      <td id=\"T_bf5dd_row20_col4\" class=\"data row20 col4\" >nan</td>\n",
       "      <td id=\"T_bf5dd_row20_col5\" class=\"data row20 col5\" >108.000000</td>\n",
       "      <td id=\"T_bf5dd_row20_col6\" class=\"data row20 col6\" >75.000000</td>\n",
       "      <td id=\"T_bf5dd_row20_col7\" class=\"data row20 col7\" >10.000000</td>\n",
       "      <td id=\"T_bf5dd_row20_col8\" class=\"data row20 col8\" >6.000000</td>\n",
       "      <td id=\"T_bf5dd_row20_col9\" class=\"data row20 col9\" >63.000000</td>\n",
       "    </tr>\n",
       "    <tr>\n",
       "      <th id=\"T_bf5dd_level0_row21\" class=\"row_heading level0 row21\" >2015</th>\n",
       "      <td id=\"T_bf5dd_row21_col0\" class=\"data row21 col0\" >86.000000</td>\n",
       "      <td id=\"T_bf5dd_row21_col1\" class=\"data row21 col1\" >nan</td>\n",
       "      <td id=\"T_bf5dd_row21_col2\" class=\"data row21 col2\" >nan</td>\n",
       "      <td id=\"T_bf5dd_row21_col3\" class=\"data row21 col3\" >nan</td>\n",
       "      <td id=\"T_bf5dd_row21_col4\" class=\"data row21 col4\" >nan</td>\n",
       "      <td id=\"T_bf5dd_row21_col5\" class=\"data row21 col5\" >73.000000</td>\n",
       "      <td id=\"T_bf5dd_row21_col6\" class=\"data row21 col6\" >137.000000</td>\n",
       "      <td id=\"T_bf5dd_row21_col7\" class=\"data row21 col7\" >3.000000</td>\n",
       "      <td id=\"T_bf5dd_row21_col8\" class=\"data row21 col8\" >4.000000</td>\n",
       "      <td id=\"T_bf5dd_row21_col9\" class=\"data row21 col9\" >35.000000</td>\n",
       "    </tr>\n",
       "    <tr>\n",
       "      <th id=\"T_bf5dd_level0_row22\" class=\"row_heading level0 row22\" >2016</th>\n",
       "      <td id=\"T_bf5dd_row22_col0\" class=\"data row22 col0\" >46.000000</td>\n",
       "      <td id=\"T_bf5dd_row22_col1\" class=\"data row22 col1\" >nan</td>\n",
       "      <td id=\"T_bf5dd_row22_col2\" class=\"data row22 col2\" >nan</td>\n",
       "      <td id=\"T_bf5dd_row22_col3\" class=\"data row22 col3\" >nan</td>\n",
       "      <td id=\"T_bf5dd_row22_col4\" class=\"data row22 col4\" >nan</td>\n",
       "      <td id=\"T_bf5dd_row22_col5\" class=\"data row22 col5\" >38.000000</td>\n",
       "      <td id=\"T_bf5dd_row22_col6\" class=\"data row22 col6\" >164.000000</td>\n",
       "      <td id=\"T_bf5dd_row22_col7\" class=\"data row22 col7\" >nan</td>\n",
       "      <td id=\"T_bf5dd_row22_col8\" class=\"data row22 col8\" >1.000000</td>\n",
       "      <td id=\"T_bf5dd_row22_col9\" class=\"data row22 col9\" >13.000000</td>\n",
       "    </tr>\n",
       "  </tbody>\n",
       "</table>\n"
      ],
      "text/plain": [
       "<pandas.io.formats.style.Styler at 0x7f974c1d9070>"
      ]
     },
     "execution_count": 24,
     "metadata": {},
     "output_type": "execute_result"
    }
   ],
   "source": [
    "# Перезапишем наш датафрейм без аномалии и выведем отредактированную сводную таблицу\n",
    "df = df.drop(i_to_drop)\n",
    "df.reset_index(drop=True, inplace=True)\n",
    "piv = df[df['platform'].isin(costly_games)].pivot_table(index='year_of_release', columns='platform', values='total_sales', aggfunc='count')\n",
    "piv.style.highlight_between(left=0, color='springgreen')"
   ]
  },
  {
   "cell_type": "code",
   "execution_count": 25,
   "metadata": {},
   "outputs": [
    {
     "data": {
      "text/plain": [
       "10"
      ]
     },
     "execution_count": 25,
     "metadata": {},
     "output_type": "execute_result"
    }
   ],
   "source": [
    "# Посчитаем среднее количество лет актуальности консоли\n",
    "mean_life_console = []\n",
    "\n",
    "for console in piv.columns:\n",
    "    mean_life_console.append(piv[console].count())\n",
    "    \n",
    "mean_life_console = round(sum(mean_life_console) / len(mean_life_console))\n",
    "mean_life_console"
   ]
  },
  {
   "cell_type": "code",
   "execution_count": 26,
   "metadata": {},
   "outputs": [
    {
     "name": "stdout",
     "output_type": "stream",
     "text": [
      "За последние 10 лет\n"
     ]
    },
    {
     "data": {
      "text/html": [
       "<div>\n",
       "<style scoped>\n",
       "    .dataframe tbody tr th:only-of-type {\n",
       "        vertical-align: middle;\n",
       "    }\n",
       "\n",
       "    .dataframe tbody tr th {\n",
       "        vertical-align: top;\n",
       "    }\n",
       "\n",
       "    .dataframe thead th {\n",
       "        text-align: right;\n",
       "    }\n",
       "</style>\n",
       "<table border=\"1\" class=\"dataframe\">\n",
       "  <thead>\n",
       "    <tr style=\"text-align: right;\">\n",
       "      <th></th>\n",
       "      <th>total_sales</th>\n",
       "    </tr>\n",
       "    <tr>\n",
       "      <th>platform</th>\n",
       "      <th></th>\n",
       "    </tr>\n",
       "  </thead>\n",
       "  <tbody>\n",
       "    <tr>\n",
       "      <th>PS3</th>\n",
       "      <td>910.38</td>\n",
       "    </tr>\n",
       "    <tr>\n",
       "      <th>X360</th>\n",
       "      <td>901.37</td>\n",
       "    </tr>\n",
       "    <tr>\n",
       "      <th>Wii</th>\n",
       "      <td>754.03</td>\n",
       "    </tr>\n",
       "    <tr>\n",
       "      <th>DS</th>\n",
       "      <td>535.54</td>\n",
       "    </tr>\n",
       "    <tr>\n",
       "      <th>PS4</th>\n",
       "      <td>314.14</td>\n",
       "    </tr>\n",
       "    <tr>\n",
       "      <th>3DS</th>\n",
       "      <td>257.81</td>\n",
       "    </tr>\n",
       "    <tr>\n",
       "      <th>PSP</th>\n",
       "      <td>183.31</td>\n",
       "    </tr>\n",
       "    <tr>\n",
       "      <th>PS2</th>\n",
       "      <td>162.38</td>\n",
       "    </tr>\n",
       "    <tr>\n",
       "      <th>PC</th>\n",
       "      <td>160.57</td>\n",
       "    </tr>\n",
       "    <tr>\n",
       "      <th>XOne</th>\n",
       "      <td>159.32</td>\n",
       "    </tr>\n",
       "  </tbody>\n",
       "</table>\n",
       "</div>"
      ],
      "text/plain": [
       "          total_sales\n",
       "platform             \n",
       "PS3            910.38\n",
       "X360           901.37\n",
       "Wii            754.03\n",
       "DS             535.54\n",
       "PS4            314.14\n",
       "3DS            257.81\n",
       "PSP            183.31\n",
       "PS2            162.38\n",
       "PC             160.57\n",
       "XOne           159.32"
      ]
     },
     "metadata": {},
     "output_type": "display_data"
    },
    {
     "name": "stdout",
     "output_type": "stream",
     "text": [
      "За последний год\n"
     ]
    },
    {
     "data": {
      "text/html": [
       "<div>\n",
       "<style scoped>\n",
       "    .dataframe tbody tr th:only-of-type {\n",
       "        vertical-align: middle;\n",
       "    }\n",
       "\n",
       "    .dataframe tbody tr th {\n",
       "        vertical-align: top;\n",
       "    }\n",
       "\n",
       "    .dataframe thead th {\n",
       "        text-align: right;\n",
       "    }\n",
       "</style>\n",
       "<table border=\"1\" class=\"dataframe\">\n",
       "  <thead>\n",
       "    <tr style=\"text-align: right;\">\n",
       "      <th></th>\n",
       "      <th>total_sales</th>\n",
       "    </tr>\n",
       "    <tr>\n",
       "      <th>platform</th>\n",
       "      <th></th>\n",
       "    </tr>\n",
       "  </thead>\n",
       "  <tbody>\n",
       "    <tr>\n",
       "      <th>PS4</th>\n",
       "      <td>69.25</td>\n",
       "    </tr>\n",
       "    <tr>\n",
       "      <th>XOne</th>\n",
       "      <td>26.15</td>\n",
       "    </tr>\n",
       "    <tr>\n",
       "      <th>3DS</th>\n",
       "      <td>15.14</td>\n",
       "    </tr>\n",
       "    <tr>\n",
       "      <th>PC</th>\n",
       "      <td>5.25</td>\n",
       "    </tr>\n",
       "    <tr>\n",
       "      <th>WiiU</th>\n",
       "      <td>4.60</td>\n",
       "    </tr>\n",
       "    <tr>\n",
       "      <th>PSV</th>\n",
       "      <td>4.25</td>\n",
       "    </tr>\n",
       "    <tr>\n",
       "      <th>PS3</th>\n",
       "      <td>3.60</td>\n",
       "    </tr>\n",
       "    <tr>\n",
       "      <th>X360</th>\n",
       "      <td>1.52</td>\n",
       "    </tr>\n",
       "    <tr>\n",
       "      <th>Wii</th>\n",
       "      <td>0.18</td>\n",
       "    </tr>\n",
       "  </tbody>\n",
       "</table>\n",
       "</div>"
      ],
      "text/plain": [
       "          total_sales\n",
       "platform             \n",
       "PS4             69.25\n",
       "XOne            26.15\n",
       "3DS             15.14\n",
       "PC               5.25\n",
       "WiiU             4.60\n",
       "PSV              4.25\n",
       "PS3              3.60\n",
       "X360             1.52\n",
       "Wii              0.18"
      ]
     },
     "execution_count": 26,
     "metadata": {},
     "output_type": "execute_result"
    }
   ],
   "source": [
    "# Посмотрим на данные за последние 10 лет и за последний год. Сравним выборки\n",
    "print('За последние 10 лет')\n",
    "display(df[df['year_of_release'] >= 2007].groupby('platform')[['total_sales']].sum().sort_values('total_sales', ascending=False).head(10))\n",
    "print('За последний год')\n",
    "df[df['year_of_release'] == 2016].groupby('platform')[['total_sales']].sum().sort_values('total_sales', ascending=False)"
   ]
  },
  {
   "cell_type": "markdown",
   "metadata": {},
   "source": [
    "- `PS3` – теряет позиции\n",
    "- `X360` – теряет позиции\n",
    "- `Wii` – теряет позиции\n",
    "- `DS` – вышел из топ-10\n",
    "- `PS4` - <span style=\"color:blue\"> набрала позиции и стала лидером</span>\n",
    "- `3DS` – <span style=\"color:blue\"> набирает позиции</span>\n",
    "- `PSP` – вышла из топ-10\n",
    "- `PS2` – вышла из топ-10\n",
    "- `PC` – <span style=\"color:blue\"> набирает позиции</span>\n",
    "- `XOne` – <span style=\"color:blue\"> набирает позиции</span>\n",
    "\n",
    "`WiiU` и `PSV` – <span style=\"color:blue\"> попали в девятку актуальных за 2016 год</span>"
   ]
  },
  {
   "cell_type": "markdown",
   "metadata": {},
   "source": [
    "Создадим копию датасета, в которой оставим актуальный период (2015-2016 гг.)"
   ]
  },
  {
   "cell_type": "code",
   "execution_count": 27,
   "metadata": {},
   "outputs": [],
   "source": [
    "df_all = df.copy()\n",
    "df = df[df['year_of_release'] >= 2013]\n",
    "df = df.reset_index(drop=True)"
   ]
  },
  {
   "cell_type": "markdown",
   "metadata": {},
   "source": [
    "**Построим boxplot каждой платформы с глобальными продажами**"
   ]
  },
  {
   "cell_type": "code",
   "execution_count": 28,
   "metadata": {},
   "outputs": [
    {
     "data": {
      "image/png": "[encoded data removed]",
      "text/plain": [
       "<Figure size 1440x720 with 1 Axes>"
      ]
     },
     "metadata": {
      "needs_background": "light"
     },
     "output_type": "display_data"
    }
   ],
   "source": [
    "df.boxplot(column='total_sales', by='platform', figsize=(20,10));"
   ]
  },
  {
   "cell_type": "code",
   "execution_count": 29,
   "metadata": {},
   "outputs": [
    {
     "data": {
      "text/plain": [
       "(0.0, 5.0)"
      ]
     },
     "execution_count": 29,
     "metadata": {},
     "output_type": "execute_result"
    },
    {
     "data": {
      "image/png": "[encoded data removed]",
      "text/plain": [
       "<Figure size 1440x720 with 1 Axes>"
      ]
     },
     "metadata": {
      "needs_background": "light"
     },
     "output_type": "display_data"
    }
   ],
   "source": [
    "df.boxplot(column='total_sales', by='platform', figsize=(20,10))\n",
    "plt.ylim(0,5)"
   ]
  },
  {
   "cell_type": "markdown",
   "metadata": {},
   "source": [
    "Практически у всех приставок есть большое количество выбросов, что говорит о разнообразии игровой индустрии<br>\n",
    "Среди аутсайдеров – `PSP`, `PSV`<br>\n",
    "Лидеры за 2016 год `PS4` и `XOne` имеют множество выбросов за верхней границей графика и потенциал роста за счёт длины этой границы"
   ]
  },
  {
   "cell_type": "markdown",
   "metadata": {},
   "source": [
    "**Проанализируем влияние отзывов критиков и пользователей на продажи игр популярной консоли – PS4**"
   ]
  },
  {
   "cell_type": "code",
   "execution_count": 30,
   "metadata": {},
   "outputs": [
    {
     "data": {
      "text/html": [
       "<div>\n",
       "<style scoped>\n",
       "    .dataframe tbody tr th:only-of-type {\n",
       "        vertical-align: middle;\n",
       "    }\n",
       "\n",
       "    .dataframe tbody tr th {\n",
       "        vertical-align: top;\n",
       "    }\n",
       "\n",
       "    .dataframe thead th {\n",
       "        text-align: right;\n",
       "    }\n",
       "</style>\n",
       "<table border=\"1\" class=\"dataframe\">\n",
       "  <thead>\n",
       "    <tr style=\"text-align: right;\">\n",
       "      <th></th>\n",
       "      <th>critic_score</th>\n",
       "      <th>user_score</th>\n",
       "    </tr>\n",
       "    <tr>\n",
       "      <th>total_sales</th>\n",
       "      <th></th>\n",
       "      <th></th>\n",
       "    </tr>\n",
       "  </thead>\n",
       "  <tbody>\n",
       "    <tr>\n",
       "      <th>0.01</th>\n",
       "      <td>22.200000</td>\n",
       "      <td>2.050000</td>\n",
       "    </tr>\n",
       "    <tr>\n",
       "      <th>0.02</th>\n",
       "      <td>30.206897</td>\n",
       "      <td>2.989655</td>\n",
       "    </tr>\n",
       "    <tr>\n",
       "      <th>0.03</th>\n",
       "      <td>34.357143</td>\n",
       "      <td>2.464286</td>\n",
       "    </tr>\n",
       "    <tr>\n",
       "      <th>0.04</th>\n",
       "      <td>43.166667</td>\n",
       "      <td>4.616667</td>\n",
       "    </tr>\n",
       "    <tr>\n",
       "      <th>0.05</th>\n",
       "      <td>38.315789</td>\n",
       "      <td>3.526316</td>\n",
       "    </tr>\n",
       "    <tr>\n",
       "      <th>...</th>\n",
       "      <td>...</td>\n",
       "      <td>...</td>\n",
       "    </tr>\n",
       "    <tr>\n",
       "      <th>7.66</th>\n",
       "      <td>83.000000</td>\n",
       "      <td>5.700000</td>\n",
       "    </tr>\n",
       "    <tr>\n",
       "      <th>7.98</th>\n",
       "      <td>-1.000000</td>\n",
       "      <td>-1.000000</td>\n",
       "    </tr>\n",
       "    <tr>\n",
       "      <th>8.58</th>\n",
       "      <td>82.000000</td>\n",
       "      <td>4.300000</td>\n",
       "    </tr>\n",
       "    <tr>\n",
       "      <th>12.62</th>\n",
       "      <td>97.000000</td>\n",
       "      <td>8.300000</td>\n",
       "    </tr>\n",
       "    <tr>\n",
       "      <th>14.63</th>\n",
       "      <td>-1.000000</td>\n",
       "      <td>-1.000000</td>\n",
       "    </tr>\n",
       "  </tbody>\n",
       "</table>\n",
       "<p>169 rows × 2 columns</p>\n",
       "</div>"
      ],
      "text/plain": [
       "             critic_score  user_score\n",
       "total_sales                          \n",
       "0.01            22.200000    2.050000\n",
       "0.02            30.206897    2.989655\n",
       "0.03            34.357143    2.464286\n",
       "0.04            43.166667    4.616667\n",
       "0.05            38.315789    3.526316\n",
       "...                   ...         ...\n",
       "7.66            83.000000    5.700000\n",
       "7.98            -1.000000   -1.000000\n",
       "8.58            82.000000    4.300000\n",
       "12.62           97.000000    8.300000\n",
       "14.63           -1.000000   -1.000000\n",
       "\n",
       "[169 rows x 2 columns]"
      ]
     },
     "execution_count": 30,
     "metadata": {},
     "output_type": "execute_result"
    }
   ],
   "source": [
    "# Построим сводную таблицу с общими продажами консоли и видами отзывов\n",
    "ps4_piv = df[df['platform'] == 'PS4'].groupby('total_sales')[['critic_score', 'user_score']].mean()\n",
    "ps4_piv"
   ]
  },
  {
   "cell_type": "code",
   "execution_count": 31,
   "metadata": {},
   "outputs": [
    {
     "data": {
      "text/html": [
       "<div>\n",
       "<style scoped>\n",
       "    .dataframe tbody tr th:only-of-type {\n",
       "        vertical-align: middle;\n",
       "    }\n",
       "\n",
       "    .dataframe tbody tr th {\n",
       "        vertical-align: top;\n",
       "    }\n",
       "\n",
       "    .dataframe thead th {\n",
       "        text-align: right;\n",
       "    }\n",
       "</style>\n",
       "<table border=\"1\" class=\"dataframe\">\n",
       "  <thead>\n",
       "    <tr style=\"text-align: right;\">\n",
       "      <th></th>\n",
       "      <th>total_sales</th>\n",
       "      <th>critic_score</th>\n",
       "      <th>user_score</th>\n",
       "    </tr>\n",
       "  </thead>\n",
       "  <tbody>\n",
       "    <tr>\n",
       "      <th>total_sales</th>\n",
       "      <td>1.000000</td>\n",
       "      <td>0.203490</td>\n",
       "      <td>0.074779</td>\n",
       "    </tr>\n",
       "    <tr>\n",
       "      <th>critic_score</th>\n",
       "      <td>0.203490</td>\n",
       "      <td>1.000000</td>\n",
       "      <td>0.929721</td>\n",
       "    </tr>\n",
       "    <tr>\n",
       "      <th>user_score</th>\n",
       "      <td>0.074779</td>\n",
       "      <td>0.929721</td>\n",
       "      <td>1.000000</td>\n",
       "    </tr>\n",
       "  </tbody>\n",
       "</table>\n",
       "</div>"
      ],
      "text/plain": [
       "              total_sales  critic_score  user_score\n",
       "total_sales      1.000000      0.203490    0.074779\n",
       "critic_score     0.203490      1.000000    0.929721\n",
       "user_score       0.074779      0.929721    1.000000"
      ]
     },
     "execution_count": 31,
     "metadata": {},
     "output_type": "execute_result"
    }
   ],
   "source": [
    "ps4_piv.reset_index().corr()"
   ]
  },
  {
   "cell_type": "code",
   "execution_count": 32,
   "metadata": {},
   "outputs": [
    {
     "data": {
      "image/png": "[encoded data removed]",
      "text/plain": [
       "<Figure size 1296x504 with 1 Axes>"
      ]
     },
     "metadata": {
      "needs_background": "light"
     },
     "output_type": "display_data"
    }
   ],
   "source": [
    "# Построим диаграмму рассеяния, где на оси x будут отзывы критиков, \n",
    "# на оси y – продажи, \n",
    "# а за размер точек будут отвечать отзывы пользователей\n",
    "df[(df['platform'] == 'PS4') & (df['critic_score'] != -1)].plot.scatter(x='critic_score', y='total_sales', s='user_score', figsize=(18,7))\n",
    "plt.title('Влияние отзывов на общую сумму продаж игр PS4');"
   ]
  },
  {
   "cell_type": "markdown",
   "metadata": {},
   "source": [
    "Отзывы пользователей не имеют сильного влияния на суммы продаж,<br>\n",
    "зато влияют отзывы критиков.<br>\n",
    "\n",
    "Пороговой отметкой является оценка в `60 баллов`.<br>\n",
    "Если оценка `ниже`, суммы **не растут**,<br>\n",
    "если же `выше` – суммы приобретают **высокий разброс с тенденцией к росту**"
   ]
  },
  {
   "cell_type": "markdown",
   "metadata": {},
   "source": [
    "**Сравним продажи игр PS4 и XOne c продажами игр других консолей**"
   ]
  },
  {
   "cell_type": "code",
   "execution_count": 33,
   "metadata": {},
   "outputs": [
    {
     "data": {
      "image/png": "[encoded data removed]",
      "text/plain": [
       "<Figure size 936x504 with 1 Axes>"
      ]
     },
     "metadata": {
      "needs_background": "light"
     },
     "output_type": "display_data"
    }
   ],
   "source": [
    "# Построим сводную таблицу с платформами и суммарными продажами\n",
    "platforms_grouped = df.groupby('platform')['total_sales'].sum().sort_values(ascending=False)\n",
    "\n",
    "# Настроим и выведем столбчатый график\n",
    "plt.figure(figsize=(13, 7))\n",
    "barlist = plt.bar(platforms_grouped.index, platforms_grouped, width=0.6) # Уменьшим толщину баров\n",
    " \n",
    "barlist[platforms_grouped.index.get_indexer(['PS4'])[0]].set_color('g') # Закрасим лидера – PS4\n",
    "\n",
    "plt.bar_label(container=barlist, labels=(platforms_grouped.apply('{:.0f}'.format))) # Выведем округлённые значения\n",
    "plt.title('Продажи игр')\n",
    "\n",
    "plt.show()"
   ]
  },
  {
   "cell_type": "code",
   "execution_count": 35,
   "metadata": {},
   "outputs": [
    {
     "name": "stdout",
     "output_type": "stream",
     "text": [
      "============================================================\n",
      "3DS\n"
     ]
    },
    {
     "data": {
      "text/plain": [
       "user_score     0.241504\n",
       "total_sales    1.000000\n",
       "Name: total_sales, dtype: float64"
      ]
     },
     "metadata": {},
     "output_type": "display_data"
    },
    {
     "data": {
      "image/png": "[encoded data removed]",
      "text/plain": [
       "<Figure size 432x288 with 1 Axes>"
      ]
     },
     "metadata": {
      "needs_background": "light"
     },
     "output_type": "display_data"
    },
    {
     "data": {
      "text/plain": [
       "critic_score    0.357057\n",
       "total_sales     1.000000\n",
       "Name: total_sales, dtype: float64"
      ]
     },
     "metadata": {},
     "output_type": "display_data"
    },
    {
     "data": {
      "image/png": "[encoded data removed]",
      "text/plain": [
       "<Figure size 432x288 with 1 Axes>"
      ]
     },
     "metadata": {
      "needs_background": "light"
     },
     "output_type": "display_data"
    },
    {
     "name": "stdout",
     "output_type": "stream",
     "text": [
      "============================================================\n",
      "DS\n",
      "Для платформы DS не хватает данных для построения диаграммы и расчета корреляции отзывов пользователей\n",
      "Для платформы DS не хватает данных для построения диаграммы и расчета корреляции отзывов критиков\n",
      "============================================================\n",
      "PC\n"
     ]
    },
    {
     "data": {
      "text/plain": [
       "user_score    -0.093842\n",
       "total_sales    1.000000\n",
       "Name: total_sales, dtype: float64"
      ]
     },
     "metadata": {},
     "output_type": "display_data"
    },
    {
     "data": {
      "image/png": "[encoded data removed]",
      "text/plain": [
       "<Figure size 432x288 with 1 Axes>"
      ]
     },
     "metadata": {
      "needs_background": "light"
     },
     "output_type": "display_data"
    },
    {
     "data": {
      "text/plain": [
       "critic_score    0.19603\n",
       "total_sales     1.00000\n",
       "Name: total_sales, dtype: float64"
      ]
     },
     "metadata": {},
     "output_type": "display_data"
    },
    {
     "data": {
      "image/png": "[encoded data removed]",
      "text/plain": [
       "<Figure size 432x288 with 1 Axes>"
      ]
     },
     "metadata": {
      "needs_background": "light"
     },
     "output_type": "display_data"
    },
    {
     "name": "stdout",
     "output_type": "stream",
     "text": [
      "============================================================\n",
      "PS3\n"
     ]
    },
    {
     "data": {
      "text/plain": [
       "user_score     0.002394\n",
       "total_sales    1.000000\n",
       "Name: total_sales, dtype: float64"
      ]
     },
     "metadata": {},
     "output_type": "display_data"
    },
    {
     "data": {
      "image/png": "[encoded data removed]",
      "text/plain": [
       "<Figure size 432x288 with 1 Axes>"
      ]
     },
     "metadata": {
      "needs_background": "light"
     },
     "output_type": "display_data"
    },
    {
     "data": {
      "text/plain": [
       "critic_score    0.334285\n",
       "total_sales     1.000000\n",
       "Name: total_sales, dtype: float64"
      ]
     },
     "metadata": {},
     "output_type": "display_data"
    },
    {
     "data": {
      "image/png": "[encoded data removed]",
      "text/plain": [
       "<Figure size 432x288 with 1 Axes>"
      ]
     },
     "metadata": {
      "needs_background": "light"
     },
     "output_type": "display_data"
    },
    {
     "name": "stdout",
     "output_type": "stream",
     "text": [
      "============================================================\n",
      "PS4\n"
     ]
    },
    {
     "data": {
      "text/plain": [
       "user_score    -0.031957\n",
       "total_sales    1.000000\n",
       "Name: total_sales, dtype: float64"
      ]
     },
     "metadata": {},
     "output_type": "display_data"
    },
    {
     "data": {
      "image/png": "[encoded data removed]",
      "text/plain": [
       "<Figure size 432x288 with 1 Axes>"
      ]
     },
     "metadata": {
      "needs_background": "light"
     },
     "output_type": "display_data"
    },
    {
     "data": {
      "text/plain": [
       "critic_score    0.406568\n",
       "total_sales     1.000000\n",
       "Name: total_sales, dtype: float64"
      ]
     },
     "metadata": {},
     "output_type": "display_data"
    },
    {
     "data": {
      "image/png": "[encoded data removed]",
      "text/plain": [
       "<Figure size 432x288 with 1 Axes>"
      ]
     },
     "metadata": {
      "needs_background": "light"
     },
     "output_type": "display_data"
    },
    {
     "name": "stdout",
     "output_type": "stream",
     "text": [
      "============================================================\n",
      "PSP\n",
      "Для платформы PSP не хватает данных для построения диаграммы и расчета корреляции отзывов пользователей\n",
      "Для платформы PSP не хватает данных для построения диаграммы и расчета корреляции отзывов критиков\n",
      "============================================================\n",
      "PSV\n"
     ]
    },
    {
     "data": {
      "text/plain": [
       "user_score     0.000942\n",
       "total_sales    1.000000\n",
       "Name: total_sales, dtype: float64"
      ]
     },
     "metadata": {},
     "output_type": "display_data"
    },
    {
     "data": {
      "image/png": "[encoded data removed]",
      "text/plain": [
       "<Figure size 432x288 with 1 Axes>"
      ]
     },
     "metadata": {
      "needs_background": "light"
     },
     "output_type": "display_data"
    },
    {
     "data": {
      "text/plain": [
       "critic_score    0.254742\n",
       "total_sales     1.000000\n",
       "Name: total_sales, dtype: float64"
      ]
     },
     "metadata": {},
     "output_type": "display_data"
    },
    {
     "data": {
      "image/png": "[encoded data removed]",
      "text/plain": [
       "<Figure size 432x288 with 1 Axes>"
      ]
     },
     "metadata": {
      "needs_background": "light"
     },
     "output_type": "display_data"
    },
    {
     "name": "stdout",
     "output_type": "stream",
     "text": [
      "============================================================\n",
      "Wii\n"
     ]
    },
    {
     "data": {
      "text/plain": [
       "user_score     0.682942\n",
       "total_sales    1.000000\n",
       "Name: total_sales, dtype: float64"
      ]
     },
     "metadata": {},
     "output_type": "display_data"
    },
    {
     "data": {
      "image/png": "[encoded data removed]",
      "text/plain": [
       "<Figure size 432x288 with 1 Axes>"
      ]
     },
     "metadata": {
      "needs_background": "light"
     },
     "output_type": "display_data"
    },
    {
     "name": "stdout",
     "output_type": "stream",
     "text": [
      "Для платформы Wii не хватает данных для построения диаграммы и расчета корреляции отзывов критиков\n",
      "============================================================\n",
      "WiiU\n"
     ]
    },
    {
     "data": {
      "text/plain": [
       "user_score     0.41933\n",
       "total_sales    1.00000\n",
       "Name: total_sales, dtype: float64"
      ]
     },
     "metadata": {},
     "output_type": "display_data"
    },
    {
     "data": {
      "image/png": "[encoded data removed]",
      "text/plain": [
       "<Figure size 432x288 with 1 Axes>"
      ]
     },
     "metadata": {
      "needs_background": "light"
     },
     "output_type": "display_data"
    },
    {
     "data": {
      "text/plain": [
       "critic_score    0.376415\n",
       "total_sales     1.000000\n",
       "Name: total_sales, dtype: float64"
      ]
     },
     "metadata": {},
     "output_type": "display_data"
    },
    {
     "data": {
      "image/png": "[encoded data removed]",
      "text/plain": [
       "<Figure size 432x288 with 1 Axes>"
      ]
     },
     "metadata": {
      "needs_background": "light"
     },
     "output_type": "display_data"
    },
    {
     "name": "stdout",
     "output_type": "stream",
     "text": [
      "============================================================\n",
      "X360\n"
     ]
    },
    {
     "data": {
      "text/plain": [
       "user_score    -0.011742\n",
       "total_sales    1.000000\n",
       "Name: total_sales, dtype: float64"
      ]
     },
     "metadata": {},
     "output_type": "display_data"
    },
    {
     "data": {
      "image/png": "[encoded data removed]",
      "text/plain": [
       "<Figure size 432x288 with 1 Axes>"
      ]
     },
     "metadata": {
      "needs_background": "light"
     },
     "output_type": "display_data"
    },
    {
     "data": {
      "text/plain": [
       "critic_score    0.350345\n",
       "total_sales     1.000000\n",
       "Name: total_sales, dtype: float64"
      ]
     },
     "metadata": {},
     "output_type": "display_data"
    },
    {
     "data": {
      "image/png": "[encoded data removed]",
      "text/plain": [
       "<Figure size 432x288 with 1 Axes>"
      ]
     },
     "metadata": {
      "needs_background": "light"
     },
     "output_type": "display_data"
    },
    {
     "name": "stdout",
     "output_type": "stream",
     "text": [
      "============================================================\n",
      "XOne\n"
     ]
    },
    {
     "data": {
      "text/plain": [
       "user_score    -0.068925\n",
       "total_sales    1.000000\n",
       "Name: total_sales, dtype: float64"
      ]
     },
     "metadata": {},
     "output_type": "display_data"
    },
    {
     "data": {
      "image/png": "[encoded data removed]",
      "text/plain": [
       "<Figure size 432x288 with 1 Axes>"
      ]
     },
     "metadata": {
      "needs_background": "light"
     },
     "output_type": "display_data"
    },
    {
     "data": {
      "text/plain": [
       "critic_score    0.416998\n",
       "total_sales     1.000000\n",
       "Name: total_sales, dtype: float64"
      ]
     },
     "metadata": {},
     "output_type": "display_data"
    },
    {
     "data": {
      "image/png": "[encoded data removed]",
      "text/plain": [
       "<Figure size 432x288 with 1 Axes>"
      ]
     },
     "metadata": {
      "needs_background": "light"
     },
     "output_type": "display_data"
    }
   ],
   "source": [
    "import matplotlib.pyplot as plt\n",
    "df_sc, y = df, 'total_sales'\n",
    "for platform, games_on_pl in df_sc.groupby('platform'):\n",
    "    print('='*60)\n",
    "    print(platform)\n",
    "    # Считаем сколько в колонке не пустых отзывов\n",
    "    not_user = len(games_on_pl[(games_on_pl.user_score != -1)&(games_on_pl['user_score'].notna() == True)])\n",
    "    not_critic = len(games_on_pl[(games_on_pl.critic_score != -1)&(games_on_pl['user_score'].notna() == True)])\n",
    "    sum_not = 2 # Задаем количество не пустых значений для вывода диаграммы и расчета корреляции\n",
    "    if not_user > sum_not:\n",
    "        games_on_pl[games_on_pl.user_score != -1].plot(kind='scatter', x='user_score', y=y)\n",
    "        display(games_on_pl[games_on_pl.user_score != -1][['user_score', y]].corr()[y])\n",
    "        plt.show()\n",
    "    else:\n",
    "        print('Для платформы',platform, 'не хватает данных для построения диаграммы и расчета корреляции отзывов пользователей')\n",
    "    if not_critic > sum_not:\n",
    "        games_on_pl[games_on_pl.critic_score != -1].plot(kind='scatter', x='critic_score', y=y)\n",
    "        display(games_on_pl[games_on_pl.critic_score != -1][['critic_score', y]].corr()[y])\n",
    "        plt.show()\n",
    "    else:\n",
    "        print('Для платформы',platform, 'не хватает данных для построения диаграммы и расчета корреляции отзывов критиков')"
   ]
  },
  {
   "cell_type": "markdown",
   "metadata": {},
   "source": [
    "**Проанализируем распределение игр по жанрам**"
   ]
  },
  {
   "cell_type": "code",
   "execution_count": 36,
   "metadata": {},
   "outputs": [
    {
     "data": {
      "image/png": "[encoded data removed]",
      "text/plain": [
       "<Figure size 936x504 with 1 Axes>"
      ]
     },
     "metadata": {
      "needs_background": "light"
     },
     "output_type": "display_data"
    }
   ],
   "source": [
    "# Для начала посмотрим на количество выпущенных игр\n",
    "genre_piv = df.groupby('genre')['name'].count().sort_values(ascending=False)\n",
    "\n",
    "plt.figure(figsize=(13, 7))\n",
    "container = plt.bar(genre_piv.index, genre_piv)\n",
    "plt.bar_label(container=container, labels=genre_piv)\n",
    "plt.title('Количество игр')\n",
    "plt.show()"
   ]
  },
  {
   "cell_type": "markdown",
   "metadata": {},
   "source": [
    "`Action` – **самый распространённый жанр**. Чаще всего он комбинируется с другими, чем, помимо увлекательности, и обусловлена его популярность.<br>\n",
    "`Puzzle` – **наименее распространены**. Паззлы редко предпочитают более динамичным жанрам"
   ]
  },
  {
   "cell_type": "code",
   "execution_count": 37,
   "metadata": {},
   "outputs": [
    {
     "data": {
      "image/png": "[encoded data removed]",
      "text/plain": [
       "<Figure size 936x504 with 1 Axes>"
      ]
     },
     "metadata": {
      "needs_background": "light"
     },
     "output_type": "display_data"
    }
   ],
   "source": [
    "# Построим график жанров с точки зрения прибыльности\n",
    "genre_piv = df.groupby('genre')['total_sales'].median().sort_values(ascending=False)\n",
    "\n",
    "plt.figure(figsize=(13, 7))\n",
    "container = plt.bar(genre_piv.index, genre_piv)\n",
    "plt.bar_label(container=container, labels=[round(x,2) for x in genre_piv])\n",
    "plt.title('Количество проданных копий в миллионах')\n",
    "plt.show()"
   ]
  },
  {
   "cell_type": "code",
   "execution_count": 38,
   "metadata": {},
   "outputs": [
    {
     "data": {
      "image/png": "[encoded data removed]",
      "text/plain": [
       "<Figure size 1440x720 with 1 Axes>"
      ]
     },
     "metadata": {
      "needs_background": "light"
     },
     "output_type": "display_data"
    }
   ],
   "source": [
    "df.boxplot(column='total_sales', by='genre', figsize=(20,10))\n",
    "plt.ylim(0,2);"
   ]
  },
  {
   "cell_type": "markdown",
   "metadata": {},
   "source": [
    "`Shooter` выстрелил как наиболее стабильный жанр в отношении прибыльности<br> \n",
    "В 3 раза хуже дела обстоят со `Sports`, `Role-Playing` и другими жанрами"
   ]
  },
  {
   "cell_type": "markdown",
   "metadata": {},
   "source": [
    "## Портрет пользователя каждого региона"
   ]
  },
  {
   "cell_type": "markdown",
   "metadata": {},
   "source": [
    "**Выявим популярные платформы (топ-5) для каждого региона и опишем различия в долях продаж за актуальный период**"
   ]
  },
  {
   "cell_type": "code",
   "execution_count": 39,
   "metadata": {},
   "outputs": [],
   "source": [
    "# Построим сводную таблицу по платформам в каждом регионе и объявим функцию,\n",
    "# возвращающую доли продаж топ-5 платформ в указанном регионе и график \n",
    "platforms_piv = df.pivot_table(index='platform', values=['na_sales', 'eu_sales', 'jp_sales'], aggfunc='sum')\n",
    "def top_platforms(region):\n",
    "    top_5 = list(platforms_piv[region].sort_values(ascending=False).head().index)\n",
    "    if region.startswith('eu'):\n",
    "        platforms_piv[region].sort_values(ascending=False).head().plot.bar(rot=0, title='ТОП-5 платформ в Европе');\n",
    "    elif region.startswith('na'):\n",
    "        platforms_piv[region].sort_values(ascending=False).head().plot.bar(rot=0, title='ТОП-5 платформ в Северной Америке');\n",
    "    elif region.startswith('jp'):\n",
    "        platforms_piv[region].sort_values(ascending=False).head().plot.bar(rot=0, title='ТОП-5 платформ в Японии');\n",
    "    return round(platforms_piv.loc[top_5, region] / \n",
    "                 df.groupby('platform')['total_sales'].sum()[top_5], 2)"
   ]
  },
  {
   "cell_type": "code",
   "execution_count": 40,
   "metadata": {},
   "outputs": [
    {
     "data": {
      "text/plain": [
       "platform\n",
       "PS4     0.45\n",
       "PS3     0.37\n",
       "XOne    0.32\n",
       "X360    0.31\n",
       "3DS     0.22\n",
       "dtype: float64"
      ]
     },
     "execution_count": 40,
     "metadata": {},
     "output_type": "execute_result"
    },
    {
     "data": {
      "image/png": "[encoded data removed]",
      "text/plain": [
       "<Figure size 432x288 with 1 Axes>"
      ]
     },
     "metadata": {
      "needs_background": "light"
     },
     "output_type": "display_data"
    }
   ],
   "source": [
    "# Выведем информацию по пользователям Европы\n",
    "top_platforms('eu_sales')"
   ]
  },
  {
   "cell_type": "code",
   "execution_count": 41,
   "metadata": {},
   "outputs": [
    {
     "data": {
      "text/plain": [
       "platform\n",
       "PS4     0.35\n",
       "XOne    0.58\n",
       "X360    0.60\n",
       "PS3     0.35\n",
       "3DS     0.27\n",
       "dtype: float64"
      ]
     },
     "execution_count": 41,
     "metadata": {},
     "output_type": "execute_result"
    },
    {
     "data": {
      "image/png": "[encoded data removed]",
      "text/plain": [
       "<Figure size 432x288 with 1 Axes>"
      ]
     },
     "metadata": {
      "needs_background": "light"
     },
     "output_type": "display_data"
    }
   ],
   "source": [
    "# Выведем информацию по пользователям Северной Америки\n",
    "top_platforms('na_sales')"
   ]
  },
  {
   "cell_type": "code",
   "execution_count": 42,
   "metadata": {},
   "outputs": [
    {
     "data": {
      "text/plain": [
       "platform\n",
       "3DS     0.47\n",
       "PS3     0.13\n",
       "PSV     0.56\n",
       "PS4     0.05\n",
       "WiiU    0.17\n",
       "dtype: float64"
      ]
     },
     "execution_count": 42,
     "metadata": {},
     "output_type": "execute_result"
    },
    {
     "data": {
      "image/png": "[encoded data removed]",
      "text/plain": [
       "<Figure size 432x288 with 1 Axes>"
      ]
     },
     "metadata": {
      "needs_background": "light"
     },
     "output_type": "display_data"
    }
   ],
   "source": [
    "# Выведем информацию по пользователям Японии\n",
    "top_platforms('jp_sales')"
   ]
  },
  {
   "cell_type": "code",
   "execution_count": 43,
   "metadata": {},
   "outputs": [
    {
     "data": {
      "text/plain": [
       "{'3DS', 'PS3', 'PS4'}"
      ]
     },
     "execution_count": 43,
     "metadata": {},
     "output_type": "execute_result"
    }
   ],
   "source": [
    "# Посмотрми на общий межрегиональный тренд по платформам\n",
    "eu = set(platforms_piv['eu_sales'].sort_values(ascending=False).head().index)\n",
    "na = set(platforms_piv['na_sales'].sort_values(ascending=False).head().index)\n",
    "jp = set(platforms_piv['jp_sales'].sort_values(ascending=False).head().index)\n",
    "\n",
    "eu & na & jp"
   ]
  },
  {
   "cell_type": "markdown",
   "metadata": {},
   "source": [
    "- `В Европе и Северной Америке` наиболее популярные приставки: `PS4`, `XOne`<br>\n",
    "- Самые яркое **отличие** – в популряной приставке `Японии`. Здесь лидер – `3DS`, а `XOne` не попал даже в 5 лучших. \n",
    "- **Общие межрегиональный тренды** – `PS4` и `3DS`<br>\n",
    "- Доля продаж лидеров в Северной Америке и Европе выше, чем в Японии, **примерно в 2 раза**"
   ]
  },
  {
   "cell_type": "markdown",
   "metadata": {},
   "source": [
    "**Проанализируем самые популярные жанры за последние два года**"
   ]
  },
  {
   "cell_type": "code",
   "execution_count": 44,
   "metadata": {},
   "outputs": [],
   "source": [
    "# Построим сводную таблицу по жанрам в каждом регионе и объявим функцию,\n",
    "# возвращающую доли продаж топ-5 жанров в указанном регионе и график \n",
    "genres_piv = df.pivot_table(index='genre', values=['na_sales', 'eu_sales', 'jp_sales'], aggfunc='sum')\n",
    "def top_genres(region):\n",
    "    top_5 = list(genres_piv[region].sort_values(ascending=False).head().index)\n",
    "    if region.startswith('eu'):\n",
    "        genres_piv[region].sort_values(ascending=False).head().plot.bar(rot=0, title='ТОП-5 жанров в Европе');\n",
    "    elif region.startswith('na'):\n",
    "        genres_piv[region].sort_values(ascending=False).head().plot.bar(rot=0, title='ТОП-5 жанров в Северной Америке');\n",
    "    elif region.startswith('jp'):\n",
    "        genres_piv[region].sort_values(ascending=False).head().plot.bar(rot=0, title='ТОП-5 жанров в Японии');\n",
    "    return round(genres_piv.loc[top_5, region] / \n",
    "                 df.groupby('genre')['total_sales'].sum()[top_5], 2)"
   ]
  },
  {
   "cell_type": "code",
   "execution_count": 45,
   "metadata": {},
   "outputs": [
    {
     "data": {
      "text/html": [
       "<style type=\"text/css\">\n",
       "#T_c97c9_row0_col0, #T_c97c9_row0_col2, #T_c97c9_row7_col1 {\n",
       "  background-color: #ADD8E6;\n",
       "}\n",
       "</style>\n",
       "<table id=\"T_c97c9\">\n",
       "  <thead>\n",
       "    <tr>\n",
       "      <th class=\"blank level0\" >&nbsp;</th>\n",
       "      <th id=\"T_c97c9_level0_col0\" class=\"col_heading level0 col0\" >eu_sales</th>\n",
       "      <th id=\"T_c97c9_level0_col1\" class=\"col_heading level0 col1\" >jp_sales</th>\n",
       "      <th id=\"T_c97c9_level0_col2\" class=\"col_heading level0 col2\" >na_sales</th>\n",
       "    </tr>\n",
       "    <tr>\n",
       "      <th class=\"index_name level0\" >genre</th>\n",
       "      <th class=\"blank col0\" >&nbsp;</th>\n",
       "      <th class=\"blank col1\" >&nbsp;</th>\n",
       "      <th class=\"blank col2\" >&nbsp;</th>\n",
       "    </tr>\n",
       "  </thead>\n",
       "  <tbody>\n",
       "    <tr>\n",
       "      <th id=\"T_c97c9_level0_row0\" class=\"row_heading level0 row0\" >Action</th>\n",
       "      <td id=\"T_c97c9_row0_col0\" class=\"data row0 col0\" >118.130000</td>\n",
       "      <td id=\"T_c97c9_row0_col1\" class=\"data row0 col1\" >40.490000</td>\n",
       "      <td id=\"T_c97c9_row0_col2\" class=\"data row0 col2\" >126.050000</td>\n",
       "    </tr>\n",
       "    <tr>\n",
       "      <th id=\"T_c97c9_level0_row1\" class=\"row_heading level0 row1\" >Adventure</th>\n",
       "      <td id=\"T_c97c9_row1_col0\" class=\"data row1 col0\" >8.250000</td>\n",
       "      <td id=\"T_c97c9_row1_col1\" class=\"data row1 col1\" >5.820000</td>\n",
       "      <td id=\"T_c97c9_row1_col2\" class=\"data row1 col2\" >7.140000</td>\n",
       "    </tr>\n",
       "    <tr>\n",
       "      <th id=\"T_c97c9_level0_row2\" class=\"row_heading level0 row2\" >Fighting</th>\n",
       "      <td id=\"T_c97c9_row2_col0\" class=\"data row2 col0\" >8.550000</td>\n",
       "      <td id=\"T_c97c9_row2_col1\" class=\"data row2 col1\" >7.650000</td>\n",
       "      <td id=\"T_c97c9_row2_col2\" class=\"data row2 col2\" >15.550000</td>\n",
       "    </tr>\n",
       "    <tr>\n",
       "      <th id=\"T_c97c9_level0_row3\" class=\"row_heading level0 row3\" >Misc</th>\n",
       "      <td id=\"T_c97c9_row3_col0\" class=\"data row3 col0\" >20.040000</td>\n",
       "      <td id=\"T_c97c9_row3_col1\" class=\"data row3 col1\" >9.200000</td>\n",
       "      <td id=\"T_c97c9_row3_col2\" class=\"data row3 col2\" >27.490000</td>\n",
       "    </tr>\n",
       "    <tr>\n",
       "      <th id=\"T_c97c9_level0_row4\" class=\"row_heading level0 row4\" >Platform</th>\n",
       "      <td id=\"T_c97c9_row4_col0\" class=\"data row4 col0\" >15.580000</td>\n",
       "      <td id=\"T_c97c9_row4_col1\" class=\"data row4 col1\" >4.790000</td>\n",
       "      <td id=\"T_c97c9_row4_col2\" class=\"data row4 col2\" >18.140000</td>\n",
       "    </tr>\n",
       "    <tr>\n",
       "      <th id=\"T_c97c9_level0_row5\" class=\"row_heading level0 row5\" >Puzzle</th>\n",
       "      <td id=\"T_c97c9_row5_col0\" class=\"data row5 col0\" >1.000000</td>\n",
       "      <td id=\"T_c97c9_row5_col1\" class=\"data row5 col1\" >1.180000</td>\n",
       "      <td id=\"T_c97c9_row5_col2\" class=\"data row5 col2\" >0.830000</td>\n",
       "    </tr>\n",
       "    <tr>\n",
       "      <th id=\"T_c97c9_level0_row6\" class=\"row_heading level0 row6\" >Racing</th>\n",
       "      <td id=\"T_c97c9_row6_col0\" class=\"data row6 col0\" >20.190000</td>\n",
       "      <td id=\"T_c97c9_row6_col1\" class=\"data row6 col1\" >2.300000</td>\n",
       "      <td id=\"T_c97c9_row6_col2\" class=\"data row6 col2\" >12.960000</td>\n",
       "    </tr>\n",
       "    <tr>\n",
       "      <th id=\"T_c97c9_level0_row7\" class=\"row_heading level0 row7\" >Role-Playing</th>\n",
       "      <td id=\"T_c97c9_row7_col0\" class=\"data row7 col0\" >36.970000</td>\n",
       "      <td id=\"T_c97c9_row7_col1\" class=\"data row7 col1\" >51.040000</td>\n",
       "      <td id=\"T_c97c9_row7_col2\" class=\"data row7 col2\" >46.400000</td>\n",
       "    </tr>\n",
       "    <tr>\n",
       "      <th id=\"T_c97c9_level0_row8\" class=\"row_heading level0 row8\" >Shooter</th>\n",
       "      <td id=\"T_c97c9_row8_col0\" class=\"data row8 col0\" >87.860000</td>\n",
       "      <td id=\"T_c97c9_row8_col1\" class=\"data row8 col1\" >6.610000</td>\n",
       "      <td id=\"T_c97c9_row8_col2\" class=\"data row8 col2\" >109.740000</td>\n",
       "    </tr>\n",
       "    <tr>\n",
       "      <th id=\"T_c97c9_level0_row9\" class=\"row_heading level0 row9\" >Simulation</th>\n",
       "      <td id=\"T_c97c9_row9_col0\" class=\"data row9 col0\" >10.920000</td>\n",
       "      <td id=\"T_c97c9_row9_col1\" class=\"data row9 col1\" >4.520000</td>\n",
       "      <td id=\"T_c97c9_row9_col2\" class=\"data row9 col2\" >4.860000</td>\n",
       "    </tr>\n",
       "    <tr>\n",
       "      <th id=\"T_c97c9_level0_row10\" class=\"row_heading level0 row10\" >Sports</th>\n",
       "      <td id=\"T_c97c9_row10_col0\" class=\"data row10 col0\" >60.520000</td>\n",
       "      <td id=\"T_c97c9_row10_col1\" class=\"data row10 col1\" >5.410000</td>\n",
       "      <td id=\"T_c97c9_row10_col2\" class=\"data row10 col2\" >65.270000</td>\n",
       "    </tr>\n",
       "    <tr>\n",
       "      <th id=\"T_c97c9_level0_row11\" class=\"row_heading level0 row11\" >Strategy</th>\n",
       "      <td id=\"T_c97c9_row11_col0\" class=\"data row11 col0\" >4.220000</td>\n",
       "      <td id=\"T_c97c9_row11_col1\" class=\"data row11 col1\" >1.770000</td>\n",
       "      <td id=\"T_c97c9_row11_col2\" class=\"data row11 col2\" >3.280000</td>\n",
       "    </tr>\n",
       "  </tbody>\n",
       "</table>\n"
      ],
      "text/plain": [
       "<pandas.io.formats.style.Styler at 0x7f96daf9c340>"
      ]
     },
     "execution_count": 45,
     "metadata": {},
     "output_type": "execute_result"
    }
   ],
   "source": [
    "genres_piv.style.highlight_max(color='#ADD8E6')"
   ]
  },
  {
   "cell_type": "code",
   "execution_count": 46,
   "metadata": {},
   "outputs": [
    {
     "data": {
      "text/plain": [
       "genre\n",
       "Action          0.37\n",
       "Shooter         0.38\n",
       "Sports          0.40\n",
       "Role-Playing    0.25\n",
       "Racing          0.51\n",
       "dtype: float64"
      ]
     },
     "execution_count": 46,
     "metadata": {},
     "output_type": "execute_result"
    },
    {
     "data": {
      "image/png": "[encoded data removed]",
      "text/plain": [
       "<Figure size 432x288 with 1 Axes>"
      ]
     },
     "metadata": {
      "needs_background": "light"
     },
     "output_type": "display_data"
    }
   ],
   "source": [
    "# Выведем информацию по пользователям Европы\n",
    "top_genres('eu_sales')"
   ]
  },
  {
   "cell_type": "code",
   "execution_count": 47,
   "metadata": {},
   "outputs": [
    {
     "data": {
      "text/plain": [
       "genre\n",
       "Action          0.39\n",
       "Shooter         0.47\n",
       "Sports          0.43\n",
       "Role-Playing    0.32\n",
       "Misc            0.44\n",
       "dtype: float64"
      ]
     },
     "execution_count": 47,
     "metadata": {},
     "output_type": "execute_result"
    },
    {
     "data": {
      "image/png": "[encoded data removed]",
      "text/plain": [
       "<Figure size 432x288 with 1 Axes>"
      ]
     },
     "metadata": {
      "needs_background": "light"
     },
     "output_type": "display_data"
    }
   ],
   "source": [
    "# Выведем информацию по пользователям Северной Америки\n",
    "top_genres('na_sales')"
   ]
  },
  {
   "cell_type": "code",
   "execution_count": 48,
   "metadata": {},
   "outputs": [
    {
     "data": {
      "text/plain": [
       "genre\n",
       "Role-Playing    0.35\n",
       "Action          0.13\n",
       "Misc            0.15\n",
       "Fighting        0.22\n",
       "Shooter         0.03\n",
       "dtype: float64"
      ]
     },
     "execution_count": 48,
     "metadata": {},
     "output_type": "execute_result"
    },
    {
     "data": {
      "image/png": "[encoded data removed]",
      "text/plain": [
       "<Figure size 432x288 with 1 Axes>"
      ]
     },
     "metadata": {
      "needs_background": "light"
     },
     "output_type": "display_data"
    }
   ],
   "source": [
    "# Выведем информацию по пользователям Японии\n",
    "top_genres('jp_sales')"
   ]
  },
  {
   "cell_type": "code",
   "execution_count": 49,
   "metadata": {},
   "outputs": [
    {
     "data": {
      "text/plain": [
       "{'Action', 'Role-Playing', 'Shooter'}"
      ]
     },
     "execution_count": 49,
     "metadata": {},
     "output_type": "execute_result"
    }
   ],
   "source": [
    "# Посмотрим на общий межрегиональный тренд по жанрам\n",
    "eu = set(genres_piv['eu_sales'].sort_values(ascending=False).head().index)\n",
    "na = set(genres_piv['na_sales'].sort_values(ascending=False).head().index)\n",
    "jp = set(genres_piv['jp_sales'].sort_values(ascending=False).head().index)\n",
    "\n",
    "eu & na & jp"
   ]
  },
  {
   "cell_type": "markdown",
   "metadata": {},
   "source": [
    "- Популярные жанры `в Европе и Северной Америке` в 4 случаях из 5 **одинаковые**: `Shooter`, `Action`, `Sports`, `Role-Playing`<br>\n",
    "- Самые яркие **отличия** – в популряных жанрах `Японии`. Здесь `Action` в 5 раз популярнее `Shooter`.\n",
    "- **Общие межрегиональные тренды** – `Action`, `Shooter`, `Role-Playing`<br>\n",
    "- Доля продаж жанров-лидеров в Северной Америке и Европе выше, чем в Японии, **примерно в 4-5 раз**"
   ]
  },
  {
   "cell_type": "markdown",
   "metadata": {},
   "source": [
    "**Проанализируем, влияет ли рейтинг ESRB на продажи 2015-2016 гг. в регионах**"
   ]
  },
  {
   "cell_type": "code",
   "execution_count": 50,
   "metadata": {},
   "outputs": [
    {
     "data": {
      "text/html": [
       "<style type=\"text/css\">\n",
       "#T_42864_row0_col2, #T_42864_row3_col0, #T_42864_row3_col1 {\n",
       "  background-color: #ADD8E6;\n",
       "}\n",
       "</style>\n",
       "<table id=\"T_42864\">\n",
       "  <thead>\n",
       "    <tr>\n",
       "      <th class=\"blank level0\" >&nbsp;</th>\n",
       "      <th id=\"T_42864_level0_col0\" class=\"col_heading level0 col0\" >na_sales</th>\n",
       "      <th id=\"T_42864_level0_col1\" class=\"col_heading level0 col1\" >eu_sales</th>\n",
       "      <th id=\"T_42864_level0_col2\" class=\"col_heading level0 col2\" >jp_sales</th>\n",
       "    </tr>\n",
       "    <tr>\n",
       "      <th class=\"index_name level0\" >rating</th>\n",
       "      <th class=\"blank col0\" >&nbsp;</th>\n",
       "      <th class=\"blank col1\" >&nbsp;</th>\n",
       "      <th class=\"blank col2\" >&nbsp;</th>\n",
       "    </tr>\n",
       "  </thead>\n",
       "  <tbody>\n",
       "    <tr>\n",
       "      <th id=\"T_42864_level0_row0\" class=\"row_heading level0 row0\" >0</th>\n",
       "      <td id=\"T_42864_row0_col0\" class=\"data row0 col0\" >89.420000</td>\n",
       "      <td id=\"T_42864_row0_col1\" class=\"data row0 col1\" >78.910000</td>\n",
       "      <td id=\"T_42864_row0_col2\" class=\"data row0 col2\" >85.050000</td>\n",
       "    </tr>\n",
       "    <tr>\n",
       "      <th id=\"T_42864_level0_row1\" class=\"row_heading level0 row1\" >E</th>\n",
       "      <td id=\"T_42864_row1_col0\" class=\"data row1 col0\" >79.050000</td>\n",
       "      <td id=\"T_42864_row1_col1\" class=\"data row1 col1\" >83.360000</td>\n",
       "      <td id=\"T_42864_row1_col2\" class=\"data row1 col2\" >15.140000</td>\n",
       "    </tr>\n",
       "    <tr>\n",
       "      <th id=\"T_42864_level0_row2\" class=\"row_heading level0 row2\" >E10+</th>\n",
       "      <td id=\"T_42864_row2_col0\" class=\"data row2 col0\" >54.240000</td>\n",
       "      <td id=\"T_42864_row2_col1\" class=\"data row2 col1\" >42.690000</td>\n",
       "      <td id=\"T_42864_row2_col2\" class=\"data row2 col2\" >5.890000</td>\n",
       "    </tr>\n",
       "    <tr>\n",
       "      <th id=\"T_42864_level0_row3\" class=\"row_heading level0 row3\" >M</th>\n",
       "      <td id=\"T_42864_row3_col0\" class=\"data row3 col0\" >165.210000</td>\n",
       "      <td id=\"T_42864_row3_col1\" class=\"data row3 col1\" >145.320000</td>\n",
       "      <td id=\"T_42864_row3_col2\" class=\"data row3 col2\" >14.110000</td>\n",
       "    </tr>\n",
       "    <tr>\n",
       "      <th id=\"T_42864_level0_row4\" class=\"row_heading level0 row4\" >T</th>\n",
       "      <td id=\"T_42864_row4_col0\" class=\"data row4 col0\" >49.790000</td>\n",
       "      <td id=\"T_42864_row4_col1\" class=\"data row4 col1\" >41.950000</td>\n",
       "      <td id=\"T_42864_row4_col2\" class=\"data row4 col2\" >20.590000</td>\n",
       "    </tr>\n",
       "  </tbody>\n",
       "</table>\n"
      ],
      "text/plain": [
       "<pandas.io.formats.style.Styler at 0x7f96daf3f550>"
      ]
     },
     "execution_count": 50,
     "metadata": {},
     "output_type": "execute_result"
    }
   ],
   "source": [
    "# Сгруппируем продажи в регионах по возрастным рейтингам\n",
    "raiting_piv = df.groupby('rating')[['na_sales', 'eu_sales', 'jp_sales']].sum()\n",
    "raiting_piv.style.highlight_max(color='#ADD8E6')"
   ]
  },
  {
   "cell_type": "code",
   "execution_count": 51,
   "metadata": {},
   "outputs": [
    {
     "data": {
      "image/png": "[encoded data removed]",
      "text/plain": [
       "<Figure size 432x288 with 1 Axes>"
      ]
     },
     "metadata": {
      "needs_background": "light"
     },
     "output_type": "display_data"
    }
   ],
   "source": [
    "# Выведем график наиболее распространённых рейтингов в Северной Америке\n",
    "raiting_piv['na_sales'].sort_values(ascending=False).head().plot.bar(rot=0, title='ТОП-5 рейтингов в Северной Америке');"
   ]
  },
  {
   "cell_type": "code",
   "execution_count": 52,
   "metadata": {},
   "outputs": [
    {
     "data": {
      "image/png": "[encoded data removed]",
      "text/plain": [
       "<Figure size 432x288 with 1 Axes>"
      ]
     },
     "metadata": {
      "needs_background": "light"
     },
     "output_type": "display_data"
    }
   ],
   "source": [
    "# Выведем график наиболее распространённых рейтингов в Европе\n",
    "raiting_piv['eu_sales'].sort_values(ascending=False).head().plot.bar(rot=0, title='ТОП-5 рейтингов в Европе');"
   ]
  },
  {
   "cell_type": "code",
   "execution_count": 53,
   "metadata": {},
   "outputs": [
    {
     "data": {
      "image/png": "[encoded data removed]",
      "text/plain": [
       "<Figure size 432x288 with 1 Axes>"
      ]
     },
     "metadata": {
      "needs_background": "light"
     },
     "output_type": "display_data"
    }
   ],
   "source": [
    "# Выведем график наиболее распространённых рейтингов в Японии\n",
    "raiting_piv['jp_sales'].sort_values(ascending=False).head().plot.bar(rot=0, title='ТОП-5 рейтингов в Японии');"
   ]
  },
  {
   "cell_type": "code",
   "execution_count": 54,
   "metadata": {},
   "outputs": [
    {
     "data": {
      "text/plain": [
       "{'0', 'E', 'E10+', 'M', 'T'}"
      ]
     },
     "execution_count": 54,
     "metadata": {},
     "output_type": "execute_result"
    }
   ],
   "source": [
    "# Посмотрим на общий межрегиональный тренд по ограничениям\n",
    "eu = set(raiting_piv['eu_sales'].sort_values(ascending=False).head().index)\n",
    "na = set(raiting_piv['na_sales'].sort_values(ascending=False).head().index)\n",
    "jp = set(raiting_piv['jp_sales'].sort_values(ascending=False).head().index)\n",
    "\n",
    "eu & na & jp"
   ]
  },
  {
   "cell_type": "markdown",
   "metadata": {},
   "source": [
    "По возрастным рейтингам продажи игр `в Северной Америке и Европе` вновь **не отличаются**. Лидируют игры для людей старше 17 лет, то есть рейтинг – `M`<br> \n",
    "`В Японии` же более **распространены новинки**, ещё не успевшие приобрести нужный рейтинг и поэтому выходящие под цензом `RP`<br>\n",
    "У всех регионов по топ-5 ограничений одинаковые предпочтения"
   ]
  },
  {
   "cell_type": "markdown",
   "metadata": {},
   "source": [
    "## Проверим гипотезы"
   ]
  },
  {
   "cell_type": "markdown",
   "metadata": {},
   "source": [
    "H0: средние пользовательские рейтинги платформ Xbox One и PC одинаковые<br>\n",
    "H1: средние пользовательские рейтинги платформ Xbox One и PC разные"
   ]
  },
  {
   "cell_type": "code",
   "execution_count": 55,
   "metadata": {},
   "outputs": [
    {
     "name": "stdout",
     "output_type": "stream",
     "text": [
      "p-значение: 0.20111399900783597\n",
      "Не получилось отвергнуть нулевую гипотезу\n"
     ]
    }
   ],
   "source": [
    "XOne = df[df['platform'] == 'XOne']['user_score']\n",
    "PC = df[df['platform'] == 'PC']['user_score']\n",
    "\n",
    "alpha = .05\n",
    "\n",
    "results = st.ttest_ind(XOne, PC, nan_policy='omit')\n",
    "\n",
    "print('p-значение:', results.pvalue)\n",
    "if (results.pvalue < alpha):\n",
    "    print(\"Отвергаем нулевую гипотезу\")\n",
    "else:\n",
    "    print(\"Не получилось отвергнуть нулевую гипотезу\")"
   ]
  },
  {
   "cell_type": "markdown",
   "metadata": {},
   "source": [
    "H0: средние пользовательские рейтинги жанров Action и Sports одинаковые<br>\n",
    "H1: средние пользовательские рейтинги жанров Action и Sports разные"
   ]
  },
  {
   "cell_type": "code",
   "execution_count": 56,
   "metadata": {},
   "outputs": [
    {
     "name": "stdout",
     "output_type": "stream",
     "text": [
      "p-значение: 0.02193663336455412\n",
      "Отвергаем нулевую гипотезу\n"
     ]
    }
   ],
   "source": [
    "Action = df[df['genre'] == 'Action']['user_score']\n",
    "Sports = df[df['genre'] == 'Sports']['user_score']\n",
    "\n",
    "alpha = .05\n",
    "\n",
    "results = st.ttest_ind(Action, Sports, nan_policy='omit')\n",
    "\n",
    "print('p-значение:', results.pvalue)\n",
    "if (results.pvalue < alpha):\n",
    "    print(\"Отвергаем нулевую гипотезу\")\n",
    "else:\n",
    "    print(\"Не получилось отвергнуть нулевую гипотезу\")"
   ]
  },
  {
   "cell_type": "markdown",
   "metadata": {},
   "source": [
    "Исходя из рузультатов статистического анализа, мы можем сделать вывод:<br>\n",
    "гипотеза о тождестве средних пользовательских рейтингов жанров Action и Sports **не подтверждается**,<br>\n",
    "гипотеза о тождестве средних пользовательских рейтингов платформ XOne и PC **не отвергается**"
   ]
  },
  {
   "cell_type": "markdown",
   "metadata": {},
   "source": [
    "Нулевые гипотезы были сформулированы таким образом, что изначально исследуется равноство необходимых средних.<br>\n",
    "Альтернативные гипотезы сформулированы через разность, то есть нами взяты двусторонние гипотезы<br>\n",
    "\n",
    "Для проверки гипотез был использован критерий Стьюдента для несвязанных выборок (independent), поскольку мы имеем дело с выборками разных генеральных совокупностей"
   ]
  },
  {
   "cell_type": "markdown",
   "metadata": {},
   "source": [
    "## Общий вывод"
   ]
  },
  {
   "cell_type": "markdown",
   "metadata": {},
   "source": [
    "Нам как интернет-магазину видеоигр необходимо обозначить выявленные тренды игровой индустрии последних лет. Принять верные финансовые решения о закупке игр мы сможем лишь с учётом региональных предпочтений.\n",
    "\n",
    "**Северная Америка и Европа по предпочтениям в приставках, жанрах и возрастных рейтингах практически схожи, в отличие от Японии**\n",
    "\n",
    "*Платформы*\n",
    "- Северная Америка и Европа предпочитают `PS4` и `XOne`, Япония – `3DS`, а вот `XOne` у японцев не попадает даже в топ-5.\n",
    "- Все регионы сходятся по популярности платформ на `PS4` и `3DS`\n",
    "\n",
    "*Жанры*\n",
    "- Северная Америка и Европа предпочитают `Shooter`, `Action`, `Sports`, `Role-Playing`<br>\n",
    "- В Японии Action популярнее, чем Shooter, в 5 раз\n",
    "- Все регионы сходятся по поулярности жанров на `Action`, `Shooter`, `Role-Playing`\n",
    "- Доля продаж жанров-лидеров в Северной Америке и Европе выше, чем в Японии, **примерно в 4-5 раз**\n",
    "\n",
    "*Возрастные ограничения*\n",
    "- В Северной Америке и Европе наипопулярнейший рейтинг игр – `M`(старше 17 лет)\n",
    "- В Японии – `RP`(пока неопределённый)\n",
    "\n",
    "---\n",
    "\n",
    "Гипотеза о тождестве средних оценок пользователей `Action` и `Sports` не подтверждается<br>\n",
    "Гипотеза о тождестве средних оценок пользователей `XOne` и `PC` не подтверждается"
   ]
  }
 ],
 "metadata": {
  "ExecuteTimeLog": [
   {
    "duration": 41,
    "start_time": "2022-11-03T10:38:36.579Z"
   },
   {
    "duration": 1190,
    "start_time": "2022-11-03T10:49:24.134Z"
   },
   {
    "duration": 88,
    "start_time": "2022-11-03T10:49:25.326Z"
   },
   {
    "duration": 0,
    "start_time": "2022-11-03T10:49:25.417Z"
   },
   {
    "duration": 0,
    "start_time": "2022-11-03T10:49:25.418Z"
   },
   {
    "duration": 0,
    "start_time": "2022-11-03T10:49:25.419Z"
   },
   {
    "duration": 0,
    "start_time": "2022-11-03T10:49:25.420Z"
   },
   {
    "duration": 0,
    "start_time": "2022-11-03T10:49:25.421Z"
   },
   {
    "duration": 0,
    "start_time": "2022-11-03T10:49:25.422Z"
   },
   {
    "duration": 0,
    "start_time": "2022-11-03T10:49:25.422Z"
   },
   {
    "duration": 0,
    "start_time": "2022-11-03T10:49:25.423Z"
   },
   {
    "duration": 0,
    "start_time": "2022-11-03T10:49:25.424Z"
   },
   {
    "duration": 0,
    "start_time": "2022-11-03T10:49:25.425Z"
   },
   {
    "duration": 0,
    "start_time": "2022-11-03T10:49:25.426Z"
   },
   {
    "duration": 0,
    "start_time": "2022-11-03T10:49:25.427Z"
   },
   {
    "duration": 0,
    "start_time": "2022-11-03T10:49:25.428Z"
   },
   {
    "duration": 0,
    "start_time": "2022-11-03T10:49:25.429Z"
   },
   {
    "duration": 0,
    "start_time": "2022-11-03T10:49:25.429Z"
   },
   {
    "duration": 1,
    "start_time": "2022-11-03T10:49:25.430Z"
   },
   {
    "duration": 0,
    "start_time": "2022-11-03T10:49:25.431Z"
   },
   {
    "duration": 0,
    "start_time": "2022-11-03T10:49:25.432Z"
   },
   {
    "duration": 0,
    "start_time": "2022-11-03T10:49:25.433Z"
   },
   {
    "duration": 0,
    "start_time": "2022-11-03T10:49:25.434Z"
   },
   {
    "duration": 0,
    "start_time": "2022-11-03T10:49:25.435Z"
   },
   {
    "duration": 0,
    "start_time": "2022-11-03T10:49:25.436Z"
   },
   {
    "duration": 0,
    "start_time": "2022-11-03T10:49:25.436Z"
   },
   {
    "duration": 0,
    "start_time": "2022-11-03T10:49:25.437Z"
   },
   {
    "duration": 0,
    "start_time": "2022-11-03T10:49:25.438Z"
   },
   {
    "duration": 0,
    "start_time": "2022-11-03T10:49:25.439Z"
   },
   {
    "duration": 0,
    "start_time": "2022-11-03T10:49:25.440Z"
   },
   {
    "duration": 0,
    "start_time": "2022-11-03T10:49:25.441Z"
   },
   {
    "duration": 0,
    "start_time": "2022-11-03T10:49:25.442Z"
   },
   {
    "duration": 0,
    "start_time": "2022-11-03T10:49:25.443Z"
   },
   {
    "duration": 0,
    "start_time": "2022-11-03T10:49:25.444Z"
   },
   {
    "duration": 0,
    "start_time": "2022-11-03T10:49:25.445Z"
   },
   {
    "duration": 0,
    "start_time": "2022-11-03T10:49:25.446Z"
   },
   {
    "duration": 0,
    "start_time": "2022-11-03T10:49:25.447Z"
   },
   {
    "duration": 0,
    "start_time": "2022-11-03T10:49:25.447Z"
   },
   {
    "duration": 0,
    "start_time": "2022-11-03T10:49:25.448Z"
   },
   {
    "duration": 0,
    "start_time": "2022-11-03T10:49:25.449Z"
   },
   {
    "duration": 0,
    "start_time": "2022-11-03T10:49:25.450Z"
   },
   {
    "duration": 0,
    "start_time": "2022-11-03T10:49:25.451Z"
   },
   {
    "duration": 0,
    "start_time": "2022-11-03T10:49:25.452Z"
   },
   {
    "duration": 0,
    "start_time": "2022-11-03T10:49:25.453Z"
   },
   {
    "duration": 0,
    "start_time": "2022-11-03T10:49:25.505Z"
   },
   {
    "duration": 1,
    "start_time": "2022-11-03T10:49:25.506Z"
   },
   {
    "duration": 0,
    "start_time": "2022-11-03T10:49:25.507Z"
   },
   {
    "duration": 0,
    "start_time": "2022-11-03T10:49:25.508Z"
   },
   {
    "duration": 0,
    "start_time": "2022-11-03T10:49:25.510Z"
   },
   {
    "duration": 0,
    "start_time": "2022-11-03T10:49:25.511Z"
   },
   {
    "duration": 0,
    "start_time": "2022-11-03T10:49:25.512Z"
   },
   {
    "duration": 0,
    "start_time": "2022-11-03T10:49:25.513Z"
   },
   {
    "duration": 0,
    "start_time": "2022-11-03T10:49:25.514Z"
   },
   {
    "duration": 0,
    "start_time": "2022-11-03T10:49:25.515Z"
   },
   {
    "duration": 206,
    "start_time": "2022-11-03T10:50:18.189Z"
   },
   {
    "duration": 3,
    "start_time": "2022-11-03T10:50:23.526Z"
   },
   {
    "duration": 81,
    "start_time": "2022-11-03T10:50:23.531Z"
   },
   {
    "duration": 12,
    "start_time": "2022-11-03T10:50:23.614Z"
   },
   {
    "duration": 9,
    "start_time": "2022-11-03T10:50:23.628Z"
   },
   {
    "duration": 19,
    "start_time": "2022-11-03T10:50:23.638Z"
   },
   {
    "duration": 22,
    "start_time": "2022-11-03T10:50:23.658Z"
   },
   {
    "duration": 20,
    "start_time": "2022-11-03T10:50:23.682Z"
   },
   {
    "duration": 20,
    "start_time": "2022-11-03T10:50:23.703Z"
   },
   {
    "duration": 26,
    "start_time": "2022-11-03T10:50:23.725Z"
   },
   {
    "duration": 4,
    "start_time": "2022-11-03T10:50:23.752Z"
   },
   {
    "duration": 31764,
    "start_time": "2022-11-03T10:50:23.759Z"
   },
   {
    "duration": 4,
    "start_time": "2022-11-03T10:50:55.525Z"
   },
   {
    "duration": 28,
    "start_time": "2022-11-03T10:50:55.530Z"
   },
   {
    "duration": 20,
    "start_time": "2022-11-03T10:50:55.560Z"
   },
   {
    "duration": 136,
    "start_time": "2022-11-03T10:50:55.582Z"
   },
   {
    "duration": 2930,
    "start_time": "2022-11-03T10:50:55.720Z"
   },
   {
    "duration": 6,
    "start_time": "2022-11-03T10:50:58.651Z"
   },
   {
    "duration": 18,
    "start_time": "2022-11-03T10:50:58.658Z"
   },
   {
    "duration": 34,
    "start_time": "2022-11-03T10:50:58.677Z"
   },
   {
    "duration": 15,
    "start_time": "2022-11-03T10:50:58.713Z"
   },
   {
    "duration": 297,
    "start_time": "2022-11-03T10:50:58.729Z"
   },
   {
    "duration": 9,
    "start_time": "2022-11-03T10:50:59.028Z"
   },
   {
    "duration": 46,
    "start_time": "2022-11-03T10:50:59.039Z"
   },
   {
    "duration": 5,
    "start_time": "2022-11-03T10:50:59.087Z"
   },
   {
    "duration": 62,
    "start_time": "2022-11-03T10:50:59.094Z"
   },
   {
    "duration": 0,
    "start_time": "2022-11-03T10:50:59.157Z"
   },
   {
    "duration": 0,
    "start_time": "2022-11-03T10:50:59.158Z"
   },
   {
    "duration": 0,
    "start_time": "2022-11-03T10:50:59.159Z"
   },
   {
    "duration": 0,
    "start_time": "2022-11-03T10:50:59.160Z"
   },
   {
    "duration": 0,
    "start_time": "2022-11-03T10:50:59.161Z"
   },
   {
    "duration": 0,
    "start_time": "2022-11-03T10:50:59.162Z"
   },
   {
    "duration": 0,
    "start_time": "2022-11-03T10:50:59.163Z"
   },
   {
    "duration": 0,
    "start_time": "2022-11-03T10:50:59.164Z"
   },
   {
    "duration": 0,
    "start_time": "2022-11-03T10:50:59.165Z"
   },
   {
    "duration": 0,
    "start_time": "2022-11-03T10:50:59.166Z"
   },
   {
    "duration": 0,
    "start_time": "2022-11-03T10:50:59.167Z"
   },
   {
    "duration": 0,
    "start_time": "2022-11-03T10:50:59.168Z"
   },
   {
    "duration": 0,
    "start_time": "2022-11-03T10:50:59.169Z"
   },
   {
    "duration": 0,
    "start_time": "2022-11-03T10:50:59.170Z"
   },
   {
    "duration": 0,
    "start_time": "2022-11-03T10:50:59.171Z"
   },
   {
    "duration": 0,
    "start_time": "2022-11-03T10:50:59.172Z"
   },
   {
    "duration": 0,
    "start_time": "2022-11-03T10:50:59.205Z"
   },
   {
    "duration": 0,
    "start_time": "2022-11-03T10:50:59.206Z"
   },
   {
    "duration": 0,
    "start_time": "2022-11-03T10:50:59.207Z"
   },
   {
    "duration": 0,
    "start_time": "2022-11-03T10:50:59.208Z"
   },
   {
    "duration": 0,
    "start_time": "2022-11-03T10:50:59.209Z"
   },
   {
    "duration": 0,
    "start_time": "2022-11-03T10:50:59.210Z"
   },
   {
    "duration": 0,
    "start_time": "2022-11-03T10:50:59.211Z"
   },
   {
    "duration": 0,
    "start_time": "2022-11-03T10:50:59.212Z"
   },
   {
    "duration": 0,
    "start_time": "2022-11-03T10:50:59.213Z"
   },
   {
    "duration": 0,
    "start_time": "2022-11-03T10:50:59.213Z"
   },
   {
    "duration": 0,
    "start_time": "2022-11-03T10:50:59.215Z"
   },
   {
    "duration": 0,
    "start_time": "2022-11-03T10:50:59.215Z"
   },
   {
    "duration": 9709,
    "start_time": "2022-11-03T10:52:46.835Z"
   },
   {
    "duration": 7531,
    "start_time": "2022-11-03T10:53:12.438Z"
   },
   {
    "duration": 71,
    "start_time": "2022-11-03T10:54:08.698Z"
   },
   {
    "duration": 0,
    "start_time": "2022-11-03T10:54:08.771Z"
   },
   {
    "duration": 0,
    "start_time": "2022-11-03T10:54:08.773Z"
   },
   {
    "duration": 0,
    "start_time": "2022-11-03T10:54:08.774Z"
   },
   {
    "duration": 0,
    "start_time": "2022-11-03T10:54:08.776Z"
   },
   {
    "duration": 0,
    "start_time": "2022-11-03T10:54:08.777Z"
   },
   {
    "duration": 0,
    "start_time": "2022-11-03T10:54:08.778Z"
   },
   {
    "duration": 0,
    "start_time": "2022-11-03T10:54:08.780Z"
   },
   {
    "duration": 0,
    "start_time": "2022-11-03T10:54:08.781Z"
   },
   {
    "duration": 0,
    "start_time": "2022-11-03T10:54:08.782Z"
   },
   {
    "duration": 0,
    "start_time": "2022-11-03T10:54:08.784Z"
   },
   {
    "duration": 46,
    "start_time": "2022-11-03T10:54:08.786Z"
   },
   {
    "duration": 0,
    "start_time": "2022-11-03T10:54:08.833Z"
   },
   {
    "duration": 0,
    "start_time": "2022-11-03T10:54:08.834Z"
   },
   {
    "duration": 0,
    "start_time": "2022-11-03T10:54:08.836Z"
   },
   {
    "duration": 0,
    "start_time": "2022-11-03T10:54:08.837Z"
   },
   {
    "duration": 0,
    "start_time": "2022-11-03T10:54:08.838Z"
   },
   {
    "duration": 0,
    "start_time": "2022-11-03T10:54:08.839Z"
   },
   {
    "duration": 0,
    "start_time": "2022-11-03T10:54:08.840Z"
   },
   {
    "duration": 0,
    "start_time": "2022-11-03T10:54:08.841Z"
   },
   {
    "duration": 9,
    "start_time": "2022-11-03T10:54:08.843Z"
   },
   {
    "duration": 0,
    "start_time": "2022-11-03T10:54:08.854Z"
   },
   {
    "duration": 50,
    "start_time": "2022-11-03T10:54:08.857Z"
   },
   {
    "duration": 0,
    "start_time": "2022-11-03T10:54:08.908Z"
   },
   {
    "duration": 7,
    "start_time": "2022-11-03T10:54:08.910Z"
   },
   {
    "duration": 0,
    "start_time": "2022-11-03T10:54:08.918Z"
   },
   {
    "duration": 0,
    "start_time": "2022-11-03T10:54:08.919Z"
   },
   {
    "duration": 0,
    "start_time": "2022-11-03T10:54:08.920Z"
   },
   {
    "duration": 0,
    "start_time": "2022-11-03T10:54:08.921Z"
   },
   {
    "duration": 0,
    "start_time": "2022-11-03T10:54:08.922Z"
   },
   {
    "duration": 0,
    "start_time": "2022-11-03T10:54:08.923Z"
   },
   {
    "duration": 15,
    "start_time": "2022-11-03T10:54:08.924Z"
   },
   {
    "duration": 0,
    "start_time": "2022-11-03T10:54:08.941Z"
   },
   {
    "duration": 0,
    "start_time": "2022-11-03T10:54:08.942Z"
   },
   {
    "duration": 7,
    "start_time": "2022-11-03T10:54:08.947Z"
   },
   {
    "duration": 0,
    "start_time": "2022-11-03T10:54:08.956Z"
   },
   {
    "duration": 7,
    "start_time": "2022-11-03T10:54:09.005Z"
   },
   {
    "duration": 0,
    "start_time": "2022-11-03T10:54:09.014Z"
   },
   {
    "duration": 1,
    "start_time": "2022-11-03T10:54:09.015Z"
   },
   {
    "duration": 0,
    "start_time": "2022-11-03T10:54:09.017Z"
   },
   {
    "duration": 0,
    "start_time": "2022-11-03T10:54:09.018Z"
   },
   {
    "duration": 0,
    "start_time": "2022-11-03T10:54:09.019Z"
   },
   {
    "duration": 11,
    "start_time": "2022-11-03T10:54:09.021Z"
   },
   {
    "duration": 0,
    "start_time": "2022-11-03T10:54:09.033Z"
   },
   {
    "duration": 5,
    "start_time": "2022-11-03T10:54:09.035Z"
   },
   {
    "duration": 8,
    "start_time": "2022-11-03T10:54:09.043Z"
   },
   {
    "duration": 0,
    "start_time": "2022-11-03T10:54:09.052Z"
   },
   {
    "duration": 54,
    "start_time": "2022-11-03T10:54:09.057Z"
   },
   {
    "duration": 0,
    "start_time": "2022-11-03T10:54:09.112Z"
   },
   {
    "duration": 0,
    "start_time": "2022-11-03T10:54:09.113Z"
   },
   {
    "duration": 0,
    "start_time": "2022-11-03T10:54:09.114Z"
   },
   {
    "duration": 0,
    "start_time": "2022-11-03T10:54:09.115Z"
   },
   {
    "duration": 0,
    "start_time": "2022-11-03T10:54:09.116Z"
   },
   {
    "duration": 7,
    "start_time": "2022-11-03T10:54:09.123Z"
   },
   {
    "duration": 0,
    "start_time": "2022-11-03T10:54:09.131Z"
   },
   {
    "duration": 3,
    "start_time": "2022-11-03T10:54:53.413Z"
   },
   {
    "duration": 2362,
    "start_time": "2022-11-03T10:54:53.418Z"
   },
   {
    "duration": 3,
    "start_time": "2022-11-03T10:54:55.782Z"
   },
   {
    "duration": 2422,
    "start_time": "2022-11-03T10:54:55.786Z"
   },
   {
    "duration": 1261,
    "start_time": "2022-11-03T10:54:58.211Z"
   },
   {
    "duration": 62,
    "start_time": "2022-11-03T10:54:59.474Z"
   },
   {
    "duration": 15,
    "start_time": "2022-11-03T10:54:59.537Z"
   },
   {
    "duration": 6,
    "start_time": "2022-11-03T10:54:59.553Z"
   },
   {
    "duration": 7,
    "start_time": "2022-11-03T10:54:59.560Z"
   },
   {
    "duration": 8,
    "start_time": "2022-11-03T10:54:59.568Z"
   },
   {
    "duration": 28,
    "start_time": "2022-11-03T10:54:59.578Z"
   },
   {
    "duration": 8,
    "start_time": "2022-11-03T10:54:59.607Z"
   },
   {
    "duration": 28,
    "start_time": "2022-11-03T10:54:59.616Z"
   },
   {
    "duration": 6,
    "start_time": "2022-11-03T10:54:59.645Z"
   },
   {
    "duration": 29708,
    "start_time": "2022-11-03T10:54:59.652Z"
   },
   {
    "duration": 4,
    "start_time": "2022-11-03T10:55:29.362Z"
   },
   {
    "duration": 18,
    "start_time": "2022-11-03T10:55:29.367Z"
   },
   {
    "duration": 27,
    "start_time": "2022-11-03T10:55:29.386Z"
   },
   {
    "duration": 117,
    "start_time": "2022-11-03T10:55:29.414Z"
   },
   {
    "duration": 2519,
    "start_time": "2022-11-03T10:55:29.533Z"
   },
   {
    "duration": 5,
    "start_time": "2022-11-03T10:55:32.053Z"
   },
   {
    "duration": 25,
    "start_time": "2022-11-03T10:55:32.060Z"
   },
   {
    "duration": 37,
    "start_time": "2022-11-03T10:55:32.086Z"
   },
   {
    "duration": 14,
    "start_time": "2022-11-03T10:55:32.124Z"
   },
   {
    "duration": 499,
    "start_time": "2022-11-03T10:55:32.139Z"
   },
   {
    "duration": 7,
    "start_time": "2022-11-03T10:55:32.639Z"
   },
   {
    "duration": 44,
    "start_time": "2022-11-03T10:55:32.647Z"
   },
   {
    "duration": 16,
    "start_time": "2022-11-03T10:55:32.692Z"
   },
   {
    "duration": 72,
    "start_time": "2022-11-03T10:55:32.711Z"
   },
   {
    "duration": 4,
    "start_time": "2022-11-03T10:55:32.784Z"
   },
   {
    "duration": 19,
    "start_time": "2022-11-03T10:55:32.805Z"
   },
   {
    "duration": 662,
    "start_time": "2022-11-03T10:55:32.825Z"
   },
   {
    "duration": 768,
    "start_time": "2022-11-03T10:55:33.488Z"
   },
   {
    "duration": 14,
    "start_time": "2022-11-03T10:55:34.258Z"
   },
   {
    "duration": 12,
    "start_time": "2022-11-03T10:55:34.274Z"
   },
   {
    "duration": 329,
    "start_time": "2022-11-03T10:55:34.287Z"
   },
   {
    "duration": 443,
    "start_time": "2022-11-03T10:55:34.617Z"
   },
   {
    "duration": 386,
    "start_time": "2022-11-03T10:55:35.062Z"
   },
   {
    "duration": 316,
    "start_time": "2022-11-03T10:55:35.450Z"
   },
   {
    "duration": 11,
    "start_time": "2022-11-03T10:55:35.767Z"
   },
   {
    "duration": 316,
    "start_time": "2022-11-03T10:55:35.779Z"
   },
   {
    "duration": 277,
    "start_time": "2022-11-03T10:55:36.096Z"
   },
   {
    "duration": 282,
    "start_time": "2022-11-03T10:55:36.375Z"
   },
   {
    "duration": 8,
    "start_time": "2022-11-03T10:55:36.659Z"
   },
   {
    "duration": 16,
    "start_time": "2022-11-03T10:55:36.669Z"
   },
   {
    "duration": 21,
    "start_time": "2022-11-03T10:55:36.686Z"
   },
   {
    "duration": 275,
    "start_time": "2022-11-03T10:55:36.709Z"
   },
   {
    "duration": 288,
    "start_time": "2022-11-03T10:55:36.986Z"
   },
   {
    "duration": 295,
    "start_time": "2022-11-03T10:55:37.276Z"
   },
   {
    "duration": 6,
    "start_time": "2022-11-03T10:55:37.572Z"
   },
   {
    "duration": 25,
    "start_time": "2022-11-03T10:55:37.580Z"
   },
   {
    "duration": 268,
    "start_time": "2022-11-03T10:55:37.607Z"
   },
   {
    "duration": 287,
    "start_time": "2022-11-03T10:55:37.877Z"
   },
   {
    "duration": 247,
    "start_time": "2022-11-03T10:55:38.166Z"
   },
   {
    "duration": 6,
    "start_time": "2022-11-03T10:55:38.414Z"
   },
   {
    "duration": 14,
    "start_time": "2022-11-03T10:55:38.421Z"
   },
   {
    "duration": 17,
    "start_time": "2022-11-03T10:55:38.436Z"
   },
   {
    "duration": 3,
    "start_time": "2022-11-03T11:05:51.886Z"
   },
   {
    "duration": 12625,
    "start_time": "2022-11-03T11:05:51.891Z"
   },
   {
    "duration": 3,
    "start_time": "2022-11-03T11:06:04.518Z"
   },
   {
    "duration": 7627,
    "start_time": "2022-11-03T11:06:04.523Z"
   },
   {
    "duration": 1444,
    "start_time": "2022-11-03T11:06:12.154Z"
   },
   {
    "duration": 122,
    "start_time": "2022-11-03T11:06:13.601Z"
   },
   {
    "duration": 25,
    "start_time": "2022-11-03T11:06:13.724Z"
   },
   {
    "duration": 9,
    "start_time": "2022-11-03T11:06:13.751Z"
   },
   {
    "duration": 15,
    "start_time": "2022-11-03T11:06:13.761Z"
   },
   {
    "duration": 10,
    "start_time": "2022-11-03T11:06:13.777Z"
   },
   {
    "duration": 6,
    "start_time": "2022-11-03T11:06:13.789Z"
   },
   {
    "duration": 17,
    "start_time": "2022-11-03T11:06:13.796Z"
   },
   {
    "duration": 42,
    "start_time": "2022-11-03T11:06:13.814Z"
   },
   {
    "duration": 7,
    "start_time": "2022-11-03T11:06:13.860Z"
   },
   {
    "duration": 38926,
    "start_time": "2022-11-03T11:06:13.869Z"
   },
   {
    "duration": 5,
    "start_time": "2022-11-03T11:06:52.797Z"
   },
   {
    "duration": 22,
    "start_time": "2022-11-03T11:06:52.803Z"
   },
   {
    "duration": 24,
    "start_time": "2022-11-03T11:06:52.832Z"
   },
   {
    "duration": 149,
    "start_time": "2022-11-03T11:06:52.858Z"
   },
   {
    "duration": 3447,
    "start_time": "2022-11-03T11:06:53.009Z"
   },
   {
    "duration": 5,
    "start_time": "2022-11-03T11:06:56.458Z"
   },
   {
    "duration": 42,
    "start_time": "2022-11-03T11:06:56.466Z"
   },
   {
    "duration": 49,
    "start_time": "2022-11-03T11:06:56.510Z"
   },
   {
    "duration": 22,
    "start_time": "2022-11-03T11:06:56.561Z"
   },
   {
    "duration": 590,
    "start_time": "2022-11-03T11:06:56.585Z"
   },
   {
    "duration": 9,
    "start_time": "2022-11-03T11:06:57.177Z"
   },
   {
    "duration": 68,
    "start_time": "2022-11-03T11:06:57.188Z"
   },
   {
    "duration": 6,
    "start_time": "2022-11-03T11:06:57.258Z"
   },
   {
    "duration": 97,
    "start_time": "2022-11-03T11:06:57.266Z"
   },
   {
    "duration": 6,
    "start_time": "2022-11-03T11:06:57.365Z"
   },
   {
    "duration": 23,
    "start_time": "2022-11-03T11:06:57.372Z"
   },
   {
    "duration": 900,
    "start_time": "2022-11-03T11:06:57.397Z"
   },
   {
    "duration": 1048,
    "start_time": "2022-11-03T11:06:58.299Z"
   },
   {
    "duration": 20,
    "start_time": "2022-11-03T11:06:59.350Z"
   },
   {
    "duration": 10,
    "start_time": "2022-11-03T11:06:59.373Z"
   },
   {
    "duration": 369,
    "start_time": "2022-11-03T11:06:59.385Z"
   },
   {
    "duration": 588,
    "start_time": "2022-11-03T11:06:59.761Z"
   },
   {
    "duration": 355,
    "start_time": "2022-11-03T11:07:00.352Z"
   },
   {
    "duration": 430,
    "start_time": "2022-11-03T11:07:00.709Z"
   },
   {
    "duration": 22,
    "start_time": "2022-11-03T11:07:01.141Z"
   },
   {
    "duration": 407,
    "start_time": "2022-11-03T11:07:01.169Z"
   },
   {
    "duration": 285,
    "start_time": "2022-11-03T11:07:01.578Z"
   },
   {
    "duration": 400,
    "start_time": "2022-11-03T11:07:01.865Z"
   },
   {
    "duration": 10,
    "start_time": "2022-11-03T11:07:02.268Z"
   },
   {
    "duration": 80,
    "start_time": "2022-11-03T11:07:02.280Z"
   },
   {
    "duration": 51,
    "start_time": "2022-11-03T11:07:02.363Z"
   },
   {
    "duration": 547,
    "start_time": "2022-11-03T11:07:02.434Z"
   },
   {
    "duration": 527,
    "start_time": "2022-11-03T11:07:03.035Z"
   },
   {
    "duration": 509,
    "start_time": "2022-11-03T11:07:03.564Z"
   },
   {
    "duration": 75,
    "start_time": "2022-11-03T11:07:04.075Z"
   },
   {
    "duration": 21,
    "start_time": "2022-11-03T11:07:04.152Z"
   },
   {
    "duration": 423,
    "start_time": "2022-11-03T11:07:04.175Z"
   },
   {
    "duration": 295,
    "start_time": "2022-11-03T11:07:04.600Z"
   },
   {
    "duration": 310,
    "start_time": "2022-11-03T11:07:04.897Z"
   },
   {
    "duration": 6,
    "start_time": "2022-11-03T11:07:05.209Z"
   },
   {
    "duration": 36,
    "start_time": "2022-11-03T11:07:05.217Z"
   },
   {
    "duration": 18,
    "start_time": "2022-11-03T11:07:05.255Z"
   },
   {
    "duration": 92,
    "start_time": "2022-11-03T11:52:25.849Z"
   },
   {
    "duration": 46,
    "start_time": "2022-11-03T12:33:14.226Z"
   },
   {
    "duration": 2,
    "start_time": "2022-11-03T12:33:28.287Z"
   },
   {
    "duration": 9457,
    "start_time": "2022-11-03T12:33:28.293Z"
   },
   {
    "duration": 3,
    "start_time": "2022-11-03T12:33:37.752Z"
   },
   {
    "duration": 7650,
    "start_time": "2022-11-03T12:33:37.756Z"
   },
   {
    "duration": 1468,
    "start_time": "2022-11-03T12:33:45.408Z"
   },
   {
    "duration": 121,
    "start_time": "2022-11-03T12:33:46.877Z"
   },
   {
    "duration": 17,
    "start_time": "2022-11-03T12:33:47.000Z"
   },
   {
    "duration": 19,
    "start_time": "2022-11-03T12:33:47.019Z"
   },
   {
    "duration": 19,
    "start_time": "2022-11-03T12:33:47.040Z"
   },
   {
    "duration": 89,
    "start_time": "2022-11-03T12:33:47.061Z"
   },
   {
    "duration": 0,
    "start_time": "2022-11-03T12:33:47.153Z"
   },
   {
    "duration": 0,
    "start_time": "2022-11-03T12:33:47.154Z"
   },
   {
    "duration": 0,
    "start_time": "2022-11-03T12:33:47.155Z"
   },
   {
    "duration": 0,
    "start_time": "2022-11-03T12:33:47.156Z"
   },
   {
    "duration": 0,
    "start_time": "2022-11-03T12:33:47.157Z"
   },
   {
    "duration": 0,
    "start_time": "2022-11-03T12:33:47.158Z"
   },
   {
    "duration": 0,
    "start_time": "2022-11-03T12:33:47.159Z"
   },
   {
    "duration": 0,
    "start_time": "2022-11-03T12:33:47.160Z"
   },
   {
    "duration": 0,
    "start_time": "2022-11-03T12:33:47.161Z"
   },
   {
    "duration": 0,
    "start_time": "2022-11-03T12:33:47.162Z"
   },
   {
    "duration": 0,
    "start_time": "2022-11-03T12:33:47.164Z"
   },
   {
    "duration": 0,
    "start_time": "2022-11-03T12:33:47.165Z"
   },
   {
    "duration": 0,
    "start_time": "2022-11-03T12:33:47.165Z"
   },
   {
    "duration": 0,
    "start_time": "2022-11-03T12:33:47.167Z"
   },
   {
    "duration": 0,
    "start_time": "2022-11-03T12:33:47.168Z"
   },
   {
    "duration": 0,
    "start_time": "2022-11-03T12:33:47.169Z"
   },
   {
    "duration": 0,
    "start_time": "2022-11-03T12:33:47.170Z"
   },
   {
    "duration": 0,
    "start_time": "2022-11-03T12:33:47.171Z"
   },
   {
    "duration": 0,
    "start_time": "2022-11-03T12:33:47.172Z"
   },
   {
    "duration": 0,
    "start_time": "2022-11-03T12:33:47.173Z"
   },
   {
    "duration": 0,
    "start_time": "2022-11-03T12:33:47.174Z"
   },
   {
    "duration": 0,
    "start_time": "2022-11-03T12:33:47.176Z"
   },
   {
    "duration": 0,
    "start_time": "2022-11-03T12:33:47.176Z"
   },
   {
    "duration": 0,
    "start_time": "2022-11-03T12:33:47.178Z"
   },
   {
    "duration": 0,
    "start_time": "2022-11-03T12:33:47.179Z"
   },
   {
    "duration": 0,
    "start_time": "2022-11-03T12:33:47.221Z"
   },
   {
    "duration": 0,
    "start_time": "2022-11-03T12:33:47.222Z"
   },
   {
    "duration": 0,
    "start_time": "2022-11-03T12:33:47.223Z"
   },
   {
    "duration": 0,
    "start_time": "2022-11-03T12:33:47.224Z"
   },
   {
    "duration": 0,
    "start_time": "2022-11-03T12:33:47.225Z"
   },
   {
    "duration": 0,
    "start_time": "2022-11-03T12:33:47.226Z"
   },
   {
    "duration": 0,
    "start_time": "2022-11-03T12:33:47.227Z"
   },
   {
    "duration": 0,
    "start_time": "2022-11-03T12:33:47.228Z"
   },
   {
    "duration": 0,
    "start_time": "2022-11-03T12:33:47.229Z"
   },
   {
    "duration": 0,
    "start_time": "2022-11-03T12:33:47.230Z"
   },
   {
    "duration": 0,
    "start_time": "2022-11-03T12:33:47.231Z"
   },
   {
    "duration": 0,
    "start_time": "2022-11-03T12:33:47.232Z"
   },
   {
    "duration": 0,
    "start_time": "2022-11-03T12:33:47.234Z"
   },
   {
    "duration": 0,
    "start_time": "2022-11-03T12:33:47.235Z"
   },
   {
    "duration": 0,
    "start_time": "2022-11-03T12:33:47.236Z"
   },
   {
    "duration": 0,
    "start_time": "2022-11-03T12:33:47.237Z"
   },
   {
    "duration": 0,
    "start_time": "2022-11-03T12:33:47.237Z"
   },
   {
    "duration": 0,
    "start_time": "2022-11-03T12:33:47.239Z"
   },
   {
    "duration": 0,
    "start_time": "2022-11-03T12:33:47.239Z"
   },
   {
    "duration": 0,
    "start_time": "2022-11-03T12:33:47.240Z"
   },
   {
    "duration": 0,
    "start_time": "2022-11-03T12:33:47.241Z"
   },
   {
    "duration": 0,
    "start_time": "2022-11-03T12:33:47.242Z"
   },
   {
    "duration": 0,
    "start_time": "2022-11-03T12:33:47.243Z"
   },
   {
    "duration": 0,
    "start_time": "2022-11-03T12:33:47.244Z"
   },
   {
    "duration": 15,
    "start_time": "2022-11-03T12:38:15.694Z"
   },
   {
    "duration": 14,
    "start_time": "2022-11-03T12:38:30.449Z"
   },
   {
    "duration": 2,
    "start_time": "2022-11-03T12:39:22.555Z"
   },
   {
    "duration": 2582,
    "start_time": "2022-11-03T12:39:22.561Z"
   },
   {
    "duration": 3,
    "start_time": "2022-11-03T12:39:25.145Z"
   },
   {
    "duration": 2556,
    "start_time": "2022-11-03T12:39:25.149Z"
   },
   {
    "duration": 3,
    "start_time": "2022-11-03T12:39:27.707Z"
   },
   {
    "duration": 73,
    "start_time": "2022-11-03T12:39:27.712Z"
   },
   {
    "duration": 18,
    "start_time": "2022-11-03T12:39:27.787Z"
   },
   {
    "duration": 5,
    "start_time": "2022-11-03T12:39:27.806Z"
   },
   {
    "duration": 13,
    "start_time": "2022-11-03T12:39:27.813Z"
   },
   {
    "duration": 17,
    "start_time": "2022-11-03T12:39:32.309Z"
   },
   {
    "duration": 15,
    "start_time": "2022-11-03T12:41:12.544Z"
   },
   {
    "duration": 20,
    "start_time": "2022-11-03T12:41:25.139Z"
   },
   {
    "duration": 14,
    "start_time": "2022-11-03T12:41:49.508Z"
   },
   {
    "duration": 3,
    "start_time": "2022-11-03T12:45:16.355Z"
   },
   {
    "duration": 2555,
    "start_time": "2022-11-03T12:45:16.361Z"
   },
   {
    "duration": 3,
    "start_time": "2022-11-03T12:45:18.919Z"
   },
   {
    "duration": 2630,
    "start_time": "2022-11-03T12:45:18.924Z"
   },
   {
    "duration": 4,
    "start_time": "2022-11-03T12:45:21.556Z"
   },
   {
    "duration": 78,
    "start_time": "2022-11-03T12:45:21.561Z"
   },
   {
    "duration": 17,
    "start_time": "2022-11-03T12:45:21.641Z"
   },
   {
    "duration": 8,
    "start_time": "2022-11-03T12:45:21.659Z"
   },
   {
    "duration": 25,
    "start_time": "2022-11-03T12:45:21.668Z"
   },
   {
    "duration": 5,
    "start_time": "2022-11-03T12:45:21.694Z"
   },
   {
    "duration": 38,
    "start_time": "2022-11-03T12:45:21.701Z"
   },
   {
    "duration": 10,
    "start_time": "2022-11-03T12:45:21.741Z"
   },
   {
    "duration": 26,
    "start_time": "2022-11-03T12:45:21.753Z"
   },
   {
    "duration": 43,
    "start_time": "2022-11-03T12:45:21.780Z"
   },
   {
    "duration": 7,
    "start_time": "2022-11-03T12:45:21.825Z"
   },
   {
    "duration": 33452,
    "start_time": "2022-11-03T12:45:21.833Z"
   },
   {
    "duration": 4,
    "start_time": "2022-11-03T12:45:55.287Z"
   },
   {
    "duration": 28,
    "start_time": "2022-11-03T12:45:55.292Z"
   },
   {
    "duration": 18,
    "start_time": "2022-11-03T12:45:55.322Z"
   },
   {
    "duration": 140,
    "start_time": "2022-11-03T12:45:55.342Z"
   },
   {
    "duration": 2822,
    "start_time": "2022-11-03T12:45:55.484Z"
   },
   {
    "duration": 5,
    "start_time": "2022-11-03T12:45:58.307Z"
   },
   {
    "duration": 21,
    "start_time": "2022-11-03T12:45:58.320Z"
   },
   {
    "duration": 29,
    "start_time": "2022-11-03T12:45:58.343Z"
   },
   {
    "duration": 15,
    "start_time": "2022-11-03T12:45:58.374Z"
   },
   {
    "duration": 114,
    "start_time": "2022-11-03T12:45:58.391Z"
   },
   {
    "duration": 641,
    "start_time": "2022-11-03T12:45:58.506Z"
   },
   {
    "duration": 7,
    "start_time": "2022-11-03T12:45:59.149Z"
   },
   {
    "duration": 51,
    "start_time": "2022-11-03T12:45:59.160Z"
   },
   {
    "duration": 12,
    "start_time": "2022-11-03T12:45:59.212Z"
   },
   {
    "duration": 99,
    "start_time": "2022-11-03T12:45:59.226Z"
   },
   {
    "duration": 5,
    "start_time": "2022-11-03T12:45:59.327Z"
   },
   {
    "duration": 47,
    "start_time": "2022-11-03T12:45:59.333Z"
   },
   {
    "duration": 721,
    "start_time": "2022-11-03T12:45:59.382Z"
   },
   {
    "duration": 846,
    "start_time": "2022-11-03T12:46:00.105Z"
   },
   {
    "duration": 16,
    "start_time": "2022-11-03T12:46:00.952Z"
   },
   {
    "duration": 64,
    "start_time": "2022-11-03T12:46:00.969Z"
   },
   {
    "duration": 341,
    "start_time": "2022-11-03T12:46:01.034Z"
   },
   {
    "duration": 497,
    "start_time": "2022-11-03T12:46:01.377Z"
   },
   {
    "duration": 369,
    "start_time": "2022-11-03T12:46:01.876Z"
   },
   {
    "duration": 328,
    "start_time": "2022-11-03T12:46:02.246Z"
   },
   {
    "duration": 14,
    "start_time": "2022-11-03T12:46:02.575Z"
   },
   {
    "duration": 324,
    "start_time": "2022-11-03T12:46:02.591Z"
   },
   {
    "duration": 288,
    "start_time": "2022-11-03T12:46:02.921Z"
   },
   {
    "duration": 281,
    "start_time": "2022-11-03T12:46:03.211Z"
   },
   {
    "duration": 7,
    "start_time": "2022-11-03T12:46:03.494Z"
   },
   {
    "duration": 35,
    "start_time": "2022-11-03T12:46:03.521Z"
   },
   {
    "duration": 30,
    "start_time": "2022-11-03T12:46:03.557Z"
   },
   {
    "duration": 332,
    "start_time": "2022-11-03T12:46:03.589Z"
   },
   {
    "duration": 279,
    "start_time": "2022-11-03T12:46:03.923Z"
   },
   {
    "duration": 282,
    "start_time": "2022-11-03T12:46:04.204Z"
   },
   {
    "duration": 7,
    "start_time": "2022-11-03T12:46:04.488Z"
   },
   {
    "duration": 63,
    "start_time": "2022-11-03T12:46:04.497Z"
   },
   {
    "duration": 326,
    "start_time": "2022-11-03T12:46:04.562Z"
   },
   {
    "duration": 287,
    "start_time": "2022-11-03T12:46:04.890Z"
   },
   {
    "duration": 355,
    "start_time": "2022-11-03T12:46:05.179Z"
   },
   {
    "duration": 7,
    "start_time": "2022-11-03T12:46:05.536Z"
   },
   {
    "duration": 24,
    "start_time": "2022-11-03T12:46:05.544Z"
   },
   {
    "duration": 24,
    "start_time": "2022-11-03T12:46:05.569Z"
   },
   {
    "duration": 11,
    "start_time": "2022-11-03T12:58:42.031Z"
   },
   {
    "duration": 4,
    "start_time": "2022-11-03T12:58:55.958Z"
   },
   {
    "duration": 2,
    "start_time": "2022-11-03T13:00:25.288Z"
   },
   {
    "duration": 2669,
    "start_time": "2022-11-03T13:00:25.293Z"
   },
   {
    "duration": 3,
    "start_time": "2022-11-03T13:00:27.964Z"
   },
   {
    "duration": 2655,
    "start_time": "2022-11-03T13:00:27.968Z"
   },
   {
    "duration": 3,
    "start_time": "2022-11-03T13:00:30.626Z"
   },
   {
    "duration": 119,
    "start_time": "2022-11-03T13:00:30.631Z"
   },
   {
    "duration": 19,
    "start_time": "2022-11-03T13:00:30.752Z"
   },
   {
    "duration": 29,
    "start_time": "2022-11-03T13:00:30.773Z"
   },
   {
    "duration": 38,
    "start_time": "2022-11-03T13:00:30.804Z"
   },
   {
    "duration": 6,
    "start_time": "2022-11-03T13:00:30.844Z"
   },
   {
    "duration": 19,
    "start_time": "2022-11-03T13:00:30.852Z"
   },
   {
    "duration": 22,
    "start_time": "2022-11-03T13:00:30.873Z"
   },
   {
    "duration": 31,
    "start_time": "2022-11-03T13:00:30.896Z"
   },
   {
    "duration": 65,
    "start_time": "2022-11-03T13:00:30.929Z"
   },
   {
    "duration": 18,
    "start_time": "2022-11-03T13:00:30.995Z"
   },
   {
    "duration": 17,
    "start_time": "2022-11-03T13:00:46.356Z"
   },
   {
    "duration": 7,
    "start_time": "2022-11-03T13:00:49.416Z"
   },
   {
    "duration": 5,
    "start_time": "2022-11-03T13:01:08.485Z"
   },
   {
    "duration": 7,
    "start_time": "2022-11-03T13:01:12.390Z"
   },
   {
    "duration": 5,
    "start_time": "2022-11-03T13:06:36.233Z"
   },
   {
    "duration": 6,
    "start_time": "2022-11-03T13:07:25.041Z"
   },
   {
    "duration": 5,
    "start_time": "2022-11-03T13:07:45.560Z"
   },
   {
    "duration": 42,
    "start_time": "2022-11-03T13:21:29.168Z"
   },
   {
    "duration": 2,
    "start_time": "2022-11-03T13:21:46.537Z"
   },
   {
    "duration": 2551,
    "start_time": "2022-11-03T13:21:46.543Z"
   },
   {
    "duration": 4,
    "start_time": "2022-11-03T13:21:49.098Z"
   },
   {
    "duration": 2498,
    "start_time": "2022-11-03T13:21:49.104Z"
   },
   {
    "duration": 3,
    "start_time": "2022-11-03T13:21:51.605Z"
   },
   {
    "duration": 145,
    "start_time": "2022-11-03T13:21:51.610Z"
   },
   {
    "duration": 18,
    "start_time": "2022-11-03T13:21:51.756Z"
   },
   {
    "duration": 7,
    "start_time": "2022-11-03T13:21:51.776Z"
   },
   {
    "duration": 37,
    "start_time": "2022-11-03T13:21:51.784Z"
   },
   {
    "duration": 19,
    "start_time": "2022-11-03T13:21:51.823Z"
   },
   {
    "duration": 14,
    "start_time": "2022-11-03T13:21:51.844Z"
   },
   {
    "duration": 11,
    "start_time": "2022-11-03T13:21:51.860Z"
   },
   {
    "duration": 17,
    "start_time": "2022-11-03T13:21:51.873Z"
   },
   {
    "duration": 30,
    "start_time": "2022-11-03T13:21:51.891Z"
   },
   {
    "duration": 7,
    "start_time": "2022-11-03T13:21:51.922Z"
   },
   {
    "duration": 15,
    "start_time": "2022-11-03T13:21:51.930Z"
   },
   {
    "duration": 42,
    "start_time": "2022-11-03T13:21:58.254Z"
   },
   {
    "duration": 20,
    "start_time": "2022-11-03T13:23:51.479Z"
   },
   {
    "duration": 14,
    "start_time": "2022-11-03T13:24:00.679Z"
   },
   {
    "duration": 17,
    "start_time": "2022-11-03T13:29:17.136Z"
   },
   {
    "duration": 74,
    "start_time": "2022-11-03T13:32:11.421Z"
   },
   {
    "duration": 595,
    "start_time": "2022-11-03T13:40:03.365Z"
   },
   {
    "duration": 527,
    "start_time": "2022-11-03T13:40:07.799Z"
   },
   {
    "duration": 535,
    "start_time": "2022-11-03T13:40:32.245Z"
   },
   {
    "duration": 547,
    "start_time": "2022-11-03T13:40:53.378Z"
   },
   {
    "duration": 501,
    "start_time": "2022-11-03T13:41:03.234Z"
   },
   {
    "duration": 516,
    "start_time": "2022-11-03T13:41:10.614Z"
   },
   {
    "duration": 535,
    "start_time": "2022-11-03T13:41:17.402Z"
   },
   {
    "duration": 654,
    "start_time": "2022-11-03T13:41:47.915Z"
   },
   {
    "duration": 23,
    "start_time": "2022-11-03T13:51:35.754Z"
   },
   {
    "duration": 24,
    "start_time": "2022-11-03T13:51:48.980Z"
   },
   {
    "duration": 5,
    "start_time": "2022-11-03T13:52:03.626Z"
   },
   {
    "duration": 5,
    "start_time": "2022-11-03T13:52:09.178Z"
   },
   {
    "duration": 18,
    "start_time": "2022-11-03T13:52:12.866Z"
   },
   {
    "duration": 21,
    "start_time": "2022-11-03T13:52:19.095Z"
   },
   {
    "duration": 18,
    "start_time": "2022-11-03T13:52:41.433Z"
   },
   {
    "duration": 5,
    "start_time": "2022-11-03T13:52:49.241Z"
   },
   {
    "duration": 16,
    "start_time": "2022-11-03T13:52:52.174Z"
   },
   {
    "duration": 2,
    "start_time": "2022-11-03T13:57:44.458Z"
   },
   {
    "duration": 2476,
    "start_time": "2022-11-03T13:57:44.464Z"
   },
   {
    "duration": 3,
    "start_time": "2022-11-03T13:57:46.942Z"
   },
   {
    "duration": 2596,
    "start_time": "2022-11-03T13:57:46.947Z"
   },
   {
    "duration": 3,
    "start_time": "2022-11-03T13:57:49.546Z"
   },
   {
    "duration": 70,
    "start_time": "2022-11-03T13:57:49.551Z"
   },
   {
    "duration": 18,
    "start_time": "2022-11-03T13:57:49.623Z"
   },
   {
    "duration": 10,
    "start_time": "2022-11-03T13:57:49.642Z"
   },
   {
    "duration": 21,
    "start_time": "2022-11-03T13:57:49.654Z"
   },
   {
    "duration": 4,
    "start_time": "2022-11-03T13:57:49.677Z"
   },
   {
    "duration": 11,
    "start_time": "2022-11-03T13:57:49.684Z"
   },
   {
    "duration": 27,
    "start_time": "2022-11-03T13:57:49.697Z"
   },
   {
    "duration": 9,
    "start_time": "2022-11-03T13:57:49.726Z"
   },
   {
    "duration": 29,
    "start_time": "2022-11-03T13:57:49.737Z"
   },
   {
    "duration": 7,
    "start_time": "2022-11-03T13:57:49.768Z"
   },
   {
    "duration": 7,
    "start_time": "2022-11-03T13:57:49.777Z"
   },
   {
    "duration": 52,
    "start_time": "2022-11-03T13:57:49.785Z"
   },
   {
    "duration": 16,
    "start_time": "2022-11-03T13:57:49.839Z"
   },
   {
    "duration": 98,
    "start_time": "2022-11-03T13:57:49.857Z"
   },
   {
    "duration": 647,
    "start_time": "2022-11-03T13:57:49.957Z"
   },
   {
    "duration": 8,
    "start_time": "2022-11-03T13:57:50.606Z"
   },
   {
    "duration": 46,
    "start_time": "2022-11-03T13:57:50.615Z"
   },
   {
    "duration": 5,
    "start_time": "2022-11-03T13:57:50.663Z"
   },
   {
    "duration": 52,
    "start_time": "2022-11-03T13:57:50.670Z"
   },
   {
    "duration": 6,
    "start_time": "2022-11-03T13:57:50.723Z"
   },
   {
    "duration": 26,
    "start_time": "2022-11-03T13:57:50.730Z"
   },
   {
    "duration": 5,
    "start_time": "2022-11-03T13:57:55.412Z"
   },
   {
    "duration": 19,
    "start_time": "2022-11-03T13:57:59.903Z"
   },
   {
    "duration": 2,
    "start_time": "2022-11-03T13:58:18.367Z"
   },
   {
    "duration": 2591,
    "start_time": "2022-11-03T13:58:18.374Z"
   },
   {
    "duration": 3,
    "start_time": "2022-11-03T13:58:20.968Z"
   },
   {
    "duration": 2600,
    "start_time": "2022-11-03T13:58:20.972Z"
   },
   {
    "duration": 4,
    "start_time": "2022-11-03T13:58:23.575Z"
   },
   {
    "duration": 95,
    "start_time": "2022-11-03T13:58:23.580Z"
   },
   {
    "duration": 20,
    "start_time": "2022-11-03T13:58:23.677Z"
   },
   {
    "duration": 41,
    "start_time": "2022-11-03T13:58:23.699Z"
   },
   {
    "duration": 36,
    "start_time": "2022-11-03T13:58:23.742Z"
   },
   {
    "duration": 11,
    "start_time": "2022-11-03T13:58:23.779Z"
   },
   {
    "duration": 16,
    "start_time": "2022-11-03T13:58:23.793Z"
   },
   {
    "duration": 19,
    "start_time": "2022-11-03T13:58:23.811Z"
   },
   {
    "duration": 23,
    "start_time": "2022-11-03T13:58:23.832Z"
   },
   {
    "duration": 42,
    "start_time": "2022-11-03T13:58:23.857Z"
   },
   {
    "duration": 7,
    "start_time": "2022-11-03T13:58:23.901Z"
   },
   {
    "duration": 14,
    "start_time": "2022-11-03T13:58:23.909Z"
   },
   {
    "duration": 36,
    "start_time": "2022-11-03T13:58:23.924Z"
   },
   {
    "duration": 15,
    "start_time": "2022-11-03T13:58:23.962Z"
   },
   {
    "duration": 85,
    "start_time": "2022-11-03T13:58:23.979Z"
   },
   {
    "duration": 605,
    "start_time": "2022-11-03T13:58:24.066Z"
   },
   {
    "duration": 8,
    "start_time": "2022-11-03T13:58:24.672Z"
   },
   {
    "duration": 58,
    "start_time": "2022-11-03T13:58:24.682Z"
   },
   {
    "duration": 5,
    "start_time": "2022-11-03T13:58:24.742Z"
   },
   {
    "duration": 52,
    "start_time": "2022-11-03T13:58:24.749Z"
   },
   {
    "duration": 10,
    "start_time": "2022-11-03T13:58:24.803Z"
   },
   {
    "duration": 35,
    "start_time": "2022-11-03T13:58:24.815Z"
   },
   {
    "duration": 6,
    "start_time": "2022-11-03T13:58:24.851Z"
   },
   {
    "duration": 19,
    "start_time": "2022-11-03T13:58:27.708Z"
   },
   {
    "duration": 21,
    "start_time": "2022-11-03T13:58:34.711Z"
   },
   {
    "duration": 475,
    "start_time": "2022-11-03T13:59:06.291Z"
   },
   {
    "duration": 451,
    "start_time": "2022-11-03T13:59:37.033Z"
   },
   {
    "duration": 492,
    "start_time": "2022-11-03T13:59:45.545Z"
   },
   {
    "duration": 438,
    "start_time": "2022-11-03T14:00:22.968Z"
   },
   {
    "duration": 400,
    "start_time": "2022-11-03T14:00:30.897Z"
   },
   {
    "duration": 13,
    "start_time": "2022-11-03T14:01:10.784Z"
   },
   {
    "duration": 9,
    "start_time": "2022-11-03T14:01:17.834Z"
   },
   {
    "duration": 9,
    "start_time": "2022-11-03T14:01:23.766Z"
   },
   {
    "duration": 457,
    "start_time": "2022-11-03T14:01:23.777Z"
   },
   {
    "duration": 313,
    "start_time": "2022-11-03T14:01:24.237Z"
   },
   {
    "duration": 299,
    "start_time": "2022-11-03T14:01:24.552Z"
   },
   {
    "duration": 311,
    "start_time": "2022-11-03T14:01:24.853Z"
   },
   {
    "duration": 12,
    "start_time": "2022-11-03T14:01:25.166Z"
   },
   {
    "duration": 314,
    "start_time": "2022-11-03T14:01:25.180Z"
   },
   {
    "duration": 310,
    "start_time": "2022-11-03T14:01:25.496Z"
   },
   {
    "duration": 283,
    "start_time": "2022-11-03T14:01:25.808Z"
   },
   {
    "duration": 6,
    "start_time": "2022-11-03T14:01:26.093Z"
   },
   {
    "duration": 33,
    "start_time": "2022-11-03T14:01:26.101Z"
   },
   {
    "duration": 21,
    "start_time": "2022-11-03T14:01:26.136Z"
   },
   {
    "duration": 301,
    "start_time": "2022-11-03T14:01:26.158Z"
   },
   {
    "duration": 241,
    "start_time": "2022-11-03T14:01:26.462Z"
   },
   {
    "duration": 286,
    "start_time": "2022-11-03T14:01:26.705Z"
   },
   {
    "duration": 7,
    "start_time": "2022-11-03T14:01:26.992Z"
   },
   {
    "duration": 36,
    "start_time": "2022-11-03T14:01:27.001Z"
   },
   {
    "duration": 256,
    "start_time": "2022-11-03T14:01:27.039Z"
   },
   {
    "duration": 295,
    "start_time": "2022-11-03T14:01:27.298Z"
   },
   {
    "duration": 312,
    "start_time": "2022-11-03T14:01:27.594Z"
   },
   {
    "duration": 14,
    "start_time": "2022-11-03T14:01:27.908Z"
   },
   {
    "duration": 15,
    "start_time": "2022-11-03T14:01:27.924Z"
   },
   {
    "duration": 16,
    "start_time": "2022-11-03T14:01:27.941Z"
   },
   {
    "duration": 335,
    "start_time": "2022-11-03T14:09:21.739Z"
   },
   {
    "duration": 299,
    "start_time": "2022-11-03T14:16:59.968Z"
   },
   {
    "duration": 324,
    "start_time": "2022-11-03T14:17:19.145Z"
   },
   {
    "duration": 292,
    "start_time": "2022-11-03T14:17:42.846Z"
   },
   {
    "duration": 297,
    "start_time": "2022-11-03T14:20:13.569Z"
   },
   {
    "duration": 340,
    "start_time": "2022-11-03T14:20:41.906Z"
   },
   {
    "duration": 351,
    "start_time": "2022-11-03T14:21:08.112Z"
   },
   {
    "duration": 340,
    "start_time": "2022-11-03T14:24:32.393Z"
   },
   {
    "duration": 9,
    "start_time": "2022-11-03T14:28:56.125Z"
   },
   {
    "duration": 6,
    "start_time": "2022-11-03T14:29:06.962Z"
   },
   {
    "duration": 11,
    "start_time": "2022-11-03T14:32:53.685Z"
   },
   {
    "duration": 13,
    "start_time": "2022-11-03T14:33:09.314Z"
   },
   {
    "duration": 12,
    "start_time": "2022-11-03T14:33:15.544Z"
   },
   {
    "duration": 12,
    "start_time": "2022-11-03T14:33:45.187Z"
   },
   {
    "duration": 445,
    "start_time": "2022-11-03T14:34:44.238Z"
   },
   {
    "duration": 10,
    "start_time": "2022-11-03T14:35:26.213Z"
   },
   {
    "duration": 563,
    "start_time": "2022-11-03T14:36:05.504Z"
   },
   {
    "duration": 1493,
    "start_time": "2022-11-03T14:37:40.531Z"
   },
   {
    "duration": 1577,
    "start_time": "2022-11-03T14:38:38.654Z"
   },
   {
    "duration": 1554,
    "start_time": "2022-11-03T14:38:56.531Z"
   },
   {
    "duration": 1571,
    "start_time": "2022-11-03T14:39:34.180Z"
   },
   {
    "duration": 1575,
    "start_time": "2022-11-03T14:40:24.481Z"
   },
   {
    "duration": 1500,
    "start_time": "2022-11-03T14:41:59.331Z"
   },
   {
    "duration": 355,
    "start_time": "2022-11-03T14:53:03.869Z"
   },
   {
    "duration": 388,
    "start_time": "2022-11-03T14:53:28.700Z"
   },
   {
    "duration": 358,
    "start_time": "2022-11-03T14:54:20.117Z"
   },
   {
    "duration": 411,
    "start_time": "2022-11-03T14:54:38.833Z"
   },
   {
    "duration": 343,
    "start_time": "2022-11-03T14:55:39.432Z"
   },
   {
    "duration": 10,
    "start_time": "2022-11-03T14:55:48.315Z"
   },
   {
    "duration": 9,
    "start_time": "2022-11-03T14:55:54.447Z"
   },
   {
    "duration": 10,
    "start_time": "2022-11-03T14:56:00.143Z"
   },
   {
    "duration": 329,
    "start_time": "2022-11-03T14:56:38.129Z"
   },
   {
    "duration": 310,
    "start_time": "2022-11-03T14:56:48.651Z"
   },
   {
    "duration": 9,
    "start_time": "2022-11-03T14:58:30.206Z"
   },
   {
    "duration": 10,
    "start_time": "2022-11-03T14:58:38.357Z"
   },
   {
    "duration": 10,
    "start_time": "2022-11-03T14:58:41.065Z"
   },
   {
    "duration": 375,
    "start_time": "2022-11-03T14:59:04.849Z"
   },
   {
    "duration": 481,
    "start_time": "2022-11-03T14:59:40.147Z"
   },
   {
    "duration": 468,
    "start_time": "2022-11-03T15:00:35.486Z"
   },
   {
    "duration": 444,
    "start_time": "2022-11-03T15:00:44.127Z"
   },
   {
    "duration": 435,
    "start_time": "2022-11-03T15:00:49.326Z"
   },
   {
    "duration": 518,
    "start_time": "2022-11-03T15:02:42.071Z"
   },
   {
    "duration": 544,
    "start_time": "2022-11-03T15:03:07.617Z"
   },
   {
    "duration": 692,
    "start_time": "2022-11-03T15:03:34.043Z"
   },
   {
    "duration": 514,
    "start_time": "2022-11-03T15:03:43.550Z"
   },
   {
    "duration": 495,
    "start_time": "2022-11-03T15:03:51.570Z"
   },
   {
    "duration": 502,
    "start_time": "2022-11-03T15:03:57.841Z"
   },
   {
    "duration": 481,
    "start_time": "2022-11-03T15:09:35.643Z"
   },
   {
    "duration": 10,
    "start_time": "2022-11-03T15:15:14.907Z"
   },
   {
    "duration": 309,
    "start_time": "2022-11-03T15:15:18.388Z"
   },
   {
    "duration": 11,
    "start_time": "2022-11-03T15:15:31.096Z"
   },
   {
    "duration": 283,
    "start_time": "2022-11-03T15:15:34.389Z"
   },
   {
    "duration": 14,
    "start_time": "2022-11-03T15:15:53.027Z"
   },
   {
    "duration": 304,
    "start_time": "2022-11-03T15:15:57.486Z"
   },
   {
    "duration": 11,
    "start_time": "2022-11-03T15:17:35.008Z"
   },
   {
    "duration": 10,
    "start_time": "2022-11-03T15:17:37.621Z"
   },
   {
    "duration": 9,
    "start_time": "2022-11-03T15:25:09.531Z"
   },
   {
    "duration": 7,
    "start_time": "2022-11-03T15:25:38.335Z"
   },
   {
    "duration": 5,
    "start_time": "2022-11-03T15:39:31.046Z"
   },
   {
    "duration": 10,
    "start_time": "2022-11-03T15:39:38.252Z"
   },
   {
    "duration": 13,
    "start_time": "2022-11-03T15:40:23.179Z"
   },
   {
    "duration": 168,
    "start_time": "2022-11-03T15:40:47.481Z"
   },
   {
    "duration": 184,
    "start_time": "2022-11-03T15:40:52.764Z"
   },
   {
    "duration": 15,
    "start_time": "2022-11-03T15:42:22.626Z"
   },
   {
    "duration": 140,
    "start_time": "2022-11-03T15:43:10.584Z"
   },
   {
    "duration": 217,
    "start_time": "2022-11-03T15:44:27.105Z"
   },
   {
    "duration": 198,
    "start_time": "2022-11-03T15:44:39.626Z"
   },
   {
    "duration": 404,
    "start_time": "2022-11-03T15:45:00.118Z"
   },
   {
    "duration": 212,
    "start_time": "2022-11-03T15:45:09.012Z"
   },
   {
    "duration": 4,
    "start_time": "2022-11-03T23:37:55.200Z"
   },
   {
    "duration": 2778,
    "start_time": "2022-11-03T23:37:55.206Z"
   },
   {
    "duration": 2,
    "start_time": "2022-11-03T23:37:57.986Z"
   },
   {
    "duration": 2820,
    "start_time": "2022-11-03T23:37:57.990Z"
   },
   {
    "duration": 1382,
    "start_time": "2022-11-03T23:38:00.813Z"
   },
   {
    "duration": 69,
    "start_time": "2022-11-03T23:38:02.197Z"
   },
   {
    "duration": 20,
    "start_time": "2022-11-03T23:38:02.268Z"
   },
   {
    "duration": 5,
    "start_time": "2022-11-03T23:38:02.290Z"
   },
   {
    "duration": 21,
    "start_time": "2022-11-03T23:38:02.297Z"
   },
   {
    "duration": 5,
    "start_time": "2022-11-03T23:38:02.333Z"
   },
   {
    "duration": 11,
    "start_time": "2022-11-03T23:38:02.340Z"
   },
   {
    "duration": 9,
    "start_time": "2022-11-03T23:38:02.352Z"
   },
   {
    "duration": 9,
    "start_time": "2022-11-03T23:38:02.363Z"
   },
   {
    "duration": 29,
    "start_time": "2022-11-03T23:38:02.376Z"
   },
   {
    "duration": 28,
    "start_time": "2022-11-03T23:38:02.407Z"
   },
   {
    "duration": 5,
    "start_time": "2022-11-03T23:38:02.437Z"
   },
   {
    "duration": 33,
    "start_time": "2022-11-03T23:38:02.443Z"
   },
   {
    "duration": 15,
    "start_time": "2022-11-03T23:38:02.477Z"
   },
   {
    "duration": 110,
    "start_time": "2022-11-03T23:38:02.494Z"
   },
   {
    "duration": 543,
    "start_time": "2022-11-03T23:38:02.606Z"
   },
   {
    "duration": 7,
    "start_time": "2022-11-03T23:38:03.151Z"
   },
   {
    "duration": 46,
    "start_time": "2022-11-03T23:38:03.159Z"
   },
   {
    "duration": 25,
    "start_time": "2022-11-03T23:38:03.208Z"
   },
   {
    "duration": 77,
    "start_time": "2022-11-03T23:38:03.235Z"
   },
   {
    "duration": 5,
    "start_time": "2022-11-03T23:38:03.314Z"
   },
   {
    "duration": 20,
    "start_time": "2022-11-03T23:38:03.334Z"
   },
   {
    "duration": 5,
    "start_time": "2022-11-03T23:38:03.355Z"
   },
   {
    "duration": 464,
    "start_time": "2022-11-03T23:38:03.362Z"
   },
   {
    "duration": 407,
    "start_time": "2022-11-03T23:38:03.828Z"
   },
   {
    "duration": 12,
    "start_time": "2022-11-03T23:38:04.238Z"
   },
   {
    "duration": 18,
    "start_time": "2022-11-03T23:38:04.252Z"
   },
   {
    "duration": 333,
    "start_time": "2022-11-03T23:38:04.272Z"
   },
   {
    "duration": 341,
    "start_time": "2022-11-03T23:38:04.607Z"
   },
   {
    "duration": 1672,
    "start_time": "2022-11-03T23:38:04.950Z"
   },
   {
    "duration": 328,
    "start_time": "2022-11-03T23:38:06.623Z"
   },
   {
    "duration": 326,
    "start_time": "2022-11-03T23:38:06.953Z"
   },
   {
    "duration": 475,
    "start_time": "2022-11-03T23:38:07.281Z"
   },
   {
    "duration": 11,
    "start_time": "2022-11-03T23:38:07.758Z"
   },
   {
    "duration": 276,
    "start_time": "2022-11-03T23:38:07.772Z"
   },
   {
    "duration": 283,
    "start_time": "2022-11-03T23:38:08.050Z"
   },
   {
    "duration": 270,
    "start_time": "2022-11-03T23:38:08.337Z"
   },
   {
    "duration": 7,
    "start_time": "2022-11-03T23:38:08.609Z"
   },
   {
    "duration": 25,
    "start_time": "2022-11-03T23:38:08.618Z"
   },
   {
    "duration": 13,
    "start_time": "2022-11-03T23:38:08.644Z"
   },
   {
    "duration": 287,
    "start_time": "2022-11-03T23:38:08.658Z"
   },
   {
    "duration": 267,
    "start_time": "2022-11-03T23:38:08.947Z"
   },
   {
    "duration": 298,
    "start_time": "2022-11-03T23:38:09.216Z"
   },
   {
    "duration": 219,
    "start_time": "2022-11-03T23:38:09.516Z"
   },
   {
    "duration": 10,
    "start_time": "2022-11-03T23:38:09.738Z"
   },
   {
    "duration": 90,
    "start_time": "2022-11-03T23:38:09.749Z"
   },
   {
    "duration": 258,
    "start_time": "2022-11-03T23:38:09.841Z"
   },
   {
    "duration": 280,
    "start_time": "2022-11-03T23:38:10.101Z"
   },
   {
    "duration": 252,
    "start_time": "2022-11-03T23:38:10.383Z"
   },
   {
    "duration": 6,
    "start_time": "2022-11-03T23:38:10.637Z"
   },
   {
    "duration": 13,
    "start_time": "2022-11-03T23:38:10.645Z"
   },
   {
    "duration": 8,
    "start_time": "2022-11-03T23:38:10.660Z"
   },
   {
    "duration": 53,
    "start_time": "2022-11-04T00:21:05.290Z"
   },
   {
    "duration": 2,
    "start_time": "2022-11-04T00:21:10.090Z"
   },
   {
    "duration": 8362,
    "start_time": "2022-11-04T00:21:10.095Z"
   },
   {
    "duration": 2,
    "start_time": "2022-11-04T00:21:18.459Z"
   },
   {
    "duration": 6062,
    "start_time": "2022-11-04T00:21:18.463Z"
   },
   {
    "duration": 1531,
    "start_time": "2022-11-04T00:21:24.528Z"
   },
   {
    "duration": 113,
    "start_time": "2022-11-04T00:21:26.061Z"
   },
   {
    "duration": 19,
    "start_time": "2022-11-04T00:21:26.176Z"
   },
   {
    "duration": 5,
    "start_time": "2022-11-04T00:21:26.197Z"
   },
   {
    "duration": 17,
    "start_time": "2022-11-04T00:21:26.203Z"
   },
   {
    "duration": 4,
    "start_time": "2022-11-04T00:21:26.221Z"
   },
   {
    "duration": 8,
    "start_time": "2022-11-04T00:21:26.228Z"
   },
   {
    "duration": 8,
    "start_time": "2022-11-04T00:21:26.237Z"
   },
   {
    "duration": 45,
    "start_time": "2022-11-04T00:21:26.247Z"
   },
   {
    "duration": 22,
    "start_time": "2022-11-04T00:21:26.294Z"
   },
   {
    "duration": 7,
    "start_time": "2022-11-04T00:21:26.318Z"
   },
   {
    "duration": 5,
    "start_time": "2022-11-04T00:21:26.327Z"
   },
   {
    "duration": 27,
    "start_time": "2022-11-04T00:21:26.333Z"
   },
   {
    "duration": 23,
    "start_time": "2022-11-04T00:21:26.361Z"
   },
   {
    "duration": 72,
    "start_time": "2022-11-04T00:21:26.385Z"
   },
   {
    "duration": 617,
    "start_time": "2022-11-04T00:21:26.458Z"
   },
   {
    "duration": 9,
    "start_time": "2022-11-04T00:21:27.077Z"
   },
   {
    "duration": 60,
    "start_time": "2022-11-04T00:21:27.087Z"
   },
   {
    "duration": 5,
    "start_time": "2022-11-04T00:21:27.149Z"
   },
   {
    "duration": 93,
    "start_time": "2022-11-04T00:21:27.156Z"
   },
   {
    "duration": 4,
    "start_time": "2022-11-04T00:21:27.251Z"
   },
   {
    "duration": 29,
    "start_time": "2022-11-04T00:21:27.257Z"
   },
   {
    "duration": 5,
    "start_time": "2022-11-04T00:21:27.287Z"
   },
   {
    "duration": 472,
    "start_time": "2022-11-04T00:21:27.294Z"
   },
   {
    "duration": 404,
    "start_time": "2022-11-04T00:21:27.769Z"
   },
   {
    "duration": 14,
    "start_time": "2022-11-04T00:21:28.175Z"
   },
   {
    "duration": 7,
    "start_time": "2022-11-04T00:21:28.191Z"
   },
   {
    "duration": 314,
    "start_time": "2022-11-04T00:21:28.200Z"
   },
   {
    "duration": 322,
    "start_time": "2022-11-04T00:21:28.515Z"
   },
   {
    "duration": 1582,
    "start_time": "2022-11-04T00:21:28.838Z"
   },
   {
    "duration": 346,
    "start_time": "2022-11-04T00:21:30.422Z"
   },
   {
    "duration": 348,
    "start_time": "2022-11-04T00:21:30.770Z"
   },
   {
    "duration": 470,
    "start_time": "2022-11-04T00:21:31.120Z"
   },
   {
    "duration": 12,
    "start_time": "2022-11-04T00:21:31.592Z"
   },
   {
    "duration": 310,
    "start_time": "2022-11-04T00:21:31.605Z"
   },
   {
    "duration": 274,
    "start_time": "2022-11-04T00:21:31.917Z"
   },
   {
    "duration": 275,
    "start_time": "2022-11-04T00:21:32.193Z"
   },
   {
    "duration": 8,
    "start_time": "2022-11-04T00:21:32.476Z"
   },
   {
    "duration": 16,
    "start_time": "2022-11-04T00:21:32.486Z"
   },
   {
    "duration": 27,
    "start_time": "2022-11-04T00:21:32.504Z"
   },
   {
    "duration": 288,
    "start_time": "2022-11-04T00:21:32.533Z"
   },
   {
    "duration": 242,
    "start_time": "2022-11-04T00:21:32.822Z"
   },
   {
    "duration": 288,
    "start_time": "2022-11-04T00:21:33.066Z"
   },
   {
    "duration": 222,
    "start_time": "2022-11-04T00:21:33.356Z"
   },
   {
    "duration": 7,
    "start_time": "2022-11-04T00:21:33.581Z"
   },
   {
    "duration": 88,
    "start_time": "2022-11-04T00:21:33.590Z"
   },
   {
    "duration": 278,
    "start_time": "2022-11-04T00:21:33.679Z"
   },
   {
    "duration": 285,
    "start_time": "2022-11-04T00:21:33.959Z"
   },
   {
    "duration": 417,
    "start_time": "2022-11-04T00:21:34.245Z"
   },
   {
    "duration": 7,
    "start_time": "2022-11-04T00:21:34.663Z"
   },
   {
    "duration": 7,
    "start_time": "2022-11-04T00:21:34.677Z"
   },
   {
    "duration": 11,
    "start_time": "2022-11-04T00:21:34.685Z"
   },
   {
    "duration": 306,
    "start_time": "2022-11-04T00:25:27.635Z"
   },
   {
    "duration": 1537,
    "start_time": "2022-11-04T00:28:10.425Z"
   },
   {
    "duration": 1565,
    "start_time": "2022-11-04T00:28:59.962Z"
   },
   {
    "duration": 5,
    "start_time": "2022-11-04T00:30:36.885Z"
   },
   {
    "duration": 5,
    "start_time": "2022-11-04T00:31:38.813Z"
   },
   {
    "duration": 6,
    "start_time": "2022-11-04T00:31:43.758Z"
   },
   {
    "duration": 406,
    "start_time": "2022-11-04T00:31:43.773Z"
   },
   {
    "duration": 396,
    "start_time": "2022-11-04T00:31:44.181Z"
   },
   {
    "duration": 13,
    "start_time": "2022-11-04T00:31:44.579Z"
   },
   {
    "duration": 8,
    "start_time": "2022-11-04T00:31:44.594Z"
   },
   {
    "duration": 325,
    "start_time": "2022-11-04T00:31:44.604Z"
   },
   {
    "duration": 348,
    "start_time": "2022-11-04T00:31:44.931Z"
   },
   {
    "duration": 1764,
    "start_time": "2022-11-04T00:31:45.281Z"
   },
   {
    "duration": 358,
    "start_time": "2022-11-04T00:31:47.047Z"
   },
   {
    "duration": 328,
    "start_time": "2022-11-04T00:31:47.407Z"
   },
   {
    "duration": 454,
    "start_time": "2022-11-04T00:31:47.738Z"
   },
   {
    "duration": 11,
    "start_time": "2022-11-04T00:31:48.194Z"
   },
   {
    "duration": 258,
    "start_time": "2022-11-04T00:31:48.206Z"
   },
   {
    "duration": 282,
    "start_time": "2022-11-04T00:31:48.465Z"
   },
   {
    "duration": 293,
    "start_time": "2022-11-04T00:31:48.749Z"
   },
   {
    "duration": 7,
    "start_time": "2022-11-04T00:31:49.044Z"
   },
   {
    "duration": 28,
    "start_time": "2022-11-04T00:31:49.052Z"
   },
   {
    "duration": 11,
    "start_time": "2022-11-04T00:31:49.082Z"
   },
   {
    "duration": 294,
    "start_time": "2022-11-04T00:31:49.094Z"
   },
   {
    "duration": 249,
    "start_time": "2022-11-04T00:31:49.390Z"
   },
   {
    "duration": 290,
    "start_time": "2022-11-04T00:31:49.640Z"
   },
   {
    "duration": 5,
    "start_time": "2022-11-04T00:31:49.932Z"
   },
   {
    "duration": 13,
    "start_time": "2022-11-04T00:31:49.939Z"
   },
   {
    "duration": 268,
    "start_time": "2022-11-04T00:31:49.954Z"
   },
   {
    "duration": 220,
    "start_time": "2022-11-04T00:31:50.224Z"
   },
   {
    "duration": 289,
    "start_time": "2022-11-04T00:31:50.446Z"
   },
   {
    "duration": 6,
    "start_time": "2022-11-04T00:31:50.737Z"
   },
   {
    "duration": 9,
    "start_time": "2022-11-04T00:31:50.744Z"
   },
   {
    "duration": 24,
    "start_time": "2022-11-04T00:31:50.756Z"
   },
   {
    "duration": 8,
    "start_time": "2022-11-04T00:37:23.575Z"
   },
   {
    "duration": 8,
    "start_time": "2022-11-04T00:37:37.208Z"
   },
   {
    "duration": 4,
    "start_time": "2022-11-04T21:22:52.955Z"
   },
   {
    "duration": 9733,
    "start_time": "2022-11-04T21:22:52.961Z"
   },
   {
    "duration": 3,
    "start_time": "2022-11-04T21:23:02.696Z"
   },
   {
    "duration": 7585,
    "start_time": "2022-11-04T21:23:02.701Z"
   },
   {
    "duration": 1527,
    "start_time": "2022-11-04T21:23:10.290Z"
   },
   {
    "duration": 88,
    "start_time": "2022-11-04T21:23:11.819Z"
   },
   {
    "duration": 20,
    "start_time": "2022-11-04T21:23:11.909Z"
   },
   {
    "duration": 5,
    "start_time": "2022-11-04T21:23:11.931Z"
   },
   {
    "duration": 18,
    "start_time": "2022-11-04T21:23:11.937Z"
   },
   {
    "duration": 5,
    "start_time": "2022-11-04T21:23:11.956Z"
   },
   {
    "duration": 10,
    "start_time": "2022-11-04T21:23:11.962Z"
   },
   {
    "duration": 6,
    "start_time": "2022-11-04T21:23:11.974Z"
   },
   {
    "duration": 43,
    "start_time": "2022-11-04T21:23:11.981Z"
   },
   {
    "duration": 25,
    "start_time": "2022-11-04T21:23:12.028Z"
   },
   {
    "duration": 7,
    "start_time": "2022-11-04T21:23:12.054Z"
   },
   {
    "duration": 5,
    "start_time": "2022-11-04T21:23:12.063Z"
   },
   {
    "duration": 57,
    "start_time": "2022-11-04T21:23:12.069Z"
   },
   {
    "duration": 17,
    "start_time": "2022-11-04T21:23:12.127Z"
   },
   {
    "duration": 97,
    "start_time": "2022-11-04T21:23:12.145Z"
   },
   {
    "duration": 579,
    "start_time": "2022-11-04T21:23:12.244Z"
   },
   {
    "duration": 8,
    "start_time": "2022-11-04T21:23:12.826Z"
   },
   {
    "duration": 51,
    "start_time": "2022-11-04T21:23:12.836Z"
   },
   {
    "duration": 6,
    "start_time": "2022-11-04T21:23:12.888Z"
   },
   {
    "duration": 103,
    "start_time": "2022-11-04T21:23:12.896Z"
   },
   {
    "duration": 5,
    "start_time": "2022-11-04T21:23:13.001Z"
   },
   {
    "duration": 22,
    "start_time": "2022-11-04T21:23:13.024Z"
   },
   {
    "duration": 5,
    "start_time": "2022-11-04T21:23:13.048Z"
   },
   {
    "duration": 480,
    "start_time": "2022-11-04T21:23:13.055Z"
   },
   {
    "duration": 488,
    "start_time": "2022-11-04T21:23:13.537Z"
   },
   {
    "duration": 14,
    "start_time": "2022-11-04T21:23:14.027Z"
   },
   {
    "duration": 10,
    "start_time": "2022-11-04T21:23:14.043Z"
   },
   {
    "duration": 346,
    "start_time": "2022-11-04T21:23:14.055Z"
   },
   {
    "duration": 351,
    "start_time": "2022-11-04T21:23:14.404Z"
   },
   {
    "duration": 1784,
    "start_time": "2022-11-04T21:23:14.758Z"
   },
   {
    "duration": 347,
    "start_time": "2022-11-04T21:23:16.544Z"
   },
   {
    "duration": 361,
    "start_time": "2022-11-04T21:23:16.893Z"
   },
   {
    "duration": 511,
    "start_time": "2022-11-04T21:23:17.256Z"
   },
   {
    "duration": 11,
    "start_time": "2022-11-04T21:23:17.769Z"
   },
   {
    "duration": 327,
    "start_time": "2022-11-04T21:23:17.782Z"
   },
   {
    "duration": 292,
    "start_time": "2022-11-04T21:23:18.111Z"
   },
   {
    "duration": 309,
    "start_time": "2022-11-04T21:23:18.408Z"
   },
   {
    "duration": 8,
    "start_time": "2022-11-04T21:23:18.724Z"
   },
   {
    "duration": 19,
    "start_time": "2022-11-04T21:23:18.733Z"
   },
   {
    "duration": 12,
    "start_time": "2022-11-04T21:23:18.753Z"
   },
   {
    "duration": 271,
    "start_time": "2022-11-04T21:23:18.767Z"
   },
   {
    "duration": 290,
    "start_time": "2022-11-04T21:23:19.039Z"
   },
   {
    "duration": 299,
    "start_time": "2022-11-04T21:23:19.330Z"
   },
   {
    "duration": 7,
    "start_time": "2022-11-04T21:23:19.631Z"
   },
   {
    "duration": 18,
    "start_time": "2022-11-04T21:23:19.639Z"
   },
   {
    "duration": 286,
    "start_time": "2022-11-04T21:23:19.658Z"
   },
   {
    "duration": 279,
    "start_time": "2022-11-04T21:23:19.946Z"
   },
   {
    "duration": 322,
    "start_time": "2022-11-04T21:23:20.227Z"
   },
   {
    "duration": 7,
    "start_time": "2022-11-04T21:23:20.551Z"
   },
   {
    "duration": 18,
    "start_time": "2022-11-04T21:23:20.559Z"
   },
   {
    "duration": 13,
    "start_time": "2022-11-04T21:23:20.580Z"
   },
   {
    "duration": 50,
    "start_time": "2022-11-04T22:15:20.457Z"
   },
   {
    "duration": 3,
    "start_time": "2022-11-04T22:15:27.957Z"
   },
   {
    "duration": 11427,
    "start_time": "2022-11-04T22:15:27.962Z"
   },
   {
    "duration": 3,
    "start_time": "2022-11-04T22:15:39.391Z"
   },
   {
    "duration": 7772,
    "start_time": "2022-11-04T22:15:39.396Z"
   },
   {
    "duration": 1596,
    "start_time": "2022-11-04T22:15:47.169Z"
   },
   {
    "duration": 131,
    "start_time": "2022-11-04T22:15:48.767Z"
   },
   {
    "duration": 19,
    "start_time": "2022-11-04T22:15:48.900Z"
   },
   {
    "duration": 5,
    "start_time": "2022-11-04T22:15:48.920Z"
   },
   {
    "duration": 21,
    "start_time": "2022-11-04T22:15:48.927Z"
   },
   {
    "duration": 5,
    "start_time": "2022-11-04T22:15:48.950Z"
   },
   {
    "duration": 26,
    "start_time": "2022-11-04T22:15:48.957Z"
   },
   {
    "duration": 13,
    "start_time": "2022-11-04T22:15:48.985Z"
   },
   {
    "duration": 10,
    "start_time": "2022-11-04T22:15:49.000Z"
   },
   {
    "duration": 26,
    "start_time": "2022-11-04T22:15:49.012Z"
   },
   {
    "duration": 13,
    "start_time": "2022-11-04T22:15:49.040Z"
   },
   {
    "duration": 10,
    "start_time": "2022-11-04T22:15:49.055Z"
   },
   {
    "duration": 47,
    "start_time": "2022-11-04T22:15:49.066Z"
   },
   {
    "duration": 17,
    "start_time": "2022-11-04T22:15:49.114Z"
   },
   {
    "duration": 88,
    "start_time": "2022-11-04T22:15:49.133Z"
   },
   {
    "duration": 596,
    "start_time": "2022-11-04T22:15:49.223Z"
   },
   {
    "duration": 9,
    "start_time": "2022-11-04T22:15:49.821Z"
   },
   {
    "duration": 56,
    "start_time": "2022-11-04T22:15:49.832Z"
   },
   {
    "duration": 5,
    "start_time": "2022-11-04T22:15:49.889Z"
   },
   {
    "duration": 91,
    "start_time": "2022-11-04T22:15:49.898Z"
   },
   {
    "duration": 5,
    "start_time": "2022-11-04T22:15:49.991Z"
   },
   {
    "duration": 31,
    "start_time": "2022-11-04T22:15:49.998Z"
   },
   {
    "duration": 5,
    "start_time": "2022-11-04T22:15:50.031Z"
   },
   {
    "duration": 450,
    "start_time": "2022-11-04T22:15:50.054Z"
   },
   {
    "duration": 458,
    "start_time": "2022-11-04T22:15:50.505Z"
   },
   {
    "duration": 14,
    "start_time": "2022-11-04T22:15:50.965Z"
   },
   {
    "duration": 32,
    "start_time": "2022-11-04T22:15:50.980Z"
   },
   {
    "duration": 385,
    "start_time": "2022-11-04T22:15:51.014Z"
   },
   {
    "duration": 412,
    "start_time": "2022-11-04T22:15:51.400Z"
   },
   {
    "duration": 1747,
    "start_time": "2022-11-04T22:15:51.814Z"
   },
   {
    "duration": 343,
    "start_time": "2022-11-04T22:15:53.563Z"
   },
   {
    "duration": 363,
    "start_time": "2022-11-04T22:15:53.907Z"
   },
   {
    "duration": 514,
    "start_time": "2022-11-04T22:15:54.272Z"
   },
   {
    "duration": 12,
    "start_time": "2022-11-04T22:15:54.788Z"
   },
   {
    "duration": 274,
    "start_time": "2022-11-04T22:15:54.801Z"
   },
   {
    "duration": 266,
    "start_time": "2022-11-04T22:15:55.077Z"
   },
   {
    "duration": 324,
    "start_time": "2022-11-04T22:15:55.345Z"
   },
   {
    "duration": 7,
    "start_time": "2022-11-04T22:15:55.670Z"
   },
   {
    "duration": 16,
    "start_time": "2022-11-04T22:15:55.678Z"
   },
   {
    "duration": 11,
    "start_time": "2022-11-04T22:15:55.696Z"
   },
   {
    "duration": 320,
    "start_time": "2022-11-04T22:15:55.708Z"
   },
   {
    "duration": 302,
    "start_time": "2022-11-04T22:15:56.030Z"
   },
   {
    "duration": 293,
    "start_time": "2022-11-04T22:15:56.334Z"
   },
   {
    "duration": 7,
    "start_time": "2022-11-04T22:15:56.629Z"
   },
   {
    "duration": 42,
    "start_time": "2022-11-04T22:15:56.637Z"
   },
   {
    "duration": 277,
    "start_time": "2022-11-04T22:15:56.680Z"
   },
   {
    "duration": 286,
    "start_time": "2022-11-04T22:15:56.959Z"
   },
   {
    "duration": 298,
    "start_time": "2022-11-04T22:15:57.247Z"
   },
   {
    "duration": 6,
    "start_time": "2022-11-04T22:15:57.553Z"
   },
   {
    "duration": 9,
    "start_time": "2022-11-04T22:15:57.561Z"
   },
   {
    "duration": 11,
    "start_time": "2022-11-04T22:15:57.572Z"
   },
   {
    "duration": 1862,
    "start_time": "2022-11-04T22:23:01.192Z"
   },
   {
    "duration": 1717,
    "start_time": "2022-11-04T22:25:20.551Z"
   },
   {
    "duration": 1675,
    "start_time": "2022-11-04T22:28:42.725Z"
   },
   {
    "duration": 3183,
    "start_time": "2022-11-04T22:29:17.304Z"
   },
   {
    "duration": 3088,
    "start_time": "2022-11-04T22:30:17.294Z"
   },
   {
    "duration": 3154,
    "start_time": "2022-11-04T22:54:32.841Z"
   },
   {
    "duration": 3160,
    "start_time": "2022-11-04T22:55:00.580Z"
   },
   {
    "duration": 3,
    "start_time": "2022-11-05T18:37:02.431Z"
   },
   {
    "duration": 8246,
    "start_time": "2022-11-05T18:37:02.436Z"
   },
   {
    "duration": 3,
    "start_time": "2022-11-05T18:37:10.684Z"
   },
   {
    "duration": 6763,
    "start_time": "2022-11-05T18:37:10.689Z"
   },
   {
    "duration": 1282,
    "start_time": "2022-11-05T18:37:17.455Z"
   },
   {
    "duration": 64,
    "start_time": "2022-11-05T18:37:18.739Z"
   },
   {
    "duration": 15,
    "start_time": "2022-11-05T18:37:18.805Z"
   },
   {
    "duration": 12,
    "start_time": "2022-11-05T18:37:18.822Z"
   },
   {
    "duration": 27,
    "start_time": "2022-11-05T18:37:18.836Z"
   },
   {
    "duration": 4,
    "start_time": "2022-11-05T18:37:18.864Z"
   },
   {
    "duration": 22,
    "start_time": "2022-11-05T18:37:18.869Z"
   },
   {
    "duration": 10,
    "start_time": "2022-11-05T18:37:18.892Z"
   },
   {
    "duration": 21,
    "start_time": "2022-11-05T18:37:18.904Z"
   },
   {
    "duration": 26,
    "start_time": "2022-11-05T18:37:18.928Z"
   },
   {
    "duration": 10,
    "start_time": "2022-11-05T18:37:18.955Z"
   },
   {
    "duration": 27,
    "start_time": "2022-11-05T18:37:18.966Z"
   },
   {
    "duration": 29,
    "start_time": "2022-11-05T18:37:18.994Z"
   },
   {
    "duration": 17,
    "start_time": "2022-11-05T18:37:19.025Z"
   },
   {
    "duration": 77,
    "start_time": "2022-11-05T18:37:19.043Z"
   },
   {
    "duration": 547,
    "start_time": "2022-11-05T18:37:19.121Z"
   },
   {
    "duration": 7,
    "start_time": "2022-11-05T18:37:19.669Z"
   },
   {
    "duration": 52,
    "start_time": "2022-11-05T18:37:19.677Z"
   },
   {
    "duration": 5,
    "start_time": "2022-11-05T18:37:19.731Z"
   },
   {
    "duration": 81,
    "start_time": "2022-11-05T18:37:19.737Z"
   },
   {
    "duration": 4,
    "start_time": "2022-11-05T18:37:19.820Z"
   },
   {
    "duration": 27,
    "start_time": "2022-11-05T18:37:19.826Z"
   },
   {
    "duration": 5,
    "start_time": "2022-11-05T18:37:19.855Z"
   },
   {
    "duration": 418,
    "start_time": "2022-11-05T18:37:19.861Z"
   },
   {
    "duration": 417,
    "start_time": "2022-11-05T18:37:20.280Z"
   },
   {
    "duration": 16,
    "start_time": "2022-11-05T18:37:20.698Z"
   },
   {
    "duration": 11,
    "start_time": "2022-11-05T18:37:20.716Z"
   },
   {
    "duration": 327,
    "start_time": "2022-11-05T18:37:20.729Z"
   },
   {
    "duration": 349,
    "start_time": "2022-11-05T18:37:21.057Z"
   },
   {
    "duration": 2733,
    "start_time": "2022-11-05T18:37:21.408Z"
   },
   {
    "duration": 321,
    "start_time": "2022-11-05T18:37:24.143Z"
   },
   {
    "duration": 339,
    "start_time": "2022-11-05T18:37:24.466Z"
   },
   {
    "duration": 444,
    "start_time": "2022-11-05T18:37:24.807Z"
   },
   {
    "duration": 10,
    "start_time": "2022-11-05T18:37:25.252Z"
   },
   {
    "duration": 273,
    "start_time": "2022-11-05T18:37:25.264Z"
   },
   {
    "duration": 237,
    "start_time": "2022-11-05T18:37:25.538Z"
   },
   {
    "duration": 298,
    "start_time": "2022-11-05T18:37:25.778Z"
   },
   {
    "duration": 7,
    "start_time": "2022-11-05T18:37:26.077Z"
   },
   {
    "duration": 23,
    "start_time": "2022-11-05T18:37:26.085Z"
   },
   {
    "duration": 8,
    "start_time": "2022-11-05T18:37:26.110Z"
   },
   {
    "duration": 270,
    "start_time": "2022-11-05T18:37:26.119Z"
   },
   {
    "duration": 289,
    "start_time": "2022-11-05T18:37:26.390Z"
   },
   {
    "duration": 389,
    "start_time": "2022-11-05T18:37:26.680Z"
   },
   {
    "duration": 6,
    "start_time": "2022-11-05T18:37:27.071Z"
   },
   {
    "duration": 15,
    "start_time": "2022-11-05T18:37:27.078Z"
   },
   {
    "duration": 311,
    "start_time": "2022-11-05T18:37:27.094Z"
   },
   {
    "duration": 279,
    "start_time": "2022-11-05T18:37:27.407Z"
   },
   {
    "duration": 308,
    "start_time": "2022-11-05T18:37:27.687Z"
   },
   {
    "duration": 14,
    "start_time": "2022-11-05T18:37:27.997Z"
   },
   {
    "duration": 16,
    "start_time": "2022-11-05T18:37:28.013Z"
   },
   {
    "duration": 10,
    "start_time": "2022-11-05T18:37:28.030Z"
   },
   {
    "duration": 4464,
    "start_time": "2022-11-05T18:48:55.313Z"
   },
   {
    "duration": 3,
    "start_time": "2022-11-05T18:49:25.515Z"
   },
   {
    "duration": 2598,
    "start_time": "2022-11-05T18:49:25.520Z"
   },
   {
    "duration": 2,
    "start_time": "2022-11-05T18:49:28.120Z"
   },
   {
    "duration": 2521,
    "start_time": "2022-11-05T18:49:28.124Z"
   },
   {
    "duration": 1305,
    "start_time": "2022-11-05T18:49:30.648Z"
   },
   {
    "duration": 65,
    "start_time": "2022-11-05T18:49:31.955Z"
   },
   {
    "duration": 17,
    "start_time": "2022-11-05T18:49:32.021Z"
   },
   {
    "duration": 5,
    "start_time": "2022-11-05T18:49:32.039Z"
   },
   {
    "duration": 26,
    "start_time": "2022-11-05T18:49:32.045Z"
   },
   {
    "duration": 6,
    "start_time": "2022-11-05T18:49:32.074Z"
   },
   {
    "duration": 16,
    "start_time": "2022-11-05T18:49:32.081Z"
   },
   {
    "duration": 15,
    "start_time": "2022-11-05T18:49:32.104Z"
   },
   {
    "duration": 23,
    "start_time": "2022-11-05T18:49:32.121Z"
   },
   {
    "duration": 43,
    "start_time": "2022-11-05T18:49:32.146Z"
   },
   {
    "duration": 19,
    "start_time": "2022-11-05T18:49:32.191Z"
   },
   {
    "duration": 19,
    "start_time": "2022-11-05T18:49:32.211Z"
   },
   {
    "duration": 55,
    "start_time": "2022-11-05T18:49:32.231Z"
   },
   {
    "duration": 18,
    "start_time": "2022-11-05T18:49:32.288Z"
   },
   {
    "duration": 68,
    "start_time": "2022-11-05T18:49:32.307Z"
   },
   {
    "duration": 516,
    "start_time": "2022-11-05T18:49:32.378Z"
   },
   {
    "duration": 11,
    "start_time": "2022-11-05T18:49:32.895Z"
   },
   {
    "duration": 70,
    "start_time": "2022-11-05T18:49:32.907Z"
   },
   {
    "duration": 5,
    "start_time": "2022-11-05T18:49:32.978Z"
   },
   {
    "duration": 83,
    "start_time": "2022-11-05T18:49:32.985Z"
   },
   {
    "duration": 5,
    "start_time": "2022-11-05T18:49:33.070Z"
   },
   {
    "duration": 36,
    "start_time": "2022-11-05T18:49:33.076Z"
   },
   {
    "duration": 11,
    "start_time": "2022-11-05T18:49:33.114Z"
   },
   {
    "duration": 437,
    "start_time": "2022-11-05T18:49:33.128Z"
   },
   {
    "duration": 422,
    "start_time": "2022-11-05T18:49:33.567Z"
   },
   {
    "duration": 21,
    "start_time": "2022-11-05T18:49:33.991Z"
   },
   {
    "duration": 9,
    "start_time": "2022-11-05T18:49:34.013Z"
   },
   {
    "duration": 333,
    "start_time": "2022-11-05T18:49:34.023Z"
   },
   {
    "duration": 352,
    "start_time": "2022-11-05T18:49:34.358Z"
   },
   {
    "duration": 2895,
    "start_time": "2022-11-05T18:49:34.712Z"
   },
   {
    "duration": 4157,
    "start_time": "2022-11-05T18:49:37.609Z"
   },
   {
    "duration": 361,
    "start_time": "2022-11-05T18:49:41.768Z"
   },
   {
    "duration": 303,
    "start_time": "2022-11-05T18:49:42.131Z"
   },
   {
    "duration": 474,
    "start_time": "2022-11-05T18:49:42.436Z"
   },
   {
    "duration": 11,
    "start_time": "2022-11-05T18:49:42.912Z"
   },
   {
    "duration": 288,
    "start_time": "2022-11-05T18:49:42.924Z"
   },
   {
    "duration": 259,
    "start_time": "2022-11-05T18:49:43.214Z"
   },
   {
    "duration": 313,
    "start_time": "2022-11-05T18:49:43.475Z"
   },
   {
    "duration": 6,
    "start_time": "2022-11-05T18:49:43.790Z"
   },
   {
    "duration": 12,
    "start_time": "2022-11-05T18:49:43.805Z"
   },
   {
    "duration": 14,
    "start_time": "2022-11-05T18:49:43.819Z"
   },
   {
    "duration": 286,
    "start_time": "2022-11-05T18:49:43.834Z"
   },
   {
    "duration": 298,
    "start_time": "2022-11-05T18:49:44.122Z"
   },
   {
    "duration": 274,
    "start_time": "2022-11-05T18:49:44.422Z"
   },
   {
    "duration": 12,
    "start_time": "2022-11-05T18:49:44.698Z"
   },
   {
    "duration": 15,
    "start_time": "2022-11-05T18:49:44.711Z"
   },
   {
    "duration": 278,
    "start_time": "2022-11-05T18:49:44.728Z"
   },
   {
    "duration": 374,
    "start_time": "2022-11-05T18:49:45.008Z"
   },
   {
    "duration": 291,
    "start_time": "2022-11-05T18:49:45.383Z"
   },
   {
    "duration": 6,
    "start_time": "2022-11-05T18:49:45.676Z"
   },
   {
    "duration": 25,
    "start_time": "2022-11-05T18:49:45.683Z"
   },
   {
    "duration": 17,
    "start_time": "2022-11-05T18:49:45.709Z"
   }
  ],
  "kernelspec": {
   "display_name": "Python 3 (ipykernel)",
   "language": "python",
   "name": "python3"
  },
  "language_info": {
   "codemirror_mode": {
    "name": "ipython",
    "version": 3
   },
   "file_extension": ".py",
   "mimetype": "text/x-python",
   "name": "python",
   "nbconvert_exporter": "python",
   "pygments_lexer": "ipython3",
   "version": "3.9.15"
  },
  "toc": {
   "base_numbering": 1,
   "nav_menu": {},
   "number_sections": true,
   "sideBar": true,
   "skip_h1_title": true,
   "title_cell": "Table of Contents",
   "title_sidebar": "Contents",
   "toc_cell": false,
   "toc_position": {
    "height": "calc(100% - 180px)",
    "left": "10px",
    "top": "150px",
    "width": "165px"
   },
   "toc_section_display": true,
   "toc_window_display": true
  }
 },
 "nbformat": 4,
 "nbformat_minor": 4
}
