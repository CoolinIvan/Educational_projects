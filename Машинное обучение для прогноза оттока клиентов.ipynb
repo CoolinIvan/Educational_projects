{
 "cells": [
  {
   "cell_type": "markdown",
   "metadata": {
    "toc": true
   },
   "source": [
    "<h1>Содержание<span class=\"tocSkip\"></span></h1>\n",
    "<div class=\"toc\"><ul class=\"toc-item\"><li><span><a href=\"#Подготовка-данных\" data-toc-modified-id=\"Подготовка-данных-1\"><span class=\"toc-item-num\">1&nbsp;&nbsp;</span>Подготовка данных</a></span></li><li><span><a href=\"#Исследование-задачи\" data-toc-modified-id=\"Исследование-задачи-2\"><span class=\"toc-item-num\">2&nbsp;&nbsp;</span>Исследование задачи</a></span></li><li><span><a href=\"#Борьба-с-дисбалансом\" data-toc-modified-id=\"Борьба-с-дисбалансом-3\"><span class=\"toc-item-num\">3&nbsp;&nbsp;</span>Борьба с дисбалансом</a></span><ul class=\"toc-item\"><li><span><a href=\"#Случайный-лес\" data-toc-modified-id=\"Случайный-лес-3.1\"><span class=\"toc-item-num\">3.1&nbsp;&nbsp;</span>Случайный лес</a></span></li><li><span><a href=\"#Дерево-решений\" data-toc-modified-id=\"Дерево-решений-3.2\"><span class=\"toc-item-num\">3.2&nbsp;&nbsp;</span>Дерево решений</a></span></li><li><span><a href=\"#Логистическая-регрессия\" data-toc-modified-id=\"Логистическая-регрессия-3.3\"><span class=\"toc-item-num\">3.3&nbsp;&nbsp;</span>Логистическая регрессия</a></span></li><li><span><a href=\"#Результаты-всех-моделей\" data-toc-modified-id=\"Результаты-всех-моделей-3.4\"><span class=\"toc-item-num\">3.4&nbsp;&nbsp;</span>Результаты всех моделей</a></span></li></ul></li><li><span><a href=\"#Тестирование-модели\" data-toc-modified-id=\"Тестирование-модели-4\"><span class=\"toc-item-num\">4&nbsp;&nbsp;</span>Тестирование модели</a></span></li><li><span><a href=\"#Вывод\" data-toc-modified-id=\"Вывод-5\"><span class=\"toc-item-num\">5&nbsp;&nbsp;</span>Вывод</a></div>"
   ]
  },
  {
   "cell_type": "markdown",
   "metadata": {},
   "source": [
    "# Отток клиентов"
   ]
  },
  {
   "cell_type": "markdown",
   "metadata": {},
   "source": [
    "Из «Бета-Банка» стали уходить клиенты. Каждый месяц. Немного, но заметно. Банковские маркетологи посчитали: сохранять текущих клиентов дешевле, чем привлекать новых.\n",
    "\n",
    "Необходимо спрогнозировать, уйдёт клиент из банка в ближайшее время или нет. Нам предоставлены исторические данные о поведении клиентов и расторжении договоров с банком. \n",
    "\n",
    "Задача – построить модель с предельно большим значением *F1*-меры. Необходимо довести метрику до 0.59.\n",
    "\n",
    "Дополнительно измерим метрику *AUC-ROC*, сравнив её значение с *F1*-мерой.\n",
    "\n",
    "Источник данных: [https://www.kaggle.com/barelydedicated/bank-customer-churn-modeling](https://www.kaggle.com/barelydedicated/bank-customer-churn-modeling)"
   ]
  },
  {
   "cell_type": "markdown",
   "metadata": {},
   "source": [
    "## Подготовка данных"
   ]
  },
  {
   "cell_type": "code",
   "execution_count": 52,
   "metadata": {},
   "outputs": [],
   "source": [
    "import pandas as pd\n",
    "import seaborn as sns\n",
    "import matplotlib as plt\n",
    "from sklearn.model_selection import train_test_split\n",
    "from sklearn.ensemble import RandomForestClassifier\n",
    "from imblearn.ensemble import BalancedRandomForestClassifier\n",
    "from sklearn.tree import DecisionTreeClassifier\n",
    "from sklearn.linear_model import LogisticRegression\n",
    "from sklearn.model_selection import GridSearchCV\n",
    "from sklearn.model_selection import RandomizedSearchCV\n",
    "from sklearn.metrics import f1_score\n",
    "from imblearn.over_sampling import SMOTE\n",
    "from sklearn.metrics import roc_auc_score\n",
    "from sklearn.metrics import roc_curve\n",
    "from sklearn.utils import shuffle\n",
    "from sklearn.preprocessing import StandardScaler\n",
    "import matplotlib.pyplot as plt\n",
    "import warnings\n",
    "warnings.simplefilter('ignore')"
   ]
  },
  {
   "cell_type": "code",
   "execution_count": 53,
   "metadata": {},
   "outputs": [],
   "source": [
    "df = pd.read_csv('/datasets/Churn.csv')"
   ]
  },
  {
   "cell_type": "code",
   "execution_count": 54,
   "metadata": {},
   "outputs": [
    {
     "name": "stdout",
     "output_type": "stream",
     "text": [
      "<class 'pandas.core.frame.DataFrame'>\n",
      "RangeIndex: 10000 entries, 0 to 9999\n",
      "Data columns (total 14 columns):\n",
      " #   Column           Non-Null Count  Dtype  \n",
      "---  ------           --------------  -----  \n",
      " 0   RowNumber        10000 non-null  int64  \n",
      " 1   CustomerId       10000 non-null  int64  \n",
      " 2   Surname          10000 non-null  object \n",
      " 3   CreditScore      10000 non-null  int64  \n",
      " 4   Geography        10000 non-null  object \n",
      " 5   Gender           10000 non-null  object \n",
      " 6   Age              10000 non-null  int64  \n",
      " 7   Tenure           9091 non-null   float64\n",
      " 8   Balance          10000 non-null  float64\n",
      " 9   NumOfProducts    10000 non-null  int64  \n",
      " 10  HasCrCard        10000 non-null  int64  \n",
      " 11  IsActiveMember   10000 non-null  int64  \n",
      " 12  EstimatedSalary  10000 non-null  float64\n",
      " 13  Exited           10000 non-null  int64  \n",
      "dtypes: float64(3), int64(8), object(3)\n",
      "memory usage: 1.1+ MB\n"
     ]
    }
   ],
   "source": [
    "df.info()"
   ]
  },
  {
   "cell_type": "code",
   "execution_count": 55,
   "metadata": {},
   "outputs": [
    {
     "data": {
      "text/html": [
       "<div>\n",
       "<style scoped>\n",
       "    .dataframe tbody tr th:only-of-type {\n",
       "        vertical-align: middle;\n",
       "    }\n",
       "\n",
       "    .dataframe tbody tr th {\n",
       "        vertical-align: top;\n",
       "    }\n",
       "\n",
       "    .dataframe thead th {\n",
       "        text-align: right;\n",
       "    }\n",
       "</style>\n",
       "<table border=\"1\" class=\"dataframe\">\n",
       "  <thead>\n",
       "    <tr style=\"text-align: right;\">\n",
       "      <th></th>\n",
       "      <th>RowNumber</th>\n",
       "      <th>CustomerId</th>\n",
       "      <th>Surname</th>\n",
       "      <th>CreditScore</th>\n",
       "      <th>Geography</th>\n",
       "      <th>Gender</th>\n",
       "      <th>Age</th>\n",
       "      <th>Tenure</th>\n",
       "      <th>Balance</th>\n",
       "      <th>NumOfProducts</th>\n",
       "      <th>HasCrCard</th>\n",
       "      <th>IsActiveMember</th>\n",
       "      <th>EstimatedSalary</th>\n",
       "      <th>Exited</th>\n",
       "    </tr>\n",
       "  </thead>\n",
       "  <tbody>\n",
       "    <tr>\n",
       "      <th>0</th>\n",
       "      <td>1</td>\n",
       "      <td>15634602</td>\n",
       "      <td>Hargrave</td>\n",
       "      <td>619</td>\n",
       "      <td>France</td>\n",
       "      <td>Female</td>\n",
       "      <td>42</td>\n",
       "      <td>2.0</td>\n",
       "      <td>0.00</td>\n",
       "      <td>1</td>\n",
       "      <td>1</td>\n",
       "      <td>1</td>\n",
       "      <td>101348.88</td>\n",
       "      <td>1</td>\n",
       "    </tr>\n",
       "    <tr>\n",
       "      <th>1</th>\n",
       "      <td>2</td>\n",
       "      <td>15647311</td>\n",
       "      <td>Hill</td>\n",
       "      <td>608</td>\n",
       "      <td>Spain</td>\n",
       "      <td>Female</td>\n",
       "      <td>41</td>\n",
       "      <td>1.0</td>\n",
       "      <td>83807.86</td>\n",
       "      <td>1</td>\n",
       "      <td>0</td>\n",
       "      <td>1</td>\n",
       "      <td>112542.58</td>\n",
       "      <td>0</td>\n",
       "    </tr>\n",
       "    <tr>\n",
       "      <th>2</th>\n",
       "      <td>3</td>\n",
       "      <td>15619304</td>\n",
       "      <td>Onio</td>\n",
       "      <td>502</td>\n",
       "      <td>France</td>\n",
       "      <td>Female</td>\n",
       "      <td>42</td>\n",
       "      <td>8.0</td>\n",
       "      <td>159660.80</td>\n",
       "      <td>3</td>\n",
       "      <td>1</td>\n",
       "      <td>0</td>\n",
       "      <td>113931.57</td>\n",
       "      <td>1</td>\n",
       "    </tr>\n",
       "    <tr>\n",
       "      <th>3</th>\n",
       "      <td>4</td>\n",
       "      <td>15701354</td>\n",
       "      <td>Boni</td>\n",
       "      <td>699</td>\n",
       "      <td>France</td>\n",
       "      <td>Female</td>\n",
       "      <td>39</td>\n",
       "      <td>1.0</td>\n",
       "      <td>0.00</td>\n",
       "      <td>2</td>\n",
       "      <td>0</td>\n",
       "      <td>0</td>\n",
       "      <td>93826.63</td>\n",
       "      <td>0</td>\n",
       "    </tr>\n",
       "    <tr>\n",
       "      <th>4</th>\n",
       "      <td>5</td>\n",
       "      <td>15737888</td>\n",
       "      <td>Mitchell</td>\n",
       "      <td>850</td>\n",
       "      <td>Spain</td>\n",
       "      <td>Female</td>\n",
       "      <td>43</td>\n",
       "      <td>2.0</td>\n",
       "      <td>125510.82</td>\n",
       "      <td>1</td>\n",
       "      <td>1</td>\n",
       "      <td>1</td>\n",
       "      <td>79084.10</td>\n",
       "      <td>0</td>\n",
       "    </tr>\n",
       "  </tbody>\n",
       "</table>\n",
       "</div>"
      ],
      "text/plain": [
       "   RowNumber  CustomerId   Surname  CreditScore Geography  Gender  Age  \\\n",
       "0          1    15634602  Hargrave          619    France  Female   42   \n",
       "1          2    15647311      Hill          608     Spain  Female   41   \n",
       "2          3    15619304      Onio          502    France  Female   42   \n",
       "3          4    15701354      Boni          699    France  Female   39   \n",
       "4          5    15737888  Mitchell          850     Spain  Female   43   \n",
       "\n",
       "   Tenure    Balance  NumOfProducts  HasCrCard  IsActiveMember  \\\n",
       "0     2.0       0.00              1          1               1   \n",
       "1     1.0   83807.86              1          0               1   \n",
       "2     8.0  159660.80              3          1               0   \n",
       "3     1.0       0.00              2          0               0   \n",
       "4     2.0  125510.82              1          1               1   \n",
       "\n",
       "   EstimatedSalary  Exited  \n",
       "0        101348.88       1  \n",
       "1        112542.58       0  \n",
       "2        113931.57       1  \n",
       "3         93826.63       0  \n",
       "4         79084.10       0  "
      ]
     },
     "execution_count": 55,
     "metadata": {},
     "output_type": "execute_result"
    }
   ],
   "source": [
    "df.head()"
   ]
  },
  {
   "cell_type": "code",
   "execution_count": 56,
   "metadata": {},
   "outputs": [
    {
     "data": {
      "text/plain": [
       "Index(['RowNumber', 'CustomerId', 'Surname', 'CreditScore', 'Geography',\n",
       "       'Gender', 'Age', 'Tenure', 'Balance', 'NumOfProducts', 'HasCrCard',\n",
       "       'IsActiveMember', 'EstimatedSalary', 'Exited'],\n",
       "      dtype='object')"
      ]
     },
     "execution_count": 56,
     "metadata": {},
     "output_type": "execute_result"
    }
   ],
   "source": [
    "df.columns"
   ]
  },
  {
   "cell_type": "markdown",
   "metadata": {},
   "source": [
    "Приведём названия колонок к snake_case"
   ]
  },
  {
   "cell_type": "code",
   "execution_count": 57,
   "metadata": {},
   "outputs": [],
   "source": [
    "df.columns = ['row_number', 'customer_id', 'surname', 'credit_score', 'geography',\n",
    "       'gender', 'age', 'tenure', 'balance', 'num_of_products', 'has_crcard',\n",
    "       'is_active_member', 'estimated_salary', 'exited']"
   ]
  },
  {
   "cell_type": "markdown",
   "metadata": {},
   "source": [
    "Избавимся от колонок, не имеющих математического смысла для построения моделей"
   ]
  },
  {
   "cell_type": "code",
   "execution_count": 58,
   "metadata": {},
   "outputs": [],
   "source": [
    "df.drop(['row_number', 'customer_id', 'surname'], axis=1, inplace=True)"
   ]
  },
  {
   "cell_type": "markdown",
   "metadata": {},
   "source": [
    "Посмотрим на типы данных"
   ]
  },
  {
   "cell_type": "code",
   "execution_count": 59,
   "metadata": {},
   "outputs": [
    {
     "data": {
      "text/plain": [
       "credit_score          int64\n",
       "geography            object\n",
       "gender               object\n",
       "age                   int64\n",
       "tenure              float64\n",
       "balance             float64\n",
       "num_of_products       int64\n",
       "has_crcard            int64\n",
       "is_active_member      int64\n",
       "estimated_salary    float64\n",
       "exited                int64\n",
       "dtype: object"
      ]
     },
     "execution_count": 59,
     "metadata": {},
     "output_type": "execute_result"
    }
   ],
   "source": [
    "df.dtypes"
   ]
  },
  {
   "cell_type": "markdown",
   "metadata": {},
   "source": [
    "Nan'ы в столбце `tenure` заполним медианой"
   ]
  },
  {
   "cell_type": "code",
   "execution_count": 60,
   "metadata": {},
   "outputs": [],
   "source": [
    "df['tenure'].fillna(df['tenure'].mean(), inplace=True)"
   ]
  },
  {
   "cell_type": "code",
   "execution_count": 61,
   "metadata": {},
   "outputs": [
    {
     "name": "stdout",
     "output_type": "stream",
     "text": [
      "<class 'pandas.core.frame.DataFrame'>\n",
      "RangeIndex: 10000 entries, 0 to 9999\n",
      "Data columns (total 11 columns):\n",
      " #   Column            Non-Null Count  Dtype  \n",
      "---  ------            --------------  -----  \n",
      " 0   credit_score      10000 non-null  int64  \n",
      " 1   geography         10000 non-null  object \n",
      " 2   gender            10000 non-null  object \n",
      " 3   age               10000 non-null  int64  \n",
      " 4   tenure            10000 non-null  float64\n",
      " 5   balance           10000 non-null  float64\n",
      " 6   num_of_products   10000 non-null  int64  \n",
      " 7   has_crcard        10000 non-null  int64  \n",
      " 8   is_active_member  10000 non-null  int64  \n",
      " 9   estimated_salary  10000 non-null  float64\n",
      " 10  exited            10000 non-null  int64  \n",
      "dtypes: float64(3), int64(6), object(2)\n",
      "memory usage: 859.5+ KB\n"
     ]
    }
   ],
   "source": [
    "df.info()"
   ]
  },
  {
   "cell_type": "markdown",
   "metadata": {},
   "source": [
    "Поскольку данные значения являются исключительно годами, есть смысл перевести тип ячеек в целочисленный\n"
   ]
  },
  {
   "cell_type": "code",
   "execution_count": 62,
   "metadata": {},
   "outputs": [],
   "source": [
    "df.tenure = df.tenure.astype('int') "
   ]
  },
  {
   "cell_type": "markdown",
   "metadata": {},
   "source": [
    "Посмотрим на изменённый фрейм и перейдём к анализу баланса классов"
   ]
  },
  {
   "cell_type": "code",
   "execution_count": 63,
   "metadata": {},
   "outputs": [
    {
     "data": {
      "text/html": [
       "<div>\n",
       "<style scoped>\n",
       "    .dataframe tbody tr th:only-of-type {\n",
       "        vertical-align: middle;\n",
       "    }\n",
       "\n",
       "    .dataframe tbody tr th {\n",
       "        vertical-align: top;\n",
       "    }\n",
       "\n",
       "    .dataframe thead th {\n",
       "        text-align: right;\n",
       "    }\n",
       "</style>\n",
       "<table border=\"1\" class=\"dataframe\">\n",
       "  <thead>\n",
       "    <tr style=\"text-align: right;\">\n",
       "      <th></th>\n",
       "      <th>credit_score</th>\n",
       "      <th>geography</th>\n",
       "      <th>gender</th>\n",
       "      <th>age</th>\n",
       "      <th>tenure</th>\n",
       "      <th>balance</th>\n",
       "      <th>num_of_products</th>\n",
       "      <th>has_crcard</th>\n",
       "      <th>is_active_member</th>\n",
       "      <th>estimated_salary</th>\n",
       "      <th>exited</th>\n",
       "    </tr>\n",
       "  </thead>\n",
       "  <tbody>\n",
       "    <tr>\n",
       "      <th>0</th>\n",
       "      <td>619</td>\n",
       "      <td>France</td>\n",
       "      <td>Female</td>\n",
       "      <td>42</td>\n",
       "      <td>2</td>\n",
       "      <td>0.00</td>\n",
       "      <td>1</td>\n",
       "      <td>1</td>\n",
       "      <td>1</td>\n",
       "      <td>101348.88</td>\n",
       "      <td>1</td>\n",
       "    </tr>\n",
       "    <tr>\n",
       "      <th>1</th>\n",
       "      <td>608</td>\n",
       "      <td>Spain</td>\n",
       "      <td>Female</td>\n",
       "      <td>41</td>\n",
       "      <td>1</td>\n",
       "      <td>83807.86</td>\n",
       "      <td>1</td>\n",
       "      <td>0</td>\n",
       "      <td>1</td>\n",
       "      <td>112542.58</td>\n",
       "      <td>0</td>\n",
       "    </tr>\n",
       "    <tr>\n",
       "      <th>2</th>\n",
       "      <td>502</td>\n",
       "      <td>France</td>\n",
       "      <td>Female</td>\n",
       "      <td>42</td>\n",
       "      <td>8</td>\n",
       "      <td>159660.80</td>\n",
       "      <td>3</td>\n",
       "      <td>1</td>\n",
       "      <td>0</td>\n",
       "      <td>113931.57</td>\n",
       "      <td>1</td>\n",
       "    </tr>\n",
       "    <tr>\n",
       "      <th>3</th>\n",
       "      <td>699</td>\n",
       "      <td>France</td>\n",
       "      <td>Female</td>\n",
       "      <td>39</td>\n",
       "      <td>1</td>\n",
       "      <td>0.00</td>\n",
       "      <td>2</td>\n",
       "      <td>0</td>\n",
       "      <td>0</td>\n",
       "      <td>93826.63</td>\n",
       "      <td>0</td>\n",
       "    </tr>\n",
       "    <tr>\n",
       "      <th>4</th>\n",
       "      <td>850</td>\n",
       "      <td>Spain</td>\n",
       "      <td>Female</td>\n",
       "      <td>43</td>\n",
       "      <td>2</td>\n",
       "      <td>125510.82</td>\n",
       "      <td>1</td>\n",
       "      <td>1</td>\n",
       "      <td>1</td>\n",
       "      <td>79084.10</td>\n",
       "      <td>0</td>\n",
       "    </tr>\n",
       "  </tbody>\n",
       "</table>\n",
       "</div>"
      ],
      "text/plain": [
       "   credit_score geography  gender  age  tenure    balance  num_of_products  \\\n",
       "0           619    France  Female   42       2       0.00                1   \n",
       "1           608     Spain  Female   41       1   83807.86                1   \n",
       "2           502    France  Female   42       8  159660.80                3   \n",
       "3           699    France  Female   39       1       0.00                2   \n",
       "4           850     Spain  Female   43       2  125510.82                1   \n",
       "\n",
       "   has_crcard  is_active_member  estimated_salary  exited  \n",
       "0           1                 1         101348.88       1  \n",
       "1           0                 1         112542.58       0  \n",
       "2           1                 0         113931.57       1  \n",
       "3           0                 0          93826.63       0  \n",
       "4           1                 1          79084.10       0  "
      ]
     },
     "execution_count": 63,
     "metadata": {},
     "output_type": "execute_result"
    }
   ],
   "source": [
    "df.head()"
   ]
  },
  {
   "cell_type": "markdown",
   "metadata": {},
   "source": [
    "## Исследование задачи"
   ]
  },
  {
   "cell_type": "markdown",
   "metadata": {},
   "source": [
    "Выведем количественное соотношение классов целевого признака"
   ]
  },
  {
   "cell_type": "code",
   "execution_count": 64,
   "metadata": {},
   "outputs": [
    {
     "data": {
      "text/plain": [
       "0    0.7963\n",
       "1    0.2037\n",
       "Name: exited, dtype: float64"
      ]
     },
     "metadata": {},
     "output_type": "display_data"
    },
    {
     "data": {
      "image/png": "[encoded data removed]",
      "text/plain": [
       "<Figure size 432x288 with 1 Axes>"
      ]
     },
     "metadata": {
      "needs_background": "light"
     },
     "output_type": "display_data"
    }
   ],
   "source": [
    "display(df['exited'].value_counts(normalize=True))\n",
    "df['exited'].value_counts(normalize=True).plot(kind='bar', rot=0);\n",
    "plt.title('Баланс классов целевой переменной');"
   ]
  },
  {
   "cell_type": "markdown",
   "metadata": {},
   "source": [
    "Проведём OHE для категориальных переменных"
   ]
  },
  {
   "cell_type": "code",
   "execution_count": 65,
   "metadata": {},
   "outputs": [],
   "source": [
    "df_ohe = pd.get_dummies(df, drop_first=True, columns=['geography'])\n",
    "df_ohe = pd.get_dummies(df_ohe, drop_first=True, columns=['gender'])"
   ]
  },
  {
   "cell_type": "code",
   "execution_count": 66,
   "metadata": {},
   "outputs": [
    {
     "data": {
      "text/html": [
       "<div>\n",
       "<style scoped>\n",
       "    .dataframe tbody tr th:only-of-type {\n",
       "        vertical-align: middle;\n",
       "    }\n",
       "\n",
       "    .dataframe tbody tr th {\n",
       "        vertical-align: top;\n",
       "    }\n",
       "\n",
       "    .dataframe thead th {\n",
       "        text-align: right;\n",
       "    }\n",
       "</style>\n",
       "<table border=\"1\" class=\"dataframe\">\n",
       "  <thead>\n",
       "    <tr style=\"text-align: right;\">\n",
       "      <th></th>\n",
       "      <th>credit_score</th>\n",
       "      <th>age</th>\n",
       "      <th>tenure</th>\n",
       "      <th>balance</th>\n",
       "      <th>num_of_products</th>\n",
       "      <th>has_crcard</th>\n",
       "      <th>is_active_member</th>\n",
       "      <th>estimated_salary</th>\n",
       "      <th>exited</th>\n",
       "      <th>geography_Germany</th>\n",
       "      <th>geography_Spain</th>\n",
       "      <th>gender_Male</th>\n",
       "    </tr>\n",
       "  </thead>\n",
       "  <tbody>\n",
       "    <tr>\n",
       "      <th>0</th>\n",
       "      <td>619</td>\n",
       "      <td>42</td>\n",
       "      <td>2</td>\n",
       "      <td>0.00</td>\n",
       "      <td>1</td>\n",
       "      <td>1</td>\n",
       "      <td>1</td>\n",
       "      <td>101348.88</td>\n",
       "      <td>1</td>\n",
       "      <td>0</td>\n",
       "      <td>0</td>\n",
       "      <td>0</td>\n",
       "    </tr>\n",
       "    <tr>\n",
       "      <th>1</th>\n",
       "      <td>608</td>\n",
       "      <td>41</td>\n",
       "      <td>1</td>\n",
       "      <td>83807.86</td>\n",
       "      <td>1</td>\n",
       "      <td>0</td>\n",
       "      <td>1</td>\n",
       "      <td>112542.58</td>\n",
       "      <td>0</td>\n",
       "      <td>0</td>\n",
       "      <td>1</td>\n",
       "      <td>0</td>\n",
       "    </tr>\n",
       "    <tr>\n",
       "      <th>2</th>\n",
       "      <td>502</td>\n",
       "      <td>42</td>\n",
       "      <td>8</td>\n",
       "      <td>159660.80</td>\n",
       "      <td>3</td>\n",
       "      <td>1</td>\n",
       "      <td>0</td>\n",
       "      <td>113931.57</td>\n",
       "      <td>1</td>\n",
       "      <td>0</td>\n",
       "      <td>0</td>\n",
       "      <td>0</td>\n",
       "    </tr>\n",
       "    <tr>\n",
       "      <th>3</th>\n",
       "      <td>699</td>\n",
       "      <td>39</td>\n",
       "      <td>1</td>\n",
       "      <td>0.00</td>\n",
       "      <td>2</td>\n",
       "      <td>0</td>\n",
       "      <td>0</td>\n",
       "      <td>93826.63</td>\n",
       "      <td>0</td>\n",
       "      <td>0</td>\n",
       "      <td>0</td>\n",
       "      <td>0</td>\n",
       "    </tr>\n",
       "    <tr>\n",
       "      <th>4</th>\n",
       "      <td>850</td>\n",
       "      <td>43</td>\n",
       "      <td>2</td>\n",
       "      <td>125510.82</td>\n",
       "      <td>1</td>\n",
       "      <td>1</td>\n",
       "      <td>1</td>\n",
       "      <td>79084.10</td>\n",
       "      <td>0</td>\n",
       "      <td>0</td>\n",
       "      <td>1</td>\n",
       "      <td>0</td>\n",
       "    </tr>\n",
       "  </tbody>\n",
       "</table>\n",
       "</div>"
      ],
      "text/plain": [
       "   credit_score  age  tenure    balance  num_of_products  has_crcard  \\\n",
       "0           619   42       2       0.00                1           1   \n",
       "1           608   41       1   83807.86                1           0   \n",
       "2           502   42       8  159660.80                3           1   \n",
       "3           699   39       1       0.00                2           0   \n",
       "4           850   43       2  125510.82                1           1   \n",
       "\n",
       "   is_active_member  estimated_salary  exited  geography_Germany  \\\n",
       "0                 1         101348.88       1                  0   \n",
       "1                 1         112542.58       0                  0   \n",
       "2                 0         113931.57       1                  0   \n",
       "3                 0          93826.63       0                  0   \n",
       "4                 1          79084.10       0                  0   \n",
       "\n",
       "   geography_Spain  gender_Male  \n",
       "0                0            0  \n",
       "1                1            0  \n",
       "2                0            0  \n",
       "3                0            0  \n",
       "4                1            0  "
      ]
     },
     "execution_count": 66,
     "metadata": {},
     "output_type": "execute_result"
    }
   ],
   "source": [
    "df_ohe.head()"
   ]
  },
  {
   "cell_type": "markdown",
   "metadata": {},
   "source": [
    "Разделим данные на предикторы и целевой признак\n"
   ]
  },
  {
   "cell_type": "code",
   "execution_count": 67,
   "metadata": {},
   "outputs": [],
   "source": [
    "features = df_ohe.drop('exited', axis=1)\n",
    "target = df_ohe['exited']"
   ]
  },
  {
   "cell_type": "markdown",
   "metadata": {},
   "source": [
    "Поскольку в дальнейшем мы намерены использовать функцию `RandomizedSearchCV`, которая задействует кросс-валидацию,<br>\n",
    "мы поделим выборку на трейн и тест без валидационной"
   ]
  },
  {
   "cell_type": "code",
   "execution_count": 68,
   "metadata": {},
   "outputs": [],
   "source": [
    "features_train, features_test, target_train, target_test = train_test_split(features, target, test_size=.25, random_state=1)"
   ]
  },
  {
   "cell_type": "code",
   "execution_count": 69,
   "metadata": {},
   "outputs": [
    {
     "data": {
      "text/plain": [
       "Index(['credit_score', 'age', 'tenure', 'balance', 'num_of_products',\n",
       "       'has_crcard', 'is_active_member', 'estimated_salary', 'exited',\n",
       "       'geography_Germany', 'geography_Spain', 'gender_Male'],\n",
       "      dtype='object')"
      ]
     },
     "execution_count": 69,
     "metadata": {},
     "output_type": "execute_result"
    }
   ],
   "source": [
    "df_ohe.columns"
   ]
  },
  {
   "cell_type": "code",
   "execution_count": 70,
   "metadata": {},
   "outputs": [],
   "source": [
    "numeric = ['credit_score', 'age', 'tenure', 'balance', 'num_of_products', 'estimated_salary']\n",
    "\n",
    "scaler = StandardScaler()\n",
    "scaler.fit(features_train[numeric])\n",
    "features_train[numeric] = scaler.transform(features_train[numeric])\n",
    "\n",
    "features_test[numeric] = scaler.transform(features_test[numeric])"
   ]
  },
  {
   "cell_type": "markdown",
   "metadata": {},
   "source": [
    "Напишем функцию для расчёта AUC-ROC"
   ]
  },
  {
   "cell_type": "code",
   "execution_count": 71,
   "metadata": {},
   "outputs": [],
   "source": [
    "def roc_plot(model):\n",
    "    probabilities_test = model.predict_proba(features_test)\n",
    "    probabilities_one_test = probabilities_test[:, 1]\n",
    "\n",
    "    auc_roc = roc_auc_score(target_test, probabilities_one_test)\n",
    "\n",
    "    fpr, tpr, thresholds = roc_curve(target_test, probabilities_one_test)\n",
    "\n",
    "    plt.figure()\n",
    "\n",
    "    plt.plot(fpr, tpr)\n",
    "\n",
    "    # Для сравнения построим ROC-кривую случайной модели\n",
    "    plt.plot([0, 1], [0, 1], linestyle='--')\n",
    "\n",
    "    plt.xlim([0.0, 1.0]) \n",
    "    plt.ylim([0.0, 1.0]) \n",
    "\n",
    "    plt.xlabel('False Positive Rate')\n",
    "    plt.ylabel('True Positive Rate')\n",
    "    plt.title(\"ROC-кривая\")\n",
    "\n",
    "    plt.show()\n",
    "    \n",
    "    return print('AUC-ROC модели:', auc_roc)"
   ]
  },
  {
   "cell_type": "markdown",
   "metadata": {},
   "source": [
    "Обучим с поиском лучших гиперпараметров `Случайный лес`\n"
   ]
  },
  {
   "cell_type": "code",
   "execution_count": 72,
   "metadata": {},
   "outputs": [
    {
     "name": "stdout",
     "output_type": "stream",
     "text": [
      "f1 наилучшей модели: 0.5514106508292954\n"
     ]
    },
    {
     "data": {
      "image/png": "[encoded data removed]",
      "text/plain": [
       "<Figure size 432x288 with 1 Axes>"
      ]
     },
     "metadata": {
      "needs_background": "light"
     },
     "output_type": "display_data"
    },
    {
     "name": "stdout",
     "output_type": "stream",
     "text": [
      "AUC-ROC модели: 0.8655662393162393\n"
     ]
    }
   ],
   "source": [
    "forest_model = RandomForestClassifier(random_state=1)\n",
    "\n",
    "forest_param_grid = {'n_estimators': range (10, 61, 10),\n",
    "              'max_depth': range (1, 21),\n",
    "              'min_samples_leaf': range (1, 21),\n",
    "              'min_samples_split': range (1, 21) }\n",
    "\n",
    "forest_rs = RandomizedSearchCV(forest_model, forest_param_grid, scoring='f1')\n",
    "\n",
    "forest_rs.fit(features_train, target_train)\n",
    "\n",
    "print(f'f1 наилучшей модели: {forest_rs.best_score_}')\n",
    "\n",
    "roc_plot(forest_rs.best_estimator_)"
   ]
  },
  {
   "cell_type": "markdown",
   "metadata": {},
   "source": [
    "Обучим с поиском лучших гиперпараметров `Дерево решений`\n"
   ]
  },
  {
   "cell_type": "code",
   "execution_count": 73,
   "metadata": {},
   "outputs": [
    {
     "name": "stdout",
     "output_type": "stream",
     "text": [
      "f1 наилучшей модели: 0.5591258260070986\n"
     ]
    },
    {
     "data": {
      "image/png": "[encoded data removed]",
      "text/plain": [
       "<Figure size 432x288 with 1 Axes>"
      ]
     },
     "metadata": {
      "needs_background": "light"
     },
     "output_type": "display_data"
    },
    {
     "name": "stdout",
     "output_type": "stream",
     "text": [
      "AUC-ROC модели: 0.8375582750582752\n"
     ]
    }
   ],
   "source": [
    "tree_model = DecisionTreeClassifier(random_state=1)\n",
    "\n",
    "tree_param_grid = {'max_depth': range (1, 21)}\n",
    "\n",
    "tree_rs = RandomizedSearchCV(tree_model, tree_param_grid, scoring='f1')\n",
    "\n",
    "tree_rs.fit(features_train, target_train)\n",
    "\n",
    "print(f'f1 наилучшей модели: {tree_rs.best_score_}')\n",
    "\n",
    "roc_plot(tree_rs.best_estimator_)"
   ]
  },
  {
   "cell_type": "markdown",
   "metadata": {},
   "source": [
    "Обучим с поиском лучших гиперпараметров `Логистическую регрессию`\n"
   ]
  },
  {
   "cell_type": "code",
   "execution_count": 74,
   "metadata": {},
   "outputs": [
    {
     "name": "stdout",
     "output_type": "stream",
     "text": [
      "f1 наилучшей модели: 0.3031836342559661\n"
     ]
    },
    {
     "data": {
      "image/png": "[encoded data removed]",
      "text/plain": [
       "<Figure size 432x288 with 1 Axes>"
      ]
     },
     "metadata": {
      "needs_background": "light"
     },
     "output_type": "display_data"
    },
    {
     "name": "stdout",
     "output_type": "stream",
     "text": [
      "AUC-ROC модели: 0.7740394327894328\n"
     ]
    }
   ],
   "source": [
    "log_model = LogisticRegression(random_state=1)\n",
    "\n",
    "log_param_grid = { 'solver': ['newton-cg', 'lbfgs', 'liblinear', 'sag', 'saga'],\n",
    "                   'penalty':['none', 'elasticnet', 'l1', 'l2'],\n",
    "                   'C':[0.001, 0.01, 0.1, 1, 10, 100] }\n",
    "\n",
    "log_rs = RandomizedSearchCV(log_model, log_param_grid, scoring='f1')\n",
    "\n",
    "log_rs.fit(features_train, target_train)\n",
    "\n",
    "print(f'f1 наилучшей модели: {log_rs.best_score_}')\n",
    "\n",
    "roc_plot(log_rs.best_estimator_)"
   ]
  },
  {
   "cell_type": "markdown",
   "metadata": {},
   "source": [
    "Итого у нас получились три модели со следующими показателями *f1* и *AUC-ROC*:\n",
    "- RandomForestClassifier: f1 ~ 0.55, AUC-ROC ~ 0.86\n",
    "- DecisionTreeClassifier: f1 ~ 0.55, AUC-ROC ~ 0.84\n",
    "- LogisticRegression:     f1 ~ 0.30, AUC-ROC ~ 0.77\n",
    "\n",
    "Ни одной из представленных моделей мы не смогли превысить f1, равного 0.59. Возможно, восстановление баланса классов поможет нам решить проблему"
   ]
  },
  {
   "cell_type": "markdown",
   "metadata": {},
   "source": [
    "## Борьба с дисбалансом"
   ]
  },
  {
   "cell_type": "markdown",
   "metadata": {},
   "source": [
    "Восстановим баланс классов в выбранных нами моделях несколькими способами.<br>\n",
    "- подберём подходящие *веса классов* <br>\n",
    "- сделаем *upsampling* <br>\n",
    "- воспользуемся функцией генерации семплов *SMOTE*"
   ]
  },
  {
   "cell_type": "markdown",
   "metadata": {},
   "source": [
    "### Случайный лес"
   ]
  },
  {
   "cell_type": "markdown",
   "metadata": {},
   "source": [
    "**Сбалансируем веса классов гиперпараметром** и выведем показатели *f1* и *AUC-ROC*"
   ]
  },
  {
   "cell_type": "code",
   "execution_count": 75,
   "metadata": {},
   "outputs": [
    {
     "name": "stdout",
     "output_type": "stream",
     "text": [
      "f1 наилучшей модели: 0.6187449514572884\n"
     ]
    },
    {
     "data": {
      "image/png": "[encoded data removed]",
      "text/plain": [
       "<Figure size 432x288 with 1 Axes>"
      ]
     },
     "metadata": {
      "needs_background": "light"
     },
     "output_type": "display_data"
    },
    {
     "name": "stdout",
     "output_type": "stream",
     "text": [
      "AUC-ROC модели: 0.8730001942501942\n"
     ]
    }
   ],
   "source": [
    "forest_balanced = RandomForestClassifier(random_state=1, class_weight='balanced')\n",
    "\n",
    "forest_balanced_grid = {'n_estimators': range (10, 61, 10),\n",
    "              'max_depth': range (1, 21),\n",
    "              'min_samples_leaf': range (1, 21),\n",
    "              'min_samples_split': range (1, 21)\n",
    "              }\n",
    "\n",
    "forest_balanced_rs = RandomizedSearchCV(forest_balanced, forest_balanced_grid, scoring='f1')\n",
    "\n",
    "forest_balanced_rs.fit(features_train, target_train)\n",
    "\n",
    "print(f'f1 наилучшей модели: {forest_balanced_rs.best_score_}')\n",
    "\n",
    "roc_plot(forest_balanced_rs.best_estimator_)"
   ]
  },
  {
   "cell_type": "markdown",
   "metadata": {},
   "source": [
    "Сделаем **upsampling** и выведем показатели *f1* и *auc-roc*\n"
   ]
  },
  {
   "cell_type": "code",
   "execution_count": 76,
   "metadata": {},
   "outputs": [
    {
     "name": "stdout",
     "output_type": "stream",
     "text": [
      "f1 наилучшей модели: 0.8579868254731011\n"
     ]
    },
    {
     "data": {
      "image/png": "[encoded data removed]",
      "text/plain": [
       "<Figure size 432x288 with 1 Axes>"
      ]
     },
     "metadata": {
      "needs_background": "light"
     },
     "output_type": "display_data"
    },
    {
     "name": "stdout",
     "output_type": "stream",
     "text": [
      "AUC-ROC модели: 0.8674339549339548\n"
     ]
    }
   ],
   "source": [
    "forest_balanced = RandomForestClassifier(random_state=1)\n",
    "\n",
    "def upsample(features, target, repeat):\n",
    "    features_zeros = features[target == 0]\n",
    "    features_ones = features[target == 1]\n",
    "    target_zeros = target[target == 0]\n",
    "    target_ones = target[target == 1]\n",
    "\n",
    "    features_upsampled = pd.concat([features_zeros] + [features_ones] * repeat)\n",
    "    target_upsampled = pd.concat([target_zeros] + [target_ones] * repeat)\n",
    "    \n",
    "    features_upsampled, target_upsampled = shuffle(\n",
    "        features_upsampled, target_upsampled, random_state=12345)\n",
    "    \n",
    "    return features_upsampled, target_upsampled\n",
    "\n",
    "\n",
    "features_upsampled, target_upsampled = upsample(features_train, target_train, 4)\n",
    "\n",
    "\n",
    "forest_balanced_grid = {'n_estimators': range (10, 61, 10),\n",
    "              'max_depth': range (1, 21),\n",
    "              'min_samples_leaf': range (1, 21),\n",
    "              'min_samples_split': range (1, 21)\n",
    "              }\n",
    "\n",
    "forest_balanced_rs = RandomizedSearchCV(forest_balanced, forest_balanced_grid, scoring='f1')\n",
    "\n",
    "forest_balanced_rs.fit(features_upsampled, target_upsampled)\n",
    "\n",
    "print(f'f1 наилучшей модели: {forest_balanced_rs.best_score_}')\n",
    "\n",
    "roc_plot(forest_balanced_rs.best_estimator_)"
   ]
  },
  {
   "cell_type": "markdown",
   "metadata": {},
   "source": [
    "Проведём балансировку классов функцией **SMOTE**\n"
   ]
  },
  {
   "cell_type": "code",
   "execution_count": 77,
   "metadata": {},
   "outputs": [],
   "source": [
    "features_train_smotes = features_train.copy()\n",
    "target_train_smotes = target_train.copy()\n",
    "\n",
    "smt = SMOTE(random_state=1234)\n",
    "features_train_smote, target_train_smote = smt.fit_resample(features_train_smotes, target_train_smotes)"
   ]
  },
  {
   "cell_type": "markdown",
   "metadata": {},
   "source": [
    "Проверим работу функции"
   ]
  },
  {
   "cell_type": "code",
   "execution_count": 78,
   "metadata": {},
   "outputs": [
    {
     "data": {
      "image/png": "[encoded data removed]",
      "text/plain": [
       "<Figure size 432x288 with 1 Axes>"
      ]
     },
     "metadata": {
      "needs_background": "light"
     },
     "output_type": "display_data"
    }
   ],
   "source": [
    "target_train_smote.value_counts(normalize=True)\n",
    "target_train_smote.value_counts(normalize=True).plot(kind='bar', rot=0)\n",
    "plt.title('Баланс классов целевой переменной');"
   ]
  },
  {
   "cell_type": "markdown",
   "metadata": {},
   "source": [
    "Найдём лучший показатель *f1*, используя тот же `RandomizedSearchCV` и `смоут-выборки`\n"
   ]
  },
  {
   "cell_type": "code",
   "execution_count": 79,
   "metadata": {},
   "outputs": [
    {
     "name": "stdout",
     "output_type": "stream",
     "text": [
      "f1 наилучшей модели: 0.8563062084101368\n"
     ]
    },
    {
     "data": {
      "image/png": "[encoded data removed]",
      "text/plain": [
       "<Figure size 432x288 with 1 Axes>"
      ]
     },
     "metadata": {
      "needs_background": "light"
     },
     "output_type": "display_data"
    },
    {
     "name": "stdout",
     "output_type": "stream",
     "text": [
      "AUC-ROC модели: 0.8600893550893549\n"
     ]
    }
   ],
   "source": [
    "forest_balanced = RandomForestClassifier(random_state=1)\n",
    "\n",
    "forest_balanced_grid = {'n_estimators': range (10, 61, 10),\n",
    "              'max_depth': range (1, 21),\n",
    "              'min_samples_leaf': range (1, 21),\n",
    "              'min_samples_split': range (1, 21)\n",
    "              }\n",
    "\n",
    "forest_balanced_rs = RandomizedSearchCV(forest_balanced, forest_balanced_grid, scoring='f1')\n",
    "\n",
    "forest_balanced_rs.fit(features_train_smote, target_train_smote)\n",
    "\n",
    "print(f'f1 наилучшей модели: {forest_balanced_rs.best_score_}')\n",
    "\n",
    "roc_plot(forest_balanced_rs.best_estimator_)"
   ]
  },
  {
   "cell_type": "markdown",
   "metadata": {},
   "source": [
    "Результаты применения способов восстановления баланса классов в `Случайном лесе`:\n",
    "\n",
    "- **class_weight**: f1 ~ 0.61, auc-roc ~ 0.87\n",
    "- **upsampling**: f1 ~ 0.84, auc-roc ~ 0.87\n",
    "- **SMOTE**: f1 ~ 0.87, auc-roc ~ 0.86"
   ]
  },
  {
   "cell_type": "markdown",
   "metadata": {},
   "source": [
    "### Дерево решений"
   ]
  },
  {
   "cell_type": "markdown",
   "metadata": {},
   "source": [
    "**Сбалансируем веса классов гиперпараметром** и выведем показатели *f1* и *AUC-ROC*"
   ]
  },
  {
   "cell_type": "code",
   "execution_count": 80,
   "metadata": {},
   "outputs": [
    {
     "name": "stdout",
     "output_type": "stream",
     "text": [
      "f1 наилучшей модели: 0.5711260810617932\n"
     ]
    },
    {
     "data": {
      "image/png": "[encoded data removed]",
      "text/plain": [
       "<Figure size 432x288 with 1 Axes>"
      ]
     },
     "metadata": {
      "needs_background": "light"
     },
     "output_type": "display_data"
    },
    {
     "name": "stdout",
     "output_type": "stream",
     "text": [
      "AUC-ROC модели: 0.847991452991453\n"
     ]
    }
   ],
   "source": [
    "tree_balanced = DecisionTreeClassifier(random_state=1, class_weight='balanced')\n",
    "\n",
    "tree_param_grid = {'max_depth': range (1, 21)}\n",
    "tree_balanced_rs = RandomizedSearchCV(tree_balanced, tree_param_grid, scoring='f1')\n",
    "tree_balanced_rs.fit(features_train, target_train)\n",
    "\n",
    "print(f'f1 наилучшей модели: {tree_balanced_rs.best_score_}')\n",
    "\n",
    "roc_plot(tree_balanced_rs.best_estimator_)"
   ]
  },
  {
   "cell_type": "markdown",
   "metadata": {},
   "source": [
    "Используем уже готовые методом **upsampling** данные и выведем показатели *f1* и *auc-roc*"
   ]
  },
  {
   "cell_type": "code",
   "execution_count": 81,
   "metadata": {},
   "outputs": [
    {
     "name": "stdout",
     "output_type": "stream",
     "text": [
      "f1 наилучшей модели: 0.9269579537789218\n"
     ]
    },
    {
     "data": {
      "image/png": "[encoded data removed]",
      "text/plain": [
       "<Figure size 432x288 with 1 Axes>"
      ]
     },
     "metadata": {
      "needs_background": "light"
     },
     "output_type": "display_data"
    },
    {
     "name": "stdout",
     "output_type": "stream",
     "text": [
      "AUC-ROC модели: 0.6846416083916084\n"
     ]
    }
   ],
   "source": [
    "tree_balanced = DecisionTreeClassifier(random_state=1)\n",
    "\n",
    "tree_param_grid = {'max_depth': range (1, 21)}\n",
    "tree_balanced_rs = RandomizedSearchCV(tree_balanced, tree_param_grid, scoring='f1')\n",
    "tree_balanced_rs.fit(features_upsampled, target_upsampled)\n",
    "\n",
    "print(f'f1 наилучшей модели: {tree_balanced_rs.best_score_}')\n",
    "\n",
    "roc_plot(tree_balanced_rs.best_estimator_)"
   ]
  },
  {
   "cell_type": "markdown",
   "metadata": {},
   "source": [
    "Используем уже готовые методом **SMOTE** данные и выведем показатели *f1* и *auc-roc*"
   ]
  },
  {
   "cell_type": "code",
   "execution_count": 82,
   "metadata": {},
   "outputs": [
    {
     "name": "stdout",
     "output_type": "stream",
     "text": [
      "f1 наилучшей модели: 0.813949976142565\n"
     ]
    },
    {
     "data": {
      "image/png": "[encoded data removed]",
      "text/plain": [
       "<Figure size 432x288 with 1 Axes>"
      ]
     },
     "metadata": {
      "needs_background": "light"
     },
     "output_type": "display_data"
    },
    {
     "name": "stdout",
     "output_type": "stream",
     "text": [
      "AUC-ROC модели: 0.7011790986790988\n"
     ]
    }
   ],
   "source": [
    "tree_balanced = DecisionTreeClassifier(random_state=1)\n",
    "\n",
    "tree_param_grid = {'max_depth': range (1, 21)}\n",
    "tree_balanced_rs = RandomizedSearchCV(tree_balanced, tree_param_grid, scoring='f1')\n",
    "tree_balanced_rs.fit(features_train_smote, target_train_smote)\n",
    "\n",
    "print(f'f1 наилучшей модели: {tree_balanced_rs.best_score_}')\n",
    "\n",
    "roc_plot(tree_balanced_rs.best_estimator_)"
   ]
  },
  {
   "cell_type": "markdown",
   "metadata": {},
   "source": [
    "Результаты применения способов восстановления баланса классов в `Дереве решений`:\n",
    "\n",
    "- **class_weight**: f1 ~ 0.57, auc-roc ~ 0.84\n",
    "- **upsampling**: f1 ~ 0.89, auc-roc ~ 0.70\n",
    "- **SMOTE**: f1 ~ 0.81, auc-roc ~ 0.70"
   ]
  },
  {
   "cell_type": "markdown",
   "metadata": {},
   "source": [
    "### Логистическая регрессия"
   ]
  },
  {
   "cell_type": "markdown",
   "metadata": {},
   "source": [
    "**Сбалансируем веса классов гиперпараметром** и выведем показатели *f1* и *AUC-ROC*"
   ]
  },
  {
   "cell_type": "code",
   "execution_count": 83,
   "metadata": {},
   "outputs": [
    {
     "name": "stdout",
     "output_type": "stream",
     "text": [
      "f1 наилучшей модели: 0.48744746841182635\n"
     ]
    },
    {
     "data": {
      "image/png": "[encoded data removed]",
      "text/plain": [
       "<Figure size 432x288 with 1 Axes>"
      ]
     },
     "metadata": {
      "needs_background": "light"
     },
     "output_type": "display_data"
    },
    {
     "name": "stdout",
     "output_type": "stream",
     "text": [
      "AUC-ROC модели: 0.7785062160062161\n"
     ]
    }
   ],
   "source": [
    "log_balanced = LogisticRegression(random_state=1, class_weight='balanced')\n",
    "\n",
    "log_param_grid = { 'solver': ['newton-cg', 'lbfgs', 'liblinear', 'sag', 'saga'],\n",
    "                   'penalty':['none', 'elasticnet', 'l1', 'l2'],\n",
    "                   'C':[0.001, 0.01, 0.1, 1, 10, 100] }\n",
    "\n",
    "log_balanced_rs = RandomizedSearchCV(log_balanced, log_param_grid, scoring='f1')\n",
    "\n",
    "log_balanced_rs.fit(features_train, target_train)\n",
    "\n",
    "print(f'f1 наилучшей модели: {log_balanced_rs.best_score_}')\n",
    "\n",
    "roc_plot(log_balanced_rs.best_estimator_)"
   ]
  },
  {
   "cell_type": "markdown",
   "metadata": {},
   "source": [
    "Используем уже готовые методом **upsampling** данные и выведем показатели *f1* и *auc-roc*"
   ]
  },
  {
   "cell_type": "code",
   "execution_count": 84,
   "metadata": {},
   "outputs": [
    {
     "name": "stdout",
     "output_type": "stream",
     "text": [
      "f1 наилучшей модели: 0.7042525960829282\n"
     ]
    },
    {
     "data": {
      "image/png": "[encoded data removed]",
      "text/plain": [
       "<Figure size 432x288 with 1 Axes>"
      ]
     },
     "metadata": {
      "needs_background": "light"
     },
     "output_type": "display_data"
    },
    {
     "name": "stdout",
     "output_type": "stream",
     "text": [
      "AUC-ROC модели: 0.7785275835275836\n"
     ]
    }
   ],
   "source": [
    "log_balanced = LogisticRegression(random_state=1)\n",
    "\n",
    "log_param_grid = { 'solver': ['newton-cg', 'lbfgs', 'liblinear', 'sag', 'saga'],\n",
    "                   'penalty':['none', 'elasticnet', 'l1', 'l2'],\n",
    "                   'C':[0.001, 0.01, 0.1, 1, 10, 100] }\n",
    "\n",
    "log_balanced_rs = RandomizedSearchCV(log_balanced, log_param_grid, scoring='f1')\n",
    "\n",
    "log_balanced_rs.fit(features_upsampled, target_upsampled)\n",
    "\n",
    "print(f'f1 наилучшей модели: {log_balanced_rs.best_score_}')\n",
    "\n",
    "roc_plot(log_balanced_rs.best_estimator_)"
   ]
  },
  {
   "cell_type": "markdown",
   "metadata": {},
   "source": [
    "Используем уже готовые методом **SMOTE** данные и выведем показатели *f1* и *auc-roc*"
   ]
  },
  {
   "cell_type": "code",
   "execution_count": 85,
   "metadata": {},
   "outputs": [
    {
     "name": "stdout",
     "output_type": "stream",
     "text": [
      "f1 наилучшей модели: 0.7224573450733784\n"
     ]
    },
    {
     "data": {
      "image/png": "[encoded data removed]",
      "text/plain": [
       "<Figure size 432x288 with 1 Axes>"
      ]
     },
     "metadata": {
      "needs_background": "light"
     },
     "output_type": "display_data"
    },
    {
     "name": "stdout",
     "output_type": "stream",
     "text": [
      "AUC-ROC модели: 0.7653311965811967\n"
     ]
    }
   ],
   "source": [
    "log_balanced = LogisticRegression(random_state=1)\n",
    "\n",
    "log_param_grid = { 'solver': ['newton-cg', 'lbfgs', 'liblinear', 'sag', 'saga'],\n",
    "                   'penalty':['none', 'elasticnet', 'l1', 'l2'],\n",
    "                   'C':[0.001, 0.01, 0.1, 1, 10, 100] }\n",
    "\n",
    "log_balanced_rs = RandomizedSearchCV(log_balanced, log_param_grid, scoring='f1')\n",
    "\n",
    "log_balanced_rs.fit(features_train_smote, target_train_smote)\n",
    "\n",
    "print(f'f1 наилучшей модели: {log_balanced_rs.best_score_}')\n",
    "\n",
    "roc_plot(log_balanced_rs.best_estimator_)"
   ]
  },
  {
   "cell_type": "markdown",
   "metadata": {},
   "source": [
    "Результаты применения способов восстановления баланса классов в `Логистической регрессии`:\n",
    "\n",
    "- **class_weight**: f1 ~ 0.50, auc-roc ~ 0.78\n",
    "- **upsampling**: f1 ~ 0.71, auc-roc ~ 0.78\n",
    "- **SMOTE**: f1 ~ 0.72, auc-roc ~ 0.78"
   ]
  },
  {
   "cell_type": "markdown",
   "metadata": {},
   "source": [
    "### Результаты всех моделей"
   ]
  },
  {
   "cell_type": "markdown",
   "metadata": {},
   "source": [
    "`Случайный лес`:\n",
    "- **class_weight**: f1 ~ 0.61, auc-roc ~ 0.87\n",
    "- **upsampling**: f1 ~ 0.84, auc-roc ~ 0.87\n",
    "- **SMOTE**: f1 ~ 0.87, auc-roc ~ 0.86\n",
    "\n",
    "`Дерево решений`:\n",
    "- **class_weight**: f1 ~ 0.57, auc-roc ~ 0.84\n",
    "- **upsampling**: f1 ~ 0.89, auc-roc ~ 0.70\n",
    "- **SMOTE**: f1 ~ 0.81, auc-roc ~ 0.70\n",
    "\n",
    "`Логистическая регрессия`:\n",
    "- **class_weight**: f1 ~ 0.50, auc-roc ~ 0.78\n",
    "- **upsampling**: f1 ~ 0.71, auc-roc ~ 0.78\n",
    "- **SMOTE**: f1 ~ 0.72, auc-roc ~ 0.78\n",
    "\n",
    "Примечательной особенностью является увеличение **f1** после `upsampling` и `SMOTE` на всех моделях на **20-30** единиц, в отличие от `class_weight`, <br>\n",
    "в то время как **auc-roc** сильно не изменяется: лишь в Дереве решений `upsampling` и `SMOTE` понижают метрику на **14** единиц по сравнению с `class_weight`"
   ]
  },
  {
   "cell_type": "markdown",
   "metadata": {},
   "source": [
    "## Тестирование модели"
   ]
  },
  {
   "cell_type": "markdown",
   "metadata": {},
   "source": [
    "Проэкзаменуем модели на тестовой выборке"
   ]
  },
  {
   "cell_type": "code",
   "execution_count": 86,
   "metadata": {},
   "outputs": [
    {
     "name": "stdout",
     "output_type": "stream",
     "text": [
      "f1 Дерева решений на тестовой выборке: 0.5004344048653345\n",
      "auc_roc Дерева решений на тестовой выборке: 0.7011790986790988\n",
      "---------------------------------------------------------------\n",
      "f1 Логрегрессии на тестовой выборке: 0.49888641425389757\n",
      "auc_roc Логрегрессии на тестовой выборке: 0.7653311965811967\n",
      "---------------------------------------------------------------\n",
      "f1 Случайного леса на тестовой выборке: 0.6144256455921638\n",
      "auc_roc Случайного леса на тестовой выборке: 0.8600893550893549\n"
     ]
    }
   ],
   "source": [
    "# Дерево решений\n",
    "best_tree = tree_balanced_rs.best_estimator_\n",
    "tree_predicted = best_tree.predict(features_test)\n",
    "\n",
    "# Проба для Дерева решений\n",
    "probabilities_test = best_tree.predict_proba(features_test)\n",
    "probabilities_one_test = probabilities_test[:, 1]\n",
    "\n",
    "print('f1 Дерева решений на тестовой выборке:', f1_score(target_test, tree_predicted))\n",
    "print('auc_roc Дерева решений на тестовой выборке:', roc_auc_score(target_test, probabilities_one_test))\n",
    "print('---' *21)\n",
    "\n",
    "# Логистическая регрессия\n",
    "best_log = log_balanced_rs.best_estimator_\n",
    "log_predicted = best_log.predict(features_test)\n",
    "\n",
    "# Проба для Логистической регрессии\n",
    "probabilities_test = best_log.predict_proba(features_test)\n",
    "probabilities_one_test = probabilities_test[:, 1]\n",
    "\n",
    "print('f1 Логрегрессии на тестовой выборке:', f1_score(target_test, log_predicted))\n",
    "print('auc_roc Логрегрессии на тестовой выборке:', roc_auc_score(target_test, probabilities_one_test))\n",
    "print('---' *21)\n",
    "\n",
    "# Случайный лес\n",
    "best_forest = forest_balanced_rs.best_estimator_\n",
    "forest_predicted = best_forest.predict(features_test)\n",
    "\n",
    "# Проба для Случайного леса\n",
    "probabilities_test = best_forest.predict_proba(features_test)\n",
    "probabilities_one_test = probabilities_test[:, 1]\n",
    "\n",
    "print('f1 Случайного леса на тестовой выборке:', f1_score(target_test, forest_predicted))\n",
    "print('auc_roc Случайного леса на тестовой выборке:', roc_auc_score(target_test, probabilities_one_test))"
   ]
  },
  {
   "cell_type": "markdown",
   "metadata": {},
   "source": [
    "Предсказания моделей на тестовых выборках выявили явные недочёты в процессе обучения `Дерева решений` и `Логистической регрессии`, поскольку чересчур высокий показатель f1 резко снизился. Вероятно, проблема в переобучении. Наиболее стабильной же оказалась модель `Случайный лес`"
   ]
  },
  {
   "cell_type": "markdown",
   "metadata": {
    "tags": []
   },
   "source": [
    "## Вывод"
   ]
  },
  {
   "cell_type": "markdown",
   "metadata": {},
   "source": [
    "В исходном сете о клиентах банка мы выполнили предобработку данных для машинного обучения. \n",
    "Были удалены не имеющие значения для предсказаний признаки фрейма, \n",
    "заполнены пропуски медианой, \n",
    "а также изменён тип данных признака `tenure`\n",
    "\n",
    "В качестве моделей для предсказания данных мы выбрали 3 наиболее распространённых: \n",
    "- \"Дерево решений\", \n",
    "- Логистическую регрессию, \n",
    "- \"Случайный лес\".\n",
    "\n",
    "Для каждой из этих моделей мы применили 3 способа борьбы с дисбалансом классов:\n",
    "- class_weight\n",
    "- upsampling\n",
    "- SMOTE\n",
    "\n",
    "Выполнив работу по балансировке классов данными методами, мы обучили модели и увидели подозрительно высокие результаты у некоторых из них. Тест выявил данную проблему. Результаты двух моделей упали, а наиболее устойчивым оказался \"Случайный лес\", f1 которого **(~0.60)** превысил указанный в задаче порог **(0.59)**"
   ]
  }
 ],
 "metadata": {
  "ExecuteTimeLog": [
   {
    "duration": 420,
    "start_time": "2022-12-05T17:45:47.218Z"
   },
   {
    "duration": 174,
    "start_time": "2022-12-05T17:46:03.991Z"
   },
   {
    "duration": 18,
    "start_time": "2022-12-05T17:46:13.058Z"
   },
   {
    "duration": 14,
    "start_time": "2022-12-05T17:46:15.850Z"
   },
   {
    "duration": 15,
    "start_time": "2022-12-05T17:47:15.998Z"
   },
   {
    "duration": 4,
    "start_time": "2022-12-05T17:47:55.641Z"
   },
   {
    "duration": 3,
    "start_time": "2022-12-05T17:49:23.736Z"
   },
   {
    "duration": 22,
    "start_time": "2022-12-05T17:49:29.246Z"
   },
   {
    "duration": 4,
    "start_time": "2022-12-05T17:50:08.584Z"
   },
   {
    "duration": 20,
    "start_time": "2022-12-05T17:50:11.136Z"
   },
   {
    "duration": 5,
    "start_time": "2022-12-05T17:50:35.346Z"
   },
   {
    "duration": 11,
    "start_time": "2022-12-05T17:50:52.257Z"
   },
   {
    "duration": 5,
    "start_time": "2022-12-05T17:52:24.273Z"
   },
   {
    "duration": 67,
    "start_time": "2022-12-05T17:53:02.546Z"
   },
   {
    "duration": 90,
    "start_time": "2022-12-05T17:53:24.850Z"
   },
   {
    "duration": 7,
    "start_time": "2022-12-05T17:53:31.482Z"
   },
   {
    "duration": 3,
    "start_time": "2022-12-05T17:54:01.673Z"
   },
   {
    "duration": 13,
    "start_time": "2022-12-05T17:54:07.700Z"
   },
   {
    "duration": 14,
    "start_time": "2022-12-05T17:54:11.546Z"
   },
   {
    "duration": 4,
    "start_time": "2022-12-05T17:54:28.379Z"
   },
   {
    "duration": 13,
    "start_time": "2022-12-05T17:54:29.934Z"
   },
   {
    "duration": 5,
    "start_time": "2022-12-05T17:54:41.735Z"
   },
   {
    "duration": 12,
    "start_time": "2022-12-05T17:54:43.541Z"
   },
   {
    "duration": 3,
    "start_time": "2022-12-05T17:56:00.265Z"
   },
   {
    "duration": 43,
    "start_time": "2022-12-05T17:56:00.271Z"
   },
   {
    "duration": 16,
    "start_time": "2022-12-05T17:56:00.316Z"
   },
   {
    "duration": 15,
    "start_time": "2022-12-05T17:56:00.334Z"
   },
   {
    "duration": 29,
    "start_time": "2022-12-05T17:56:00.352Z"
   },
   {
    "duration": 9,
    "start_time": "2022-12-05T17:56:00.383Z"
   },
   {
    "duration": 13,
    "start_time": "2022-12-05T17:56:00.394Z"
   },
   {
    "duration": 17,
    "start_time": "2022-12-05T17:56:00.410Z"
   },
   {
    "duration": 15,
    "start_time": "2022-12-05T17:56:00.429Z"
   },
   {
    "duration": 22,
    "start_time": "2022-12-05T17:56:18.119Z"
   },
   {
    "duration": 12,
    "start_time": "2022-12-05T17:56:20.163Z"
   },
   {
    "duration": 5,
    "start_time": "2022-12-05T17:56:45.661Z"
   },
   {
    "duration": 24,
    "start_time": "2022-12-05T17:56:53.473Z"
   },
   {
    "duration": 5,
    "start_time": "2022-12-05T17:57:00.545Z"
   },
   {
    "duration": 12,
    "start_time": "2022-12-05T17:57:10.601Z"
   },
   {
    "duration": 2,
    "start_time": "2022-12-05T18:07:28.468Z"
   },
   {
    "duration": 46,
    "start_time": "2022-12-05T18:07:28.474Z"
   },
   {
    "duration": 12,
    "start_time": "2022-12-05T18:07:28.522Z"
   },
   {
    "duration": 13,
    "start_time": "2022-12-05T18:07:28.535Z"
   },
   {
    "duration": 4,
    "start_time": "2022-12-05T18:07:28.550Z"
   },
   {
    "duration": 5,
    "start_time": "2022-12-05T18:07:28.556Z"
   },
   {
    "duration": 10,
    "start_time": "2022-12-05T18:07:28.563Z"
   },
   {
    "duration": 13,
    "start_time": "2022-12-05T18:07:28.575Z"
   },
   {
    "duration": 26,
    "start_time": "2022-12-05T18:07:28.589Z"
   },
   {
    "duration": 8,
    "start_time": "2022-12-05T18:07:28.617Z"
   },
   {
    "duration": 13,
    "start_time": "2022-12-05T18:07:28.627Z"
   },
   {
    "duration": 4,
    "start_time": "2022-12-05T18:07:28.641Z"
   },
   {
    "duration": 16,
    "start_time": "2022-12-05T18:07:28.646Z"
   },
   {
    "duration": 17,
    "start_time": "2022-12-05T18:09:20.082Z"
   },
   {
    "duration": 920,
    "start_time": "2022-12-05T18:09:43.103Z"
   },
   {
    "duration": 43,
    "start_time": "2022-12-05T18:09:57.324Z"
   },
   {
    "duration": 8,
    "start_time": "2022-12-05T18:10:06.579Z"
   },
   {
    "duration": 9,
    "start_time": "2022-12-05T18:10:46.678Z"
   },
   {
    "duration": 15,
    "start_time": "2022-12-05T18:11:18.848Z"
   },
   {
    "duration": 452,
    "start_time": "2022-12-05T18:11:22.899Z"
   },
   {
    "duration": 270,
    "start_time": "2022-12-05T18:12:08.808Z"
   },
   {
    "duration": 757,
    "start_time": "2022-12-05T18:16:24.532Z"
   },
   {
    "duration": 113,
    "start_time": "2022-12-05T18:16:41.556Z"
   },
   {
    "duration": 3,
    "start_time": "2022-12-05T18:17:40.680Z"
   },
   {
    "duration": 14,
    "start_time": "2022-12-05T18:18:05.501Z"
   },
   {
    "duration": 14,
    "start_time": "2022-12-05T18:18:10.289Z"
   },
   {
    "duration": 12,
    "start_time": "2022-12-05T18:18:29.646Z"
   },
   {
    "duration": 12,
    "start_time": "2022-12-05T18:19:39.730Z"
   },
   {
    "duration": 13,
    "start_time": "2022-12-05T18:20:26.002Z"
   },
   {
    "duration": 12,
    "start_time": "2022-12-05T18:20:30.641Z"
   },
   {
    "duration": 9,
    "start_time": "2022-12-05T18:20:45.773Z"
   },
   {
    "duration": 3,
    "start_time": "2022-12-05T18:21:23.196Z"
   },
   {
    "duration": 10,
    "start_time": "2022-12-05T18:21:31.571Z"
   },
   {
    "duration": 9,
    "start_time": "2022-12-05T18:21:32.400Z"
   },
   {
    "duration": 778,
    "start_time": "2022-12-05T18:23:09.571Z"
   },
   {
    "duration": 11,
    "start_time": "2022-12-05T18:25:10.603Z"
   },
   {
    "duration": 16,
    "start_time": "2022-12-05T18:25:14.800Z"
   },
   {
    "duration": 17,
    "start_time": "2022-12-05T18:55:00.676Z"
   },
   {
    "duration": 3,
    "start_time": "2022-12-05T18:55:18.690Z"
   },
   {
    "duration": 50,
    "start_time": "2022-12-05T18:55:18.695Z"
   },
   {
    "duration": 80,
    "start_time": "2022-12-05T18:55:18.747Z"
   },
   {
    "duration": 12,
    "start_time": "2022-12-05T18:55:18.829Z"
   },
   {
    "duration": 6,
    "start_time": "2022-12-05T18:55:18.842Z"
   },
   {
    "duration": 7,
    "start_time": "2022-12-05T18:55:18.850Z"
   },
   {
    "duration": 8,
    "start_time": "2022-12-05T18:55:18.859Z"
   },
   {
    "duration": 16,
    "start_time": "2022-12-05T18:55:18.869Z"
   },
   {
    "duration": 24,
    "start_time": "2022-12-05T18:55:18.888Z"
   },
   {
    "duration": 7,
    "start_time": "2022-12-05T18:55:18.914Z"
   },
   {
    "duration": 16,
    "start_time": "2022-12-05T18:55:18.923Z"
   },
   {
    "duration": 11,
    "start_time": "2022-12-05T18:55:18.941Z"
   },
   {
    "duration": 13,
    "start_time": "2022-12-05T18:55:18.954Z"
   },
   {
    "duration": 22,
    "start_time": "2022-12-05T18:55:18.969Z"
   },
   {
    "duration": 2,
    "start_time": "2022-12-05T18:55:55.546Z"
   },
   {
    "duration": 48,
    "start_time": "2022-12-05T18:55:55.550Z"
   },
   {
    "duration": 12,
    "start_time": "2022-12-05T18:55:55.600Z"
   },
   {
    "duration": 14,
    "start_time": "2022-12-05T18:55:55.613Z"
   },
   {
    "duration": 9,
    "start_time": "2022-12-05T18:55:55.629Z"
   },
   {
    "duration": 5,
    "start_time": "2022-12-05T18:55:55.639Z"
   },
   {
    "duration": 7,
    "start_time": "2022-12-05T18:55:55.646Z"
   },
   {
    "duration": 12,
    "start_time": "2022-12-05T18:55:55.655Z"
   },
   {
    "duration": 8,
    "start_time": "2022-12-05T18:55:55.669Z"
   },
   {
    "duration": 13,
    "start_time": "2022-12-05T18:55:55.678Z"
   },
   {
    "duration": 0,
    "start_time": "2022-12-05T18:55:55.693Z"
   },
   {
    "duration": 0,
    "start_time": "2022-12-05T18:55:55.694Z"
   },
   {
    "duration": 0,
    "start_time": "2022-12-05T18:55:55.713Z"
   },
   {
    "duration": 0,
    "start_time": "2022-12-05T18:55:55.714Z"
   },
   {
    "duration": 3,
    "start_time": "2022-12-05T18:56:24.026Z"
   },
   {
    "duration": 64,
    "start_time": "2022-12-05T18:56:24.032Z"
   },
   {
    "duration": 13,
    "start_time": "2022-12-05T18:56:24.097Z"
   },
   {
    "duration": 20,
    "start_time": "2022-12-05T18:56:24.111Z"
   },
   {
    "duration": 24,
    "start_time": "2022-12-05T18:56:24.134Z"
   },
   {
    "duration": 12,
    "start_time": "2022-12-05T18:56:24.160Z"
   },
   {
    "duration": 6,
    "start_time": "2022-12-05T18:56:24.174Z"
   },
   {
    "duration": 33,
    "start_time": "2022-12-05T18:56:24.181Z"
   },
   {
    "duration": 23,
    "start_time": "2022-12-05T18:56:24.215Z"
   },
   {
    "duration": 33,
    "start_time": "2022-12-05T18:56:24.239Z"
   },
   {
    "duration": 11,
    "start_time": "2022-12-05T18:56:24.274Z"
   },
   {
    "duration": 10,
    "start_time": "2022-12-05T18:56:24.286Z"
   },
   {
    "duration": 14,
    "start_time": "2022-12-05T18:56:24.299Z"
   },
   {
    "duration": 28,
    "start_time": "2022-12-05T18:56:24.315Z"
   },
   {
    "duration": 262,
    "start_time": "2022-12-05T19:01:28.394Z"
   },
   {
    "duration": 122,
    "start_time": "2022-12-05T19:01:46.748Z"
   },
   {
    "duration": 3,
    "start_time": "2022-12-05T19:02:11.184Z"
   },
   {
    "duration": 43,
    "start_time": "2022-12-05T19:02:11.188Z"
   },
   {
    "duration": 1106,
    "start_time": "2022-12-05T19:02:11.234Z"
   },
   {
    "duration": 0,
    "start_time": "2022-12-05T19:02:12.342Z"
   },
   {
    "duration": 0,
    "start_time": "2022-12-05T19:02:12.343Z"
   },
   {
    "duration": 0,
    "start_time": "2022-12-05T19:02:12.344Z"
   },
   {
    "duration": 0,
    "start_time": "2022-12-05T19:02:12.345Z"
   },
   {
    "duration": 0,
    "start_time": "2022-12-05T19:02:12.346Z"
   },
   {
    "duration": 0,
    "start_time": "2022-12-05T19:02:12.347Z"
   },
   {
    "duration": 0,
    "start_time": "2022-12-05T19:02:12.348Z"
   },
   {
    "duration": 0,
    "start_time": "2022-12-05T19:02:12.349Z"
   },
   {
    "duration": 0,
    "start_time": "2022-12-05T19:02:12.350Z"
   },
   {
    "duration": 0,
    "start_time": "2022-12-05T19:02:12.351Z"
   },
   {
    "duration": 1,
    "start_time": "2022-12-05T19:02:12.352Z"
   },
   {
    "duration": 0,
    "start_time": "2022-12-05T19:02:12.354Z"
   },
   {
    "duration": 3,
    "start_time": "2022-12-05T19:02:34.922Z"
   },
   {
    "duration": 61,
    "start_time": "2022-12-05T19:02:34.928Z"
   },
   {
    "duration": 14,
    "start_time": "2022-12-05T19:02:34.991Z"
   },
   {
    "duration": 13,
    "start_time": "2022-12-05T19:02:35.008Z"
   },
   {
    "duration": 11,
    "start_time": "2022-12-05T19:02:35.023Z"
   },
   {
    "duration": 12,
    "start_time": "2022-12-05T19:02:35.036Z"
   },
   {
    "duration": 133,
    "start_time": "2022-12-05T19:02:35.050Z"
   },
   {
    "duration": 5,
    "start_time": "2022-12-05T19:02:35.185Z"
   },
   {
    "duration": 23,
    "start_time": "2022-12-05T19:02:35.193Z"
   },
   {
    "duration": 10,
    "start_time": "2022-12-05T19:02:35.218Z"
   },
   {
    "duration": 24,
    "start_time": "2022-12-05T19:02:35.230Z"
   },
   {
    "duration": 12,
    "start_time": "2022-12-05T19:02:35.256Z"
   },
   {
    "duration": 4,
    "start_time": "2022-12-05T19:02:35.270Z"
   },
   {
    "duration": 39,
    "start_time": "2022-12-05T19:02:35.275Z"
   },
   {
    "duration": 145,
    "start_time": "2022-12-05T19:02:35.316Z"
   },
   {
    "duration": 139,
    "start_time": "2022-12-05T19:02:48.520Z"
   },
   {
    "duration": 120,
    "start_time": "2022-12-05T19:03:13.328Z"
   },
   {
    "duration": 190,
    "start_time": "2022-12-05T19:03:17.176Z"
   },
   {
    "duration": 120,
    "start_time": "2022-12-05T19:03:22.549Z"
   },
   {
    "duration": 121,
    "start_time": "2022-12-05T19:03:58.357Z"
   },
   {
    "duration": 137,
    "start_time": "2022-12-05T19:04:02.866Z"
   },
   {
    "duration": 9,
    "start_time": "2022-12-05T19:06:34.249Z"
   },
   {
    "duration": 3,
    "start_time": "2022-12-05T19:06:38.125Z"
   },
   {
    "duration": 42,
    "start_time": "2022-12-05T19:06:38.129Z"
   },
   {
    "duration": 12,
    "start_time": "2022-12-05T19:06:38.173Z"
   },
   {
    "duration": 12,
    "start_time": "2022-12-05T19:06:38.186Z"
   },
   {
    "duration": 7,
    "start_time": "2022-12-05T19:06:38.200Z"
   },
   {
    "duration": 8,
    "start_time": "2022-12-05T19:06:38.209Z"
   },
   {
    "duration": 227,
    "start_time": "2022-12-05T19:06:38.219Z"
   },
   {
    "duration": 4,
    "start_time": "2022-12-05T19:06:38.447Z"
   },
   {
    "duration": 13,
    "start_time": "2022-12-05T19:06:38.453Z"
   },
   {
    "duration": 20,
    "start_time": "2022-12-05T19:06:38.468Z"
   },
   {
    "duration": 4,
    "start_time": "2022-12-05T19:06:38.490Z"
   },
   {
    "duration": 37,
    "start_time": "2022-12-05T19:06:38.495Z"
   },
   {
    "duration": 11,
    "start_time": "2022-12-05T19:06:38.533Z"
   },
   {
    "duration": 4,
    "start_time": "2022-12-05T19:06:38.546Z"
   },
   {
    "duration": 16,
    "start_time": "2022-12-05T19:06:38.552Z"
   },
   {
    "duration": 152,
    "start_time": "2022-12-05T19:06:38.570Z"
   },
   {
    "duration": 50,
    "start_time": "2022-12-06T16:17:21.300Z"
   },
   {
    "duration": 1334,
    "start_time": "2022-12-06T16:17:26.036Z"
   },
   {
    "duration": 100,
    "start_time": "2022-12-06T16:17:27.372Z"
   },
   {
    "duration": 13,
    "start_time": "2022-12-06T16:17:27.474Z"
   },
   {
    "duration": 24,
    "start_time": "2022-12-06T16:17:27.488Z"
   },
   {
    "duration": 16,
    "start_time": "2022-12-06T16:17:27.513Z"
   },
   {
    "duration": 9,
    "start_time": "2022-12-06T16:17:27.530Z"
   },
   {
    "duration": 6,
    "start_time": "2022-12-06T16:17:27.540Z"
   },
   {
    "duration": 13,
    "start_time": "2022-12-06T16:17:27.547Z"
   },
   {
    "duration": 9,
    "start_time": "2022-12-06T16:17:27.561Z"
   },
   {
    "duration": 24,
    "start_time": "2022-12-06T16:17:27.572Z"
   },
   {
    "duration": 28,
    "start_time": "2022-12-06T16:17:27.598Z"
   },
   {
    "duration": 3,
    "start_time": "2022-12-06T16:17:27.628Z"
   },
   {
    "duration": 15,
    "start_time": "2022-12-06T16:17:27.633Z"
   },
   {
    "duration": 18,
    "start_time": "2022-12-06T16:17:27.649Z"
   },
   {
    "duration": 5,
    "start_time": "2022-12-06T16:17:51.679Z"
   },
   {
    "duration": 18,
    "start_time": "2022-12-06T16:35:04.255Z"
   },
   {
    "duration": 8,
    "start_time": "2022-12-06T16:36:00.072Z"
   },
   {
    "duration": 8,
    "start_time": "2022-12-06T16:36:13.769Z"
   },
   {
    "duration": 8,
    "start_time": "2022-12-06T16:49:21.997Z"
   },
   {
    "duration": 60,
    "start_time": "2022-12-06T17:12:32.156Z"
   },
   {
    "duration": 13,
    "start_time": "2022-12-06T17:12:58.029Z"
   },
   {
    "duration": 14,
    "start_time": "2022-12-06T17:13:06.419Z"
   },
   {
    "duration": 10,
    "start_time": "2022-12-06T17:13:16.854Z"
   },
   {
    "duration": 12,
    "start_time": "2022-12-06T17:14:07.487Z"
   },
   {
    "duration": 10,
    "start_time": "2022-12-06T17:14:10.104Z"
   },
   {
    "duration": 23,
    "start_time": "2022-12-06T17:15:10.624Z"
   },
   {
    "duration": 11,
    "start_time": "2022-12-06T17:16:23.558Z"
   },
   {
    "duration": 213,
    "start_time": "2022-12-06T17:58:36.508Z"
   },
   {
    "duration": 5,
    "start_time": "2022-12-06T18:00:21.089Z"
   },
   {
    "duration": 7,
    "start_time": "2022-12-06T18:03:41.721Z"
   },
   {
    "duration": 17,
    "start_time": "2022-12-06T18:03:46.900Z"
   },
   {
    "duration": 6,
    "start_time": "2022-12-06T18:06:21.405Z"
   },
   {
    "duration": 4,
    "start_time": "2022-12-06T18:06:28.267Z"
   },
   {
    "duration": 52,
    "start_time": "2022-12-06T18:11:08.377Z"
   },
   {
    "duration": 72,
    "start_time": "2022-12-06T18:12:55.356Z"
   },
   {
    "duration": 4,
    "start_time": "2022-12-06T18:12:59.537Z"
   },
   {
    "duration": 7,
    "start_time": "2022-12-06T18:13:03.264Z"
   },
   {
    "duration": 3005,
    "start_time": "2022-12-06T18:13:07.158Z"
   },
   {
    "duration": 4726,
    "start_time": "2022-12-06T18:13:23.128Z"
   },
   {
    "duration": 4221,
    "start_time": "2022-12-06T18:14:09.780Z"
   },
   {
    "duration": 4109,
    "start_time": "2022-12-06T18:14:23.088Z"
   },
   {
    "duration": 3717,
    "start_time": "2022-12-06T18:15:13.653Z"
   },
   {
    "duration": 4864,
    "start_time": "2022-12-06T18:15:26.317Z"
   },
   {
    "duration": 5173,
    "start_time": "2022-12-06T18:16:12.187Z"
   },
   {
    "duration": 5106,
    "start_time": "2022-12-06T18:16:26.383Z"
   },
   {
    "duration": 984,
    "start_time": "2022-12-06T18:27:40.122Z"
   },
   {
    "duration": 1257,
    "start_time": "2022-12-06T18:27:45.706Z"
   },
   {
    "duration": 1039,
    "start_time": "2022-12-06T18:27:50.072Z"
   },
   {
    "duration": 1043,
    "start_time": "2022-12-06T18:28:26.428Z"
   },
   {
    "duration": 974,
    "start_time": "2022-12-06T18:28:29.495Z"
   },
   {
    "duration": 1293,
    "start_time": "2022-12-06T18:28:31.418Z"
   },
   {
    "duration": 1113,
    "start_time": "2022-12-06T18:28:33.447Z"
   },
   {
    "duration": 1105,
    "start_time": "2022-12-06T18:28:35.174Z"
   },
   {
    "duration": 1027,
    "start_time": "2022-12-06T18:28:36.992Z"
   },
   {
    "duration": 1145,
    "start_time": "2022-12-06T18:28:38.662Z"
   },
   {
    "duration": 1093,
    "start_time": "2022-12-06T18:28:40.468Z"
   },
   {
    "duration": 1102,
    "start_time": "2022-12-06T18:28:42.142Z"
   },
   {
    "duration": 1016,
    "start_time": "2022-12-06T18:28:43.774Z"
   },
   {
    "duration": 1003,
    "start_time": "2022-12-06T18:28:45.326Z"
   },
   {
    "duration": 1084,
    "start_time": "2022-12-06T18:28:46.888Z"
   },
   {
    "duration": 1146,
    "start_time": "2022-12-06T18:28:48.541Z"
   },
   {
    "duration": 1184,
    "start_time": "2022-12-06T18:28:51.319Z"
   },
   {
    "duration": 1063,
    "start_time": "2022-12-06T18:28:53.627Z"
   },
   {
    "duration": 1139,
    "start_time": "2022-12-06T18:28:57.706Z"
   },
   {
    "duration": 1094,
    "start_time": "2022-12-06T18:29:00.816Z"
   },
   {
    "duration": 975,
    "start_time": "2022-12-06T18:29:03.991Z"
   },
   {
    "duration": 1136,
    "start_time": "2022-12-06T18:29:06.025Z"
   },
   {
    "duration": 1185,
    "start_time": "2022-12-06T18:29:08.109Z"
   },
   {
    "duration": 52345,
    "start_time": "2022-12-06T18:30:22.072Z"
   },
   {
    "duration": 48763,
    "start_time": "2022-12-06T18:31:26.258Z"
   },
   {
    "duration": 13,
    "start_time": "2022-12-06T18:32:44.417Z"
   },
   {
    "duration": 518703,
    "start_time": "2022-12-06T18:32:56.418Z"
   },
   {
    "duration": 51614,
    "start_time": "2022-12-06T18:42:06.407Z"
   },
   {
    "duration": 42,
    "start_time": "2022-12-06T21:02:53.336Z"
   },
   {
    "duration": 191,
    "start_time": "2022-12-06T21:04:53.424Z"
   },
   {
    "duration": 4,
    "start_time": "2022-12-06T21:05:12.534Z"
   },
   {
    "duration": 87,
    "start_time": "2022-12-06T21:05:19.945Z"
   },
   {
    "duration": 45,
    "start_time": "2022-12-06T21:05:28.855Z"
   },
   {
    "duration": 45,
    "start_time": "2022-12-06T21:05:46.049Z"
   },
   {
    "duration": 52,
    "start_time": "2022-12-06T21:05:46.596Z"
   },
   {
    "duration": 48,
    "start_time": "2022-12-06T21:05:47.013Z"
   },
   {
    "duration": 77,
    "start_time": "2022-12-06T21:05:47.243Z"
   },
   {
    "duration": 42,
    "start_time": "2022-12-06T21:05:47.451Z"
   },
   {
    "duration": 92,
    "start_time": "2022-12-06T21:05:52.734Z"
   },
   {
    "duration": 69,
    "start_time": "2022-12-06T21:05:53.647Z"
   },
   {
    "duration": 59,
    "start_time": "2022-12-06T21:05:58.200Z"
   },
   {
    "duration": 141,
    "start_time": "2022-12-06T21:09:01.675Z"
   },
   {
    "duration": 6,
    "start_time": "2022-12-06T21:33:01.450Z"
   },
   {
    "duration": 10,
    "start_time": "2022-12-06T21:35:17.532Z"
   },
   {
    "duration": 6652,
    "start_time": "2022-12-06T21:35:39.409Z"
   },
   {
    "duration": 1241,
    "start_time": "2022-12-06T21:36:08.710Z"
   },
   {
    "duration": 1991,
    "start_time": "2022-12-06T21:36:09.953Z"
   },
   {
    "duration": 46,
    "start_time": "2022-12-06T21:36:11.946Z"
   },
   {
    "duration": 16,
    "start_time": "2022-12-06T21:36:11.994Z"
   },
   {
    "duration": 21,
    "start_time": "2022-12-06T21:36:12.011Z"
   },
   {
    "duration": 15,
    "start_time": "2022-12-06T21:36:12.034Z"
   },
   {
    "duration": 14,
    "start_time": "2022-12-06T21:36:12.051Z"
   },
   {
    "duration": 15,
    "start_time": "2022-12-06T21:36:12.066Z"
   },
   {
    "duration": 16,
    "start_time": "2022-12-06T21:36:12.083Z"
   },
   {
    "duration": 7,
    "start_time": "2022-12-06T21:36:12.104Z"
   },
   {
    "duration": 31,
    "start_time": "2022-12-06T21:36:12.112Z"
   },
   {
    "duration": 12,
    "start_time": "2022-12-06T21:36:12.145Z"
   },
   {
    "duration": 4,
    "start_time": "2022-12-06T21:36:12.158Z"
   },
   {
    "duration": 13,
    "start_time": "2022-12-06T21:36:12.164Z"
   },
   {
    "duration": 12,
    "start_time": "2022-12-06T21:36:12.178Z"
   },
   {
    "duration": 28,
    "start_time": "2022-12-06T21:36:12.192Z"
   },
   {
    "duration": 10,
    "start_time": "2022-12-06T21:36:12.222Z"
   },
   {
    "duration": 7,
    "start_time": "2022-12-06T21:36:12.233Z"
   },
   {
    "duration": 6,
    "start_time": "2022-12-06T21:36:12.242Z"
   },
   {
    "duration": 6421,
    "start_time": "2022-12-06T21:36:12.249Z"
   },
   {
    "duration": 1090,
    "start_time": "2022-12-06T21:36:18.675Z"
   },
   {
    "duration": 43051,
    "start_time": "2022-12-06T21:36:19.766Z"
   },
   {
    "duration": 6,
    "start_time": "2022-12-06T21:37:02.820Z"
   },
   {
    "duration": 126,
    "start_time": "2022-12-06T21:37:02.916Z"
   },
   {
    "duration": 0,
    "start_time": "2022-12-06T21:37:03.043Z"
   },
   {
    "duration": 4,
    "start_time": "2022-12-06T21:37:20.759Z"
   },
   {
    "duration": 10,
    "start_time": "2022-12-06T21:37:32.881Z"
   },
   {
    "duration": 12,
    "start_time": "2022-12-06T21:38:10.122Z"
   },
   {
    "duration": 10,
    "start_time": "2022-12-06T21:38:25.305Z"
   },
   {
    "duration": 11,
    "start_time": "2022-12-06T21:38:49.573Z"
   },
   {
    "duration": 18,
    "start_time": "2022-12-06T21:40:08.070Z"
   },
   {
    "duration": 10,
    "start_time": "2022-12-06T21:40:35.874Z"
   },
   {
    "duration": 11,
    "start_time": "2022-12-06T21:40:50.308Z"
   },
   {
    "duration": 4,
    "start_time": "2022-12-06T21:41:38.857Z"
   },
   {
    "duration": 10,
    "start_time": "2022-12-06T21:42:03.556Z"
   },
   {
    "duration": 10,
    "start_time": "2022-12-06T21:43:00.040Z"
   },
   {
    "duration": 11,
    "start_time": "2022-12-06T21:43:01.590Z"
   },
   {
    "duration": 10,
    "start_time": "2022-12-06T21:43:01.888Z"
   },
   {
    "duration": 12,
    "start_time": "2022-12-06T21:43:02.137Z"
   },
   {
    "duration": 10,
    "start_time": "2022-12-06T21:43:02.366Z"
   },
   {
    "duration": 12,
    "start_time": "2022-12-06T21:43:02.575Z"
   },
   {
    "duration": 9,
    "start_time": "2022-12-06T21:43:02.775Z"
   },
   {
    "duration": 10,
    "start_time": "2022-12-06T21:43:02.955Z"
   },
   {
    "duration": 10,
    "start_time": "2022-12-06T21:43:03.143Z"
   },
   {
    "duration": 10,
    "start_time": "2022-12-06T21:43:03.346Z"
   },
   {
    "duration": 10,
    "start_time": "2022-12-06T21:43:03.527Z"
   },
   {
    "duration": 11,
    "start_time": "2022-12-06T21:43:03.699Z"
   },
   {
    "duration": 10,
    "start_time": "2022-12-06T21:43:03.892Z"
   },
   {
    "duration": 11,
    "start_time": "2022-12-06T21:43:04.076Z"
   },
   {
    "duration": 12,
    "start_time": "2022-12-06T21:43:04.263Z"
   },
   {
    "duration": 13,
    "start_time": "2022-12-06T21:43:04.437Z"
   },
   {
    "duration": 13,
    "start_time": "2022-12-06T21:43:04.616Z"
   },
   {
    "duration": 14,
    "start_time": "2022-12-06T21:43:04.792Z"
   },
   {
    "duration": 19,
    "start_time": "2022-12-06T21:45:11.239Z"
   },
   {
    "duration": 6,
    "start_time": "2022-12-06T21:45:29.748Z"
   },
   {
    "duration": 50,
    "start_time": "2022-12-07T15:58:19.998Z"
   },
   {
    "duration": 1715,
    "start_time": "2022-12-07T15:58:24.261Z"
   },
   {
    "duration": 0,
    "start_time": "2022-12-07T15:58:25.989Z"
   },
   {
    "duration": 0,
    "start_time": "2022-12-07T15:58:25.991Z"
   },
   {
    "duration": 0,
    "start_time": "2022-12-07T15:58:25.992Z"
   },
   {
    "duration": 0,
    "start_time": "2022-12-07T15:58:25.993Z"
   },
   {
    "duration": 0,
    "start_time": "2022-12-07T15:58:25.994Z"
   },
   {
    "duration": 0,
    "start_time": "2022-12-07T15:58:25.994Z"
   },
   {
    "duration": 0,
    "start_time": "2022-12-07T15:58:25.996Z"
   },
   {
    "duration": 0,
    "start_time": "2022-12-07T15:58:25.997Z"
   },
   {
    "duration": 0,
    "start_time": "2022-12-07T15:58:25.999Z"
   },
   {
    "duration": 0,
    "start_time": "2022-12-07T15:58:26.000Z"
   },
   {
    "duration": 0,
    "start_time": "2022-12-07T15:58:26.001Z"
   },
   {
    "duration": 0,
    "start_time": "2022-12-07T15:58:26.002Z"
   },
   {
    "duration": 0,
    "start_time": "2022-12-07T15:58:26.003Z"
   },
   {
    "duration": 0,
    "start_time": "2022-12-07T15:58:26.004Z"
   },
   {
    "duration": 0,
    "start_time": "2022-12-07T15:58:26.004Z"
   },
   {
    "duration": 0,
    "start_time": "2022-12-07T15:58:26.006Z"
   },
   {
    "duration": 0,
    "start_time": "2022-12-07T15:58:26.007Z"
   },
   {
    "duration": 0,
    "start_time": "2022-12-07T15:58:26.007Z"
   },
   {
    "duration": 0,
    "start_time": "2022-12-07T15:58:26.008Z"
   },
   {
    "duration": 0,
    "start_time": "2022-12-07T15:58:26.009Z"
   },
   {
    "duration": 0,
    "start_time": "2022-12-07T15:58:26.010Z"
   },
   {
    "duration": 0,
    "start_time": "2022-12-07T15:58:26.011Z"
   },
   {
    "duration": 0,
    "start_time": "2022-12-07T15:58:26.013Z"
   },
   {
    "duration": 0,
    "start_time": "2022-12-07T15:58:26.014Z"
   },
   {
    "duration": 0,
    "start_time": "2022-12-07T15:58:26.015Z"
   },
   {
    "duration": 10231,
    "start_time": "2022-12-07T16:00:07.913Z"
   },
   {
    "duration": 31,
    "start_time": "2022-12-07T16:00:18.146Z"
   },
   {
    "duration": 0,
    "start_time": "2022-12-07T16:00:18.184Z"
   },
   {
    "duration": 0,
    "start_time": "2022-12-07T16:00:18.185Z"
   },
   {
    "duration": 0,
    "start_time": "2022-12-07T16:00:18.186Z"
   },
   {
    "duration": 0,
    "start_time": "2022-12-07T16:00:18.186Z"
   },
   {
    "duration": 0,
    "start_time": "2022-12-07T16:00:18.187Z"
   },
   {
    "duration": 0,
    "start_time": "2022-12-07T16:00:18.188Z"
   },
   {
    "duration": 0,
    "start_time": "2022-12-07T16:00:18.193Z"
   },
   {
    "duration": 0,
    "start_time": "2022-12-07T16:00:18.194Z"
   },
   {
    "duration": 0,
    "start_time": "2022-12-07T16:00:18.196Z"
   },
   {
    "duration": 0,
    "start_time": "2022-12-07T16:00:18.197Z"
   },
   {
    "duration": 0,
    "start_time": "2022-12-07T16:00:18.198Z"
   },
   {
    "duration": 0,
    "start_time": "2022-12-07T16:00:18.200Z"
   },
   {
    "duration": 0,
    "start_time": "2022-12-07T16:00:18.201Z"
   },
   {
    "duration": 0,
    "start_time": "2022-12-07T16:00:18.202Z"
   },
   {
    "duration": 0,
    "start_time": "2022-12-07T16:00:18.203Z"
   },
   {
    "duration": 0,
    "start_time": "2022-12-07T16:00:18.204Z"
   },
   {
    "duration": 0,
    "start_time": "2022-12-07T16:00:18.205Z"
   },
   {
    "duration": 0,
    "start_time": "2022-12-07T16:00:18.206Z"
   },
   {
    "duration": 0,
    "start_time": "2022-12-07T16:00:18.207Z"
   },
   {
    "duration": 0,
    "start_time": "2022-12-07T16:00:18.208Z"
   },
   {
    "duration": 1,
    "start_time": "2022-12-07T16:00:18.209Z"
   },
   {
    "duration": 0,
    "start_time": "2022-12-07T16:00:18.211Z"
   },
   {
    "duration": 0,
    "start_time": "2022-12-07T16:00:18.213Z"
   },
   {
    "duration": 0,
    "start_time": "2022-12-07T16:00:18.214Z"
   },
   {
    "duration": 2283,
    "start_time": "2022-12-07T16:03:41.410Z"
   },
   {
    "duration": 1337,
    "start_time": "2022-12-07T16:03:43.695Z"
   },
   {
    "duration": 398,
    "start_time": "2022-12-07T16:03:45.034Z"
   },
   {
    "duration": 13,
    "start_time": "2022-12-07T16:03:45.434Z"
   },
   {
    "duration": 15,
    "start_time": "2022-12-07T16:03:45.449Z"
   },
   {
    "duration": 4,
    "start_time": "2022-12-07T16:03:45.466Z"
   },
   {
    "duration": 9,
    "start_time": "2022-12-07T16:03:45.471Z"
   },
   {
    "duration": 15,
    "start_time": "2022-12-07T16:03:45.486Z"
   },
   {
    "duration": 17,
    "start_time": "2022-12-07T16:03:45.503Z"
   },
   {
    "duration": 12,
    "start_time": "2022-12-07T16:03:45.522Z"
   },
   {
    "duration": 25,
    "start_time": "2022-12-07T16:03:45.535Z"
   },
   {
    "duration": 11,
    "start_time": "2022-12-07T16:03:45.561Z"
   },
   {
    "duration": 15,
    "start_time": "2022-12-07T16:03:45.574Z"
   },
   {
    "duration": 16,
    "start_time": "2022-12-07T16:03:45.590Z"
   },
   {
    "duration": 8,
    "start_time": "2022-12-07T16:03:45.608Z"
   },
   {
    "duration": 17,
    "start_time": "2022-12-07T16:03:45.617Z"
   },
   {
    "duration": 11,
    "start_time": "2022-12-07T16:03:45.636Z"
   },
   {
    "duration": 7,
    "start_time": "2022-12-07T16:03:45.649Z"
   },
   {
    "duration": 7,
    "start_time": "2022-12-07T16:03:45.658Z"
   },
   {
    "duration": 6585,
    "start_time": "2022-12-07T16:03:45.666Z"
   },
   {
    "duration": 1097,
    "start_time": "2022-12-07T16:03:52.252Z"
   },
   {
    "duration": 184343,
    "start_time": "2022-12-07T16:03:53.351Z"
   },
   {
    "duration": 84,
    "start_time": "2022-12-07T16:06:57.697Z"
   },
   {
    "duration": 119,
    "start_time": "2022-12-07T16:06:57.783Z"
   },
   {
    "duration": 5,
    "start_time": "2022-12-07T16:06:57.903Z"
   },
   {
    "duration": 70,
    "start_time": "2022-12-07T16:06:57.910Z"
   },
   {
    "duration": 6,
    "start_time": "2022-12-07T16:33:48.816Z"
   },
   {
    "duration": 5,
    "start_time": "2022-12-07T16:34:00.742Z"
   },
   {
    "duration": 120,
    "start_time": "2022-12-07T16:34:08.957Z"
   },
   {
    "duration": 18,
    "start_time": "2022-12-07T16:35:39.826Z"
   },
   {
    "duration": 5,
    "start_time": "2022-12-07T16:35:43.158Z"
   },
   {
    "duration": 18,
    "start_time": "2022-12-07T16:37:23.798Z"
   },
   {
    "duration": 29,
    "start_time": "2022-12-07T16:38:11.934Z"
   },
   {
    "duration": 5,
    "start_time": "2022-12-07T16:38:14.703Z"
   },
   {
    "duration": 5,
    "start_time": "2022-12-07T16:38:26.756Z"
   },
   {
    "duration": 10,
    "start_time": "2022-12-07T16:39:11.102Z"
   },
   {
    "duration": 390,
    "start_time": "2022-12-07T16:39:30.386Z"
   },
   {
    "duration": 412,
    "start_time": "2022-12-07T16:39:47.929Z"
   },
   {
    "duration": 392,
    "start_time": "2022-12-07T16:39:49.046Z"
   },
   {
    "duration": 404,
    "start_time": "2022-12-07T16:39:49.987Z"
   },
   {
    "duration": 319,
    "start_time": "2022-12-07T16:42:39.287Z"
   },
   {
    "duration": 350,
    "start_time": "2022-12-07T16:43:10.120Z"
   },
   {
    "duration": 350,
    "start_time": "2022-12-07T16:46:07.454Z"
   },
   {
    "duration": 349,
    "start_time": "2022-12-07T16:46:08.540Z"
   },
   {
    "duration": 334,
    "start_time": "2022-12-07T16:46:09.419Z"
   },
   {
    "duration": 334,
    "start_time": "2022-12-07T16:46:10.323Z"
   },
   {
    "duration": 346,
    "start_time": "2022-12-07T16:46:11.538Z"
   },
   {
    "duration": 410,
    "start_time": "2022-12-07T16:46:12.726Z"
   },
   {
    "duration": 425,
    "start_time": "2022-12-07T16:46:14.019Z"
   },
   {
    "duration": 358,
    "start_time": "2022-12-07T16:46:42.973Z"
   },
   {
    "duration": 343,
    "start_time": "2022-12-07T16:46:47.301Z"
   },
   {
    "duration": 362,
    "start_time": "2022-12-07T16:46:48.506Z"
   },
   {
    "duration": 43,
    "start_time": "2022-12-07T16:48:12.481Z"
   },
   {
    "duration": 346,
    "start_time": "2022-12-07T16:48:15.390Z"
   },
   {
    "duration": 365,
    "start_time": "2022-12-07T16:48:18.348Z"
   },
   {
    "duration": 353,
    "start_time": "2022-12-07T16:48:19.549Z"
   },
   {
    "duration": 361,
    "start_time": "2022-12-07T16:48:20.489Z"
   },
   {
    "duration": 31,
    "start_time": "2022-12-07T16:48:23.394Z"
   },
   {
    "duration": 353,
    "start_time": "2022-12-07T16:48:25.755Z"
   },
   {
    "duration": 354,
    "start_time": "2022-12-07T16:48:26.973Z"
   },
   {
    "duration": 348,
    "start_time": "2022-12-07T16:48:27.930Z"
   },
   {
    "duration": 350,
    "start_time": "2022-12-07T16:48:28.670Z"
   },
   {
    "duration": 17,
    "start_time": "2022-12-07T16:49:09.877Z"
   },
   {
    "duration": 388,
    "start_time": "2022-12-07T16:49:13.998Z"
   },
   {
    "duration": 348,
    "start_time": "2022-12-07T16:49:31.616Z"
   },
   {
    "duration": 354,
    "start_time": "2022-12-07T16:49:33.169Z"
   },
   {
    "duration": 363,
    "start_time": "2022-12-07T16:49:34.200Z"
   },
   {
    "duration": 366,
    "start_time": "2022-12-07T16:49:35.159Z"
   },
   {
    "duration": 367,
    "start_time": "2022-12-07T16:49:35.974Z"
   },
   {
    "duration": 6,
    "start_time": "2022-12-07T16:52:37.873Z"
   },
   {
    "duration": 5,
    "start_time": "2022-12-07T16:52:38.714Z"
   },
   {
    "duration": 14,
    "start_time": "2022-12-07T16:58:38.889Z"
   },
   {
    "duration": 14,
    "start_time": "2022-12-07T16:59:06.612Z"
   },
   {
    "duration": 8,
    "start_time": "2022-12-07T17:02:18.945Z"
   },
   {
    "duration": 5,
    "start_time": "2022-12-07T17:02:22.290Z"
   },
   {
    "duration": 17,
    "start_time": "2022-12-07T17:02:24.843Z"
   },
   {
    "duration": 6,
    "start_time": "2022-12-07T17:02:27.446Z"
   },
   {
    "duration": 428,
    "start_time": "2022-12-07T17:02:30.640Z"
   },
   {
    "duration": 348,
    "start_time": "2022-12-07T17:02:32.087Z"
   },
   {
    "duration": 371,
    "start_time": "2022-12-07T17:02:33.029Z"
   },
   {
    "duration": 434,
    "start_time": "2022-12-07T17:02:33.913Z"
   },
   {
    "duration": 375,
    "start_time": "2022-12-07T17:02:34.777Z"
   },
   {
    "duration": 378,
    "start_time": "2022-12-07T17:02:35.638Z"
   },
   {
    "duration": 111,
    "start_time": "2022-12-07T17:03:02.377Z"
   },
   {
    "duration": 48,
    "start_time": "2022-12-07T17:03:03.724Z"
   },
   {
    "duration": 58,
    "start_time": "2022-12-07T17:03:04.411Z"
   },
   {
    "duration": 46,
    "start_time": "2022-12-07T17:03:05.227Z"
   },
   {
    "duration": 99,
    "start_time": "2022-12-07T17:03:19.982Z"
   },
   {
    "duration": 47,
    "start_time": "2022-12-07T17:03:22.241Z"
   },
   {
    "duration": 54,
    "start_time": "2022-12-07T17:03:22.882Z"
   },
   {
    "duration": 82,
    "start_time": "2022-12-07T17:03:31.697Z"
   },
   {
    "duration": 49,
    "start_time": "2022-12-07T17:03:34.311Z"
   },
   {
    "duration": 132,
    "start_time": "2022-12-07T17:03:35.047Z"
   },
   {
    "duration": 80,
    "start_time": "2022-12-07T17:04:19.009Z"
   },
   {
    "duration": 61,
    "start_time": "2022-12-07T17:04:24.420Z"
   },
   {
    "duration": 5032,
    "start_time": "2022-12-07T17:06:24.955Z"
   },
   {
    "duration": 218,
    "start_time": "2022-12-07T17:08:23.392Z"
   },
   {
    "duration": 226,
    "start_time": "2022-12-07T17:08:47.675Z"
   },
   {
    "duration": 216,
    "start_time": "2022-12-07T17:08:48.792Z"
   },
   {
    "duration": 40,
    "start_time": "2022-12-07T17:09:05.194Z"
   },
   {
    "duration": 56,
    "start_time": "2022-12-07T17:09:05.935Z"
   },
   {
    "duration": 251,
    "start_time": "2022-12-07T17:10:44.863Z"
   },
   {
    "duration": 269,
    "start_time": "2022-12-07T17:10:49.974Z"
   },
   {
    "duration": 253,
    "start_time": "2022-12-07T17:10:56.070Z"
   },
   {
    "duration": 244,
    "start_time": "2022-12-07T17:11:18.447Z"
   },
   {
    "duration": 273,
    "start_time": "2022-12-07T17:11:25.335Z"
   },
   {
    "duration": 250,
    "start_time": "2022-12-07T17:11:45.897Z"
   },
   {
    "duration": 4,
    "start_time": "2022-12-07T17:12:41.993Z"
   },
   {
    "duration": 134,
    "start_time": "2022-12-07T17:13:28.262Z"
   },
   {
    "duration": 232,
    "start_time": "2022-12-07T17:13:47.179Z"
   },
   {
    "duration": 236,
    "start_time": "2022-12-07T17:39:23.075Z"
   },
   {
    "duration": 17,
    "start_time": "2022-12-07T17:46:56.238Z"
   },
   {
    "duration": 300,
    "start_time": "2022-12-07T17:48:02.274Z"
   },
   {
    "duration": 233,
    "start_time": "2022-12-07T17:48:34.804Z"
   },
   {
    "duration": 213,
    "start_time": "2022-12-07T17:48:43.691Z"
   },
   {
    "duration": 242,
    "start_time": "2022-12-07T17:48:47.819Z"
   },
   {
    "duration": 219,
    "start_time": "2022-12-07T17:48:54.196Z"
   },
   {
    "duration": 27,
    "start_time": "2022-12-07T17:48:59.874Z"
   },
   {
    "duration": 242,
    "start_time": "2022-12-07T17:49:17.191Z"
   },
   {
    "duration": 243,
    "start_time": "2022-12-07T17:49:22.014Z"
   },
   {
    "duration": 25,
    "start_time": "2022-12-07T17:49:28.071Z"
   },
   {
    "duration": 22,
    "start_time": "2022-12-07T17:50:16.995Z"
   },
   {
    "duration": 10,
    "start_time": "2022-12-07T17:50:36.510Z"
   },
   {
    "duration": 227,
    "start_time": "2022-12-07T17:50:58.125Z"
   },
   {
    "duration": 221,
    "start_time": "2022-12-07T17:51:03.552Z"
   },
   {
    "duration": 213,
    "start_time": "2022-12-07T17:51:07.750Z"
   },
   {
    "duration": 225,
    "start_time": "2022-12-07T17:51:12.804Z"
   },
   {
    "duration": 158,
    "start_time": "2022-12-07T17:51:54.656Z"
   },
   {
    "duration": 156,
    "start_time": "2022-12-07T17:51:59.235Z"
   },
   {
    "duration": 157,
    "start_time": "2022-12-07T17:52:05.155Z"
   },
   {
    "duration": 160,
    "start_time": "2022-12-07T17:52:10.619Z"
   },
   {
    "duration": 174,
    "start_time": "2022-12-07T17:52:14.138Z"
   },
   {
    "duration": 168,
    "start_time": "2022-12-07T17:52:18.973Z"
   },
   {
    "duration": 155,
    "start_time": "2022-12-07T17:52:24.391Z"
   },
   {
    "duration": 162,
    "start_time": "2022-12-07T17:52:30.133Z"
   },
   {
    "duration": 155,
    "start_time": "2022-12-07T17:52:36.299Z"
   },
   {
    "duration": 160,
    "start_time": "2022-12-07T17:52:40.656Z"
   },
   {
    "duration": 156,
    "start_time": "2022-12-07T17:52:48.129Z"
   },
   {
    "duration": 167,
    "start_time": "2022-12-07T17:52:52.995Z"
   },
   {
    "duration": 156,
    "start_time": "2022-12-07T18:00:07.210Z"
   },
   {
    "duration": 146,
    "start_time": "2022-12-07T18:05:36.022Z"
   },
   {
    "duration": 151,
    "start_time": "2022-12-07T18:05:49.698Z"
   },
   {
    "duration": 158,
    "start_time": "2022-12-07T18:09:31.299Z"
   },
   {
    "duration": 4,
    "start_time": "2022-12-07T18:23:14.647Z"
   },
   {
    "duration": 7,
    "start_time": "2022-12-07T18:24:10.521Z"
   },
   {
    "duration": 4,
    "start_time": "2022-12-07T18:27:37.662Z"
   },
   {
    "duration": 163,
    "start_time": "2022-12-07T18:28:04.800Z"
   },
   {
    "duration": 145,
    "start_time": "2022-12-07T18:28:08.083Z"
   },
   {
    "duration": 176,
    "start_time": "2022-12-07T18:28:08.785Z"
   },
   {
    "duration": 162,
    "start_time": "2022-12-07T18:28:09.931Z"
   },
   {
    "duration": 155,
    "start_time": "2022-12-07T18:28:16.038Z"
   },
   {
    "duration": 154,
    "start_time": "2022-12-07T18:28:17.207Z"
   },
   {
    "duration": 152,
    "start_time": "2022-12-07T18:28:21.990Z"
   },
   {
    "duration": 170,
    "start_time": "2022-12-07T18:28:47.978Z"
   },
   {
    "duration": 159,
    "start_time": "2022-12-07T18:29:00.350Z"
   },
   {
    "duration": 155,
    "start_time": "2022-12-07T18:29:01.960Z"
   },
   {
    "duration": 147,
    "start_time": "2022-12-07T18:29:02.616Z"
   },
   {
    "duration": 174,
    "start_time": "2022-12-07T18:29:02.991Z"
   },
   {
    "duration": 7988,
    "start_time": "2022-12-07T18:29:56.143Z"
   },
   {
    "duration": 225,
    "start_time": "2022-12-07T18:30:35.370Z"
   },
   {
    "duration": 242,
    "start_time": "2022-12-07T18:30:47.854Z"
   },
   {
    "duration": 215,
    "start_time": "2022-12-07T18:31:01.947Z"
   },
   {
    "duration": 228,
    "start_time": "2022-12-07T18:31:08.121Z"
   },
   {
    "duration": 216,
    "start_time": "2022-12-07T18:31:11.424Z"
   },
   {
    "duration": 225,
    "start_time": "2022-12-07T18:31:15.856Z"
   },
   {
    "duration": 237,
    "start_time": "2022-12-07T18:31:20.362Z"
   },
   {
    "duration": 234,
    "start_time": "2022-12-07T18:31:25.619Z"
   },
   {
    "duration": 243,
    "start_time": "2022-12-07T18:31:29.497Z"
   },
   {
    "duration": 241,
    "start_time": "2022-12-07T18:31:32.816Z"
   },
   {
    "duration": 224,
    "start_time": "2022-12-07T18:31:36.669Z"
   },
   {
    "duration": 218,
    "start_time": "2022-12-07T18:31:39.844Z"
   },
   {
    "duration": 235,
    "start_time": "2022-12-07T18:31:43.522Z"
   },
   {
    "duration": 239,
    "start_time": "2022-12-07T18:31:47.575Z"
   },
   {
    "duration": 226,
    "start_time": "2022-12-07T18:31:51.509Z"
   },
   {
    "duration": 230,
    "start_time": "2022-12-07T18:32:00.334Z"
   },
   {
    "duration": 154,
    "start_time": "2022-12-07T18:32:12.492Z"
   },
   {
    "duration": 159,
    "start_time": "2022-12-07T18:32:17.566Z"
   },
   {
    "duration": 167,
    "start_time": "2022-12-07T18:32:21.066Z"
   },
   {
    "duration": 179,
    "start_time": "2022-12-07T18:32:47.948Z"
   },
   {
    "duration": 169,
    "start_time": "2022-12-07T18:32:52.253Z"
   },
   {
    "duration": 155,
    "start_time": "2022-12-07T18:32:56.150Z"
   },
   {
    "duration": 173,
    "start_time": "2022-12-07T18:33:00.350Z"
   },
   {
    "duration": 148,
    "start_time": "2022-12-07T18:33:05.292Z"
   },
   {
    "duration": 153,
    "start_time": "2022-12-07T18:33:21.370Z"
   },
   {
    "duration": 175,
    "start_time": "2022-12-07T18:33:25.545Z"
   },
   {
    "duration": 153,
    "start_time": "2022-12-07T18:33:28.428Z"
   },
   {
    "duration": 194,
    "start_time": "2022-12-07T18:33:48.495Z"
   },
   {
    "duration": 177,
    "start_time": "2022-12-07T18:33:52.746Z"
   },
   {
    "duration": 154,
    "start_time": "2022-12-07T18:33:57.039Z"
   },
   {
    "duration": 168,
    "start_time": "2022-12-07T18:34:00.467Z"
   },
   {
    "duration": 180,
    "start_time": "2022-12-07T18:34:03.652Z"
   },
   {
    "duration": 141,
    "start_time": "2022-12-07T18:34:06.195Z"
   },
   {
    "duration": 157,
    "start_time": "2022-12-07T18:34:08.348Z"
   },
   {
    "duration": 169,
    "start_time": "2022-12-07T18:34:11.645Z"
   },
   {
    "duration": 199,
    "start_time": "2022-12-07T18:34:14.155Z"
   },
   {
    "duration": 162,
    "start_time": "2022-12-07T18:34:17.683Z"
   },
   {
    "duration": 157,
    "start_time": "2022-12-07T18:34:21.207Z"
   },
   {
    "duration": 190,
    "start_time": "2022-12-07T18:34:24.433Z"
   },
   {
    "duration": 172,
    "start_time": "2022-12-07T18:34:26.924Z"
   },
   {
    "duration": 171,
    "start_time": "2022-12-07T18:34:29.795Z"
   },
   {
    "duration": 143,
    "start_time": "2022-12-07T18:34:33.265Z"
   },
   {
    "duration": 151,
    "start_time": "2022-12-07T18:34:37.712Z"
   },
   {
    "duration": 184,
    "start_time": "2022-12-07T18:35:13.862Z"
   },
   {
    "duration": 163,
    "start_time": "2022-12-07T18:35:20.037Z"
   },
   {
    "duration": 166,
    "start_time": "2022-12-07T18:35:29.890Z"
   },
   {
    "duration": 154,
    "start_time": "2022-12-07T18:35:33.515Z"
   },
   {
    "duration": 164,
    "start_time": "2022-12-07T18:35:36.861Z"
   },
   {
    "duration": 164,
    "start_time": "2022-12-07T18:35:39.279Z"
   },
   {
    "duration": 157,
    "start_time": "2022-12-07T18:35:42.235Z"
   },
   {
    "duration": 159,
    "start_time": "2022-12-07T18:35:45.254Z"
   },
   {
    "duration": 135,
    "start_time": "2022-12-07T18:42:45.248Z"
   },
   {
    "duration": 40,
    "start_time": "2022-12-07T19:15:18.525Z"
   },
   {
    "duration": 23,
    "start_time": "2022-12-07T19:15:23.694Z"
   },
   {
    "duration": 89,
    "start_time": "2022-12-07T19:15:26.996Z"
   },
   {
    "duration": 19,
    "start_time": "2022-12-07T19:15:46.971Z"
   },
   {
    "duration": 61,
    "start_time": "2022-12-07T19:15:50.828Z"
   },
   {
    "duration": 26,
    "start_time": "2022-12-07T19:15:55.901Z"
   },
   {
    "duration": 51,
    "start_time": "2022-12-07T19:15:59.470Z"
   },
   {
    "duration": 151,
    "start_time": "2022-12-07T19:16:12.197Z"
   },
   {
    "duration": 145,
    "start_time": "2022-12-07T19:16:36.249Z"
   },
   {
    "duration": 166,
    "start_time": "2022-12-07T19:16:41.317Z"
   },
   {
    "duration": 5,
    "start_time": "2022-12-07T20:01:22.268Z"
   },
   {
    "duration": 158,
    "start_time": "2022-12-07T20:02:01.784Z"
   },
   {
    "duration": 161,
    "start_time": "2022-12-07T20:05:03.601Z"
   },
   {
    "duration": 5,
    "start_time": "2022-12-07T20:05:40.279Z"
   },
   {
    "duration": 176,
    "start_time": "2022-12-07T20:05:47.816Z"
   },
   {
    "duration": 181,
    "start_time": "2022-12-07T20:11:00.550Z"
   },
   {
    "duration": 4,
    "start_time": "2022-12-07T20:11:25.649Z"
   },
   {
    "duration": 4,
    "start_time": "2022-12-07T20:11:40.190Z"
   },
   {
    "duration": 312,
    "start_time": "2022-12-07T20:11:46.906Z"
   },
   {
    "duration": 4,
    "start_time": "2022-12-07T20:18:23.148Z"
   },
   {
    "duration": 89,
    "start_time": "2022-12-07T20:38:28.159Z"
   },
   {
    "duration": 269,
    "start_time": "2022-12-07T20:38:51.231Z"
   },
   {
    "duration": 6,
    "start_time": "2022-12-07T20:40:27.415Z"
   },
   {
    "duration": 154,
    "start_time": "2022-12-07T20:40:33.359Z"
   },
   {
    "duration": 45,
    "start_time": "2022-12-07T20:41:18.114Z"
   },
   {
    "duration": 158,
    "start_time": "2022-12-07T20:41:40.802Z"
   },
   {
    "duration": 147,
    "start_time": "2022-12-07T20:43:17.293Z"
   },
   {
    "duration": 5,
    "start_time": "2022-12-07T20:43:29.863Z"
   },
   {
    "duration": 153,
    "start_time": "2022-12-07T20:43:49.610Z"
   },
   {
    "duration": 146,
    "start_time": "2022-12-07T20:43:58.171Z"
   },
   {
    "duration": 146,
    "start_time": "2022-12-07T20:44:06.242Z"
   },
   {
    "duration": 150,
    "start_time": "2022-12-07T20:44:12.381Z"
   },
   {
    "duration": 147,
    "start_time": "2022-12-07T20:45:15.758Z"
   },
   {
    "duration": 145,
    "start_time": "2022-12-07T20:45:27.109Z"
   },
   {
    "duration": 296,
    "start_time": "2022-12-07T20:49:53.623Z"
   },
   {
    "duration": 215,
    "start_time": "2022-12-07T20:50:13.880Z"
   },
   {
    "duration": 18,
    "start_time": "2022-12-07T20:52:26.171Z"
   },
   {
    "duration": 6,
    "start_time": "2022-12-07T20:52:28.821Z"
   },
   {
    "duration": 389,
    "start_time": "2022-12-07T20:53:10.802Z"
   },
   {
    "duration": 514,
    "start_time": "2022-12-07T20:54:46.575Z"
   },
   {
    "duration": 12,
    "start_time": "2022-12-07T20:56:42.460Z"
   },
   {
    "duration": 15,
    "start_time": "2022-12-07T20:56:53.570Z"
   },
   {
    "duration": 9510,
    "start_time": "2022-12-07T20:57:00.271Z"
   },
   {
    "duration": 10311,
    "start_time": "2022-12-07T20:57:28.054Z"
   },
   {
    "duration": 44,
    "start_time": "2022-12-07T21:09:12.118Z"
   },
   {
    "duration": 4,
    "start_time": "2022-12-07T21:10:36.423Z"
   },
   {
    "duration": 4,
    "start_time": "2022-12-07T21:10:47.009Z"
   },
   {
    "duration": 14,
    "start_time": "2022-12-07T21:11:42.859Z"
   },
   {
    "duration": 168,
    "start_time": "2022-12-07T21:13:09.416Z"
   },
   {
    "duration": 253,
    "start_time": "2022-12-07T21:13:41.069Z"
   },
   {
    "duration": 138,
    "start_time": "2022-12-07T21:16:11.343Z"
   },
   {
    "duration": 131,
    "start_time": "2022-12-07T21:16:57.209Z"
   },
   {
    "duration": 13256,
    "start_time": "2022-12-08T16:06:03.745Z"
   },
   {
    "duration": 2378,
    "start_time": "2022-12-08T16:06:17.003Z"
   },
   {
    "duration": 101,
    "start_time": "2022-12-08T16:06:19.383Z"
   },
   {
    "duration": 16,
    "start_time": "2022-12-08T16:06:19.486Z"
   },
   {
    "duration": 25,
    "start_time": "2022-12-08T16:06:19.557Z"
   },
   {
    "duration": 9,
    "start_time": "2022-12-08T16:06:19.584Z"
   },
   {
    "duration": 65,
    "start_time": "2022-12-08T16:06:19.595Z"
   },
   {
    "duration": 36,
    "start_time": "2022-12-08T16:06:19.662Z"
   },
   {
    "duration": 22,
    "start_time": "2022-12-08T16:06:19.700Z"
   },
   {
    "duration": 11,
    "start_time": "2022-12-08T16:06:19.755Z"
   },
   {
    "duration": 24,
    "start_time": "2022-12-08T16:06:19.768Z"
   },
   {
    "duration": 69,
    "start_time": "2022-12-08T16:06:19.794Z"
   },
   {
    "duration": 25,
    "start_time": "2022-12-08T16:06:19.865Z"
   },
   {
    "duration": 72,
    "start_time": "2022-12-08T16:06:19.894Z"
   },
   {
    "duration": 36,
    "start_time": "2022-12-08T16:06:19.967Z"
   },
   {
    "duration": 67,
    "start_time": "2022-12-08T16:06:20.005Z"
   },
   {
    "duration": 23,
    "start_time": "2022-12-08T16:06:20.074Z"
   },
   {
    "duration": 20657,
    "start_time": "2022-12-08T16:06:20.099Z"
   },
   {
    "duration": 2427,
    "start_time": "2022-12-08T16:06:40.758Z"
   },
   {
    "duration": 29510,
    "start_time": "2022-12-08T16:06:43.186Z"
   },
   {
    "duration": 7,
    "start_time": "2022-12-08T16:07:12.755Z"
   },
   {
    "duration": 15,
    "start_time": "2022-12-08T16:07:12.764Z"
   },
   {
    "duration": 676,
    "start_time": "2022-12-08T16:07:12.781Z"
   },
   {
    "duration": 320,
    "start_time": "2022-12-08T16:07:13.458Z"
   },
   {
    "duration": 76,
    "start_time": "2022-12-08T16:07:13.779Z"
   },
   {
    "duration": 6,
    "start_time": "2022-12-08T16:07:13.857Z"
   },
   {
    "duration": 8406,
    "start_time": "2022-12-08T16:07:13.865Z"
   },
   {
    "duration": 306,
    "start_time": "2022-12-08T16:07:22.272Z"
   },
   {
    "duration": 47,
    "start_time": "2022-12-08T17:59:01.048Z"
   },
   {
    "duration": 6569,
    "start_time": "2022-12-08T17:59:16.416Z"
   },
   {
    "duration": 1445,
    "start_time": "2022-12-08T17:59:22.988Z"
   },
   {
    "duration": 96,
    "start_time": "2022-12-08T17:59:24.436Z"
   },
   {
    "duration": 13,
    "start_time": "2022-12-08T17:59:24.534Z"
   },
   {
    "duration": 15,
    "start_time": "2022-12-08T17:59:24.549Z"
   },
   {
    "duration": 4,
    "start_time": "2022-12-08T17:59:24.566Z"
   },
   {
    "duration": 5,
    "start_time": "2022-12-08T17:59:24.571Z"
   },
   {
    "duration": 7,
    "start_time": "2022-12-08T17:59:24.578Z"
   },
   {
    "duration": 11,
    "start_time": "2022-12-08T17:59:24.586Z"
   },
   {
    "duration": 4,
    "start_time": "2022-12-08T17:59:31.009Z"
   },
   {
    "duration": 12,
    "start_time": "2022-12-08T17:59:52.549Z"
   },
   {
    "duration": 4,
    "start_time": "2022-12-08T18:03:33.402Z"
   },
   {
    "duration": 3,
    "start_time": "2022-12-08T18:03:37.440Z"
   },
   {
    "duration": 11,
    "start_time": "2022-12-08T18:03:38.821Z"
   },
   {
    "duration": 5,
    "start_time": "2022-12-08T18:03:44.067Z"
   },
   {
    "duration": 92,
    "start_time": "2022-12-08T18:04:36.383Z"
   },
   {
    "duration": 7,
    "start_time": "2022-12-08T18:04:41.437Z"
   },
   {
    "duration": 136,
    "start_time": "2022-12-08T18:05:01.760Z"
   },
   {
    "duration": 109,
    "start_time": "2022-12-08T18:05:18.726Z"
   },
   {
    "duration": 112,
    "start_time": "2022-12-08T18:05:21.935Z"
   },
   {
    "duration": 111,
    "start_time": "2022-12-08T18:05:31.405Z"
   },
   {
    "duration": 117,
    "start_time": "2022-12-08T18:05:48.756Z"
   },
   {
    "duration": 181,
    "start_time": "2022-12-08T18:05:52.579Z"
   },
   {
    "duration": 110,
    "start_time": "2022-12-08T18:06:23.490Z"
   },
   {
    "duration": 14,
    "start_time": "2022-12-08T18:52:54.315Z"
   },
   {
    "duration": 11,
    "start_time": "2022-12-08T18:53:01.505Z"
   },
   {
    "duration": 5,
    "start_time": "2022-12-08T18:53:25.554Z"
   },
   {
    "duration": 6,
    "start_time": "2022-12-08T18:53:32.116Z"
   },
   {
    "duration": 5,
    "start_time": "2022-12-08T18:54:11.107Z"
   },
   {
    "duration": 4,
    "start_time": "2022-12-08T18:58:44.261Z"
   },
   {
    "duration": 25,
    "start_time": "2022-12-08T18:59:09.814Z"
   },
   {
    "duration": 18,
    "start_time": "2022-12-08T18:59:22.519Z"
   },
   {
    "duration": 8394,
    "start_time": "2022-12-08T19:02:14.995Z"
   },
   {
    "duration": 14,
    "start_time": "2022-12-08T20:02:39.992Z"
   },
   {
    "duration": 11,
    "start_time": "2022-12-08T20:02:56.537Z"
   },
   {
    "duration": 4,
    "start_time": "2022-12-08T20:03:04.838Z"
   },
   {
    "duration": 12128,
    "start_time": "2022-12-08T20:04:15.862Z"
   },
   {
    "duration": 9176,
    "start_time": "2022-12-08T20:07:22.277Z"
   },
   {
    "duration": 4,
    "start_time": "2022-12-08T20:17:32.211Z"
   },
   {
    "duration": 10015,
    "start_time": "2022-12-08T20:17:53.526Z"
   },
   {
    "duration": 5,
    "start_time": "2022-12-08T20:18:24.280Z"
   },
   {
    "duration": 9089,
    "start_time": "2022-12-08T20:18:32.223Z"
   },
   {
    "duration": 1481,
    "start_time": "2022-12-08T20:20:18.511Z"
   },
   {
    "duration": 9518,
    "start_time": "2022-12-08T20:21:34.152Z"
   },
   {
    "duration": 5,
    "start_time": "2022-12-08T20:50:19.379Z"
   },
   {
    "duration": 8547,
    "start_time": "2022-12-08T20:54:58.438Z"
   },
   {
    "duration": 1215,
    "start_time": "2022-12-08T21:00:22.393Z"
   },
   {
    "duration": 44,
    "start_time": "2022-12-08T21:02:38.162Z"
   },
   {
    "duration": 106,
    "start_time": "2022-12-08T21:03:24.102Z"
   },
   {
    "duration": 96,
    "start_time": "2022-12-08T21:03:29.671Z"
   },
   {
    "duration": 6210,
    "start_time": "2022-12-08T21:08:17.749Z"
   },
   {
    "duration": 47,
    "start_time": "2022-12-08T21:08:53.914Z"
   },
   {
    "duration": 106,
    "start_time": "2022-12-08T21:08:56.110Z"
   },
   {
    "duration": 9459,
    "start_time": "2022-12-08T21:09:36.013Z"
   },
   {
    "duration": 6948,
    "start_time": "2022-12-08T21:10:10.222Z"
   },
   {
    "duration": 13983,
    "start_time": "2022-12-08T21:10:43.265Z"
   },
   {
    "duration": 21036,
    "start_time": "2022-12-08T21:10:58.321Z"
   },
   {
    "duration": 1950,
    "start_time": "2022-12-08T21:19:48.325Z"
   },
   {
    "duration": 1665,
    "start_time": "2022-12-08T21:22:29.626Z"
   },
   {
    "duration": 1879,
    "start_time": "2022-12-08T21:22:58.414Z"
   },
   {
    "duration": 1923,
    "start_time": "2022-12-08T21:23:14.638Z"
   },
   {
    "duration": 24,
    "start_time": "2022-12-08T21:23:59.308Z"
   },
   {
    "duration": 7,
    "start_time": "2022-12-08T21:24:09.314Z"
   },
   {
    "duration": 5,
    "start_time": "2022-12-08T21:25:11.928Z"
   },
   {
    "duration": 1659,
    "start_time": "2022-12-08T21:25:33.649Z"
   },
   {
    "duration": 6,
    "start_time": "2022-12-08T21:25:42.146Z"
   },
   {
    "duration": 1674,
    "start_time": "2022-12-08T21:26:02.951Z"
   },
   {
    "duration": 6,
    "start_time": "2022-12-08T21:26:13.156Z"
   },
   {
    "duration": 12785,
    "start_time": "2022-12-08T21:27:15.277Z"
   },
   {
    "duration": 17,
    "start_time": "2022-12-08T21:28:38.321Z"
   },
   {
    "duration": 8328,
    "start_time": "2022-12-08T21:28:52.581Z"
   },
   {
    "duration": 6,
    "start_time": "2022-12-08T21:29:48.658Z"
   },
   {
    "duration": 5,
    "start_time": "2022-12-08T21:29:57.920Z"
   },
   {
    "duration": 5,
    "start_time": "2022-12-08T21:30:04.135Z"
   },
   {
    "duration": 9425,
    "start_time": "2022-12-08T21:33:05.286Z"
   },
   {
    "duration": 4,
    "start_time": "2022-12-08T21:42:15.101Z"
   },
   {
    "duration": 4,
    "start_time": "2022-12-08T21:42:35.899Z"
   },
   {
    "duration": 5,
    "start_time": "2022-12-08T21:43:15.847Z"
   },
   {
    "duration": 6,
    "start_time": "2022-12-08T21:43:21.468Z"
   },
   {
    "duration": 20,
    "start_time": "2022-12-08T21:43:39.969Z"
   },
   {
    "duration": 18,
    "start_time": "2022-12-08T21:43:48.400Z"
   },
   {
    "duration": 1882,
    "start_time": "2022-12-08T21:43:53.750Z"
   },
   {
    "duration": 1714,
    "start_time": "2022-12-08T21:50:12.117Z"
   },
   {
    "duration": 10793,
    "start_time": "2022-12-08T21:55:09.074Z"
   },
   {
    "duration": 5,
    "start_time": "2022-12-08T21:56:34.922Z"
   },
   {
    "duration": 5,
    "start_time": "2022-12-08T21:56:45.797Z"
   },
   {
    "duration": 5,
    "start_time": "2022-12-08T21:56:46.390Z"
   },
   {
    "duration": 6,
    "start_time": "2022-12-08T21:56:46.747Z"
   },
   {
    "duration": 17,
    "start_time": "2022-12-08T22:03:18.329Z"
   },
   {
    "duration": 14,
    "start_time": "2022-12-08T22:06:32.761Z"
   },
   {
    "duration": 11,
    "start_time": "2022-12-08T22:06:42.967Z"
   },
   {
    "duration": 11,
    "start_time": "2022-12-08T22:06:42.980Z"
   },
   {
    "duration": 6,
    "start_time": "2022-12-08T22:06:42.993Z"
   },
   {
    "duration": 6,
    "start_time": "2022-12-08T22:06:43.001Z"
   },
   {
    "duration": 4,
    "start_time": "2022-12-08T22:06:43.009Z"
   },
   {
    "duration": 25,
    "start_time": "2022-12-08T22:06:43.015Z"
   },
   {
    "duration": 13,
    "start_time": "2022-12-08T22:06:43.043Z"
   },
   {
    "duration": 7936,
    "start_time": "2022-12-08T22:06:43.058Z"
   },
   {
    "duration": 1232,
    "start_time": "2022-12-08T22:06:50.996Z"
   },
   {
    "duration": 6945,
    "start_time": "2022-12-08T22:06:52.229Z"
   },
   {
    "duration": 10772,
    "start_time": "2022-12-08T22:06:59.175Z"
   },
   {
    "duration": 16,
    "start_time": "2022-12-08T22:07:09.954Z"
   },
   {
    "duration": 1860,
    "start_time": "2022-12-08T22:07:09.971Z"
   },
   {
    "duration": 52,
    "start_time": "2022-12-08T22:07:11.833Z"
   },
   {
    "duration": 104,
    "start_time": "2022-12-08T22:07:11.887Z"
   },
   {
    "duration": 6965,
    "start_time": "2022-12-08T22:07:11.993Z"
   },
   {
    "duration": 16,
    "start_time": "2022-12-08T22:07:18.960Z"
   },
   {
    "duration": 16,
    "start_time": "2022-12-08T22:08:21.120Z"
   },
   {
    "duration": 16,
    "start_time": "2022-12-08T22:08:28.145Z"
   },
   {
    "duration": 1728,
    "start_time": "2022-12-08T22:08:57.350Z"
   },
   {
    "duration": 57,
    "start_time": "2022-12-08T22:09:59.073Z"
   },
   {
    "duration": 107,
    "start_time": "2022-12-08T22:10:01.317Z"
   },
   {
    "duration": 7532,
    "start_time": "2022-12-08T22:10:03.334Z"
   },
   {
    "duration": 6,
    "start_time": "2022-12-08T22:17:46.140Z"
   },
   {
    "duration": 5,
    "start_time": "2022-12-08T22:18:07.693Z"
   },
   {
    "duration": 18,
    "start_time": "2022-12-08T22:20:06.044Z"
   },
   {
    "duration": 10,
    "start_time": "2022-12-08T22:20:15.181Z"
   },
   {
    "duration": 8,
    "start_time": "2022-12-08T22:21:05.257Z"
   },
   {
    "duration": 31,
    "start_time": "2022-12-08T22:21:51.147Z"
   },
   {
    "duration": 133,
    "start_time": "2022-12-08T22:26:36.829Z"
   },
   {
    "duration": 12,
    "start_time": "2022-12-08T22:34:56.094Z"
   },
   {
    "duration": 19,
    "start_time": "2022-12-08T22:35:15.851Z"
   },
   {
    "duration": 175,
    "start_time": "2022-12-08T22:35:40.990Z"
   },
   {
    "duration": 201,
    "start_time": "2022-12-08T22:40:40.259Z"
   },
   {
    "duration": 186,
    "start_time": "2022-12-08T22:40:56.974Z"
   },
   {
    "duration": 146,
    "start_time": "2022-12-08T22:41:20.609Z"
   },
   {
    "duration": 208,
    "start_time": "2022-12-08T22:41:27.855Z"
   },
   {
    "duration": 145,
    "start_time": "2022-12-08T22:41:37.627Z"
   },
   {
    "duration": 3322,
    "start_time": "2022-12-09T15:38:32.021Z"
   },
   {
    "duration": 1447,
    "start_time": "2022-12-09T15:38:35.346Z"
   },
   {
    "duration": 141,
    "start_time": "2022-12-09T15:38:36.795Z"
   },
   {
    "duration": 12,
    "start_time": "2022-12-09T15:38:36.938Z"
   },
   {
    "duration": 15,
    "start_time": "2022-12-09T15:38:36.952Z"
   },
   {
    "duration": 3,
    "start_time": "2022-12-09T15:38:36.969Z"
   },
   {
    "duration": 10,
    "start_time": "2022-12-09T15:38:36.974Z"
   },
   {
    "duration": 8,
    "start_time": "2022-12-09T15:38:36.986Z"
   },
   {
    "duration": 15,
    "start_time": "2022-12-09T15:38:36.996Z"
   },
   {
    "duration": 11,
    "start_time": "2022-12-09T15:38:37.014Z"
   },
   {
    "duration": 18,
    "start_time": "2022-12-09T15:38:37.026Z"
   },
   {
    "duration": 5,
    "start_time": "2022-12-09T15:38:37.046Z"
   },
   {
    "duration": 19,
    "start_time": "2022-12-09T15:38:37.052Z"
   },
   {
    "duration": 144,
    "start_time": "2022-12-09T15:38:37.073Z"
   },
   {
    "duration": 14,
    "start_time": "2022-12-09T15:38:37.218Z"
   },
   {
    "duration": 10,
    "start_time": "2022-12-09T15:38:37.234Z"
   },
   {
    "duration": 10,
    "start_time": "2022-12-09T15:38:37.246Z"
   },
   {
    "duration": 12,
    "start_time": "2022-12-09T15:38:37.258Z"
   },
   {
    "duration": 7,
    "start_time": "2022-12-09T15:38:37.271Z"
   },
   {
    "duration": 43,
    "start_time": "2022-12-09T15:38:37.280Z"
   },
   {
    "duration": 4,
    "start_time": "2022-12-09T15:38:37.325Z"
   },
   {
    "duration": 7677,
    "start_time": "2022-12-09T15:38:37.331Z"
   },
   {
    "duration": 1434,
    "start_time": "2022-12-09T15:38:45.010Z"
   },
   {
    "duration": 7381,
    "start_time": "2022-12-09T15:38:46.445Z"
   },
   {
    "duration": 11366,
    "start_time": "2022-12-09T15:38:53.828Z"
   },
   {
    "duration": 1895,
    "start_time": "2022-12-09T15:39:05.196Z"
   },
   {
    "duration": 51,
    "start_time": "2022-12-09T15:39:07.093Z"
   },
   {
    "duration": 106,
    "start_time": "2022-12-09T15:39:07.147Z"
   },
   {
    "duration": 9473,
    "start_time": "2022-12-09T15:39:07.255Z"
   },
   {
    "duration": 215,
    "start_time": "2022-12-09T15:39:16.729Z"
   },
   {
    "duration": 7029,
    "start_time": "2022-12-09T21:36:21.297Z"
   },
   {
    "duration": 1594,
    "start_time": "2022-12-09T21:36:28.328Z"
   },
   {
    "duration": 95,
    "start_time": "2022-12-09T21:36:29.924Z"
   },
   {
    "duration": 16,
    "start_time": "2022-12-09T21:36:30.021Z"
   },
   {
    "duration": 17,
    "start_time": "2022-12-09T21:36:30.039Z"
   },
   {
    "duration": 5,
    "start_time": "2022-12-09T21:36:30.059Z"
   },
   {
    "duration": 12,
    "start_time": "2022-12-09T21:36:30.066Z"
   },
   {
    "duration": 22,
    "start_time": "2022-12-09T21:36:30.080Z"
   },
   {
    "duration": 19,
    "start_time": "2022-12-09T21:36:30.104Z"
   },
   {
    "duration": 8,
    "start_time": "2022-12-09T21:36:30.127Z"
   },
   {
    "duration": 18,
    "start_time": "2022-12-09T21:36:30.136Z"
   },
   {
    "duration": 9,
    "start_time": "2022-12-09T21:36:30.156Z"
   },
   {
    "duration": 26,
    "start_time": "2022-12-09T21:36:30.167Z"
   },
   {
    "duration": 150,
    "start_time": "2022-12-09T21:36:30.195Z"
   },
   {
    "duration": 14,
    "start_time": "2022-12-09T21:36:30.346Z"
   },
   {
    "duration": 28,
    "start_time": "2022-12-09T21:36:30.361Z"
   },
   {
    "duration": 14,
    "start_time": "2022-12-09T21:36:30.391Z"
   },
   {
    "duration": 23,
    "start_time": "2022-12-09T21:36:30.407Z"
   },
   {
    "duration": 17,
    "start_time": "2022-12-09T21:36:30.432Z"
   },
   {
    "duration": 38,
    "start_time": "2022-12-09T21:36:30.450Z"
   },
   {
    "duration": 5,
    "start_time": "2022-12-09T21:36:30.490Z"
   },
   {
    "duration": 9787,
    "start_time": "2022-12-09T21:36:30.497Z"
   },
   {
    "duration": 1497,
    "start_time": "2022-12-09T21:36:40.286Z"
   },
   {
    "duration": 7780,
    "start_time": "2022-12-09T21:36:41.785Z"
   },
   {
    "duration": 8822,
    "start_time": "2022-12-09T21:36:49.567Z"
   },
   {
    "duration": 1888,
    "start_time": "2022-12-09T21:36:58.390Z"
   },
   {
    "duration": 63,
    "start_time": "2022-12-09T21:37:00.280Z"
   },
   {
    "duration": 110,
    "start_time": "2022-12-09T21:37:00.346Z"
   },
   {
    "duration": 19491,
    "start_time": "2022-12-09T21:37:00.457Z"
   },
   {
    "duration": 191,
    "start_time": "2022-12-09T21:37:19.950Z"
   },
   {
    "duration": 234,
    "start_time": "2022-12-09T21:38:16.212Z"
   },
   {
    "duration": 144,
    "start_time": "2022-12-09T21:38:42.503Z"
   },
   {
    "duration": 222,
    "start_time": "2022-12-09T21:38:46.418Z"
   },
   {
    "duration": 169,
    "start_time": "2022-12-09T21:38:54.067Z"
   },
   {
    "duration": 156,
    "start_time": "2022-12-09T21:38:57.480Z"
   },
   {
    "duration": 214,
    "start_time": "2022-12-09T21:39:46.632Z"
   },
   {
    "duration": 199,
    "start_time": "2022-12-09T21:40:49.355Z"
   },
   {
    "duration": 11800,
    "start_time": "2022-12-09T21:59:13.210Z"
   },
   {
    "duration": 12584,
    "start_time": "2022-12-09T21:59:35.805Z"
   },
   {
    "duration": 19042,
    "start_time": "2022-12-09T22:03:52.437Z"
   },
   {
    "duration": 1570,
    "start_time": "2022-12-09T22:11:29.573Z"
   },
   {
    "duration": 1751,
    "start_time": "2022-12-09T22:13:41.791Z"
   },
   {
    "duration": 44,
    "start_time": "2022-12-09T22:14:14.192Z"
   },
   {
    "duration": 2496,
    "start_time": "2022-12-09T22:15:07.092Z"
   },
   {
    "duration": 10197,
    "start_time": "2022-12-09T22:25:34.843Z"
   },
   {
    "duration": 7315,
    "start_time": "2022-12-09T22:26:55.554Z"
   },
   {
    "duration": 6750,
    "start_time": "2022-12-09T22:28:08.304Z"
   },
   {
    "duration": 2298,
    "start_time": "2022-12-09T22:42:16.600Z"
   },
   {
    "duration": 5,
    "start_time": "2022-12-09T22:42:18.901Z"
   },
   {
    "duration": 54,
    "start_time": "2022-12-09T22:42:18.908Z"
   },
   {
    "duration": 15,
    "start_time": "2022-12-09T22:42:18.965Z"
   },
   {
    "duration": 18,
    "start_time": "2022-12-09T22:42:18.982Z"
   },
   {
    "duration": 16,
    "start_time": "2022-12-09T22:42:19.001Z"
   },
   {
    "duration": 9,
    "start_time": "2022-12-09T22:42:19.019Z"
   },
   {
    "duration": 14,
    "start_time": "2022-12-09T22:42:19.029Z"
   },
   {
    "duration": 16,
    "start_time": "2022-12-09T22:42:19.045Z"
   },
   {
    "duration": 9,
    "start_time": "2022-12-09T22:42:19.065Z"
   },
   {
    "duration": 21,
    "start_time": "2022-12-09T22:42:19.076Z"
   },
   {
    "duration": 5,
    "start_time": "2022-12-09T22:42:19.099Z"
   },
   {
    "duration": 20,
    "start_time": "2022-12-09T22:42:19.106Z"
   },
   {
    "duration": 156,
    "start_time": "2022-12-09T22:42:19.135Z"
   },
   {
    "duration": 17,
    "start_time": "2022-12-09T22:42:19.292Z"
   },
   {
    "duration": 33,
    "start_time": "2022-12-09T22:42:19.311Z"
   },
   {
    "duration": 12,
    "start_time": "2022-12-09T22:42:19.346Z"
   },
   {
    "duration": 10,
    "start_time": "2022-12-09T22:42:19.360Z"
   },
   {
    "duration": 15,
    "start_time": "2022-12-09T22:42:19.371Z"
   },
   {
    "duration": 33,
    "start_time": "2022-12-09T22:42:19.388Z"
   },
   {
    "duration": 6,
    "start_time": "2022-12-09T22:42:19.422Z"
   },
   {
    "duration": 9739,
    "start_time": "2022-12-09T22:42:19.429Z"
   },
   {
    "duration": 1331,
    "start_time": "2022-12-09T22:42:29.170Z"
   },
   {
    "duration": 7581,
    "start_time": "2022-12-09T22:42:30.502Z"
   },
   {
    "duration": 9583,
    "start_time": "2022-12-09T22:42:38.084Z"
   },
   {
    "duration": 14097,
    "start_time": "2022-12-09T22:42:47.668Z"
   },
   {
    "duration": 43,
    "start_time": "2022-12-09T22:43:01.767Z"
   },
   {
    "duration": 117,
    "start_time": "2022-12-09T22:43:01.813Z"
   },
   {
    "duration": 13199,
    "start_time": "2022-12-09T22:43:01.936Z"
   },
   {
    "duration": 1788,
    "start_time": "2022-12-09T22:43:15.137Z"
   },
   {
    "duration": 1841,
    "start_time": "2022-12-09T22:43:16.927Z"
   },
   {
    "duration": 2523,
    "start_time": "2022-12-09T22:43:18.770Z"
   },
   {
    "duration": 6587,
    "start_time": "2022-12-09T22:43:21.295Z"
   },
   {
    "duration": 6060,
    "start_time": "2022-12-09T22:43:27.885Z"
   },
   {
    "duration": 9205,
    "start_time": "2022-12-09T22:43:33.947Z"
   },
   {
    "duration": 205,
    "start_time": "2022-12-09T22:43:43.154Z"
   },
   {
    "duration": 11928,
    "start_time": "2022-12-10T06:15:53.307Z"
   },
   {
    "duration": 1373,
    "start_time": "2022-12-10T06:16:05.237Z"
   },
   {
    "duration": 46,
    "start_time": "2022-12-10T06:16:06.612Z"
   },
   {
    "duration": 15,
    "start_time": "2022-12-10T06:16:06.659Z"
   },
   {
    "duration": 16,
    "start_time": "2022-12-10T06:16:06.676Z"
   },
   {
    "duration": 5,
    "start_time": "2022-12-10T06:16:06.693Z"
   },
   {
    "duration": 28,
    "start_time": "2022-12-10T06:16:06.699Z"
   },
   {
    "duration": 8,
    "start_time": "2022-12-10T06:16:06.729Z"
   },
   {
    "duration": 9,
    "start_time": "2022-12-10T06:16:06.739Z"
   },
   {
    "duration": 6,
    "start_time": "2022-12-10T06:16:06.750Z"
   },
   {
    "duration": 13,
    "start_time": "2022-12-10T06:16:06.758Z"
   },
   {
    "duration": 4,
    "start_time": "2022-12-10T06:16:06.773Z"
   },
   {
    "duration": 13,
    "start_time": "2022-12-10T06:16:06.778Z"
   },
   {
    "duration": 168,
    "start_time": "2022-12-10T06:16:06.820Z"
   },
   {
    "duration": 15,
    "start_time": "2022-12-10T06:16:06.991Z"
   },
   {
    "duration": 18,
    "start_time": "2022-12-10T06:16:07.008Z"
   },
   {
    "duration": 17,
    "start_time": "2022-12-10T06:16:07.028Z"
   },
   {
    "duration": 8,
    "start_time": "2022-12-10T06:16:07.047Z"
   },
   {
    "duration": 6,
    "start_time": "2022-12-10T06:16:07.056Z"
   },
   {
    "duration": 27,
    "start_time": "2022-12-10T06:16:07.064Z"
   },
   {
    "duration": 5,
    "start_time": "2022-12-10T06:16:07.093Z"
   },
   {
    "duration": 11733,
    "start_time": "2022-12-10T06:16:07.116Z"
   },
   {
    "duration": 1594,
    "start_time": "2022-12-10T06:16:18.851Z"
   },
   {
    "duration": 19370,
    "start_time": "2022-12-10T06:16:20.448Z"
   },
   {
    "duration": 11109,
    "start_time": "2022-12-10T06:16:39.828Z"
   },
   {
    "duration": 15279,
    "start_time": "2022-12-10T06:16:50.939Z"
   },
   {
    "duration": 50,
    "start_time": "2022-12-10T06:17:06.221Z"
   },
   {
    "duration": 129,
    "start_time": "2022-12-10T06:17:06.273Z"
   },
   {
    "duration": 13917,
    "start_time": "2022-12-10T06:17:06.404Z"
   },
   {
    "duration": 1642,
    "start_time": "2022-12-10T06:17:20.324Z"
   },
   {
    "duration": 1889,
    "start_time": "2022-12-10T06:17:21.968Z"
   },
   {
    "duration": 2145,
    "start_time": "2022-12-10T06:17:23.858Z"
   },
   {
    "duration": 9910,
    "start_time": "2022-12-10T06:17:26.005Z"
   },
   {
    "duration": 15701,
    "start_time": "2022-12-10T06:17:35.925Z"
   },
   {
    "duration": 9242,
    "start_time": "2022-12-10T06:17:51.629Z"
   },
   {
    "duration": 163,
    "start_time": "2022-12-10T06:18:00.873Z"
   },
   {
    "duration": 67,
    "start_time": "2022-12-10T07:12:44.197Z"
   },
   {
    "duration": 7897,
    "start_time": "2022-12-10T07:12:48.535Z"
   },
   {
    "duration": 1490,
    "start_time": "2022-12-10T07:12:56.437Z"
   },
   {
    "duration": 94,
    "start_time": "2022-12-10T07:12:57.929Z"
   },
   {
    "duration": 14,
    "start_time": "2022-12-10T07:12:58.025Z"
   },
   {
    "duration": 25,
    "start_time": "2022-12-10T07:12:58.042Z"
   },
   {
    "duration": 5,
    "start_time": "2022-12-10T07:12:58.069Z"
   },
   {
    "duration": 5,
    "start_time": "2022-12-10T07:12:58.076Z"
   },
   {
    "duration": 5,
    "start_time": "2022-12-10T07:12:58.083Z"
   },
   {
    "duration": 8,
    "start_time": "2022-12-10T07:12:58.090Z"
   },
   {
    "duration": 18,
    "start_time": "2022-12-10T07:12:58.100Z"
   },
   {
    "duration": 25,
    "start_time": "2022-12-10T07:12:58.120Z"
   },
   {
    "duration": 4,
    "start_time": "2022-12-10T07:12:58.147Z"
   },
   {
    "duration": 13,
    "start_time": "2022-12-10T07:12:58.153Z"
   },
   {
    "duration": 150,
    "start_time": "2022-12-10T07:12:58.168Z"
   },
   {
    "duration": 14,
    "start_time": "2022-12-10T07:12:58.320Z"
   },
   {
    "duration": 11,
    "start_time": "2022-12-10T07:12:58.336Z"
   },
   {
    "duration": 5,
    "start_time": "2022-12-10T07:12:58.350Z"
   },
   {
    "duration": 10,
    "start_time": "2022-12-10T07:12:58.357Z"
   },
   {
    "duration": 4,
    "start_time": "2022-12-10T07:12:58.369Z"
   },
   {
    "duration": 60,
    "start_time": "2022-12-10T07:12:58.375Z"
   },
   {
    "duration": 6,
    "start_time": "2022-12-10T07:12:58.437Z"
   },
   {
    "duration": 9847,
    "start_time": "2022-12-10T07:12:58.446Z"
   },
   {
    "duration": 1588,
    "start_time": "2022-12-10T07:13:08.294Z"
   },
   {
    "duration": 11023,
    "start_time": "2022-12-10T07:13:09.884Z"
   },
   {
    "duration": 8077,
    "start_time": "2022-12-10T07:13:20.908Z"
   },
   {
    "duration": 16019,
    "start_time": "2022-12-10T07:13:28.987Z"
   },
   {
    "duration": 57,
    "start_time": "2022-12-10T07:13:45.009Z"
   },
   {
    "duration": 115,
    "start_time": "2022-12-10T07:13:45.069Z"
   },
   {
    "duration": 17709,
    "start_time": "2022-12-10T07:13:45.186Z"
   },
   {
    "duration": 1509,
    "start_time": "2022-12-10T07:14:02.896Z"
   },
   {
    "duration": 2178,
    "start_time": "2022-12-10T07:14:04.407Z"
   },
   {
    "duration": 2259,
    "start_time": "2022-12-10T07:14:06.587Z"
   },
   {
    "duration": 14476,
    "start_time": "2022-12-10T07:14:08.847Z"
   },
   {
    "duration": 12414,
    "start_time": "2022-12-10T07:14:23.326Z"
   },
   {
    "duration": 19776,
    "start_time": "2022-12-10T07:14:35.742Z"
   },
   {
    "duration": 118,
    "start_time": "2022-12-10T07:14:55.520Z"
   },
   {
    "duration": 215,
    "start_time": "2022-12-10T07:16:47.818Z"
   },
   {
    "duration": 193,
    "start_time": "2022-12-10T07:17:53.760Z"
   },
   {
    "duration": 228,
    "start_time": "2022-12-10T07:22:30.412Z"
   },
   {
    "duration": 266,
    "start_time": "2022-12-10T07:28:11.517Z"
   },
   {
    "duration": 177,
    "start_time": "2022-12-10T07:28:17.174Z"
   },
   {
    "duration": 10636,
    "start_time": "2022-12-10T07:30:08.859Z"
   },
   {
    "duration": 253,
    "start_time": "2022-12-10T07:30:42.481Z"
   },
   {
    "duration": 212,
    "start_time": "2022-12-10T07:31:41.731Z"
   },
   {
    "duration": 12692,
    "start_time": "2022-12-10T07:33:40.992Z"
   },
   {
    "duration": 255,
    "start_time": "2022-12-10T07:34:32.987Z"
   },
   {
    "duration": 256,
    "start_time": "2022-12-10T07:34:57.489Z"
   },
   {
    "duration": 255,
    "start_time": "2022-12-10T07:35:01.287Z"
   },
   {
    "duration": 251,
    "start_time": "2022-12-10T07:35:02.197Z"
   },
   {
    "duration": 2195,
    "start_time": "2022-12-10T07:35:12.618Z"
   },
   {
    "duration": 6,
    "start_time": "2022-12-10T07:35:14.815Z"
   },
   {
    "duration": 65,
    "start_time": "2022-12-10T07:35:14.823Z"
   },
   {
    "duration": 13,
    "start_time": "2022-12-10T07:35:14.889Z"
   },
   {
    "duration": 12,
    "start_time": "2022-12-10T07:35:14.904Z"
   },
   {
    "duration": 5,
    "start_time": "2022-12-10T07:35:14.918Z"
   },
   {
    "duration": 5,
    "start_time": "2022-12-10T07:35:14.925Z"
   },
   {
    "duration": 6,
    "start_time": "2022-12-10T07:35:14.932Z"
   },
   {
    "duration": 8,
    "start_time": "2022-12-10T07:35:14.939Z"
   },
   {
    "duration": 5,
    "start_time": "2022-12-10T07:35:14.949Z"
   },
   {
    "duration": 12,
    "start_time": "2022-12-10T07:35:14.955Z"
   },
   {
    "duration": 3,
    "start_time": "2022-12-10T07:35:14.969Z"
   },
   {
    "duration": 16,
    "start_time": "2022-12-10T07:35:14.973Z"
   },
   {
    "duration": 141,
    "start_time": "2022-12-10T07:35:14.990Z"
   },
   {
    "duration": 13,
    "start_time": "2022-12-10T07:35:15.132Z"
   },
   {
    "duration": 9,
    "start_time": "2022-12-10T07:35:15.147Z"
   },
   {
    "duration": 9,
    "start_time": "2022-12-10T07:35:15.158Z"
   },
   {
    "duration": 5,
    "start_time": "2022-12-10T07:35:15.169Z"
   },
   {
    "duration": 5,
    "start_time": "2022-12-10T07:35:15.176Z"
   },
   {
    "duration": 42,
    "start_time": "2022-12-10T07:35:15.182Z"
   },
   {
    "duration": 4,
    "start_time": "2022-12-10T07:35:15.226Z"
   },
   {
    "duration": 10562,
    "start_time": "2022-12-10T07:35:15.232Z"
   },
   {
    "duration": 1307,
    "start_time": "2022-12-10T07:35:25.796Z"
   },
   {
    "duration": 8420,
    "start_time": "2022-12-10T07:35:27.104Z"
   },
   {
    "duration": 9993,
    "start_time": "2022-12-10T07:35:35.526Z"
   },
   {
    "duration": 14168,
    "start_time": "2022-12-10T07:35:45.520Z"
   },
   {
    "duration": 49,
    "start_time": "2022-12-10T07:35:59.690Z"
   },
   {
    "duration": 102,
    "start_time": "2022-12-10T07:35:59.743Z"
   },
   {
    "duration": 14303,
    "start_time": "2022-12-10T07:35:59.847Z"
   },
   {
    "duration": 1365,
    "start_time": "2022-12-10T07:36:14.152Z"
   },
   {
    "duration": 1711,
    "start_time": "2022-12-10T07:36:15.518Z"
   },
   {
    "duration": 2053,
    "start_time": "2022-12-10T07:36:17.231Z"
   },
   {
    "duration": 12939,
    "start_time": "2022-12-10T07:36:19.286Z"
   },
   {
    "duration": 8055,
    "start_time": "2022-12-10T07:36:32.227Z"
   },
   {
    "duration": 10639,
    "start_time": "2022-12-10T07:36:40.284Z"
   },
   {
    "duration": 232,
    "start_time": "2022-12-10T07:36:50.925Z"
   }
  ],
  "kernelspec": {
   "display_name": "Python 3 (ipykernel)",
   "language": "python",
   "name": "python3"
  },
  "language_info": {
   "codemirror_mode": {
    "name": "ipython",
    "version": 3
   },
   "file_extension": ".py",
   "mimetype": "text/x-python",
   "name": "python",
   "nbconvert_exporter": "python",
   "pygments_lexer": "ipython3",
   "version": "3.9.15"
  },
  "toc": {
   "base_numbering": 1,
   "nav_menu": {},
   "number_sections": true,
   "sideBar": true,
   "skip_h1_title": true,
   "title_cell": "Содержание",
   "title_sidebar": "Contents",
   "toc_cell": true,
   "toc_position": {
    "height": "calc(100% - 180px)",
    "left": "10px",
    "top": "150px",
    "width": "264px"
   },
   "toc_section_display": true,
   "toc_window_display": true
  }
 },
 "nbformat": 4,
 "nbformat_minor": 4
}
